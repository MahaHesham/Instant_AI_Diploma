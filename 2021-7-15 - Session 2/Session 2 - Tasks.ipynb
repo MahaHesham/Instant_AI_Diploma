{
 "cells": [
  {
   "cell_type": "markdown",
   "id": "25950695",
   "metadata": {
    "heading_collapsed": true
   },
   "source": [
    "## Task 1 : -\n",
    "**Remove element that occured more than one time**\n"
   ]
  },
  {
   "cell_type": "markdown",
   "id": "c7591c28",
   "metadata": {
    "heading_collapsed": true,
    "hidden": true
   },
   "source": [
    "### Answer 1 :-"
   ]
  },
  {
   "cell_type": "code",
   "execution_count": 1,
   "id": "bfca9619",
   "metadata": {
    "ExecuteTime": {
     "end_time": "2022-02-28T15:12:53.050372Z",
     "start_time": "2022-02-28T15:12:53.036333Z"
    },
    "hidden": true
   },
   "outputs": [
    {
     "data": {
      "text/plain": [
       "[2, 3, 4, 5, [6, 7]]"
      ]
     },
     "execution_count": 1,
     "metadata": {},
     "output_type": "execute_result"
    }
   ],
   "source": [
    "x = [1,2,3,1,4,5,1,[1,6,7]]\n",
    "del x [0] , x [2] , x [4] , x [4][0]\n",
    "x"
   ]
  },
  {
   "cell_type": "markdown",
   "id": "07b88d32",
   "metadata": {
    "heading_collapsed": true,
    "hidden": true
   },
   "source": [
    "### Answer 2 :-"
   ]
  },
  {
   "cell_type": "code",
   "execution_count": 2,
   "id": "c7d87b45",
   "metadata": {
    "ExecuteTime": {
     "end_time": "2022-02-28T15:12:53.066406Z",
     "start_time": "2022-02-28T15:12:53.051226Z"
    },
    "hidden": true
   },
   "outputs": [
    {
     "data": {
      "text/plain": [
       "[2, 3, 4, 5, [6, 7]]"
      ]
     },
     "execution_count": 2,
     "metadata": {},
     "output_type": "execute_result"
    }
   ],
   "source": [
    "x = [1,2,3,1,4,5,1,[1,6,7]]\n",
    "j=0\n",
    "for e in range(len(x)) :\n",
    "    if type(x[e-j]) == int :\n",
    "        if x[e-j] == 1 :\n",
    "            x.pop(e-j)\n",
    "            j+=1\n",
    "    elif type(x[e-j]) == list :\n",
    "        if 1 in x[e-j] :\n",
    "            x[e-j].remove(1)\n",
    "x"
   ]
  },
  {
   "cell_type": "markdown",
   "id": "8ec44365",
   "metadata": {
    "heading_collapsed": true
   },
   "source": [
    "## Task 2 : - \n",
    "**How to print ascii representation of a character**"
   ]
  },
  {
   "cell_type": "code",
   "execution_count": 3,
   "id": "2fac60f7",
   "metadata": {
    "ExecuteTime": {
     "end_time": "2022-02-28T15:12:53.082140Z",
     "start_time": "2022-02-28T15:12:53.068168Z"
    },
    "hidden": true
   },
   "outputs": [
    {
     "name": "stdout",
     "output_type": "stream",
     "text": [
      "77\n"
     ]
    }
   ],
   "source": [
    "print(ord(\"M\"))"
   ]
  },
  {
   "cell_type": "markdown",
   "id": "5f86e795",
   "metadata": {
    "heading_collapsed": true
   },
   "source": [
    "## Task 3 : - \n",
    "**Take 2 numbers from user & take type of operation (+,-,*,/) then perform operation and print the result at the end**"
   ]
  },
  {
   "cell_type": "code",
   "execution_count": 4,
   "id": "d2ea8b7b",
   "metadata": {
    "ExecuteTime": {
     "end_time": "2022-02-28T15:12:58.786980Z",
     "start_time": "2022-02-28T15:12:53.083140Z"
    },
    "hidden": true,
    "scrolled": true
   },
   "outputs": [
    {
     "name": "stdout",
     "output_type": "stream",
     "text": [
      "Please choose the operation {+,-,*,/} :*\n",
      "Please enter the first number :7\n",
      "Please enter the second number :10\n",
      "Result = 7.0 * 10.0 = 70.0\n"
     ]
    }
   ],
   "source": [
    "z = input(\"Please choose the operation {+,-,*,/} :\")\n",
    "x = float(input(\"Please enter the first number :\"))\n",
    "y = float(input(\"Please enter the second number :\"))\n",
    "\n",
    "if z == \"+\" :\n",
    "    R = x + y\n",
    "elif z == \"-\" :\n",
    "    R = x - y\n",
    "elif z == \"*\" :\n",
    "    R = x * y\n",
    "elif z == \"/\" :\n",
    "    R = x / y\n",
    "\n",
    "print(\"Result =\",x,z,y,\"=\",R)"
   ]
  }
 ],
 "metadata": {
  "kernelspec": {
   "display_name": "Python 3 (ipykernel)",
   "language": "python",
   "name": "python3"
  },
  "language_info": {
   "codemirror_mode": {
    "name": "ipython",
    "version": 3
   },
   "file_extension": ".py",
   "mimetype": "text/x-python",
   "name": "python",
   "nbconvert_exporter": "python",
   "pygments_lexer": "ipython3",
   "version": "3.9.7"
  },
  "toc": {
   "base_numbering": 1,
   "nav_menu": {},
   "number_sections": true,
   "sideBar": true,
   "skip_h1_title": false,
   "title_cell": "Table of Contents",
   "title_sidebar": "Contents",
   "toc_cell": false,
   "toc_position": {},
   "toc_section_display": true,
   "toc_window_display": false
  },
  "varInspector": {
   "cols": {
    "lenName": 16,
    "lenType": 16,
    "lenVar": 40
   },
   "kernels_config": {
    "python": {
     "delete_cmd_postfix": "",
     "delete_cmd_prefix": "del ",
     "library": "var_list.py",
     "varRefreshCmd": "print(var_dic_list())"
    },
    "r": {
     "delete_cmd_postfix": ") ",
     "delete_cmd_prefix": "rm(",
     "library": "var_list.r",
     "varRefreshCmd": "cat(var_dic_list()) "
    }
   },
   "types_to_exclude": [
    "module",
    "function",
    "builtin_function_or_method",
    "instance",
    "_Feature"
   ],
   "window_display": false
  }
 },
 "nbformat": 4,
 "nbformat_minor": 5
}
