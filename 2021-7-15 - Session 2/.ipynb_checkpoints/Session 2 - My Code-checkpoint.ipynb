{
 "cells": [
  {
   "cell_type": "code",
   "execution_count": 1,
   "id": "339c291a",
   "metadata": {
    "ExecuteTime": {
     "end_time": "2022-02-28T12:47:15.745140Z",
     "start_time": "2022-02-28T12:47:15.735167Z"
    }
   },
   "outputs": [],
   "source": [
    "import sys"
   ]
  },
  {
   "cell_type": "code",
   "execution_count": 2,
   "id": "33d421bb",
   "metadata": {
    "ExecuteTime": {
     "end_time": "2022-02-28T12:47:24.260677Z",
     "start_time": "2022-02-28T12:47:24.250734Z"
    }
   },
   "outputs": [
    {
     "data": {
      "text/plain": [
       "9223372036854775807"
      ]
     },
     "execution_count": 2,
     "metadata": {},
     "output_type": "execute_result"
    }
   ],
   "source": [
    "# Max int \n",
    "sys.maxsize"
   ]
  },
  {
   "cell_type": "code",
   "execution_count": 3,
   "id": "f646b8ef",
   "metadata": {
    "ExecuteTime": {
     "end_time": "2022-02-28T12:47:24.275640Z",
     "start_time": "2022-02-28T12:47:24.262671Z"
    }
   },
   "outputs": [
    {
     "data": {
      "text/plain": [
       "-9223372036854775808"
      ]
     },
     "execution_count": 3,
     "metadata": {},
     "output_type": "execute_result"
    }
   ],
   "source": [
    "# Min int\n",
    "-sys.maxsize-1"
   ]
  },
  {
   "cell_type": "markdown",
   "id": "1aab9bd1",
   "metadata": {
    "heading_collapsed": true
   },
   "source": [
    "# Data Types "
   ]
  },
  {
   "cell_type": "code",
   "execution_count": 4,
   "id": "62f72b18",
   "metadata": {
    "ExecuteTime": {
     "end_time": "2022-02-28T12:47:24.291620Z",
     "start_time": "2022-02-28T12:47:24.276659Z"
    },
    "hidden": true
   },
   "outputs": [
    {
     "name": "stdout",
     "output_type": "stream",
     "text": [
      "<class 'int'>\n",
      "<class 'float'>\n",
      "<class 'str'>\n",
      "<class 'str'>\n",
      "<class 'str'>\n",
      "<class 'str'>\n"
     ]
    }
   ],
   "source": [
    "print(type(4))\n",
    "print(type(4.0))\n",
    "print(type(\"4\"))\n",
    "print(type(\"4.0\"))\n",
    "print(type('4'))\n",
    "print(type('4.0'))"
   ]
  },
  {
   "cell_type": "code",
   "execution_count": 5,
   "id": "aeac5e96",
   "metadata": {
    "ExecuteTime": {
     "end_time": "2022-02-28T12:47:33.123258Z",
     "start_time": "2022-02-28T12:47:24.293588Z"
    },
    "hidden": true,
    "scrolled": true
   },
   "outputs": [
    {
     "name": "stdout",
     "output_type": "stream",
     "text": [
      "please enter your ID: 17\n"
     ]
    }
   ],
   "source": [
    "x = int(input(\"please enter your ID: \"))"
   ]
  },
  {
   "cell_type": "code",
   "execution_count": 6,
   "id": "a2e039d9",
   "metadata": {
    "ExecuteTime": {
     "end_time": "2022-02-28T12:47:33.138480Z",
     "start_time": "2022-02-28T12:47:33.125352Z"
    },
    "hidden": true,
    "scrolled": true
   },
   "outputs": [
    {
     "name": "stdout",
     "output_type": "stream",
     "text": [
      "<class 'int'>\n"
     ]
    }
   ],
   "source": [
    "print(type(x))"
   ]
  },
  {
   "cell_type": "code",
   "execution_count": 7,
   "id": "2705c9d1",
   "metadata": {
    "ExecuteTime": {
     "end_time": "2022-02-28T12:47:33.154449Z",
     "start_time": "2022-02-28T12:47:33.139318Z"
    },
    "hidden": true
   },
   "outputs": [
    {
     "data": {
      "text/plain": [
       "1"
      ]
     },
     "execution_count": 7,
     "metadata": {},
     "output_type": "execute_result"
    }
   ],
   "source": [
    "# Convert string into Integer \n",
    "x = '1'\n",
    "x = int(x)\n",
    "x"
   ]
  },
  {
   "cell_type": "code",
   "execution_count": 8,
   "id": "aa948952",
   "metadata": {
    "ExecuteTime": {
     "end_time": "2022-02-28T12:47:33.169303Z",
     "start_time": "2022-02-28T12:47:33.155317Z"
    },
    "hidden": true
   },
   "outputs": [
    {
     "data": {
      "text/plain": [
       "1.0"
      ]
     },
     "execution_count": 8,
     "metadata": {},
     "output_type": "execute_result"
    }
   ],
   "source": [
    "# Convert string into Float \n",
    "x = '1'\n",
    "x = float(x)\n",
    "x"
   ]
  },
  {
   "cell_type": "markdown",
   "id": "ded0bf9f",
   "metadata": {
    "heading_collapsed": true
   },
   "source": [
    "# Arithematic Operations (+,-,*,/) "
   ]
  },
  {
   "cell_type": "code",
   "execution_count": 9,
   "id": "cdf3bd48",
   "metadata": {
    "ExecuteTime": {
     "end_time": "2022-02-28T12:47:33.185452Z",
     "start_time": "2022-02-28T12:47:33.170391Z"
    },
    "hidden": true
   },
   "outputs": [
    {
     "name": "stdout",
     "output_type": "stream",
     "text": [
      "6.666666666666667\n",
      "6\n",
      "2\n"
     ]
    }
   ],
   "source": [
    "print(20/3)\n",
    "print(20//3)\n",
    "print(20%3)"
   ]
  },
  {
   "cell_type": "code",
   "execution_count": 10,
   "id": "2805b100",
   "metadata": {
    "ExecuteTime": {
     "end_time": "2022-02-28T12:47:33.201446Z",
     "start_time": "2022-02-28T12:47:33.186309Z"
    },
    "hidden": true
   },
   "outputs": [
    {
     "name": "stdout",
     "output_type": "stream",
     "text": [
      "32\n"
     ]
    }
   ],
   "source": [
    "# Power\n",
    "print(2**5)"
   ]
  },
  {
   "cell_type": "code",
   "execution_count": 11,
   "id": "815c9fd2",
   "metadata": {
    "ExecuteTime": {
     "end_time": "2022-02-28T12:47:33.216258Z",
     "start_time": "2022-02-28T12:47:33.203257Z"
    },
    "hidden": true
   },
   "outputs": [],
   "source": [
    "x=5"
   ]
  },
  {
   "cell_type": "code",
   "execution_count": 12,
   "id": "667ce0fe",
   "metadata": {
    "ExecuteTime": {
     "end_time": "2022-02-28T12:47:33.231879Z",
     "start_time": "2022-02-28T12:47:33.217220Z"
    },
    "hidden": true
   },
   "outputs": [
    {
     "data": {
      "text/plain": [
       "10"
      ]
     },
     "execution_count": 12,
     "metadata": {},
     "output_type": "execute_result"
    }
   ],
   "source": [
    "# New = Old + 5\n",
    "x = x + 5\n",
    "x"
   ]
  },
  {
   "cell_type": "code",
   "execution_count": 13,
   "id": "8f480bfe",
   "metadata": {
    "ExecuteTime": {
     "end_time": "2022-02-28T12:47:33.247837Z",
     "start_time": "2022-02-28T12:47:33.232844Z"
    },
    "hidden": true
   },
   "outputs": [
    {
     "data": {
      "text/plain": [
       "15"
      ]
     },
     "execution_count": 13,
     "metadata": {},
     "output_type": "execute_result"
    }
   ],
   "source": [
    "# OR\n",
    "x+=5\n",
    "x\n",
    "\n",
    "# Same way in - , * , / "
   ]
  },
  {
   "cell_type": "markdown",
   "id": "81557c71",
   "metadata": {
    "heading_collapsed": true
   },
   "source": [
    "# Conditions"
   ]
  },
  {
   "cell_type": "code",
   "execution_count": 14,
   "id": "0afa996c",
   "metadata": {
    "ExecuteTime": {
     "end_time": "2022-02-28T12:47:33.263799Z",
     "start_time": "2022-02-28T12:47:33.248802Z"
    },
    "hidden": true
   },
   "outputs": [
    {
     "data": {
      "text/plain": [
       "True"
      ]
     },
     "execution_count": 14,
     "metadata": {},
     "output_type": "execute_result"
    }
   ],
   "source": [
    "3 > 1 or 2 < 5"
   ]
  },
  {
   "cell_type": "code",
   "execution_count": 15,
   "id": "96f30184",
   "metadata": {
    "ExecuteTime": {
     "end_time": "2022-02-28T12:47:33.278757Z",
     "start_time": "2022-02-28T12:47:33.264760Z"
    },
    "hidden": true
   },
   "outputs": [
    {
     "data": {
      "text/plain": [
       "False"
      ]
     },
     "execution_count": 15,
     "metadata": {},
     "output_type": "execute_result"
    }
   ],
   "source": [
    "5 > 3 < 2 > 1 "
   ]
  },
  {
   "cell_type": "code",
   "execution_count": 16,
   "id": "09b4913d",
   "metadata": {
    "ExecuteTime": {
     "end_time": "2022-02-28T12:47:33.294713Z",
     "start_time": "2022-02-28T12:47:33.279719Z"
    },
    "hidden": true
   },
   "outputs": [
    {
     "name": "stdout",
     "output_type": "stream",
     "text": [
      "Okay\n"
     ]
    }
   ],
   "source": [
    "# ex 1 \n",
    "x=3\n",
    "y=7 \n",
    "if x>5 or y>4 :\n",
    "    print(\"Okay\")"
   ]
  },
  {
   "cell_type": "code",
   "execution_count": 17,
   "id": "292844ae",
   "metadata": {
    "ExecuteTime": {
     "end_time": "2022-02-28T12:47:33.309673Z",
     "start_time": "2022-02-28T12:47:33.295677Z"
    },
    "hidden": true
   },
   "outputs": [
    {
     "name": "stdout",
     "output_type": "stream",
     "text": [
      "Okay\n"
     ]
    }
   ],
   "source": [
    "# ex 2\n",
    "x=4\n",
    "y=3\n",
    "if x==4 and y==3 :\n",
    "    print(\"Okay\")"
   ]
  },
  {
   "cell_type": "code",
   "execution_count": 18,
   "id": "78062475",
   "metadata": {
    "ExecuteTime": {
     "end_time": "2022-02-28T12:47:33.325597Z",
     "start_time": "2022-02-28T12:47:33.310636Z"
    },
    "hidden": true
   },
   "outputs": [
    {
     "name": "stdout",
     "output_type": "stream",
     "text": [
      "Even\n"
     ]
    }
   ],
   "source": [
    "# If Condition \n",
    "x=4\n",
    "if x%2==0 :\n",
    "    print(\"Even\")\n",
    "else :\n",
    "    print(\"Odd\")"
   ]
  },
  {
   "cell_type": "code",
   "execution_count": 19,
   "id": "b3b2403c",
   "metadata": {
    "ExecuteTime": {
     "end_time": "2022-02-28T12:47:33.340593Z",
     "start_time": "2022-02-28T12:47:33.326593Z"
    },
    "hidden": true
   },
   "outputs": [
    {
     "name": "stdout",
     "output_type": "stream",
     "text": [
      "x=2\n"
     ]
    }
   ],
   "source": [
    "# Nested If Condition\n",
    "x=2\n",
    "if x>2 :\n",
    "    print(\"x>2\")\n",
    "elif x<2 :\n",
    "    print(\"x<2\")\n",
    "else :\n",
    "    print(\"x=2\")"
   ]
  },
  {
   "cell_type": "code",
   "execution_count": 20,
   "id": "c8e4f34b",
   "metadata": {
    "ExecuteTime": {
     "end_time": "2022-02-28T12:47:33.356547Z",
     "start_time": "2022-02-28T12:47:33.341554Z"
    },
    "hidden": true
   },
   "outputs": [
    {
     "name": "stdout",
     "output_type": "stream",
     "text": [
      "x>3\n"
     ]
    }
   ],
   "source": [
    "# The 2 conditions must be True \n",
    "x=4\n",
    "if x>2 :\n",
    "    if x>3 :\n",
    "        print(\"x>3\")"
   ]
  },
  {
   "cell_type": "code",
   "execution_count": 21,
   "id": "18448f57",
   "metadata": {
    "ExecuteTime": {
     "end_time": "2022-02-28T12:47:33.371501Z",
     "start_time": "2022-02-28T12:47:33.357511Z"
    },
    "hidden": true
   },
   "outputs": [],
   "source": [
    "# No output appeare bacause the second condition is False \n",
    "x=3\n",
    "if x>2 :          # First condition\n",
    "    if x>3 :      # Second condition\n",
    "        print(\"x>3\")"
   ]
  },
  {
   "cell_type": "code",
   "execution_count": 22,
   "id": "5dfee46f",
   "metadata": {
    "ExecuteTime": {
     "end_time": "2022-02-28T12:48:03.421842Z",
     "start_time": "2022-02-28T12:47:33.372471Z"
    },
    "hidden": true
   },
   "outputs": [
    {
     "name": "stdout",
     "output_type": "stream",
     "text": [
      "please enter your username: Maha\n",
      "please enter your password:1994\n",
      "Login Successful :)\n"
     ]
    }
   ],
   "source": [
    "# Example :-\n",
    "username = \"Maha\"\n",
    "password = 1994\n",
    "\n",
    "username_1 = input(\"please enter your username: \")\n",
    "password_1  = int(input(\"please enter your password:\"))   \n",
    "\n",
    "# If i want password string & integer --> remove int before input as in username\n",
    "\n",
    "if username_1 == username and password_1 == password:\n",
    "    print(\"Login Successful :)\")\n",
    "else:\n",
    "    print(\"Try Again\")"
   ]
  },
  {
   "cell_type": "code",
   "execution_count": 23,
   "id": "1069b1af",
   "metadata": {
    "ExecuteTime": {
     "end_time": "2022-02-28T12:48:16.352370Z",
     "start_time": "2022-02-28T12:48:03.422838Z"
    },
    "hidden": true
   },
   "outputs": [
    {
     "name": "stdout",
     "output_type": "stream",
     "text": [
      "Please enter your GPA : 3\n",
      "Good\n"
     ]
    }
   ],
   "source": [
    "# Example :-\n",
    "gpa = float(input(\"Please enter your GPA : \"))\n",
    "if gpa == 4 :\n",
    "    print(\"Perfect\")\n",
    "elif gpa >= 3.7 :\n",
    "    print(\"Excellent\")\n",
    "elif gpa >= 2.7 :\n",
    "    print(\"Good\")\n",
    "elif gpa >= 2.0 :\n",
    "    print(\"Fair\")\n",
    "elif gpa < 2.0 :\n",
    "    print(\"Please Try Again\")"
   ]
  },
  {
   "cell_type": "markdown",
   "id": "e4a939c3",
   "metadata": {
    "hidden": true
   },
   "source": [
    "**Input from user**                                                                                                         \n",
    "* Put before input :-                                                                                                        \n",
    "1. int --> if I want input entered only integer                                                                               \n",
    "2. float --> if I want input entered only integer & float                                                                     \n",
    "3. nothing --> if I want input entered anything (integer & float & string)                                                     "
   ]
  },
  {
   "cell_type": "code",
   "execution_count": 24,
   "id": "531a1213",
   "metadata": {
    "ExecuteTime": {
     "end_time": "2022-02-28T12:48:30.338313Z",
     "start_time": "2022-02-28T12:48:16.353242Z"
    },
    "hidden": true
   },
   "outputs": [
    {
     "name": "stdout",
     "output_type": "stream",
     "text": [
      "Please enter your GPA : 4\n",
      "<class 'str'>\n"
     ]
    }
   ],
   "source": [
    "gpa = (input(\"Please enter your GPA : \"))\n",
    "print(type(gpa))\n",
    "# Class is string although number entered is float "
   ]
  },
  {
   "cell_type": "code",
   "execution_count": 25,
   "id": "b045548d",
   "metadata": {
    "ExecuteTime": {
     "end_time": "2022-02-28T12:48:30.353936Z",
     "start_time": "2022-02-28T12:48:30.338313Z"
    },
    "hidden": true
   },
   "outputs": [],
   "source": [
    "gpa = None \n",
    "gpa"
   ]
  },
  {
   "cell_type": "markdown",
   "id": "c236a63d",
   "metadata": {
    "heading_collapsed": true
   },
   "source": [
    "# Containers"
   ]
  },
  {
   "cell_type": "markdown",
   "id": "b448585d",
   "metadata": {
    "heading_collapsed": true,
    "hidden": true
   },
   "source": [
    "## List"
   ]
  },
  {
   "cell_type": "code",
   "execution_count": 26,
   "id": "2c5b82d9",
   "metadata": {
    "ExecuteTime": {
     "end_time": "2022-02-28T12:48:30.369431Z",
     "start_time": "2022-02-28T12:48:30.355117Z"
    },
    "hidden": true
   },
   "outputs": [
    {
     "name": "stdout",
     "output_type": "stream",
     "text": [
      "[1, 2, 3, 4, 'M', True, [5, 6, 7]]\n",
      "<class 'list'>\n"
     ]
    }
   ],
   "source": [
    "L = [1,2,3,4,\"M\",True,[5,6,7]]\n",
    "print(L)\n",
    "print(type(L))"
   ]
  },
  {
   "cell_type": "code",
   "execution_count": 27,
   "id": "70473e2d",
   "metadata": {
    "ExecuteTime": {
     "end_time": "2022-02-28T12:48:30.385449Z",
     "start_time": "2022-02-28T12:48:30.370100Z"
    },
    "hidden": true
   },
   "outputs": [
    {
     "name": "stdout",
     "output_type": "stream",
     "text": [
      "7\n"
     ]
    }
   ],
   "source": [
    "# To get how many elements in the list \n",
    "print(len(L))"
   ]
  },
  {
   "cell_type": "code",
   "execution_count": 28,
   "id": "a9c693cd",
   "metadata": {
    "ExecuteTime": {
     "end_time": "2022-02-28T12:48:30.401420Z",
     "start_time": "2022-02-28T12:48:30.386285Z"
    },
    "hidden": true
   },
   "outputs": [
    {
     "data": {
      "text/plain": [
       "1"
      ]
     },
     "execution_count": 28,
     "metadata": {},
     "output_type": "execute_result"
    }
   ],
   "source": [
    "# To get 1st element\n",
    "L[0]"
   ]
  },
  {
   "cell_type": "code",
   "execution_count": 29,
   "id": "60010021",
   "metadata": {
    "ExecuteTime": {
     "end_time": "2022-02-28T12:48:30.416256Z",
     "start_time": "2022-02-28T12:48:30.406257Z"
    },
    "hidden": true
   },
   "outputs": [
    {
     "data": {
      "text/plain": [
       "2"
      ]
     },
     "execution_count": 29,
     "metadata": {},
     "output_type": "execute_result"
    }
   ],
   "source": [
    "# To get 2nd element\n",
    "L[1]"
   ]
  },
  {
   "cell_type": "code",
   "execution_count": 30,
   "id": "8f1f70f5",
   "metadata": {
    "ExecuteTime": {
     "end_time": "2022-02-28T12:48:30.431407Z",
     "start_time": "2022-02-28T12:48:30.417228Z"
    },
    "hidden": true
   },
   "outputs": [
    {
     "data": {
      "text/plain": [
       "[5, 6, 7]"
      ]
     },
     "execution_count": 30,
     "metadata": {},
     "output_type": "execute_result"
    }
   ],
   "source": [
    "# To get Last element\n",
    "L[-1]"
   ]
  },
  {
   "cell_type": "code",
   "execution_count": 31,
   "id": "50bc889f",
   "metadata": {
    "ExecuteTime": {
     "end_time": "2022-02-28T12:48:30.446669Z",
     "start_time": "2022-02-28T12:48:30.431934Z"
    },
    "hidden": true
   },
   "outputs": [
    {
     "data": {
      "text/plain": [
       "6"
      ]
     },
     "execution_count": 31,
     "metadata": {},
     "output_type": "execute_result"
    }
   ],
   "source": [
    "# To get 2nd element in The Last element \n",
    "L[-1][1]"
   ]
  },
  {
   "cell_type": "code",
   "execution_count": 32,
   "id": "c71880ad",
   "metadata": {
    "ExecuteTime": {
     "end_time": "2022-02-28T12:48:30.462655Z",
     "start_time": "2022-02-28T12:48:30.447670Z"
    },
    "hidden": true
   },
   "outputs": [
    {
     "data": {
      "text/plain": [
       "[1, 2]"
      ]
     },
     "execution_count": 32,
     "metadata": {},
     "output_type": "execute_result"
    }
   ],
   "source": [
    "# To get 0,1,2 element\n",
    "L[0:2]"
   ]
  },
  {
   "cell_type": "code",
   "execution_count": 33,
   "id": "b12496f1",
   "metadata": {
    "ExecuteTime": {
     "end_time": "2022-02-28T12:48:30.477591Z",
     "start_time": "2022-02-28T12:48:30.463628Z"
    },
    "hidden": true
   },
   "outputs": [
    {
     "data": {
      "text/plain": [
       "[1, 2, 3, 4, 'M']"
      ]
     },
     "execution_count": 33,
     "metadata": {},
     "output_type": "execute_result"
    }
   ],
   "source": [
    "# To get 0,1,2,3,4 element\n",
    "L[0:5]"
   ]
  },
  {
   "cell_type": "code",
   "execution_count": 34,
   "id": "248d0ceb",
   "metadata": {
    "ExecuteTime": {
     "end_time": "2022-02-28T12:48:30.492553Z",
     "start_time": "2022-02-28T12:48:30.478588Z"
    },
    "hidden": true
   },
   "outputs": [
    {
     "data": {
      "text/plain": [
       "[1, 2, 3, 4]"
      ]
     },
     "execution_count": 34,
     "metadata": {},
     "output_type": "execute_result"
    }
   ],
   "source": [
    "# To get All elements except The last 3 elements\n",
    "L[0:-3]"
   ]
  },
  {
   "cell_type": "code",
   "execution_count": 35,
   "id": "03caa983",
   "metadata": {
    "ExecuteTime": {
     "end_time": "2022-02-28T12:48:30.508541Z",
     "start_time": "2022-02-28T12:48:30.493552Z"
    },
    "hidden": true
   },
   "outputs": [
    {
     "name": "stdout",
     "output_type": "stream",
     "text": [
      "1 2 [5, 6, 7] True\n"
     ]
    }
   ],
   "source": [
    "# To get 1st & 2nd elements and The last 2 elements\n",
    "print(L[0],L[1],L[-1],L[-2])"
   ]
  },
  {
   "cell_type": "code",
   "execution_count": 36,
   "id": "c436c9b6",
   "metadata": {
    "ExecuteTime": {
     "end_time": "2022-02-28T12:48:30.524491Z",
     "start_time": "2022-02-28T12:48:30.509506Z"
    },
    "hidden": true
   },
   "outputs": [
    {
     "data": {
      "text/plain": [
       "[1, 2, 3, 4, 'M', True, [5, 6, 7], 8]"
      ]
     },
     "execution_count": 36,
     "metadata": {},
     "output_type": "execute_result"
    }
   ],
   "source": [
    "# Add value at the end of list\n",
    "L.append(8)\n",
    "L"
   ]
  },
  {
   "cell_type": "code",
   "execution_count": 37,
   "id": "2275638b",
   "metadata": {
    "ExecuteTime": {
     "end_time": "2022-02-28T12:48:30.539449Z",
     "start_time": "2022-02-28T12:48:30.525494Z"
    },
    "hidden": true
   },
   "outputs": [
    {
     "data": {
      "text/plain": [
       "[1, 2, 3, 4, 'M', True, [5, 6, 7], 8, 11, 12]"
      ]
     },
     "execution_count": 37,
     "metadata": {},
     "output_type": "execute_result"
    }
   ],
   "source": [
    "# OR\n",
    "L+= [11,12]\n",
    "L"
   ]
  },
  {
   "cell_type": "code",
   "execution_count": 38,
   "id": "a5a560d7",
   "metadata": {
    "ExecuteTime": {
     "end_time": "2022-02-28T12:48:30.555382Z",
     "start_time": "2022-02-28T12:48:30.540457Z"
    },
    "hidden": true
   },
   "outputs": [
    {
     "data": {
      "text/plain": [
       "[1, 2, 3, 4, 0, 'M', True, [5, 6, 7], 8, 11, 12]"
      ]
     },
     "execution_count": 38,
     "metadata": {},
     "output_type": "execute_result"
    }
   ],
   "source": [
    "# Add value at any position of list\n",
    "# x.insert(position,value)\n",
    "L.insert(4,0)\n",
    "L"
   ]
  },
  {
   "cell_type": "code",
   "execution_count": 39,
   "id": "b80da51c",
   "metadata": {
    "ExecuteTime": {
     "end_time": "2022-02-28T12:48:30.570373Z",
     "start_time": "2022-02-28T12:48:30.556380Z"
    },
    "hidden": true
   },
   "outputs": [
    {
     "name": "stdout",
     "output_type": "stream",
     "text": [
      "0\n",
      "2\n"
     ]
    }
   ],
   "source": [
    "# Count how many times an element has occured \n",
    "print(L.count(6))\n",
    "print(L.count(1))"
   ]
  },
  {
   "cell_type": "code",
   "execution_count": 40,
   "id": "74fd5b99",
   "metadata": {
    "ExecuteTime": {
     "end_time": "2022-02-28T12:48:30.585334Z",
     "start_time": "2022-02-28T12:48:30.571340Z"
    },
    "hidden": true
   },
   "outputs": [
    {
     "data": {
      "text/plain": [
       "[1, 2, 3, 4, 'M', True, [5, 6, 7], 8, 11, 12]"
      ]
     },
     "execution_count": 40,
     "metadata": {},
     "output_type": "execute_result"
    }
   ],
   "source": [
    "# To remove Specific element\n",
    "L.remove(0)\n",
    "L"
   ]
  },
  {
   "cell_type": "code",
   "execution_count": 41,
   "id": "2dad675d",
   "metadata": {
    "ExecuteTime": {
     "end_time": "2022-02-28T12:48:30.601292Z",
     "start_time": "2022-02-28T12:48:30.586336Z"
    },
    "hidden": true
   },
   "outputs": [
    {
     "data": {
      "text/plain": [
       "[1, 2, 4, 'M', True, [5, 6, 7], 8, 11, 12]"
      ]
     },
     "execution_count": 41,
     "metadata": {},
     "output_type": "execute_result"
    }
   ],
   "source": [
    "# OR\n",
    "del L[2]\n",
    "L"
   ]
  },
  {
   "cell_type": "code",
   "execution_count": 42,
   "id": "31b286db",
   "metadata": {
    "ExecuteTime": {
     "end_time": "2022-02-28T12:48:30.616230Z",
     "start_time": "2022-02-28T12:48:30.602302Z"
    },
    "hidden": true
   },
   "outputs": [
    {
     "data": {
      "text/plain": [
       "[1, 2, 4, 'M', True, [5, 6, 7], 8, 11]"
      ]
     },
     "execution_count": 42,
     "metadata": {},
     "output_type": "execute_result"
    }
   ],
   "source": [
    "# To remove Last element\n",
    "L.pop()\n",
    "L"
   ]
  },
  {
   "cell_type": "code",
   "execution_count": 43,
   "id": "f6694239",
   "metadata": {
    "ExecuteTime": {
     "end_time": "2022-02-28T12:48:30.632209Z",
     "start_time": "2022-02-28T12:48:30.617241Z"
    },
    "hidden": true
   },
   "outputs": [
    {
     "data": {
      "text/plain": [
       "[10, 2, 4, 'M', True, [5, 6, 7], 8, 11]"
      ]
     },
     "execution_count": 43,
     "metadata": {},
     "output_type": "execute_result"
    }
   ],
   "source": [
    "# To change value of any element in the list\n",
    "L[0] = 10\n",
    "L"
   ]
  },
  {
   "cell_type": "code",
   "execution_count": 44,
   "id": "7d1b020d",
   "metadata": {
    "ExecuteTime": {
     "end_time": "2022-02-28T12:48:30.647171Z",
     "start_time": "2022-02-28T12:48:30.633206Z"
    },
    "hidden": true
   },
   "outputs": [
    {
     "data": {
      "text/plain": [
       "[11, 8, [5, 6, 7], True, 'M', 4, 2, 10]"
      ]
     },
     "execution_count": 44,
     "metadata": {},
     "output_type": "execute_result"
    }
   ],
   "source": [
    "L.reverse()\n",
    "L"
   ]
  },
  {
   "cell_type": "code",
   "execution_count": 45,
   "id": "f4687b62",
   "metadata": {
    "ExecuteTime": {
     "end_time": "2022-02-28T12:48:30.802720Z",
     "start_time": "2022-02-28T12:48:30.648165Z"
    },
    "hidden": true
   },
   "outputs": [
    {
     "ename": "TypeError",
     "evalue": "'<' not supported between instances of 'list' and 'int'",
     "output_type": "error",
     "traceback": [
      "\u001b[1;31m---------------------------------------------------------------------------\u001b[0m",
      "\u001b[1;31mTypeError\u001b[0m                                 Traceback (most recent call last)",
      "\u001b[1;32m~\\AppData\\Local\\Temp/ipykernel_13544/2619434544.py\u001b[0m in \u001b[0;36m<module>\u001b[1;34m\u001b[0m\n\u001b[1;32m----> 1\u001b[1;33m \u001b[0mL\u001b[0m\u001b[1;33m.\u001b[0m\u001b[0msort\u001b[0m\u001b[1;33m(\u001b[0m\u001b[1;33m)\u001b[0m\u001b[1;33m\u001b[0m\u001b[1;33m\u001b[0m\u001b[0m\n\u001b[0m\u001b[0;32m      2\u001b[0m \u001b[0mL\u001b[0m\u001b[1;33m\u001b[0m\u001b[1;33m\u001b[0m\u001b[0m\n",
      "\u001b[1;31mTypeError\u001b[0m: '<' not supported between instances of 'list' and 'int'"
     ]
    }
   ],
   "source": [
    "L.sort()\n",
    "L"
   ]
  },
  {
   "cell_type": "code",
   "execution_count": 46,
   "id": "8700935e",
   "metadata": {
    "ExecuteTime": {
     "end_time": "2022-02-28T12:49:11.947596Z",
     "start_time": "2022-02-28T12:49:11.933642Z"
    },
    "hidden": true
   },
   "outputs": [
    {
     "data": {
      "text/plain": [
       "[10, 20, 40, 40, 50]"
      ]
     },
     "execution_count": 46,
     "metadata": {},
     "output_type": "execute_result"
    }
   ],
   "source": [
    "L1 = [50,20,40,10,40] \n",
    "L1.sort()\n",
    "L1"
   ]
  },
  {
   "cell_type": "code",
   "execution_count": 47,
   "id": "56cffe07",
   "metadata": {
    "ExecuteTime": {
     "end_time": "2022-02-28T12:49:11.962531Z",
     "start_time": "2022-02-28T12:49:11.949586Z"
    },
    "hidden": true
   },
   "outputs": [],
   "source": [
    "# To remove All elements from list\n",
    "L.clear()"
   ]
  },
  {
   "cell_type": "code",
   "execution_count": 48,
   "id": "a4bfa406",
   "metadata": {
    "ExecuteTime": {
     "end_time": "2022-02-28T12:49:11.978046Z",
     "start_time": "2022-02-28T12:49:11.963529Z"
    },
    "hidden": true
   },
   "outputs": [
    {
     "name": "stdout",
     "output_type": "stream",
     "text": [
      "mahavaavaa\n",
      "<class 'str'>\n"
     ]
    }
   ],
   "source": [
    "x = \"mahavaavaa\"\n",
    "print(x)\n",
    "print(type(x))"
   ]
  },
  {
   "cell_type": "code",
   "execution_count": 49,
   "id": "2ddd9530",
   "metadata": {
    "ExecuteTime": {
     "end_time": "2022-02-28T12:49:11.994003Z",
     "start_time": "2022-02-28T12:49:11.980041Z"
    },
    "hidden": true
   },
   "outputs": [
    {
     "name": "stdout",
     "output_type": "stream",
     "text": [
      "['m', 'a', 'h', 'a', 'v', 'a', 'a', 'v', 'a', 'a']\n",
      "<class 'list'>\n"
     ]
    }
   ],
   "source": [
    "L2 = list(x)\n",
    "print(L2)\n",
    "print(type(L2))"
   ]
  },
  {
   "cell_type": "markdown",
   "id": "be3fd1fc",
   "metadata": {
    "hidden": true
   },
   "source": [
    "**The split() method splits a string into a list. You can specify the separator, default separator is any whitespace.**         \n",
    "**Note: When max split is specified, the list will contain the specified number of elements plus one.**"
   ]
  },
  {
   "cell_type": "code",
   "execution_count": 50,
   "id": "6d129ac6",
   "metadata": {
    "ExecuteTime": {
     "end_time": "2022-02-28T12:49:12.009960Z",
     "start_time": "2022-02-28T12:49:11.995001Z"
    },
    "hidden": true
   },
   "outputs": [
    {
     "data": {
      "text/plain": [
       "['maha', 'aavaa']"
      ]
     },
     "execution_count": 50,
     "metadata": {},
     "output_type": "execute_result"
    }
   ],
   "source": [
    "L3 = x.split(\"v\",1)\n",
    "L3"
   ]
  },
  {
   "cell_type": "code",
   "execution_count": 51,
   "id": "7d1360e9",
   "metadata": {
    "ExecuteTime": {
     "end_time": "2022-02-28T12:49:12.024921Z",
     "start_time": "2022-02-28T12:49:12.010958Z"
    },
    "hidden": true
   },
   "outputs": [
    {
     "data": {
      "text/plain": [
       "['maha', 'aa', 'aa']"
      ]
     },
     "execution_count": 51,
     "metadata": {},
     "output_type": "execute_result"
    }
   ],
   "source": [
    "L3 = x.split(\"v\",2)\n",
    "L3"
   ]
  },
  {
   "cell_type": "markdown",
   "id": "85c6fa81",
   "metadata": {
    "heading_collapsed": true,
    "hidden": true
   },
   "source": [
    "## Tuple"
   ]
  },
  {
   "cell_type": "code",
   "execution_count": 52,
   "id": "813a3c9f",
   "metadata": {
    "ExecuteTime": {
     "end_time": "2022-02-28T12:49:12.040878Z",
     "start_time": "2022-02-28T12:49:12.025919Z"
    },
    "hidden": true
   },
   "outputs": [
    {
     "name": "stdout",
     "output_type": "stream",
     "text": [
      "(1, 2, 3, 4, 'M', True, [5, 6, 7])\n",
      "<class 'tuple'>\n"
     ]
    }
   ],
   "source": [
    "T = (1,2,3,4,\"M\",True,[5,6,7])\n",
    "print(T)\n",
    "print(type(T))"
   ]
  },
  {
   "cell_type": "code",
   "execution_count": 53,
   "id": "669937c9",
   "metadata": {
    "ExecuteTime": {
     "end_time": "2022-02-28T12:49:12.055838Z",
     "start_time": "2022-02-28T12:49:12.041876Z"
    },
    "hidden": true
   },
   "outputs": [
    {
     "name": "stdout",
     "output_type": "stream",
     "text": [
      "7\n"
     ]
    }
   ],
   "source": [
    "# To get how many elements in the tuple \n",
    "print(len(T))"
   ]
  },
  {
   "cell_type": "code",
   "execution_count": 54,
   "id": "c98937d9",
   "metadata": {
    "ExecuteTime": {
     "end_time": "2022-02-28T12:49:12.071795Z",
     "start_time": "2022-02-28T12:49:12.056835Z"
    },
    "hidden": true
   },
   "outputs": [
    {
     "data": {
      "text/plain": [
       "1"
      ]
     },
     "execution_count": 54,
     "metadata": {},
     "output_type": "execute_result"
    }
   ],
   "source": [
    "# To get 1st element\n",
    "T[0]"
   ]
  },
  {
   "cell_type": "code",
   "execution_count": 55,
   "id": "75d87dd1",
   "metadata": {
    "ExecuteTime": {
     "end_time": "2022-02-28T12:49:12.087073Z",
     "start_time": "2022-02-28T12:49:12.073790Z"
    },
    "hidden": true
   },
   "outputs": [
    {
     "data": {
      "text/plain": [
       "2"
      ]
     },
     "execution_count": 55,
     "metadata": {},
     "output_type": "execute_result"
    }
   ],
   "source": [
    "# To get 2nd element\n",
    "T[1]"
   ]
  },
  {
   "cell_type": "code",
   "execution_count": 56,
   "id": "d1b46fc5",
   "metadata": {
    "ExecuteTime": {
     "end_time": "2022-02-28T12:49:12.102066Z",
     "start_time": "2022-02-28T12:49:12.089081Z"
    },
    "hidden": true
   },
   "outputs": [
    {
     "data": {
      "text/plain": [
       "[5, 6, 7]"
      ]
     },
     "execution_count": 56,
     "metadata": {},
     "output_type": "execute_result"
    }
   ],
   "source": [
    "# To get Last element\n",
    "T[-1]"
   ]
  },
  {
   "cell_type": "code",
   "execution_count": 57,
   "id": "c7e40640",
   "metadata": {
    "ExecuteTime": {
     "end_time": "2022-02-28T12:49:12.118027Z",
     "start_time": "2022-02-28T12:49:12.103028Z"
    },
    "hidden": true
   },
   "outputs": [
    {
     "data": {
      "text/plain": [
       "6"
      ]
     },
     "execution_count": 57,
     "metadata": {},
     "output_type": "execute_result"
    }
   ],
   "source": [
    "# To get 2nd element in The Last element \n",
    "T[-1][1]"
   ]
  },
  {
   "cell_type": "code",
   "execution_count": 58,
   "id": "20b3f883",
   "metadata": {
    "ExecuteTime": {
     "end_time": "2022-02-28T12:49:12.133970Z",
     "start_time": "2022-02-28T12:49:12.118985Z"
    },
    "hidden": true
   },
   "outputs": [
    {
     "data": {
      "text/plain": [
       "(1, 2, 3, 4)"
      ]
     },
     "execution_count": 58,
     "metadata": {},
     "output_type": "execute_result"
    }
   ],
   "source": [
    "# To get 0,1,2,3 element\n",
    "T[0:4]"
   ]
  },
  {
   "cell_type": "code",
   "execution_count": 59,
   "id": "95d3e5a2",
   "metadata": {
    "ExecuteTime": {
     "end_time": "2022-02-28T12:49:12.148930Z",
     "start_time": "2022-02-28T12:49:12.134944Z"
    },
    "hidden": true
   },
   "outputs": [
    {
     "name": "stdout",
     "output_type": "stream",
     "text": [
      "1 2 [5, 6, 7] True\n"
     ]
    }
   ],
   "source": [
    "# To get 1st & 2nd elements and The last 2 elements\n",
    "print(T[0],T[1],T[-1],T[-2])"
   ]
  },
  {
   "cell_type": "code",
   "execution_count": 60,
   "id": "eccb992c",
   "metadata": {
    "ExecuteTime": {
     "end_time": "2022-02-28T12:49:12.164895Z",
     "start_time": "2022-02-28T12:49:12.149902Z"
    },
    "hidden": true
   },
   "outputs": [
    {
     "name": "stdout",
     "output_type": "stream",
     "text": [
      "0\n",
      "2\n"
     ]
    }
   ],
   "source": [
    "# Count how many times an element has occured \n",
    "print(T.count(6))\n",
    "print(T.count(1))"
   ]
  },
  {
   "cell_type": "code",
   "execution_count": 61,
   "id": "2298864c",
   "metadata": {
    "ExecuteTime": {
     "end_time": "2022-02-28T12:49:12.179849Z",
     "start_time": "2022-02-28T12:49:12.165860Z"
    },
    "hidden": true
   },
   "outputs": [
    {
     "data": {
      "text/plain": [
       "<function tuple.index(value, start=0, stop=9223372036854775807, /)>"
      ]
     },
     "execution_count": 61,
     "metadata": {},
     "output_type": "execute_result"
    }
   ],
   "source": [
    "T.index"
   ]
  },
  {
   "cell_type": "markdown",
   "id": "ce6f0b55",
   "metadata": {
    "heading_collapsed": true,
    "hidden": true
   },
   "source": [
    "## Set"
   ]
  },
  {
   "cell_type": "code",
   "execution_count": 62,
   "id": "25cfae79",
   "metadata": {
    "ExecuteTime": {
     "end_time": "2022-02-28T12:49:12.195813Z",
     "start_time": "2022-02-28T12:49:12.180829Z"
    },
    "hidden": true
   },
   "outputs": [
    {
     "data": {
      "text/plain": [
       "{0, 1, 2, '2.4', '3', 32, 4, 5, 6, 7, 'Mahaa', 'True'}"
      ]
     },
     "execution_count": 62,
     "metadata": {},
     "output_type": "execute_result"
    }
   ],
   "source": [
    "s = {1,1,1,1,1,1,\"Mahaa\",1,1,1,1,0,32,2,4,7,5,6,\"3\",\"2.4\",\"True\"}\n",
    "s"
   ]
  },
  {
   "cell_type": "code",
   "execution_count": 63,
   "id": "d72000d8",
   "metadata": {
    "ExecuteTime": {
     "end_time": "2022-02-28T12:49:12.210773Z",
     "start_time": "2022-02-28T12:49:12.196777Z"
    },
    "hidden": true,
    "scrolled": true
   },
   "outputs": [
    {
     "name": "stdout",
     "output_type": "stream",
     "text": [
      "{0, 1, 32, 2, 4, 5, 6, 7, '2.4', 'True', '3', 'Mahaa'}\n"
     ]
    }
   ],
   "source": [
    "s = {1,1,1,1,1,1,\"Mahaa\",1,1,1,1,0,32,2,4,7,5,6,\"3\",\"2.4\",\"True\"}\n",
    "print(s)"
   ]
  },
  {
   "cell_type": "code",
   "execution_count": 64,
   "id": "e8d98e8f",
   "metadata": {
    "ExecuteTime": {
     "end_time": "2022-02-28T12:49:12.225736Z",
     "start_time": "2022-02-28T12:49:12.211737Z"
    },
    "hidden": true
   },
   "outputs": [
    {
     "name": "stdout",
     "output_type": "stream",
     "text": [
      "<class 'set'>\n"
     ]
    }
   ],
   "source": [
    "print(type(s))"
   ]
  },
  {
   "cell_type": "code",
   "execution_count": 65,
   "id": "c2d9cb33",
   "metadata": {
    "ExecuteTime": {
     "end_time": "2022-02-28T12:49:12.241692Z",
     "start_time": "2022-02-28T12:49:12.227729Z"
    },
    "hidden": true,
    "scrolled": true
   },
   "outputs": [
    {
     "name": "stdout",
     "output_type": "stream",
     "text": [
      "12\n"
     ]
    }
   ],
   "source": [
    "# To get how many elements in the tuple \n",
    "print(len(s))"
   ]
  },
  {
   "cell_type": "markdown",
   "id": "5d7d974a",
   "metadata": {
    "hidden": true
   },
   "source": [
    "**Try adding different elements to Set**"
   ]
  },
  {
   "cell_type": "code",
   "execution_count": 66,
   "id": "0fd65d64",
   "metadata": {
    "ExecuteTime": {
     "end_time": "2022-02-28T12:49:12.257650Z",
     "start_time": "2022-02-28T12:49:12.242654Z"
    },
    "hidden": true
   },
   "outputs": [
    {
     "data": {
      "text/plain": [
       "{0, 1, 2, '2.4', '3', 32, 4, 5, 6, 7, 'Mahaa', 'True'}"
      ]
     },
     "execution_count": 66,
     "metadata": {},
     "output_type": "execute_result"
    }
   ],
   "source": [
    "s.add(5)\n",
    "s\n",
    "# No change as the element already exsist"
   ]
  },
  {
   "cell_type": "code",
   "execution_count": 67,
   "id": "45f27b13",
   "metadata": {
    "ExecuteTime": {
     "end_time": "2022-02-28T12:49:12.272608Z",
     "start_time": "2022-02-28T12:49:12.258612Z"
    },
    "hidden": true
   },
   "outputs": [
    {
     "data": {
      "text/plain": [
       "{0, 1, 10, 2, '2.4', '3', 32, 4, 5, 6, 7, 'Mahaa', 'True'}"
      ]
     },
     "execution_count": 67,
     "metadata": {},
     "output_type": "execute_result"
    }
   ],
   "source": [
    "s.add(10)\n",
    "s\n",
    "# Added as the element isn't exsist"
   ]
  },
  {
   "cell_type": "code",
   "execution_count": 68,
   "id": "5ee73831",
   "metadata": {
    "ExecuteTime": {
     "end_time": "2022-02-28T12:49:12.288565Z",
     "start_time": "2022-02-28T12:49:12.273572Z"
    },
    "hidden": true
   },
   "outputs": [
    {
     "data": {
      "text/plain": [
       "{0, 1, 10, 2, '2.4', '3', 32, 4, 5, 6, 7, 'Mahaa', 'True', 'mahaa'}"
      ]
     },
     "execution_count": 68,
     "metadata": {},
     "output_type": "execute_result"
    }
   ],
   "source": [
    "s.add(\"mahaa\")\n",
    "s\n",
    "# Added after capital according to ascii"
   ]
  },
  {
   "cell_type": "code",
   "execution_count": 69,
   "id": "fe4e45d2",
   "metadata": {
    "ExecuteTime": {
     "end_time": "2022-02-28T12:49:12.303527Z",
     "start_time": "2022-02-28T12:49:12.289530Z"
    },
    "hidden": true
   },
   "outputs": [
    {
     "data": {
      "text/plain": [
       "{0, 1, 10, 2, '2.4', '3', 32, 4, 5, 6, 7, 'Mahaa', 'True', 'mahaa'}"
      ]
     },
     "execution_count": 69,
     "metadata": {},
     "output_type": "execute_result"
    }
   ],
   "source": [
    "s.add(False)\n",
    "s\n",
    "# Not Added as it's Boolean so it's valued as the value of number 0 "
   ]
  },
  {
   "cell_type": "code",
   "execution_count": 70,
   "id": "1dfd8a8b",
   "metadata": {
    "ExecuteTime": {
     "end_time": "2022-02-28T12:49:12.319483Z",
     "start_time": "2022-02-28T12:49:12.304506Z"
    },
    "hidden": true
   },
   "outputs": [
    {
     "data": {
      "text/plain": [
       "{0, 1, 10, 2, '2.4', '3', 32, 4, 5, 6, 7, 'False', 'Mahaa', 'True', 'mahaa'}"
      ]
     },
     "execution_count": 70,
     "metadata": {},
     "output_type": "execute_result"
    }
   ],
   "source": [
    "s.add(\"False\")\n",
    "s\n",
    "# Added as it acts as a string"
   ]
  },
  {
   "cell_type": "code",
   "execution_count": 71,
   "id": "ff84f5e5",
   "metadata": {
    "ExecuteTime": {
     "end_time": "2022-02-28T12:49:12.334437Z",
     "start_time": "2022-02-28T12:49:12.320446Z"
    },
    "hidden": true
   },
   "outputs": [
    {
     "ename": "TypeError",
     "evalue": "unhashable type: 'list'",
     "output_type": "error",
     "traceback": [
      "\u001b[1;31m---------------------------------------------------------------------------\u001b[0m",
      "\u001b[1;31mTypeError\u001b[0m                                 Traceback (most recent call last)",
      "\u001b[1;32m~\\AppData\\Local\\Temp/ipykernel_13544/1672809087.py\u001b[0m in \u001b[0;36m<module>\u001b[1;34m\u001b[0m\n\u001b[1;32m----> 1\u001b[1;33m \u001b[0ms\u001b[0m\u001b[1;33m.\u001b[0m\u001b[0madd\u001b[0m\u001b[1;33m(\u001b[0m\u001b[1;33m[\u001b[0m\u001b[1;36m10\u001b[0m\u001b[1;33m,\u001b[0m\u001b[1;36m20\u001b[0m\u001b[1;33m,\u001b[0m\u001b[1;36m30\u001b[0m\u001b[1;33m]\u001b[0m\u001b[1;33m)\u001b[0m\u001b[1;33m\u001b[0m\u001b[1;33m\u001b[0m\u001b[0m\n\u001b[0m\u001b[0;32m      2\u001b[0m \u001b[0ms\u001b[0m\u001b[1;33m\u001b[0m\u001b[1;33m\u001b[0m\u001b[0m\n\u001b[0;32m      3\u001b[0m \u001b[1;31m# Not allowed\u001b[0m\u001b[1;33m\u001b[0m\u001b[1;33m\u001b[0m\u001b[0m\n",
      "\u001b[1;31mTypeError\u001b[0m: unhashable type: 'list'"
     ]
    }
   ],
   "source": [
    "s.add([10,20,30])\n",
    "s\n",
    "# Not allowed"
   ]
  },
  {
   "cell_type": "code",
   "execution_count": 72,
   "id": "34cb0dda",
   "metadata": {
    "ExecuteTime": {
     "end_time": "2022-02-28T12:50:03.854540Z",
     "start_time": "2022-02-28T12:50:03.842538Z"
    },
    "hidden": true
   },
   "outputs": [
    {
     "data": {
      "text/plain": [
       "{0, 1, 10, 2, '2.4', 3, '3', 32, 4, 5, 6, 7, 'False', 'Mahaa', 'True', 'mahaa'}"
      ]
     },
     "execution_count": 72,
     "metadata": {},
     "output_type": "execute_result"
    }
   ],
   "source": [
    "s.add(3)\n",
    "s"
   ]
  },
  {
   "cell_type": "code",
   "execution_count": 73,
   "id": "96aab827",
   "metadata": {
    "ExecuteTime": {
     "end_time": "2022-02-28T12:50:03.869490Z",
     "start_time": "2022-02-28T12:50:03.857499Z"
    },
    "hidden": true
   },
   "outputs": [
    {
     "data": {
      "text/plain": [
       "{0,\n",
       " 1,\n",
       " 10,\n",
       " 2,\n",
       " '2.4',\n",
       " 3,\n",
       " '3',\n",
       " 32,\n",
       " 4,\n",
       " '4',\n",
       " 5,\n",
       " 6,\n",
       " 7,\n",
       " 'False',\n",
       " 'Mahaa',\n",
       " 'True',\n",
       " 'mahaa'}"
      ]
     },
     "execution_count": 73,
     "metadata": {},
     "output_type": "execute_result"
    }
   ],
   "source": [
    "s.add(\"4\")\n",
    "s"
   ]
  },
  {
   "cell_type": "code",
   "execution_count": 74,
   "id": "65f0c894",
   "metadata": {
    "ExecuteTime": {
     "end_time": "2022-02-28T12:50:03.885425Z",
     "start_time": "2022-02-28T12:50:03.870497Z"
    },
    "hidden": true
   },
   "outputs": [
    {
     "data": {
      "text/plain": [
       "{0,\n",
       " 1,\n",
       " 10,\n",
       " 2,\n",
       " '2.4',\n",
       " 3,\n",
       " '3',\n",
       " 32,\n",
       " 4,\n",
       " '4',\n",
       " 5,\n",
       " 6,\n",
       " 'False',\n",
       " 'Mahaa',\n",
       " 'True',\n",
       " 'mahaa'}"
      ]
     },
     "execution_count": 74,
     "metadata": {},
     "output_type": "execute_result"
    }
   ],
   "source": [
    "# Remove specific element \n",
    "s.remove(7)\n",
    "s"
   ]
  },
  {
   "cell_type": "code",
   "execution_count": 75,
   "id": "6a7dc773",
   "metadata": {
    "ExecuteTime": {
     "end_time": "2022-02-28T12:50:03.901416Z",
     "start_time": "2022-02-28T12:50:03.887419Z"
    },
    "hidden": true
   },
   "outputs": [
    {
     "data": {
      "text/plain": [
       "{1, 10, 2, '2.4', 3, '3', 32, 4, '4', 5, 6, 'False', 'Mahaa', 'True', 'mahaa'}"
      ]
     },
     "execution_count": 75,
     "metadata": {},
     "output_type": "execute_result"
    }
   ],
   "source": [
    "# Remove 1st element \n",
    "s.pop()\n",
    "s"
   ]
  },
  {
   "cell_type": "markdown",
   "id": "2b69f4a8",
   "metadata": {
    "heading_collapsed": true
   },
   "source": [
    "# String can treated like a List"
   ]
  },
  {
   "cell_type": "code",
   "execution_count": 76,
   "id": "13b4f1a6",
   "metadata": {
    "ExecuteTime": {
     "end_time": "2022-02-28T12:50:03.916341Z",
     "start_time": "2022-02-28T12:50:03.902376Z"
    },
    "hidden": true
   },
   "outputs": [
    {
     "data": {
      "text/plain": [
       "'a'"
      ]
     },
     "execution_count": 76,
     "metadata": {},
     "output_type": "execute_result"
    }
   ],
   "source": [
    "x = \"mAha\"\n",
    "\n",
    "x[-1]"
   ]
  },
  {
   "cell_type": "code",
   "execution_count": 77,
   "id": "d384985f",
   "metadata": {
    "ExecuteTime": {
     "end_time": "2022-02-28T12:50:03.932329Z",
     "start_time": "2022-02-28T12:50:03.917336Z"
    },
    "hidden": true
   },
   "outputs": [
    {
     "ename": "IndexError",
     "evalue": "string index out of range",
     "output_type": "error",
     "traceback": [
      "\u001b[1;31m---------------------------------------------------------------------------\u001b[0m",
      "\u001b[1;31mIndexError\u001b[0m                                Traceback (most recent call last)",
      "\u001b[1;32m~\\AppData\\Local\\Temp/ipykernel_13544/191521982.py\u001b[0m in \u001b[0;36m<module>\u001b[1;34m\u001b[0m\n\u001b[1;32m----> 1\u001b[1;33m \u001b[0mx\u001b[0m\u001b[1;33m[\u001b[0m\u001b[1;36m5\u001b[0m\u001b[1;33m]\u001b[0m\u001b[1;33m\u001b[0m\u001b[1;33m\u001b[0m\u001b[0m\n\u001b[0m",
      "\u001b[1;31mIndexError\u001b[0m: string index out of range"
     ]
    }
   ],
   "source": [
    "x[5]"
   ]
  },
  {
   "cell_type": "code",
   "execution_count": 78,
   "id": "9e4ddee0",
   "metadata": {
    "ExecuteTime": {
     "end_time": "2022-02-28T12:50:30.666666Z",
     "start_time": "2022-02-28T12:50:30.648682Z"
    },
    "hidden": true,
    "scrolled": true
   },
   "outputs": [
    {
     "data": {
      "text/plain": [
       "'mA'"
      ]
     },
     "execution_count": 78,
     "metadata": {},
     "output_type": "execute_result"
    }
   ],
   "source": [
    "x[:2]"
   ]
  },
  {
   "cell_type": "code",
   "execution_count": 79,
   "id": "f405f6bf",
   "metadata": {
    "ExecuteTime": {
     "end_time": "2022-02-28T12:50:30.681626Z",
     "start_time": "2022-02-28T12:50:30.667665Z"
    },
    "hidden": true,
    "scrolled": true
   },
   "outputs": [
    {
     "data": {
      "text/plain": [
       "'mh'"
      ]
     },
     "execution_count": 79,
     "metadata": {},
     "output_type": "execute_result"
    }
   ],
   "source": [
    "# Default start index, default stop index, step size is two \n",
    "x[::2]"
   ]
  },
  {
   "cell_type": "code",
   "execution_count": 80,
   "id": "00eb9282",
   "metadata": {
    "ExecuteTime": {
     "end_time": "2022-02-28T12:50:30.697583Z",
     "start_time": "2022-02-28T12:50:30.682623Z"
    },
    "hidden": true
   },
   "outputs": [
    {
     "data": {
      "text/plain": [
       "'Maha'"
      ]
     },
     "execution_count": 80,
     "metadata": {},
     "output_type": "execute_result"
    }
   ],
   "source": [
    "x.capitalize()"
   ]
  },
  {
   "cell_type": "code",
   "execution_count": 81,
   "id": "a418be5f",
   "metadata": {
    "ExecuteTime": {
     "end_time": "2022-02-28T12:50:30.712540Z",
     "start_time": "2022-02-28T12:50:30.699546Z"
    },
    "hidden": true,
    "scrolled": true
   },
   "outputs": [
    {
     "data": {
      "text/plain": [
       "'MAHA'"
      ]
     },
     "execution_count": 81,
     "metadata": {},
     "output_type": "execute_result"
    }
   ],
   "source": [
    "x.upper()"
   ]
  },
  {
   "cell_type": "code",
   "execution_count": 82,
   "id": "0792fa34",
   "metadata": {
    "ExecuteTime": {
     "end_time": "2022-02-28T12:50:30.728469Z",
     "start_time": "2022-02-28T12:50:30.714506Z"
    },
    "hidden": true,
    "scrolled": true
   },
   "outputs": [
    {
     "data": {
      "text/plain": [
       "'maha'"
      ]
     },
     "execution_count": 82,
     "metadata": {},
     "output_type": "execute_result"
    }
   ],
   "source": [
    "x.lower()"
   ]
  },
  {
   "cell_type": "code",
   "execution_count": 83,
   "id": "4784546c",
   "metadata": {
    "ExecuteTime": {
     "end_time": "2022-02-28T12:50:30.743429Z",
     "start_time": "2022-02-28T12:50:30.729466Z"
    },
    "hidden": true,
    "scrolled": true
   },
   "outputs": [
    {
     "data": {
      "text/plain": [
       "'MaHA'"
      ]
     },
     "execution_count": 83,
     "metadata": {},
     "output_type": "execute_result"
    }
   ],
   "source": [
    "x.swapcase()\n",
    "# Returns a string where all the upper case letters are lower case and vice versa"
   ]
  },
  {
   "cell_type": "code",
   "execution_count": 84,
   "id": "0d86849a",
   "metadata": {
    "ExecuteTime": {
     "end_time": "2022-02-28T12:50:30.759386Z",
     "start_time": "2022-02-28T12:50:30.744472Z"
    },
    "hidden": true
   },
   "outputs": [
    {
     "data": {
      "text/plain": [
       "1"
      ]
     },
     "execution_count": 84,
     "metadata": {},
     "output_type": "execute_result"
    }
   ],
   "source": [
    "x.count(\"A\")"
   ]
  },
  {
   "cell_type": "code",
   "execution_count": 85,
   "id": "f907e2e5",
   "metadata": {
    "ExecuteTime": {
     "end_time": "2022-02-28T12:50:30.774381Z",
     "start_time": "2022-02-28T12:50:30.760384Z"
    },
    "hidden": true
   },
   "outputs": [
    {
     "data": {
      "text/plain": [
       "1"
      ]
     },
     "execution_count": 85,
     "metadata": {},
     "output_type": "execute_result"
    }
   ],
   "source": [
    "x.count(\"a\")"
   ]
  },
  {
   "cell_type": "code",
   "execution_count": 86,
   "id": "40eb4a3a",
   "metadata": {
    "ExecuteTime": {
     "end_time": "2022-02-28T12:50:30.790335Z",
     "start_time": "2022-02-28T12:50:30.775343Z"
    },
    "hidden": true
   },
   "outputs": [
    {
     "data": {
      "text/plain": [
       "0"
      ]
     },
     "execution_count": 86,
     "metadata": {},
     "output_type": "execute_result"
    }
   ],
   "source": [
    "x.find(\"m\")\n",
    "# Return position of element"
   ]
  },
  {
   "cell_type": "code",
   "execution_count": 87,
   "id": "f0d2403a",
   "metadata": {
    "ExecuteTime": {
     "end_time": "2022-02-28T12:50:30.805500Z",
     "start_time": "2022-02-28T12:50:30.792300Z"
    },
    "hidden": true
   },
   "outputs": [
    {
     "data": {
      "text/plain": [
       "-1"
      ]
     },
     "execution_count": 87,
     "metadata": {},
     "output_type": "execute_result"
    }
   ],
   "source": [
    "x.find(\"M\")\n",
    "# -1 means element not found "
   ]
  },
  {
   "cell_type": "code",
   "execution_count": 88,
   "id": "e27754fc",
   "metadata": {
    "ExecuteTime": {
     "end_time": "2022-02-28T12:50:30.820391Z",
     "start_time": "2022-02-28T12:50:30.806496Z"
    },
    "hidden": true,
    "scrolled": false
   },
   "outputs": [
    {
     "data": {
      "text/plain": [
       "'mOha'"
      ]
     },
     "execution_count": 88,
     "metadata": {},
     "output_type": "execute_result"
    }
   ],
   "source": [
    "# x.replace(old,new)\n",
    "x.replace(\"Aha\",\"Oha\")"
   ]
  },
  {
   "cell_type": "code",
   "execution_count": 89,
   "id": "7b6a6323",
   "metadata": {
    "ExecuteTime": {
     "end_time": "2022-02-28T12:50:30.835386Z",
     "start_time": "2022-02-28T12:50:30.822386Z"
    },
    "hidden": true,
    "scrolled": true
   },
   "outputs": [
    {
     "ename": "AttributeError",
     "evalue": "'str' object has no attribute 'append'",
     "output_type": "error",
     "traceback": [
      "\u001b[1;31m---------------------------------------------------------------------------\u001b[0m",
      "\u001b[1;31mAttributeError\u001b[0m                            Traceback (most recent call last)",
      "\u001b[1;32m~\\AppData\\Local\\Temp/ipykernel_13544/4088098035.py\u001b[0m in \u001b[0;36m<module>\u001b[1;34m\u001b[0m\n\u001b[1;32m----> 1\u001b[1;33m \u001b[0mx\u001b[0m\u001b[1;33m.\u001b[0m\u001b[0mappend\u001b[0m\u001b[1;33m(\u001b[0m\u001b[1;34m\"R\"\u001b[0m\u001b[1;33m)\u001b[0m\u001b[1;33m\u001b[0m\u001b[1;33m\u001b[0m\u001b[0m\n\u001b[0m",
      "\u001b[1;31mAttributeError\u001b[0m: 'str' object has no attribute 'append'"
     ]
    }
   ],
   "source": [
    "x.append(\"R\")"
   ]
  },
  {
   "cell_type": "code",
   "execution_count": 90,
   "id": "b970fd31",
   "metadata": {
    "ExecuteTime": {
     "end_time": "2022-02-28T12:50:38.542104Z",
     "start_time": "2022-02-28T12:50:38.526330Z"
    },
    "hidden": true,
    "scrolled": true
   },
   "outputs": [
    {
     "ename": "AttributeError",
     "evalue": "'str' object has no attribute 'pop'",
     "output_type": "error",
     "traceback": [
      "\u001b[1;31m---------------------------------------------------------------------------\u001b[0m",
      "\u001b[1;31mAttributeError\u001b[0m                            Traceback (most recent call last)",
      "\u001b[1;32m~\\AppData\\Local\\Temp/ipykernel_13544/3390390248.py\u001b[0m in \u001b[0;36m<module>\u001b[1;34m\u001b[0m\n\u001b[1;32m----> 1\u001b[1;33m \u001b[0mx\u001b[0m\u001b[1;33m.\u001b[0m\u001b[0mpop\u001b[0m\u001b[1;33m(\u001b[0m\u001b[1;33m)\u001b[0m\u001b[1;33m\u001b[0m\u001b[1;33m\u001b[0m\u001b[0m\n\u001b[0m",
      "\u001b[1;31mAttributeError\u001b[0m: 'str' object has no attribute 'pop'"
     ]
    }
   ],
   "source": [
    "x.pop()"
   ]
  },
  {
   "cell_type": "code",
   "execution_count": 91,
   "id": "b558d0d5",
   "metadata": {
    "ExecuteTime": {
     "end_time": "2022-02-28T12:50:43.262251Z",
     "start_time": "2022-02-28T12:50:43.250284Z"
    },
    "hidden": true
   },
   "outputs": [
    {
     "data": {
      "text/plain": [
       "True"
      ]
     },
     "execution_count": 91,
     "metadata": {},
     "output_type": "execute_result"
    }
   ],
   "source": [
    "x.isascii()"
   ]
  },
  {
   "cell_type": "code",
   "execution_count": 92,
   "id": "2100cf7c",
   "metadata": {
    "ExecuteTime": {
     "end_time": "2022-02-28T12:50:44.214595Z",
     "start_time": "2022-02-28T12:50:44.202595Z"
    },
    "hidden": true,
    "scrolled": true
   },
   "outputs": [
    {
     "data": {
      "text/plain": [
       "False"
      ]
     },
     "execution_count": 92,
     "metadata": {},
     "output_type": "execute_result"
    }
   ],
   "source": [
    "x.isnumeric()"
   ]
  },
  {
   "cell_type": "code",
   "execution_count": 93,
   "id": "b1570d5f",
   "metadata": {
    "ExecuteTime": {
     "end_time": "2022-02-28T12:50:44.843581Z",
     "start_time": "2022-02-28T12:50:44.822605Z"
    },
    "hidden": true
   },
   "outputs": [
    {
     "ename": "TypeError",
     "evalue": "'str' object does not support item assignment",
     "output_type": "error",
     "traceback": [
      "\u001b[1;31m---------------------------------------------------------------------------\u001b[0m",
      "\u001b[1;31mTypeError\u001b[0m                                 Traceback (most recent call last)",
      "\u001b[1;32m~\\AppData\\Local\\Temp/ipykernel_13544/628097405.py\u001b[0m in \u001b[0;36m<module>\u001b[1;34m\u001b[0m\n\u001b[1;32m----> 1\u001b[1;33m \u001b[0mx\u001b[0m\u001b[1;33m[\u001b[0m\u001b[1;36m1\u001b[0m\u001b[1;33m]\u001b[0m \u001b[1;33m=\u001b[0m \u001b[1;34m\"M\"\u001b[0m\u001b[1;33m\u001b[0m\u001b[1;33m\u001b[0m\u001b[0m\n\u001b[0m",
      "\u001b[1;31mTypeError\u001b[0m: 'str' object does not support item assignment"
     ]
    }
   ],
   "source": [
    "x[1] = \"M\""
   ]
  },
  {
   "cell_type": "code",
   "execution_count": 94,
   "id": "60e237d8",
   "metadata": {
    "ExecuteTime": {
     "end_time": "2022-02-28T12:50:46.867497Z",
     "start_time": "2022-02-28T12:50:46.846520Z"
    },
    "hidden": true,
    "scrolled": true
   },
   "outputs": [
    {
     "ename": "TypeError",
     "evalue": "'str' object doesn't support item deletion",
     "output_type": "error",
     "traceback": [
      "\u001b[1;31m---------------------------------------------------------------------------\u001b[0m",
      "\u001b[1;31mTypeError\u001b[0m                                 Traceback (most recent call last)",
      "\u001b[1;32m~\\AppData\\Local\\Temp/ipykernel_13544/3076853841.py\u001b[0m in \u001b[0;36m<module>\u001b[1;34m\u001b[0m\n\u001b[1;32m----> 1\u001b[1;33m \u001b[1;32mdel\u001b[0m \u001b[0mx\u001b[0m\u001b[1;33m[\u001b[0m\u001b[1;36m0\u001b[0m\u001b[1;33m]\u001b[0m\u001b[1;33m\u001b[0m\u001b[1;33m\u001b[0m\u001b[0m\n\u001b[0m",
      "\u001b[1;31mTypeError\u001b[0m: 'str' object doesn't support item deletion"
     ]
    }
   ],
   "source": [
    "del x[0]"
   ]
  },
  {
   "cell_type": "code",
   "execution_count": 95,
   "id": "7f1a955d",
   "metadata": {
    "ExecuteTime": {
     "end_time": "2022-02-28T12:50:49.036678Z",
     "start_time": "2022-02-28T12:50:49.025687Z"
    },
    "hidden": true
   },
   "outputs": [],
   "source": [
    "del x"
   ]
  },
  {
   "cell_type": "code",
   "execution_count": 96,
   "id": "e738498a",
   "metadata": {
    "ExecuteTime": {
     "end_time": "2022-02-28T12:50:50.363036Z",
     "start_time": "2022-02-28T12:50:50.348123Z"
    },
    "hidden": true
   },
   "outputs": [
    {
     "ename": "NameError",
     "evalue": "name 'x' is not defined",
     "output_type": "error",
     "traceback": [
      "\u001b[1;31m---------------------------------------------------------------------------\u001b[0m",
      "\u001b[1;31mNameError\u001b[0m                                 Traceback (most recent call last)",
      "\u001b[1;32m~\\AppData\\Local\\Temp/ipykernel_13544/32546335.py\u001b[0m in \u001b[0;36m<module>\u001b[1;34m\u001b[0m\n\u001b[1;32m----> 1\u001b[1;33m \u001b[0mx\u001b[0m\u001b[1;33m\u001b[0m\u001b[1;33m\u001b[0m\u001b[0m\n\u001b[0m",
      "\u001b[1;31mNameError\u001b[0m: name 'x' is not defined"
     ]
    }
   ],
   "source": [
    "x"
   ]
  }
 ],
 "metadata": {
  "kernelspec": {
   "display_name": "Python 3 (ipykernel)",
   "language": "python",
   "name": "python3"
  },
  "language_info": {
   "codemirror_mode": {
    "name": "ipython",
    "version": 3
   },
   "file_extension": ".py",
   "mimetype": "text/x-python",
   "name": "python",
   "nbconvert_exporter": "python",
   "pygments_lexer": "ipython3",
   "version": "3.9.7"
  },
  "toc": {
   "base_numbering": 1,
   "nav_menu": {},
   "number_sections": true,
   "sideBar": true,
   "skip_h1_title": false,
   "title_cell": "Table of Contents",
   "title_sidebar": "Contents",
   "toc_cell": false,
   "toc_position": {},
   "toc_section_display": true,
   "toc_window_display": false
  },
  "varInspector": {
   "cols": {
    "lenName": 16,
    "lenType": 16,
    "lenVar": 40
   },
   "kernels_config": {
    "python": {
     "delete_cmd_postfix": "",
     "delete_cmd_prefix": "del ",
     "library": "var_list.py",
     "varRefreshCmd": "print(var_dic_list())"
    },
    "r": {
     "delete_cmd_postfix": ") ",
     "delete_cmd_prefix": "rm(",
     "library": "var_list.r",
     "varRefreshCmd": "cat(var_dic_list()) "
    }
   },
   "types_to_exclude": [
    "module",
    "function",
    "builtin_function_or_method",
    "instance",
    "_Feature"
   ],
   "window_display": false
  }
 },
 "nbformat": 4,
 "nbformat_minor": 5
}
