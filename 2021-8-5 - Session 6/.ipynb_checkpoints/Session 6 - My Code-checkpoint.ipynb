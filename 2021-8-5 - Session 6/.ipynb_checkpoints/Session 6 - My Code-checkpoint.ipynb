{
 "cells": [
  {
   "cell_type": "markdown",
   "id": "4871e6fb",
   "metadata": {
    "heading_collapsed": true
   },
   "source": [
    "# Object Oriented Programming (OOP)"
   ]
  },
  {
   "cell_type": "code",
   "execution_count": 1,
   "id": "7e3a1a83",
   "metadata": {
    "ExecuteTime": {
     "end_time": "2022-04-11T19:15:48.173821Z",
     "start_time": "2022-04-11T19:15:48.160833Z"
    },
    "hidden": true
   },
   "outputs": [],
   "source": [
    "class Human :\n",
    "    Name = \"\"\n",
    "    Age = \"\"\n",
    "    Height = \"\"\n",
    "    \n",
    "    def PrintAge (self) :\n",
    "        print (\"I'm \" + self.Name + \" And I'm \" + str(self.Age) + \" Years Old\")\n",
    "        \n",
    "    def PrintHeight (self) :\n",
    "        print (\"I'm \" + self.Name + \" And I'm \" + str(self.Height) + \" CM\")\n",
    "        \n",
    "    def Study (self) :\n",
    "        print (\"I'm \" + self.Name + \" And I'm Studing AI\")"
   ]
  },
  {
   "cell_type": "code",
   "execution_count": 2,
   "id": "7c3d961b",
   "metadata": {
    "ExecuteTime": {
     "end_time": "2022-04-11T19:15:48.452645Z",
     "start_time": "2022-04-11T19:15:48.436687Z"
    },
    "hidden": true
   },
   "outputs": [],
   "source": [
    "M = Human()"
   ]
  },
  {
   "cell_type": "code",
   "execution_count": 3,
   "id": "23857e29",
   "metadata": {
    "ExecuteTime": {
     "end_time": "2022-04-11T19:15:48.670535Z",
     "start_time": "2022-04-11T19:15:48.654526Z"
    },
    "hidden": true
   },
   "outputs": [
    {
     "data": {
      "text/plain": [
       "__main__.Human"
      ]
     },
     "execution_count": 3,
     "metadata": {},
     "output_type": "execute_result"
    }
   ],
   "source": [
    "type(M)"
   ]
  },
  {
   "cell_type": "code",
   "execution_count": 4,
   "id": "681557b8",
   "metadata": {
    "ExecuteTime": {
     "end_time": "2022-04-11T19:15:48.872686Z",
     "start_time": "2022-04-11T19:15:48.862226Z"
    },
    "hidden": true
   },
   "outputs": [],
   "source": [
    "M.Name = \"Maha\"\n",
    "M.Age = 28\n",
    "M.Height = 170"
   ]
  },
  {
   "cell_type": "code",
   "execution_count": 5,
   "id": "21205e9e",
   "metadata": {
    "ExecuteTime": {
     "end_time": "2022-04-11T19:15:49.072633Z",
     "start_time": "2022-04-11T19:15:49.055676Z"
    },
    "hidden": true
   },
   "outputs": [
    {
     "name": "stdout",
     "output_type": "stream",
     "text": [
      "I'm Maha And I'm 28 Years Old\n"
     ]
    }
   ],
   "source": [
    "M.PrintAge()"
   ]
  },
  {
   "cell_type": "code",
   "execution_count": 6,
   "id": "bbb2909f",
   "metadata": {
    "ExecuteTime": {
     "end_time": "2022-04-11T19:15:49.290125Z",
     "start_time": "2022-04-11T19:15:49.275165Z"
    },
    "hidden": true
   },
   "outputs": [
    {
     "name": "stdout",
     "output_type": "stream",
     "text": [
      "I'm Maha And I'm 170 CM\n"
     ]
    }
   ],
   "source": [
    "M.PrintHeight()"
   ]
  },
  {
   "cell_type": "code",
   "execution_count": 7,
   "id": "6037d426",
   "metadata": {
    "ExecuteTime": {
     "end_time": "2022-04-11T19:15:49.506770Z",
     "start_time": "2022-04-11T19:15:49.496764Z"
    },
    "hidden": true
   },
   "outputs": [
    {
     "name": "stdout",
     "output_type": "stream",
     "text": [
      "I'm Maha And I'm Studing AI\n"
     ]
    }
   ],
   "source": [
    "M.Study()"
   ]
  },
  {
   "cell_type": "code",
   "execution_count": 1,
   "id": "7f7a3f53",
   "metadata": {
    "ExecuteTime": {
     "end_time": "2022-04-17T15:00:13.768221Z",
     "start_time": "2022-04-17T15:00:13.759272Z"
    },
    "hidden": true
   },
   "outputs": [],
   "source": [
    "# EX 1 :-\n",
    "class BankAccount :\n",
    "    def __init__ (self) :\n",
    "        self.Name = input(\"Please Enter Your Name : \")\n",
    "        self.__Password = int(input(\"Please Enter Your Password : \"))\n",
    "        self.Credit = 0\n",
    "        self.Email = \"\"\n",
    "        \n",
    "    def AddCredit (self) :\n",
    "        Added = float(input(\"Plaese Enter Amount of money You Want To Add : \"))\n",
    "        self.Credit += Added\n",
    "        print(\"Credit Added Successfully\")\n",
    "        \n",
    "    def ShowCredit (self) :\n",
    "        Check_Password = int(input(\"Please Enter Your Password : \"))\n",
    "        if Check_Password == self.__Password :\n",
    "            print(\"Your Credit is : \" , self.Credit)\n",
    "        else :\n",
    "            print(\"Password Entered isn't Correct\")\n",
    "            \n",
    "    def AddEmail (self) :\n",
    "        if self.Email == \"\" :\n",
    "            self.Email = input(\"Please Enter Your Email : \")\n",
    "            print(\"Email Added Successfully\")\n",
    "        else :\n",
    "            print(\"Sorry, An Email Already Added\")\n",
    "    \n",
    "    def AddAge (self) :\n",
    "        self.Age = int(input(\"Please Enter Your Age : \"))\n",
    "        print(\"Age Added Successfully\")\n",
    "    \n",
    "    def ChangePassword (self) :\n",
    "        Check_Password = int(input(\"Please Enter Your Password : \"))\n",
    "        if Check_Password == self.__Password :\n",
    "            New_Password = int(input(\"Please Enter Your New Password : \"))\n",
    "            self.__Password = New_Password\n",
    "            print(\"Password Changed Successfully\")\n",
    "        else :\n",
    "            print(\"Password Entered isn't Correct\")\n",
    "            \n",
    "    def ShowData (self) :\n",
    "        Check_Password = int(input(\"Please Enter Your Password : \"))\n",
    "        if Check_Password == self.__Password :\n",
    "            print(\"Your Name is : \" , self.Name)\n",
    "            print(\"Your Age is : \" , self.Age)\n",
    "            print(\"Your Credit is : \" , self.Credit)\n",
    "            print(\"Your Email is : \" , self.Email)\n",
    "        else :\n",
    "            print(\"Password Entered isn't Correct\")"
   ]
  },
  {
   "cell_type": "code",
   "execution_count": 2,
   "id": "c3dec3ba",
   "metadata": {
    "ExecuteTime": {
     "end_time": "2022-04-17T15:00:39.521821Z",
     "start_time": "2022-04-17T15:00:34.015084Z"
    },
    "hidden": true
   },
   "outputs": [
    {
     "name": "stdout",
     "output_type": "stream",
     "text": [
      "Please Enter Your Name : Maha\n",
      "Please Enter Your Password : 1994\n"
     ]
    }
   ],
   "source": [
    "Client1 = BankAccount()"
   ]
  },
  {
   "cell_type": "code",
   "execution_count": 3,
   "id": "8bbc4a59",
   "metadata": {
    "ExecuteTime": {
     "end_time": "2022-04-17T15:00:41.849944Z",
     "start_time": "2022-04-17T15:00:41.826992Z"
    },
    "hidden": true
   },
   "outputs": [
    {
     "data": {
      "text/plain": [
       "'Maha'"
      ]
     },
     "execution_count": 3,
     "metadata": {},
     "output_type": "execute_result"
    }
   ],
   "source": [
    "Client1.Name"
   ]
  },
  {
   "cell_type": "code",
   "execution_count": 4,
   "id": "220cc675",
   "metadata": {
    "ExecuteTime": {
     "end_time": "2022-04-17T15:00:43.907804Z",
     "start_time": "2022-04-17T15:00:43.751118Z"
    },
    "hidden": true
   },
   "outputs": [
    {
     "ename": "AttributeError",
     "evalue": "'BankAccount' object has no attribute '__Password'",
     "output_type": "error",
     "traceback": [
      "\u001b[1;31m---------------------------------------------------------------------------\u001b[0m",
      "\u001b[1;31mAttributeError\u001b[0m                            Traceback (most recent call last)",
      "\u001b[1;32m~\\AppData\\Local\\Temp/ipykernel_8292/428496028.py\u001b[0m in \u001b[0;36m<module>\u001b[1;34m\u001b[0m\n\u001b[1;32m----> 1\u001b[1;33m \u001b[0mClient1\u001b[0m\u001b[1;33m.\u001b[0m\u001b[0m__Password\u001b[0m       \u001b[1;31m# Private Variable\u001b[0m\u001b[1;33m\u001b[0m\u001b[1;33m\u001b[0m\u001b[0m\n\u001b[0m",
      "\u001b[1;31mAttributeError\u001b[0m: 'BankAccount' object has no attribute '__Password'"
     ]
    }
   ],
   "source": [
    "Client1.__Password       # Private Variable"
   ]
  },
  {
   "cell_type": "code",
   "execution_count": 5,
   "id": "ef882688",
   "metadata": {
    "ExecuteTime": {
     "end_time": "2022-04-17T15:00:55.870795Z",
     "start_time": "2022-04-17T15:00:55.858798Z"
    },
    "hidden": true
   },
   "outputs": [
    {
     "data": {
      "text/plain": [
       "0"
      ]
     },
     "execution_count": 5,
     "metadata": {},
     "output_type": "execute_result"
    }
   ],
   "source": [
    "Client1.Credit"
   ]
  },
  {
   "cell_type": "code",
   "execution_count": 6,
   "id": "c1735513",
   "metadata": {
    "ExecuteTime": {
     "end_time": "2022-04-17T15:00:56.532419Z",
     "start_time": "2022-04-17T15:00:56.516463Z"
    },
    "hidden": true
   },
   "outputs": [
    {
     "data": {
      "text/plain": [
       "''"
      ]
     },
     "execution_count": 6,
     "metadata": {},
     "output_type": "execute_result"
    }
   ],
   "source": [
    "Client1.Email"
   ]
  },
  {
   "cell_type": "code",
   "execution_count": 7,
   "id": "844b9ff1",
   "metadata": {
    "ExecuteTime": {
     "end_time": "2022-04-17T15:00:57.932534Z",
     "start_time": "2022-04-17T15:00:57.922574Z"
    },
    "hidden": true
   },
   "outputs": [
    {
     "ename": "AttributeError",
     "evalue": "'BankAccount' object has no attribute 'Age'",
     "output_type": "error",
     "traceback": [
      "\u001b[1;31m---------------------------------------------------------------------------\u001b[0m",
      "\u001b[1;31mAttributeError\u001b[0m                            Traceback (most recent call last)",
      "\u001b[1;32m~\\AppData\\Local\\Temp/ipykernel_8292/3862995320.py\u001b[0m in \u001b[0;36m<module>\u001b[1;34m\u001b[0m\n\u001b[1;32m----> 1\u001b[1;33m \u001b[0mClient1\u001b[0m\u001b[1;33m.\u001b[0m\u001b[0mAge\u001b[0m\u001b[1;33m\u001b[0m\u001b[1;33m\u001b[0m\u001b[0m\n\u001b[0m",
      "\u001b[1;31mAttributeError\u001b[0m: 'BankAccount' object has no attribute 'Age'"
     ]
    }
   ],
   "source": [
    "Client1.Age"
   ]
  },
  {
   "cell_type": "code",
   "execution_count": 8,
   "id": "1aa683c7",
   "metadata": {
    "ExecuteTime": {
     "end_time": "2022-04-17T15:01:05.538413Z",
     "start_time": "2022-04-17T15:01:02.824420Z"
    },
    "hidden": true
   },
   "outputs": [
    {
     "name": "stdout",
     "output_type": "stream",
     "text": [
      "Plaese Enter Amount of money You Want To Add : 5000\n",
      "Credit Added Successfully\n"
     ]
    }
   ],
   "source": [
    "Client1.AddCredit()"
   ]
  },
  {
   "cell_type": "code",
   "execution_count": 9,
   "id": "2b7f92f1",
   "metadata": {
    "ExecuteTime": {
     "end_time": "2022-04-17T15:01:11.442725Z",
     "start_time": "2022-04-17T15:01:09.511685Z"
    },
    "hidden": true
   },
   "outputs": [
    {
     "name": "stdout",
     "output_type": "stream",
     "text": [
      "Please Enter Your Password : 1993\n",
      "Password Entered isn't Correct\n"
     ]
    }
   ],
   "source": [
    "Client1.ShowCredit()"
   ]
  },
  {
   "cell_type": "code",
   "execution_count": 10,
   "id": "cf3438a9",
   "metadata": {
    "ExecuteTime": {
     "end_time": "2022-04-17T15:01:16.729825Z",
     "start_time": "2022-04-17T15:01:14.436901Z"
    },
    "hidden": true
   },
   "outputs": [
    {
     "name": "stdout",
     "output_type": "stream",
     "text": [
      "Please Enter Your Password : 1994\n",
      "Your Credit is :  5000.0\n"
     ]
    }
   ],
   "source": [
    "Client1.ShowCredit()"
   ]
  },
  {
   "cell_type": "code",
   "execution_count": 11,
   "id": "7e6091ae",
   "metadata": {
    "ExecuteTime": {
     "end_time": "2022-04-17T15:01:31.258452Z",
     "start_time": "2022-04-17T15:01:23.269642Z"
    },
    "hidden": true
   },
   "outputs": [
    {
     "name": "stdout",
     "output_type": "stream",
     "text": [
      "Please Enter Your Email : Maha@gmail.com\n",
      "Email Added Successfully\n"
     ]
    }
   ],
   "source": [
    "Client1.AddEmail()"
   ]
  },
  {
   "cell_type": "code",
   "execution_count": 12,
   "id": "6989ed20",
   "metadata": {
    "ExecuteTime": {
     "end_time": "2022-04-17T15:01:33.574343Z",
     "start_time": "2022-04-17T15:01:33.564360Z"
    },
    "hidden": true
   },
   "outputs": [
    {
     "name": "stdout",
     "output_type": "stream",
     "text": [
      "Sorry, An Email Already Added\n"
     ]
    }
   ],
   "source": [
    "Client1.AddEmail()"
   ]
  },
  {
   "cell_type": "code",
   "execution_count": 13,
   "id": "0a265466",
   "metadata": {
    "ExecuteTime": {
     "end_time": "2022-04-17T15:01:40.389425Z",
     "start_time": "2022-04-17T15:01:37.396203Z"
    },
    "hidden": true
   },
   "outputs": [
    {
     "name": "stdout",
     "output_type": "stream",
     "text": [
      "Please Enter Your Age : 28\n",
      "Age Added Successfully\n"
     ]
    }
   ],
   "source": [
    "Client1.AddAge()"
   ]
  },
  {
   "cell_type": "code",
   "execution_count": 14,
   "id": "739e84e2",
   "metadata": {
    "ExecuteTime": {
     "end_time": "2022-04-17T15:01:51.428308Z",
     "start_time": "2022-04-17T15:01:49.369631Z"
    },
    "hidden": true
   },
   "outputs": [
    {
     "name": "stdout",
     "output_type": "stream",
     "text": [
      "Please Enter Your Password : 1993\n",
      "Password Entered isn't Correct\n"
     ]
    }
   ],
   "source": [
    "Client1.ChangePassword()"
   ]
  },
  {
   "cell_type": "code",
   "execution_count": 15,
   "id": "c50b5d87",
   "metadata": {
    "ExecuteTime": {
     "end_time": "2022-04-17T15:02:36.955072Z",
     "start_time": "2022-04-17T15:01:52.890176Z"
    },
    "hidden": true
   },
   "outputs": [
    {
     "name": "stdout",
     "output_type": "stream",
     "text": [
      "Please Enter Your Password : 1994\n",
      "Please Enter Your New Password : 1710\n",
      "Password Changed Successfully\n"
     ]
    }
   ],
   "source": [
    "Client1.ChangePassword()"
   ]
  },
  {
   "cell_type": "code",
   "execution_count": 16,
   "id": "a2925736",
   "metadata": {
    "ExecuteTime": {
     "end_time": "2022-04-17T15:02:49.108295Z",
     "start_time": "2022-04-17T15:02:47.313767Z"
    },
    "hidden": true
   },
   "outputs": [
    {
     "name": "stdout",
     "output_type": "stream",
     "text": [
      "Please Enter Your Password : 1994\n",
      "Password Entered isn't Correct\n"
     ]
    }
   ],
   "source": [
    "Client1.ShowData()"
   ]
  },
  {
   "cell_type": "code",
   "execution_count": 17,
   "id": "4fd83755",
   "metadata": {
    "ExecuteTime": {
     "end_time": "2022-04-17T15:02:52.763172Z",
     "start_time": "2022-04-17T15:02:50.870527Z"
    },
    "hidden": true,
    "scrolled": true
   },
   "outputs": [
    {
     "name": "stdout",
     "output_type": "stream",
     "text": [
      "Please Enter Your Password : 1710\n",
      "Your Name is :  Maha\n",
      "Your Credit is :  5000.0\n",
      "Your Email is :  Maha@gmail.com\n"
     ]
    }
   ],
   "source": [
    "Client1.ShowData()"
   ]
  },
  {
   "cell_type": "code",
   "execution_count": 18,
   "id": "f41ceb8c",
   "metadata": {
    "ExecuteTime": {
     "end_time": "2022-04-17T15:03:01.556928Z",
     "start_time": "2022-04-17T15:03:01.548937Z"
    },
    "hidden": true
   },
   "outputs": [
    {
     "data": {
      "text/plain": [
       "5000.0"
      ]
     },
     "execution_count": 18,
     "metadata": {},
     "output_type": "execute_result"
    }
   ],
   "source": [
    "Client1.Credit"
   ]
  },
  {
   "cell_type": "code",
   "execution_count": 19,
   "id": "7ae54fbb",
   "metadata": {
    "ExecuteTime": {
     "end_time": "2022-04-17T15:03:25.066526Z",
     "start_time": "2022-04-17T15:03:25.061508Z"
    },
    "hidden": true
   },
   "outputs": [
    {
     "data": {
      "text/plain": [
       "'Maha@gmail.com'"
      ]
     },
     "execution_count": 19,
     "metadata": {},
     "output_type": "execute_result"
    }
   ],
   "source": [
    "Client1.Email"
   ]
  },
  {
   "cell_type": "code",
   "execution_count": 20,
   "id": "d6e7a933",
   "metadata": {
    "ExecuteTime": {
     "end_time": "2022-04-17T15:03:27.402562Z",
     "start_time": "2022-04-17T15:03:27.383616Z"
    },
    "hidden": true
   },
   "outputs": [
    {
     "data": {
      "text/plain": [
       "28"
      ]
     },
     "execution_count": 20,
     "metadata": {},
     "output_type": "execute_result"
    }
   ],
   "source": [
    "Client1.Age"
   ]
  },
  {
   "cell_type": "code",
   "execution_count": 21,
   "id": "af324695",
   "metadata": {
    "ExecuteTime": {
     "end_time": "2022-04-17T15:03:29.253631Z",
     "start_time": "2022-04-17T15:03:29.235704Z"
    },
    "hidden": true
   },
   "outputs": [
    {
     "data": {
      "text/plain": [
       "['My name is Maha\\n', 'This is a new text to try to read in python notebook']"
      ]
     },
     "execution_count": 21,
     "metadata": {},
     "output_type": "execute_result"
    }
   ],
   "source": [
    "Data = \"\"\n",
    "with open (\"My_Code.txt\",\"r\") as txt :\n",
    "    Data = txt.readlines()\n",
    "Data"
   ]
  },
  {
   "cell_type": "markdown",
   "id": "bd13d848",
   "metadata": {
    "heading_collapsed": true
   },
   "source": [
    "# OOP Main Concepts "
   ]
  },
  {
   "cell_type": "markdown",
   "id": "2660ae89",
   "metadata": {
    "heading_collapsed": true,
    "hidden": true
   },
   "source": [
    "## Abstraction"
   ]
  },
  {
   "cell_type": "code",
   "execution_count": 22,
   "id": "10d1e1b2",
   "metadata": {
    "ExecuteTime": {
     "end_time": "2022-04-17T17:46:46.576737Z",
     "start_time": "2022-04-17T17:46:46.566764Z"
    },
    "hidden": true
   },
   "outputs": [],
   "source": [
    "class Emplyee :\n",
    "    def Bonus (self) :\n",
    "        Old = float(input(\"Please Enter Your Salary : \"))\n",
    "        Percent = float(input(\"Please Enter The Annual Increase Percentage : \"))\n",
    "        self.Salary = Old + (Old * Percent / 100)\n",
    "        print(\"Your New Salary is : \" , self.Salary)"
   ]
  },
  {
   "cell_type": "code",
   "execution_count": 23,
   "id": "9e9667bf",
   "metadata": {
    "ExecuteTime": {
     "end_time": "2022-04-17T17:46:49.554883Z",
     "start_time": "2022-04-17T17:46:49.545880Z"
    },
    "hidden": true
   },
   "outputs": [],
   "source": [
    "emp1 = Emplyee()"
   ]
  },
  {
   "cell_type": "code",
   "execution_count": 24,
   "id": "094a6f4f",
   "metadata": {
    "ExecuteTime": {
     "end_time": "2022-04-17T17:46:55.945239Z",
     "start_time": "2022-04-17T17:46:51.766117Z"
    },
    "hidden": true
   },
   "outputs": [
    {
     "name": "stdout",
     "output_type": "stream",
     "text": [
      "Please Enter Your Salary : 2000\n",
      "Please Enter The Annual Increase Percentage : 10\n",
      "Your New Salary is :  2200.0\n"
     ]
    }
   ],
   "source": [
    "emp1.Bonus()"
   ]
  },
  {
   "cell_type": "markdown",
   "id": "e9045979",
   "metadata": {
    "heading_collapsed": true,
    "hidden": true
   },
   "source": [
    "## Encapsulation"
   ]
  },
  {
   "cell_type": "code",
   "execution_count": 50,
   "id": "3175c7ee",
   "metadata": {
    "ExecuteTime": {
     "end_time": "2022-04-17T18:54:56.974854Z",
     "start_time": "2022-04-17T18:54:56.958897Z"
    },
    "hidden": true
   },
   "outputs": [],
   "source": [
    "class SavingAccount :\n",
    "    def __init__ (self) :\n",
    "        self.__Name = input(\"Please Enter Your Name : \")\n",
    "        self.__Password = int(input(\"Please Enter Your Password : \"))\n",
    "        self.__Credit = 0\n",
    "        self.__Email = \"\"\n",
    "        \n",
    "        \n",
    "    def SetName (self) :\n",
    "        Check_Password = int(input(\"Please Enter Your Password : \"))\n",
    "        if Check_Password == self.__Password :\n",
    "            New_Name = input(\"Please Enter Your New Name : \")\n",
    "            self.__Name = New_Name\n",
    "            print(\"Your Name Changed Successfully\")\n",
    "        else :\n",
    "            print(\"Password Entered isn't Correct, Your Name Cann't Be Changed\")\n",
    "      \n",
    "    \n",
    "    def SetEmail (self) :\n",
    "        if self.__Email == \"\" :\n",
    "            self.__Email = input(\"Please Enter Your Email : \")\n",
    "            print(\"Email Added Successfully\")\n",
    "        else :\n",
    "            print(\"Sorry, An Email Already Added\")\n",
    "       \n",
    "    \n",
    "    def SetCredit (self) :\n",
    "        Check_Password = int(input(\"Please Enter Your Password : \"))\n",
    "        if Check_Password == self.__Password :\n",
    "            Action = int(input(\"Press '1' To Add OR '2' To Withdrow \"))\n",
    "            if Action == 1 :\n",
    "                Added = float(input(\"Plaese Enter Amount of money You Want To Add : \"))\n",
    "                self.__Credit += Added\n",
    "                print(\"Credit Added Successfully\")\n",
    "                print(\"Your Credit is : \" , self.__Credit)\n",
    "            elif Action == 2 :\n",
    "                Withdrawal = float(input(\"Plaese Enter Amount of money You Want To Withdrow : \"))\n",
    "                self.__Credit -= Withdrawal\n",
    "                print(\"Credit Withdrawn Successfully\")\n",
    "                print(\"Your Credit is : \" , self.__Credit)\n",
    "            else :\n",
    "                print(\"Sorry, Entered Choice Is Unavailable\")\n",
    "        else :\n",
    "            print(\"Password Entered isn't Correct\")\n",
    "  \n",
    "\n",
    "    def GetCredit (self) :\n",
    "        Check_Password = int(input(\"Please Enter Your Password : \"))\n",
    "        if Check_Password == self.__Password :\n",
    "            print(\"Your Credit is : \" , self.__Credit)\n",
    "        else :\n",
    "            print(\"Password Entered isn't Correct\")\n",
    "     \n",
    "\n",
    "    def SetAge (self) :\n",
    "        self.__Age = int(input(\"Please Enter Your Age : \"))\n",
    "        print(\"Age Added Successfully\")\n",
    "    \n",
    "        \n",
    "    def VerifyAge(self):\n",
    "        try:\n",
    "            if (self.__Age) :                         # Will Be : True --> If We Added Our Age & False --> If We Not Add Age\n",
    "                print(\"Your Age Has Been Verified\")\n",
    "        except : \n",
    "            print(\"Sorry, You Haven't Add Any Age\")\n",
    "            \n",
    "            \n",
    "    def SetPassword (self) :\n",
    "        Check_Password = int(input(\"Please Enter Your Password : \"))\n",
    "        if Check_Password == self.__Password :\n",
    "            New_Password = int(input(\"Please Enter Your New Password : \"))\n",
    "            self.__Password = New_Password\n",
    "            print(\"Password Changed Successfully\")\n",
    "        else :\n",
    "            print(\"Password Entered isn't Correct, Your Password Cann't Be Changed\")\n",
    "        \n",
    "        \n",
    "    def GetData (self) :\n",
    "        Check_Password = int(input(\"Please Enter Your Password : \"))\n",
    "        if Check_Password == self.__Password :\n",
    "            print(\"Your Name is : \" , self.__Name)\n",
    "            print(\"Your Age is : \" , self.__Age)\n",
    "            print(\"Your Credit is : \" , self.__Credit)\n",
    "            print(\"Your Email is : \" , self.__Email)\n",
    "        else :\n",
    "            print(\"Password Entered isn't Correct\")"
   ]
  },
  {
   "cell_type": "code",
   "execution_count": 51,
   "id": "f28b6f96",
   "metadata": {
    "ExecuteTime": {
     "end_time": "2022-04-17T18:55:11.067645Z",
     "start_time": "2022-04-17T18:54:59.054038Z"
    },
    "hidden": true
   },
   "outputs": [
    {
     "name": "stdout",
     "output_type": "stream",
     "text": [
      "Please Enter Your Name : Mohammad\n",
      "Please Enter Your Password : 1993\n"
     ]
    }
   ],
   "source": [
    "Client2 = SavingAccount()"
   ]
  },
  {
   "cell_type": "code",
   "execution_count": 52,
   "id": "194112ff",
   "metadata": {
    "ExecuteTime": {
     "end_time": "2022-04-17T18:55:14.675824Z",
     "start_time": "2022-04-17T18:55:12.912899Z"
    },
    "hidden": true
   },
   "outputs": [
    {
     "name": "stdout",
     "output_type": "stream",
     "text": [
      "Please Enter Your Password : 1994\n",
      "Password Entered isn't Correct, Your Name Cann't Be Changed\n"
     ]
    }
   ],
   "source": [
    "Client2.SetName()"
   ]
  },
  {
   "cell_type": "code",
   "execution_count": 53,
   "id": "27fe9aaa",
   "metadata": {
    "ExecuteTime": {
     "end_time": "2022-04-17T18:55:23.368161Z",
     "start_time": "2022-04-17T18:55:16.080224Z"
    },
    "hidden": true
   },
   "outputs": [
    {
     "name": "stdout",
     "output_type": "stream",
     "text": [
      "Please Enter Your Password : 1993\n",
      "Please Enter Your New Name : Mohamed\n",
      "Your Name Changed Successfully\n"
     ]
    }
   ],
   "source": [
    "Client2.SetName()"
   ]
  },
  {
   "cell_type": "code",
   "execution_count": 54,
   "id": "d600f787",
   "metadata": {
    "ExecuteTime": {
     "end_time": "2022-04-17T18:55:37.363877Z",
     "start_time": "2022-04-17T18:55:24.098609Z"
    },
    "hidden": true
   },
   "outputs": [
    {
     "name": "stdout",
     "output_type": "stream",
     "text": [
      "Please Enter Your Email : Mohamed@gmail.com\n",
      "Email Added Successfully\n"
     ]
    }
   ],
   "source": [
    "Client2.SetEmail()"
   ]
  },
  {
   "cell_type": "code",
   "execution_count": 55,
   "id": "6ee9e78e",
   "metadata": {
    "ExecuteTime": {
     "end_time": "2022-04-17T18:55:41.190400Z",
     "start_time": "2022-04-17T18:55:41.182389Z"
    },
    "hidden": true
   },
   "outputs": [
    {
     "name": "stdout",
     "output_type": "stream",
     "text": [
      "Sorry, An Email Already Added\n"
     ]
    }
   ],
   "source": [
    "Client2.SetEmail()"
   ]
  },
  {
   "cell_type": "code",
   "execution_count": 56,
   "id": "ad222f36",
   "metadata": {
    "ExecuteTime": {
     "end_time": "2022-04-17T18:55:45.302068Z",
     "start_time": "2022-04-17T18:55:43.532268Z"
    },
    "hidden": true
   },
   "outputs": [
    {
     "name": "stdout",
     "output_type": "stream",
     "text": [
      "Please Enter Your Password : 1994\n",
      "Password Entered isn't Correct\n"
     ]
    }
   ],
   "source": [
    "Client2.SetCredit()"
   ]
  },
  {
   "cell_type": "code",
   "execution_count": 57,
   "id": "74030501",
   "metadata": {
    "ExecuteTime": {
     "end_time": "2022-04-17T18:55:51.510706Z",
     "start_time": "2022-04-17T18:55:46.818493Z"
    },
    "hidden": true
   },
   "outputs": [
    {
     "name": "stdout",
     "output_type": "stream",
     "text": [
      "Please Enter Your Password : 1993\n",
      "Press '1' To Add OR '2' To Withdrow 3\n",
      "Sorry, Entered Choice Is Unavailable\n"
     ]
    }
   ],
   "source": [
    "Client2.SetCredit()"
   ]
  },
  {
   "cell_type": "code",
   "execution_count": 58,
   "id": "c680489b",
   "metadata": {
    "ExecuteTime": {
     "end_time": "2022-04-17T18:56:10.547329Z",
     "start_time": "2022-04-17T18:55:59.255315Z"
    },
    "hidden": true
   },
   "outputs": [
    {
     "name": "stdout",
     "output_type": "stream",
     "text": [
      "Please Enter Your Password : 1993\n",
      "Press '1' To Add OR '2' To Withdrow 1\n",
      "Plaese Enter Amount of money You Want To Add : 5000\n",
      "Credit Added Successfully\n",
      "Your Credit is :  5000.0\n"
     ]
    }
   ],
   "source": [
    "Client2.SetCredit()"
   ]
  },
  {
   "cell_type": "code",
   "execution_count": 59,
   "id": "1fbbe1a3",
   "metadata": {
    "ExecuteTime": {
     "end_time": "2022-04-17T18:56:48.855783Z",
     "start_time": "2022-04-17T18:56:11.993594Z"
    },
    "hidden": true
   },
   "outputs": [
    {
     "name": "stdout",
     "output_type": "stream",
     "text": [
      "Please Enter Your Password : 1993\n",
      "Press '1' To Add OR '2' To Withdrow 2\n",
      "Plaese Enter Amount of money You Want To Withdrow : 2300\n",
      "Credit Withdrawn Successfully\n",
      "Your Credit is :  2700.0\n"
     ]
    }
   ],
   "source": [
    "Client2.SetCredit()"
   ]
  },
  {
   "cell_type": "code",
   "execution_count": 60,
   "id": "980f97b0",
   "metadata": {
    "ExecuteTime": {
     "end_time": "2022-04-17T18:57:05.460806Z",
     "start_time": "2022-04-17T18:56:54.075932Z"
    },
    "hidden": true
   },
   "outputs": [
    {
     "name": "stdout",
     "output_type": "stream",
     "text": [
      "Please Enter Your Password : 1994\n",
      "Password Entered isn't Correct\n"
     ]
    }
   ],
   "source": [
    "Client2.GetCredit()"
   ]
  },
  {
   "cell_type": "code",
   "execution_count": 61,
   "id": "ae665b35",
   "metadata": {
    "ExecuteTime": {
     "end_time": "2022-04-17T18:57:09.090610Z",
     "start_time": "2022-04-17T18:57:06.974611Z"
    },
    "hidden": true
   },
   "outputs": [
    {
     "name": "stdout",
     "output_type": "stream",
     "text": [
      "Please Enter Your Password : 1993\n",
      "Your Credit is :  2700.0\n"
     ]
    }
   ],
   "source": [
    "Client2.GetCredit()"
   ]
  },
  {
   "cell_type": "code",
   "execution_count": 62,
   "id": "01e77ac5",
   "metadata": {
    "ExecuteTime": {
     "end_time": "2022-04-17T18:57:10.673661Z",
     "start_time": "2022-04-17T18:57:10.668679Z"
    },
    "hidden": true
   },
   "outputs": [
    {
     "name": "stdout",
     "output_type": "stream",
     "text": [
      "Sorry, You Haven't Add Any Age\n"
     ]
    }
   ],
   "source": [
    "Client2.VerifyAge()"
   ]
  },
  {
   "cell_type": "code",
   "execution_count": 63,
   "id": "96ffd5ae",
   "metadata": {
    "ExecuteTime": {
     "end_time": "2022-04-17T18:57:16.363508Z",
     "start_time": "2022-04-17T18:57:13.953511Z"
    },
    "hidden": true
   },
   "outputs": [
    {
     "name": "stdout",
     "output_type": "stream",
     "text": [
      "Please Enter Your Age : 29\n",
      "Age Added Successfully\n"
     ]
    }
   ],
   "source": [
    "Client2.SetAge()"
   ]
  },
  {
   "cell_type": "code",
   "execution_count": 64,
   "id": "91485255",
   "metadata": {
    "ExecuteTime": {
     "end_time": "2022-04-17T18:57:17.510569Z",
     "start_time": "2022-04-17T18:57:17.502558Z"
    },
    "hidden": true
   },
   "outputs": [
    {
     "name": "stdout",
     "output_type": "stream",
     "text": [
      "Your Age Has Been Verified\n"
     ]
    }
   ],
   "source": [
    "Client2.VerifyAge()"
   ]
  },
  {
   "cell_type": "code",
   "execution_count": 65,
   "id": "696409e3",
   "metadata": {
    "ExecuteTime": {
     "end_time": "2022-04-17T18:57:21.941354Z",
     "start_time": "2022-04-17T18:57:19.635174Z"
    },
    "hidden": true
   },
   "outputs": [
    {
     "name": "stdout",
     "output_type": "stream",
     "text": [
      "Please Enter Your Password : 1994\n",
      "Password Entered isn't Correct, Your Password Cann't Be Changed\n"
     ]
    }
   ],
   "source": [
    "Client2.SetPassword()"
   ]
  },
  {
   "cell_type": "code",
   "execution_count": 66,
   "id": "17f3cd01",
   "metadata": {
    "ExecuteTime": {
     "end_time": "2022-04-17T18:57:28.340546Z",
     "start_time": "2022-04-17T18:57:23.051767Z"
    },
    "hidden": true
   },
   "outputs": [
    {
     "name": "stdout",
     "output_type": "stream",
     "text": [
      "Please Enter Your Password : 1993\n",
      "Please Enter Your New Password : 0907\n",
      "Password Changed Successfully\n"
     ]
    }
   ],
   "source": [
    "Client2.SetPassword()"
   ]
  },
  {
   "cell_type": "code",
   "execution_count": 67,
   "id": "89ecc074",
   "metadata": {
    "ExecuteTime": {
     "end_time": "2022-04-17T18:57:32.084472Z",
     "start_time": "2022-04-17T18:57:29.818911Z"
    },
    "hidden": true
   },
   "outputs": [
    {
     "name": "stdout",
     "output_type": "stream",
     "text": [
      "Please Enter Your Password : 1993\n",
      "Password Entered isn't Correct\n"
     ]
    }
   ],
   "source": [
    "Client2.GetData()"
   ]
  },
  {
   "cell_type": "code",
   "execution_count": 68,
   "id": "e15984e0",
   "metadata": {
    "ExecuteTime": {
     "end_time": "2022-04-17T18:57:37.939254Z",
     "start_time": "2022-04-17T18:57:34.825627Z"
    },
    "hidden": true
   },
   "outputs": [
    {
     "name": "stdout",
     "output_type": "stream",
     "text": [
      "Please Enter Your Password : 0907\n",
      "Your Name is :  Mohamed\n",
      "Your Age is :  29\n",
      "Your Credit is :  2700.0\n",
      "Your Email is :  Mohamed@gmail.com\n"
     ]
    }
   ],
   "source": [
    "Client2.GetData()"
   ]
  },
  {
   "cell_type": "markdown",
   "id": "692dcdb3",
   "metadata": {
    "heading_collapsed": true,
    "hidden": true
   },
   "source": [
    "## Inheritance ( Multiple Inheritance , Overloaded Inheritance )"
   ]
  },
  {
   "cell_type": "code",
   "execution_count": 12,
   "id": "cdc25307",
   "metadata": {
    "ExecuteTime": {
     "end_time": "2022-05-27T10:16:13.843794Z",
     "start_time": "2022-05-27T10:16:13.833854Z"
    },
    "hidden": true
   },
   "outputs": [],
   "source": [
    "# Inheritance :-\n",
    "class Animal : \n",
    "    def __init__ (self) :\n",
    "        self.__Name = input(\"Please Enter The Animal Name : \")\n",
    "        self.__Color = input (\"Please Enter The Animal Color : \")\n",
    "        self.__Gender = input (\"Please Enter The Animal Gender : \")\n",
    "        self.__Origin = input (\"Please Enter The Animal Origin : \")\n",
    "        self.__Wild = input(\"Please Enter Is The Animal Wild Or Not : \")\n",
    "        \n",
    "    def PrintData (self) :\n",
    "        print(\"Data Entered Are : \" , self.__Name , \",\" , self.__Color , \",\" \n",
    "              , self.__Gender , \",\" , self.__Origin , \",\" , self.__Wild )"
   ]
  },
  {
   "cell_type": "code",
   "execution_count": 13,
   "id": "216fdfc9",
   "metadata": {
    "ExecuteTime": {
     "end_time": "2022-05-27T10:16:15.490650Z",
     "start_time": "2022-05-27T10:16:15.472693Z"
    },
    "hidden": true
   },
   "outputs": [],
   "source": [
    "class Dog (Animal) : \n",
    "    pass                   # Act as continue or placeholder"
   ]
  },
  {
   "cell_type": "code",
   "execution_count": 14,
   "id": "ac10ec87",
   "metadata": {
    "ExecuteTime": {
     "end_time": "2022-05-27T10:17:12.333575Z",
     "start_time": "2022-05-27T10:16:19.389600Z"
    },
    "hidden": true
   },
   "outputs": [
    {
     "name": "stdout",
     "output_type": "stream",
     "text": [
      "Please Enter The Animal Name : Bichon Frise\n",
      "Please Enter The Animal Color : White & Cream\n",
      "Please Enter The Animal Gender : Female\n",
      "Please Enter The Animal Origin : France\n",
      "Please Enter Is The Animal Wild Or Not : Not Wild\n"
     ]
    }
   ],
   "source": [
    "obj = Dog()"
   ]
  },
  {
   "cell_type": "code",
   "execution_count": 15,
   "id": "9e679574",
   "metadata": {
    "ExecuteTime": {
     "end_time": "2022-05-27T10:17:16.412981Z",
     "start_time": "2022-05-27T10:17:16.406997Z"
    },
    "hidden": true
   },
   "outputs": [
    {
     "name": "stdout",
     "output_type": "stream",
     "text": [
      "Data Entered Are :  Bichon Frise , White & Cream , Female , France , Not Wild\n"
     ]
    }
   ],
   "source": [
    "obj.PrintData()"
   ]
  },
  {
   "cell_type": "code",
   "execution_count": 29,
   "id": "2cba2dcf",
   "metadata": {
    "ExecuteTime": {
     "end_time": "2022-05-27T10:43:03.541146Z",
     "start_time": "2022-05-27T10:43:03.522164Z"
    },
    "hidden": true
   },
   "outputs": [],
   "source": [
    "# Multiple Inheritance :-\n",
    "class Vichel :\n",
    "    def __init__ (self) :\n",
    "        self.__Name = input(\"Please Enter The Model Name : \")\n",
    "        self.__Age = input(\"Please Enter The Model Year : \")\n",
    "        self.__Color = input(\"Please Enter The Color : \")\n",
    "        \n",
    "    def PrintData (self) :\n",
    "        print(\"Data Entered Are : \" , self.__Name , \",\" , self.__Age , \",\" , self.__Color )\n",
    "        \n",
    "\n",
    "class Car :\n",
    "    def ChangeColor (self) :\n",
    "        self.__Color = input(\"Please Enter The Color : \")"
   ]
  },
  {
   "cell_type": "code",
   "execution_count": 32,
   "id": "79e3b86e",
   "metadata": {
    "ExecuteTime": {
     "end_time": "2022-05-27T10:44:10.703123Z",
     "start_time": "2022-05-27T10:44:10.694147Z"
    },
    "hidden": true
   },
   "outputs": [],
   "source": [
    "class Chevrolet (Vichel , Car) :\n",
    "    pass"
   ]
  },
  {
   "cell_type": "code",
   "execution_count": 33,
   "id": "f7a72d7c",
   "metadata": {
    "ExecuteTime": {
     "end_time": "2022-05-27T10:44:19.579926Z",
     "start_time": "2022-05-27T10:44:11.192670Z"
    },
    "hidden": true
   },
   "outputs": [
    {
     "name": "stdout",
     "output_type": "stream",
     "text": [
      "Please Enter The Model Name : Lanos\n",
      "Please Enter The Model Year : 2019\n",
      "Please Enter The Color : Red\n"
     ]
    }
   ],
   "source": [
    "My = Chevrolet()"
   ]
  },
  {
   "cell_type": "code",
   "execution_count": 34,
   "id": "fc07f27d",
   "metadata": {
    "ExecuteTime": {
     "end_time": "2022-05-27T10:44:45.148135Z",
     "start_time": "2022-05-27T10:44:33.826604Z"
    },
    "hidden": true
   },
   "outputs": [
    {
     "name": "stdout",
     "output_type": "stream",
     "text": [
      "Please Enter The Color : Black\n"
     ]
    }
   ],
   "source": [
    "My.ChangeColor()"
   ]
  },
  {
   "cell_type": "code",
   "execution_count": 35,
   "id": "2d04aed6",
   "metadata": {
    "ExecuteTime": {
     "end_time": "2022-05-27T10:44:54.565903Z",
     "start_time": "2022-05-27T10:44:54.556923Z"
    },
    "hidden": true
   },
   "outputs": [
    {
     "name": "stdout",
     "output_type": "stream",
     "text": [
      "Data Entered Are :  Lanos , 2019 , Red\n"
     ]
    }
   ],
   "source": [
    "My.PrintData()"
   ]
  },
  {
   "cell_type": "code",
   "execution_count": 55,
   "id": "fb0e5e8e",
   "metadata": {
    "ExecuteTime": {
     "end_time": "2022-05-27T11:02:43.804609Z",
     "start_time": "2022-05-27T11:02:43.794609Z"
    },
    "hidden": true
   },
   "outputs": [],
   "source": [
    "# Overloaded Inheritance :-\n",
    "class GrandParent :\n",
    "    def Print1 (self) :\n",
    "        print(\"Grand Father , Grand Mother\")\n",
    "        \n",
    "class Parent (GrandParent) :\n",
    "    def Print2 (self) :\n",
    "        print(\"Father , Mother\")\n",
    "        \n",
    "class Me (Parent) :\n",
    "    def Name (self) :\n",
    "        self.Name = input(\"What Is Your Name : \")\n",
    "        print(\"Hello\" , self.Name )"
   ]
  },
  {
   "cell_type": "code",
   "execution_count": 56,
   "id": "a6b2f787",
   "metadata": {
    "ExecuteTime": {
     "end_time": "2022-05-27T11:02:44.695110Z",
     "start_time": "2022-05-27T11:02:44.677157Z"
    },
    "hidden": true
   },
   "outputs": [],
   "source": [
    "M = Me()"
   ]
  },
  {
   "cell_type": "code",
   "execution_count": 57,
   "id": "9ec4af3a",
   "metadata": {
    "ExecuteTime": {
     "end_time": "2022-05-27T11:02:53.141167Z",
     "start_time": "2022-05-27T11:02:53.125545Z"
    },
    "hidden": true,
    "scrolled": true
   },
   "outputs": [
    {
     "name": "stdout",
     "output_type": "stream",
     "text": [
      "Grand Father , Grand Mother\n"
     ]
    }
   ],
   "source": [
    "M.Print1()"
   ]
  },
  {
   "cell_type": "code",
   "execution_count": 58,
   "id": "f90192b3",
   "metadata": {
    "ExecuteTime": {
     "end_time": "2022-05-27T11:03:10.167007Z",
     "start_time": "2022-05-27T11:03:10.141813Z"
    },
    "hidden": true
   },
   "outputs": [
    {
     "name": "stdout",
     "output_type": "stream",
     "text": [
      "Father , Mother\n"
     ]
    }
   ],
   "source": [
    "M.Print2()"
   ]
  },
  {
   "cell_type": "code",
   "execution_count": 59,
   "id": "ccfcd3cc",
   "metadata": {
    "ExecuteTime": {
     "end_time": "2022-05-27T11:03:29.970614Z",
     "start_time": "2022-05-27T11:03:27.752198Z"
    },
    "hidden": true,
    "scrolled": true
   },
   "outputs": [
    {
     "name": "stdout",
     "output_type": "stream",
     "text": [
      "What Is Your Name : Maha\n",
      "Hello Maha\n"
     ]
    }
   ],
   "source": [
    "M.Name()"
   ]
  },
  {
   "cell_type": "markdown",
   "id": "3eace26a",
   "metadata": {
    "heading_collapsed": true,
    "hidden": true
   },
   "source": [
    "## Polymorphism"
   ]
  },
  {
   "cell_type": "code",
   "execution_count": 62,
   "id": "91c2dd9f",
   "metadata": {
    "ExecuteTime": {
     "end_time": "2022-05-27T11:04:30.219605Z",
     "start_time": "2022-05-27T11:04:30.201628Z"
    },
    "hidden": true
   },
   "outputs": [],
   "source": [
    "class GrandParent :\n",
    "    def Print (self) :\n",
    "        print(\"Grand Father , Grand Mother\")\n",
    "        \n",
    "class Parent (GrandParent) :\n",
    "    def Print (self) :\n",
    "        print(\"Father , Mother\")"
   ]
  },
  {
   "cell_type": "code",
   "execution_count": 63,
   "id": "60072ef0",
   "metadata": {
    "ExecuteTime": {
     "end_time": "2022-05-27T11:04:31.242653Z",
     "start_time": "2022-05-27T11:04:31.230686Z"
    },
    "hidden": true
   },
   "outputs": [],
   "source": [
    "P = Parent()"
   ]
  },
  {
   "cell_type": "code",
   "execution_count": 64,
   "id": "a5034208",
   "metadata": {
    "ExecuteTime": {
     "end_time": "2022-05-27T11:04:32.549008Z",
     "start_time": "2022-05-27T11:04:32.539002Z"
    },
    "hidden": true
   },
   "outputs": [
    {
     "name": "stdout",
     "output_type": "stream",
     "text": [
      "Father , Mother\n"
     ]
    }
   ],
   "source": [
    "P.Print()"
   ]
  },
  {
   "cell_type": "markdown",
   "id": "38acf787",
   "metadata": {
    "heading_collapsed": true,
    "hidden": true
   },
   "source": [
    "## Composition"
   ]
  },
  {
   "cell_type": "markdown",
   "id": "a0a6f31a",
   "metadata": {
    "hidden": true
   },
   "source": [
    "***See Session 6 - Task 2***"
   ]
  }
 ],
 "metadata": {
  "kernelspec": {
   "display_name": "Python 3 (ipykernel)",
   "language": "python",
   "name": "python3"
  },
  "language_info": {
   "codemirror_mode": {
    "name": "ipython",
    "version": 3
   },
   "file_extension": ".py",
   "mimetype": "text/x-python",
   "name": "python",
   "nbconvert_exporter": "python",
   "pygments_lexer": "ipython3",
   "version": "3.9.12"
  },
  "toc": {
   "base_numbering": 1,
   "nav_menu": {},
   "number_sections": true,
   "sideBar": true,
   "skip_h1_title": false,
   "title_cell": "Table of Contents",
   "title_sidebar": "Contents",
   "toc_cell": false,
   "toc_position": {},
   "toc_section_display": true,
   "toc_window_display": false
  },
  "varInspector": {
   "cols": {
    "lenName": 16,
    "lenType": 16,
    "lenVar": 40
   },
   "kernels_config": {
    "python": {
     "delete_cmd_postfix": "",
     "delete_cmd_prefix": "del ",
     "library": "var_list.py",
     "varRefreshCmd": "print(var_dic_list())"
    },
    "r": {
     "delete_cmd_postfix": ") ",
     "delete_cmd_prefix": "rm(",
     "library": "var_list.r",
     "varRefreshCmd": "cat(var_dic_list()) "
    }
   },
   "types_to_exclude": [
    "module",
    "function",
    "builtin_function_or_method",
    "instance",
    "_Feature"
   ],
   "window_display": false
  }
 },
 "nbformat": 4,
 "nbformat_minor": 5
}
