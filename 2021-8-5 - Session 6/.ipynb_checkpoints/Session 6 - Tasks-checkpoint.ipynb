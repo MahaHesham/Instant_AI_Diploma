{
 "cells": [
  {
   "cell_type": "markdown",
   "id": "9065d1b5",
   "metadata": {
    "heading_collapsed": true
   },
   "source": [
    "## Task 1 :-\n",
    "\n",
    "**a- creat new class                    \n",
    "b- create new object                            \n",
    "c- add object attributes into txt file                               \n",
    "d- modify class attributes: add new attribute                                 \n",
    "e- read txt file                                \n",
    "f- apply chanages                                \n",
    "g- save file**         \n",
    "\n"
   ]
  },
  {
   "cell_type": "code",
   "execution_count": 1,
   "id": "a83431b5",
   "metadata": {
    "ExecuteTime": {
     "end_time": "2022-05-30T18:13:11.428909Z",
     "start_time": "2022-05-30T18:13:11.412101Z"
    },
    "hidden": true
   },
   "outputs": [],
   "source": [
    "class Employees :\n",
    "    def __init__ (self) :\n",
    "        self.Name = input(\"Please Enter Employee Name : \")\n",
    "        self.Age = input(\"Please Enter Employee Age : \")\n",
    "        self.Gender = input(\"Please Enter Employee Gender : \")\n",
    "        self.Salary = input(\"Please Enter Employee Salary : \")\n",
    "        self.Attributes = [\"Name\" , \"Age\" , \"Gender\" , \"Salary\"]\n",
    "        \n",
    "    def AddPhoneNumber (self) :\n",
    "        self.PhoneNumber = input(\"Please Enter Employee PhoneNumber : \")\n",
    "        self.UpdateAttributes (\"PhoneNumber\")                       # Call UpdateAttributes Funcion To Add Attribute\n",
    "    \n",
    "    def AddEmail (self) :\n",
    "        self.Email = input(\"Please Enter Employee Email : \")\n",
    "        self.UpdateAttributes (\"Email\")                       # Call UpdateAttributes Funcion To Add Attribute\n",
    "        \n",
    "    def UpdateAttributes (self , Attribute) :\n",
    "        self.Attributes.append (Attribute)"
   ]
  },
  {
   "cell_type": "code",
   "execution_count": 2,
   "id": "bd188f38",
   "metadata": {
    "ExecuteTime": {
     "end_time": "2022-05-30T18:13:23.277926Z",
     "start_time": "2022-05-30T18:13:12.326862Z"
    },
    "hidden": true
   },
   "outputs": [
    {
     "name": "stdout",
     "output_type": "stream",
     "text": [
      "Please Enter Employee Name : Maha\n",
      "Please Enter Employee Age : 28\n",
      "Please Enter Employee Gender : Female\n",
      "Please Enter Employee Salary : 4000\n"
     ]
    }
   ],
   "source": [
    "Employee_1 = Employees()"
   ]
  },
  {
   "cell_type": "code",
   "execution_count": 3,
   "id": "8d15e3d8",
   "metadata": {
    "ExecuteTime": {
     "end_time": "2022-05-30T18:13:31.104210Z",
     "start_time": "2022-05-30T18:13:26.291735Z"
    },
    "hidden": true
   },
   "outputs": [
    {
     "name": "stdout",
     "output_type": "stream",
     "text": [
      "Please Enter Employee PhoneNumber : 0123456789\n"
     ]
    }
   ],
   "source": [
    "Employee_1.AddPhoneNumber()"
   ]
  },
  {
   "cell_type": "code",
   "execution_count": 4,
   "id": "516676c6",
   "metadata": {
    "ExecuteTime": {
     "end_time": "2022-05-30T18:13:35.876423Z",
     "start_time": "2022-05-30T18:13:32.797914Z"
    },
    "hidden": true
   },
   "outputs": [
    {
     "name": "stdout",
     "output_type": "stream",
     "text": [
      "Please Enter Employee Email : Maha@gmail.com\n"
     ]
    }
   ],
   "source": [
    "Employee_1.AddEmail()"
   ]
  },
  {
   "cell_type": "code",
   "execution_count": 5,
   "id": "e75a3d4f",
   "metadata": {
    "ExecuteTime": {
     "end_time": "2022-05-30T18:13:37.490944Z",
     "start_time": "2022-05-30T18:13:37.481502Z"
    },
    "hidden": true
   },
   "outputs": [
    {
     "data": {
      "text/plain": [
       "['Name', 'Age', 'Gender', 'Salary', 'PhoneNumber', 'Email']"
      ]
     },
     "execution_count": 5,
     "metadata": {},
     "output_type": "execute_result"
    }
   ],
   "source": [
    "Employee_1.Attributes"
   ]
  },
  {
   "cell_type": "markdown",
   "id": "bceb87a6",
   "metadata": {
    "hidden": true
   },
   "source": [
    "***Notes :-***\n",
    "\n",
    "**a : means append --> add to file without delete previous**                                                        \n",
    "**w : means write --> write in file with delete previous**                                                                     \n",
    "**r : means read --> read from file** \n",
    "\n",
    "**read : read whole file as string**                                                                               \n",
    "**readlines : read whole file as a list of lines**\n",
    "\n",
    "**getattr(Object , Attribute Name) --> Return the value of the attribute**                                     \n"
   ]
  },
  {
   "cell_type": "code",
   "execution_count": 6,
   "id": "ef8c2904",
   "metadata": {
    "ExecuteTime": {
     "end_time": "2022-05-30T18:13:39.880338Z",
     "start_time": "2022-05-30T18:13:39.868328Z"
    },
    "hidden": true
   },
   "outputs": [],
   "source": [
    "with open (\"Task.txt\" , \"w\") as txt :\n",
    "    for i in Employee_1.Attributes :\n",
    "        txt.writelines (i + \" : \" + getattr(Employee_1,i) + \"\\n\")"
   ]
  },
  {
   "cell_type": "code",
   "execution_count": 7,
   "id": "96cdf2a0",
   "metadata": {
    "ExecuteTime": {
     "end_time": "2022-05-30T18:13:44.346198Z",
     "start_time": "2022-05-30T18:13:44.334560Z"
    },
    "hidden": true
   },
   "outputs": [
    {
     "name": "stdout",
     "output_type": "stream",
     "text": [
      "Name : Maha\n",
      "Age : 28\n",
      "Gender : Female\n",
      "Salary : 4000\n",
      "PhoneNumber : 0123456789\n",
      "Email : Maha@gmail.com\n",
      "\n"
     ]
    }
   ],
   "source": [
    "with open (\"Task.txt\",\"r\") as txt :\n",
    "    Data = txt.read()\n",
    "    print(Data)"
   ]
  },
  {
   "cell_type": "code",
   "execution_count": 8,
   "id": "8a805b47",
   "metadata": {
    "ExecuteTime": {
     "end_time": "2022-05-30T18:13:48.587313Z",
     "start_time": "2022-05-30T18:13:48.576342Z"
    },
    "hidden": true
   },
   "outputs": [
    {
     "data": {
      "text/plain": [
       "['Name : Maha',\n",
       " 'Age : 28',\n",
       " 'Gender : Female',\n",
       " 'Salary : 4000',\n",
       " 'PhoneNumber : 0123456789',\n",
       " 'Email : Maha@gmail.com']"
      ]
     },
     "execution_count": 8,
     "metadata": {},
     "output_type": "execute_result"
    }
   ],
   "source": [
    "Emp_1 = Data.splitlines()\n",
    "Emp_1"
   ]
  },
  {
   "cell_type": "code",
   "execution_count": 9,
   "id": "40a16e68",
   "metadata": {
    "ExecuteTime": {
     "end_time": "2022-05-30T18:13:49.321325Z",
     "start_time": "2022-05-30T18:13:49.309034Z"
    },
    "hidden": true
   },
   "outputs": [
    {
     "name": "stdout",
     "output_type": "stream",
     "text": [
      "['Name', ':', 'Maha']\n",
      "['Age', ':', '28']\n",
      "['Gender', ':', 'Female']\n",
      "['Salary', ':', '4000']\n",
      "['PhoneNumber', ':', '0123456789']\n",
      "['Email', ':', 'Maha@gmail.com']\n"
     ]
    }
   ],
   "source": [
    "for i in Emp_1 :\n",
    "    print (i.split())"
   ]
  },
  {
   "cell_type": "code",
   "execution_count": 10,
   "id": "154c5f68",
   "metadata": {
    "ExecuteTime": {
     "end_time": "2022-05-30T18:13:50.115064Z",
     "start_time": "2022-05-30T18:13:50.101474Z"
    },
    "hidden": true
   },
   "outputs": [
    {
     "name": "stdout",
     "output_type": "stream",
     "text": [
      "Name\n",
      "Age\n",
      "Gender\n",
      "Salary\n",
      "PhoneNumber\n",
      "Email\n"
     ]
    }
   ],
   "source": [
    "for i in Emp_1 :\n",
    "    print (i.split()[0])"
   ]
  },
  {
   "cell_type": "code",
   "execution_count": 11,
   "id": "fadf889d",
   "metadata": {
    "ExecuteTime": {
     "end_time": "2022-05-30T18:13:51.527446Z",
     "start_time": "2022-05-30T18:13:51.517881Z"
    },
    "hidden": true
   },
   "outputs": [
    {
     "name": "stdout",
     "output_type": "stream",
     "text": [
      "Maha\n",
      "28\n",
      "Female\n",
      "4000\n",
      "0123456789\n",
      "Maha@gmail.com\n"
     ]
    }
   ],
   "source": [
    "for i in Emp_1 :\n",
    "    print (i.split()[2])"
   ]
  },
  {
   "cell_type": "markdown",
   "id": "c553cc77",
   "metadata": {
    "heading_collapsed": true
   },
   "source": [
    "## Task 2 :-\n",
    "\n",
    "**Implement composition concept using python with 2 Classes**"
   ]
  },
  {
   "cell_type": "code",
   "execution_count": 12,
   "id": "a14c240c",
   "metadata": {
    "ExecuteTime": {
     "end_time": "2022-05-30T18:13:53.046420Z",
     "start_time": "2022-05-30T18:13:53.034850Z"
    },
    "hidden": true
   },
   "outputs": [],
   "source": [
    "class Base :\n",
    "    \n",
    "    def __init__ (self) :\n",
    "        self.Attributes = {}\n",
    "        self.Methods = {}\n",
    "    \n",
    "    def AddAttribute (self , Name , Value ) :\n",
    "        self.Attributes [Name] = Value\n",
    "        \n",
    "    def GetAttribute (self , AttributeName) :\n",
    "        return self.Attributes [AttributeName]\n",
    "    \n",
    "    def SetAttribute (self , AttributeName):\n",
    "        self.Attributes[AttributeName] = input(f\"Please Enter The New value Of {AttributeName} : \")\n",
    "        \n",
    "    def AddMethod (self , Name , Function):\n",
    "        self.Methods[Name] = Function\n",
    "   \n",
    "    def CallMethod (self , MethodName):\n",
    "        self.Methods[MethodName] ()"
   ]
  },
  {
   "cell_type": "code",
   "execution_count": 13,
   "id": "146b2ca8",
   "metadata": {
    "ExecuteTime": {
     "end_time": "2022-05-30T18:13:53.796567Z",
     "start_time": "2022-05-30T18:13:53.781713Z"
    },
    "hidden": true
   },
   "outputs": [],
   "source": [
    "My = Base()"
   ]
  },
  {
   "cell_type": "code",
   "execution_count": 14,
   "id": "4db47268",
   "metadata": {
    "ExecuteTime": {
     "end_time": "2022-05-30T18:13:55.040968Z",
     "start_time": "2022-05-30T18:13:55.029998Z"
    },
    "hidden": true
   },
   "outputs": [],
   "source": [
    "My.AddAttribute ('Name','Maha')\n",
    "My.AddAttribute ('Age',27)"
   ]
  },
  {
   "cell_type": "code",
   "execution_count": 15,
   "id": "96c680c8",
   "metadata": {
    "ExecuteTime": {
     "end_time": "2022-05-30T18:13:55.584248Z",
     "start_time": "2022-05-30T18:13:55.571801Z"
    },
    "hidden": true
   },
   "outputs": [
    {
     "data": {
      "text/plain": [
       "'Maha'"
      ]
     },
     "execution_count": 15,
     "metadata": {},
     "output_type": "execute_result"
    }
   ],
   "source": [
    "My.GetAttribute ('Name')"
   ]
  },
  {
   "cell_type": "code",
   "execution_count": 16,
   "id": "f8bb38de",
   "metadata": {
    "ExecuteTime": {
     "end_time": "2022-05-30T18:13:56.418310Z",
     "start_time": "2022-05-30T18:13:56.406007Z"
    },
    "hidden": true
   },
   "outputs": [
    {
     "data": {
      "text/plain": [
       "27"
      ]
     },
     "execution_count": 16,
     "metadata": {},
     "output_type": "execute_result"
    }
   ],
   "source": [
    "My.GetAttribute ('Age')"
   ]
  },
  {
   "cell_type": "code",
   "execution_count": 17,
   "id": "3b07b7ee",
   "metadata": {
    "ExecuteTime": {
     "end_time": "2022-05-30T18:14:02.923092Z",
     "start_time": "2022-05-30T18:13:57.288163Z"
    },
    "hidden": true
   },
   "outputs": [
    {
     "name": "stdout",
     "output_type": "stream",
     "text": [
      "Please Enter The New value Of Name : Mahaaa\n"
     ]
    }
   ],
   "source": [
    "My.SetAttribute ('Name')"
   ]
  },
  {
   "cell_type": "code",
   "execution_count": 18,
   "id": "844102b1",
   "metadata": {
    "ExecuteTime": {
     "end_time": "2022-05-30T18:14:03.960712Z",
     "start_time": "2022-05-30T18:14:03.946384Z"
    },
    "hidden": true
   },
   "outputs": [
    {
     "data": {
      "text/plain": [
       "'Mahaaa'"
      ]
     },
     "execution_count": 18,
     "metadata": {},
     "output_type": "execute_result"
    }
   ],
   "source": [
    "My.GetAttribute ('Name')"
   ]
  },
  {
   "cell_type": "code",
   "execution_count": 19,
   "id": "1fe539b9",
   "metadata": {
    "ExecuteTime": {
     "end_time": "2022-05-30T18:14:09.912328Z",
     "start_time": "2022-05-30T18:14:05.501933Z"
    },
    "hidden": true
   },
   "outputs": [
    {
     "name": "stdout",
     "output_type": "stream",
     "text": [
      "Please Enter The New value Of Age : 28\n"
     ]
    }
   ],
   "source": [
    "My.SetAttribute ('Age')"
   ]
  },
  {
   "cell_type": "code",
   "execution_count": 20,
   "id": "67543575",
   "metadata": {
    "ExecuteTime": {
     "end_time": "2022-05-30T18:14:10.666744Z",
     "start_time": "2022-05-30T18:14:10.655783Z"
    },
    "hidden": true
   },
   "outputs": [
    {
     "data": {
      "text/plain": [
       "'28'"
      ]
     },
     "execution_count": 20,
     "metadata": {},
     "output_type": "execute_result"
    }
   ],
   "source": [
    "My.GetAttribute ('Age')"
   ]
  },
  {
   "cell_type": "code",
   "execution_count": 21,
   "id": "81a4a91e",
   "metadata": {
    "ExecuteTime": {
     "end_time": "2022-05-30T18:14:11.910551Z",
     "start_time": "2022-05-30T18:14:11.900491Z"
    },
    "hidden": true
   },
   "outputs": [],
   "source": [
    "def KnowEmail():\n",
    "    Email = input(\"Please Enter Your Email : \")\n",
    "    \n",
    "def KnowSalary ():\n",
    "    Salary = input(\"Please Enter Your Salary : \")"
   ]
  },
  {
   "cell_type": "code",
   "execution_count": 22,
   "id": "763213f5",
   "metadata": {
    "ExecuteTime": {
     "end_time": "2022-05-30T18:14:13.118465Z",
     "start_time": "2022-05-30T18:14:13.105530Z"
    },
    "hidden": true
   },
   "outputs": [],
   "source": [
    "My.AddMethod ('KnowEmail',KnowEmail)\n",
    "My.AddMethod ('KnowSalary',KnowSalary)"
   ]
  },
  {
   "cell_type": "code",
   "execution_count": 23,
   "id": "3f3d54e0",
   "metadata": {
    "ExecuteTime": {
     "end_time": "2022-05-30T18:14:17.342438Z",
     "start_time": "2022-05-30T18:14:13.920508Z"
    },
    "hidden": true
   },
   "outputs": [
    {
     "name": "stdout",
     "output_type": "stream",
     "text": [
      "Please Enter Your Email : Maha@gmail.com\n"
     ]
    }
   ],
   "source": [
    "My.CallMethod('KnowEmail')"
   ]
  },
  {
   "cell_type": "code",
   "execution_count": 24,
   "id": "f007e7e6",
   "metadata": {
    "ExecuteTime": {
     "end_time": "2022-05-30T18:14:20.761340Z",
     "start_time": "2022-05-30T18:14:18.531449Z"
    },
    "hidden": true
   },
   "outputs": [
    {
     "name": "stdout",
     "output_type": "stream",
     "text": [
      "Please Enter Your Salary : 4000\n"
     ]
    }
   ],
   "source": [
    "My.CallMethod('KnowSalary')"
   ]
  }
 ],
 "metadata": {
  "kernelspec": {
   "display_name": "Python 3 (ipykernel)",
   "language": "python",
   "name": "python3"
  },
  "language_info": {
   "codemirror_mode": {
    "name": "ipython",
    "version": 3
   },
   "file_extension": ".py",
   "mimetype": "text/x-python",
   "name": "python",
   "nbconvert_exporter": "python",
   "pygments_lexer": "ipython3",
   "version": "3.9.12"
  },
  "toc": {
   "base_numbering": 1,
   "nav_menu": {},
   "number_sections": true,
   "sideBar": true,
   "skip_h1_title": false,
   "title_cell": "Table of Contents",
   "title_sidebar": "Contents",
   "toc_cell": false,
   "toc_position": {},
   "toc_section_display": true,
   "toc_window_display": false
  },
  "varInspector": {
   "cols": {
    "lenName": 16,
    "lenType": 16,
    "lenVar": 40
   },
   "kernels_config": {
    "python": {
     "delete_cmd_postfix": "",
     "delete_cmd_prefix": "del ",
     "library": "var_list.py",
     "varRefreshCmd": "print(var_dic_list())"
    },
    "r": {
     "delete_cmd_postfix": ") ",
     "delete_cmd_prefix": "rm(",
     "library": "var_list.r",
     "varRefreshCmd": "cat(var_dic_list()) "
    }
   },
   "types_to_exclude": [
    "module",
    "function",
    "builtin_function_or_method",
    "instance",
    "_Feature"
   ],
   "window_display": false
  }
 },
 "nbformat": 4,
 "nbformat_minor": 5
}
