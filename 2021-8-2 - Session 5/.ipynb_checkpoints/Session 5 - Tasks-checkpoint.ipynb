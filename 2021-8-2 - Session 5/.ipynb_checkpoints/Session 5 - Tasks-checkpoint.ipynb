{
 "cells": [
  {
   "cell_type": "markdown",
   "id": "f8a181a2",
   "metadata": {
    "heading_collapsed": true
   },
   "source": [
    "## Task 1 :-    \n",
    "**Implement unordered set using list**"
   ]
  },
  {
   "cell_type": "code",
   "execution_count": 1,
   "id": "530baf11",
   "metadata": {
    "ExecuteTime": {
     "end_time": "2022-03-27T10:19:37.435619Z",
     "start_time": "2022-03-27T10:19:37.422630Z"
    },
    "hidden": true
   },
   "outputs": [
    {
     "data": {
      "text/plain": [
       "[1, 6, 8, 10, 7, 3]"
      ]
     },
     "execution_count": 1,
     "metadata": {},
     "output_type": "execute_result"
    }
   ],
   "source": [
    "Unordered_Set = [1,6,8,10,7,3]\n",
    "Unordered_Set"
   ]
  },
  {
   "cell_type": "code",
   "execution_count": 2,
   "id": "b5f981bd",
   "metadata": {
    "ExecuteTime": {
     "end_time": "2022-03-27T10:19:37.451554Z",
     "start_time": "2022-03-27T10:19:37.436593Z"
    },
    "hidden": true
   },
   "outputs": [],
   "source": [
    "def AddToUnorderedSet (element , setname) :\n",
    "    if element not in setname:\n",
    "        setname.append(element)\n",
    "    print(setname)"
   ]
  },
  {
   "cell_type": "code",
   "execution_count": 3,
   "id": "cb646865",
   "metadata": {
    "ExecuteTime": {
     "end_time": "2022-03-27T10:19:37.467552Z",
     "start_time": "2022-03-27T10:19:37.453564Z"
    },
    "hidden": true
   },
   "outputs": [
    {
     "name": "stdout",
     "output_type": "stream",
     "text": [
      "[1, 6, 8, 10, 7, 3]\n",
      "[1, 6, 8, 10, 7, 3, 9]\n",
      "[1, 6, 8, 10, 7, 3, 9]\n",
      "[1, 6, 8, 10, 7, 3, 9, 5]\n",
      "[1, 6, 8, 10, 7, 3, 9, 5]\n",
      "[1, 6, 8, 10, 7, 3, 9, 5, 0]\n",
      "[1, 6, 8, 10, 7, 3, 9, 5, 0]\n",
      "[1, 6, 8, 10, 7, 3, 9, 5, 0, 2]\n",
      "[1, 6, 8, 10, 7, 3, 9, 5, 0, 2]\n",
      "[1, 6, 8, 10, 7, 3, 9, 5, 0, 2, 4]\n"
     ]
    }
   ],
   "source": [
    "AddToUnorderedSet(8 , Unordered_Set)\n",
    "AddToUnorderedSet(9 , Unordered_Set)\n",
    "AddToUnorderedSet(6 , Unordered_Set)\n",
    "AddToUnorderedSet(5 , Unordered_Set)\n",
    "AddToUnorderedSet(1 , Unordered_Set)\n",
    "AddToUnorderedSet(0 , Unordered_Set)\n",
    "AddToUnorderedSet(10 , Unordered_Set)\n",
    "AddToUnorderedSet(2 , Unordered_Set)\n",
    "AddToUnorderedSet(7 , Unordered_Set)\n",
    "AddToUnorderedSet(4 , Unordered_Set)"
   ]
  },
  {
   "cell_type": "markdown",
   "id": "66af0320",
   "metadata": {
    "heading_collapsed": true
   },
   "source": [
    "## Task 2 :-\n",
    "**Implement binary search so that when searching return either the right index or not found**"
   ]
  },
  {
   "cell_type": "code",
   "execution_count": 4,
   "id": "fcbed3b1",
   "metadata": {
    "ExecuteTime": {
     "end_time": "2022-03-27T10:19:37.482516Z",
     "start_time": "2022-03-27T10:19:37.468507Z"
    },
    "hidden": true
   },
   "outputs": [],
   "source": [
    "from bisect import bisect_left\n",
    "from bisect import bisect_right"
   ]
  },
  {
   "cell_type": "code",
   "execution_count": 5,
   "id": "62e17126",
   "metadata": {
    "ExecuteTime": {
     "end_time": "2022-03-27T10:19:41.366619Z",
     "start_time": "2022-03-27T10:19:37.483315Z"
    },
    "hidden": true
   },
   "outputs": [
    {
     "name": "stdout",
     "output_type": "stream",
     "text": [
      "Please enter the number you want to search for :5\n",
      "Left = 2\n",
      "Right = 3\n"
     ]
    }
   ],
   "source": [
    "x = [1,3,5,7,9,10,15,15,17,20,23]\n",
    "y = int(input(\"Please enter the number you want to search for :\"))\n",
    "\n",
    "index = bisect_left(x,y)             # Upper Bound\n",
    "index_1 = bisect_right(x,y)          # Lower Bound\n",
    "\n",
    "if index > len(x)-1 or x[index] != y or x[index_1 - 1] != y :\n",
    "    print(\"Sorry, Number Not found\")\n",
    "elif x[index] == y or x[index_1 - 1] == y :\n",
    "    print(\"Left =\" , index)\n",
    "    print(\"Right =\" , index_1)"
   ]
  },
  {
   "cell_type": "code",
   "execution_count": 6,
   "id": "afc7246f",
   "metadata": {
    "ExecuteTime": {
     "end_time": "2022-03-27T10:19:48.286926Z",
     "start_time": "2022-03-27T10:19:41.367616Z"
    },
    "hidden": true
   },
   "outputs": [
    {
     "name": "stdout",
     "output_type": "stream",
     "text": [
      "Please enter the number you want to search for :15\n",
      "Left = 6\n",
      "Right = 8\n"
     ]
    }
   ],
   "source": [
    "x = [1,3,5,7,9,10,15,15,17,20,23]\n",
    "y = int(input(\"Please enter the number you want to search for :\"))\n",
    "\n",
    "index = bisect_left(x,y)             # Upper Bound\n",
    "index_1 = bisect_right(x,y)          # Lower Bound\n",
    "\n",
    "if index > len(x)-1 or x[index] != y or x[index_1 - 1] != y :\n",
    "    print(\"Sorry, Number Not found\")\n",
    "elif x[index] == y or x[index_1 - 1] == y :\n",
    "    print(\"Left =\" , index)\n",
    "    print(\"Right =\" , index_1)"
   ]
  },
  {
   "cell_type": "code",
   "execution_count": 7,
   "id": "16e2b344",
   "metadata": {
    "ExecuteTime": {
     "end_time": "2022-03-27T10:19:53.893656Z",
     "start_time": "2022-03-27T10:19:48.288918Z"
    },
    "hidden": true,
    "scrolled": true
   },
   "outputs": [
    {
     "name": "stdout",
     "output_type": "stream",
     "text": [
      "Please enter the number you want to search for :23\n",
      "Left = 10\n",
      "Right = 11\n"
     ]
    }
   ],
   "source": [
    "x = [1,3,5,7,9,10,15,15,17,20,23]\n",
    "y = int(input(\"Please enter the number you want to search for :\"))\n",
    "\n",
    "index = bisect_left(x,y)             # Upper Bound\n",
    "index_1 = bisect_right(x,y)          # Lower Bound\n",
    "\n",
    "if index > len(x)-1 or x[index] != y or x[index_1 - 1] != y :\n",
    "    print(\"Sorry, Number Not found\")\n",
    "elif x[index] == y or x[index_1 - 1] == y :\n",
    "    print(\"Left =\" , index)\n",
    "    print(\"Right =\" , index_1)"
   ]
  },
  {
   "cell_type": "code",
   "execution_count": 8,
   "id": "2ecd3898",
   "metadata": {
    "ExecuteTime": {
     "end_time": "2022-03-27T10:19:58.334361Z",
     "start_time": "2022-03-27T10:19:53.893656Z"
    },
    "hidden": true,
    "scrolled": true
   },
   "outputs": [
    {
     "name": "stdout",
     "output_type": "stream",
     "text": [
      "Please enter the number you want to search for :25\n",
      "Sorry, Number Not found\n"
     ]
    }
   ],
   "source": [
    "x = [1,3,5,7,9,10,15,15,17,20,23]\n",
    "y = int(input(\"Please enter the number you want to search for :\"))\n",
    "\n",
    "index = bisect_left(x,y)             # Upper Bound\n",
    "index_1 = bisect_right(x,y)          # Lower Bound\n",
    "\n",
    "if index > len(x)-1 or x[index] != y or x[index_1 - 1] != y :\n",
    "    print(\"Sorry, Number Not found\")\n",
    "elif x[index] == y or x[index_1 - 1] == y :\n",
    "    print(\"Left =\" , index)\n",
    "    print(\"Right =\" , index_1)"
   ]
  },
  {
   "cell_type": "markdown",
   "id": "9326ff0c",
   "metadata": {},
   "source": [
    "## Task 3 :-\n",
    "\n",
    "\n",
    "**Solid principles**  \n",
    "\n",
    "***\n",
    "\n",
    "*See \"Solid principles.pdf\"*"
   ]
  }
 ],
 "metadata": {
  "kernelspec": {
   "display_name": "Python 3 (ipykernel)",
   "language": "python",
   "name": "python3"
  },
  "language_info": {
   "codemirror_mode": {
    "name": "ipython",
    "version": 3
   },
   "file_extension": ".py",
   "mimetype": "text/x-python",
   "name": "python",
   "nbconvert_exporter": "python",
   "pygments_lexer": "ipython3",
   "version": "3.9.7"
  },
  "toc": {
   "base_numbering": 1,
   "nav_menu": {},
   "number_sections": true,
   "sideBar": true,
   "skip_h1_title": false,
   "title_cell": "Table of Contents",
   "title_sidebar": "Contents",
   "toc_cell": false,
   "toc_position": {},
   "toc_section_display": true,
   "toc_window_display": false
  },
  "varInspector": {
   "cols": {
    "lenName": 16,
    "lenType": 16,
    "lenVar": 40
   },
   "kernels_config": {
    "python": {
     "delete_cmd_postfix": "",
     "delete_cmd_prefix": "del ",
     "library": "var_list.py",
     "varRefreshCmd": "print(var_dic_list())"
    },
    "r": {
     "delete_cmd_postfix": ") ",
     "delete_cmd_prefix": "rm(",
     "library": "var_list.r",
     "varRefreshCmd": "cat(var_dic_list()) "
    }
   },
   "types_to_exclude": [
    "module",
    "function",
    "builtin_function_or_method",
    "instance",
    "_Feature"
   ],
   "window_display": false
  }
 },
 "nbformat": 4,
 "nbformat_minor": 5
}
