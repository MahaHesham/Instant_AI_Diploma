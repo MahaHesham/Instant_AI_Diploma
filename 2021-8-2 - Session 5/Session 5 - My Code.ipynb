{
 "cells": [
  {
   "cell_type": "markdown",
   "id": "9bc7b744",
   "metadata": {
    "heading_collapsed": true
   },
   "source": [
    "# Impelementation of Data Structure"
   ]
  },
  {
   "cell_type": "markdown",
   "id": "a1ae9cc1",
   "metadata": {
    "heading_collapsed": true,
    "hidden": true
   },
   "source": [
    "## Impelementation of Stack"
   ]
  },
  {
   "cell_type": "code",
   "execution_count": 1,
   "id": "406aa864",
   "metadata": {
    "ExecuteTime": {
     "end_time": "2022-04-03T19:18:35.763546Z",
     "start_time": "2022-04-03T19:18:35.755583Z"
    },
    "hidden": true
   },
   "outputs": [],
   "source": [
    "import queue"
   ]
  },
  {
   "cell_type": "code",
   "execution_count": 2,
   "id": "0a4d5d8b",
   "metadata": {
    "ExecuteTime": {
     "end_time": "2022-04-03T19:18:35.994548Z",
     "start_time": "2022-04-03T19:18:35.989568Z"
    },
    "hidden": true
   },
   "outputs": [],
   "source": [
    "def printqueue (q) :\n",
    "    while q.qsize() != 0 :\n",
    "        print(q.get())"
   ]
  },
  {
   "cell_type": "code",
   "execution_count": 3,
   "id": "a59d1205",
   "metadata": {
    "ExecuteTime": {
     "end_time": "2022-04-03T19:18:36.228148Z",
     "start_time": "2022-04-03T19:18:36.214152Z"
    },
    "hidden": true
   },
   "outputs": [],
   "source": [
    "stack = queue.LifoQueue()"
   ]
  },
  {
   "cell_type": "code",
   "execution_count": 4,
   "id": "b90d5d56",
   "metadata": {
    "ExecuteTime": {
     "end_time": "2022-04-03T19:18:36.445479Z",
     "start_time": "2022-04-03T19:18:36.433511Z"
    },
    "hidden": true
   },
   "outputs": [],
   "source": [
    "# To add element at the end of Stack\n",
    "stack.put(20)\n",
    "stack.put(17)\n",
    "stack.put(9)\n",
    "stack.put(19)\n",
    "stack.put(10)\n",
    "stack.put(7)"
   ]
  },
  {
   "cell_type": "code",
   "execution_count": 5,
   "id": "dc6e0cde",
   "metadata": {
    "ExecuteTime": {
     "end_time": "2022-04-03T19:18:36.786889Z",
     "start_time": "2022-04-03T19:18:36.626914Z"
    },
    "hidden": true,
    "scrolled": false
   },
   "outputs": [
    {
     "ename": "TypeError",
     "evalue": "'LifoQueue' object is not subscriptable",
     "output_type": "error",
     "traceback": [
      "\u001b[1;31m---------------------------------------------------------------------------\u001b[0m",
      "\u001b[1;31mTypeError\u001b[0m                                 Traceback (most recent call last)",
      "\u001b[1;32m~\\AppData\\Local\\Temp/ipykernel_7236/3557840347.py\u001b[0m in \u001b[0;36m<module>\u001b[1;34m\u001b[0m\n\u001b[1;32m----> 1\u001b[1;33m \u001b[0mstack\u001b[0m\u001b[1;33m[\u001b[0m\u001b[1;36m0\u001b[0m\u001b[1;33m]\u001b[0m\u001b[1;33m\u001b[0m\u001b[1;33m\u001b[0m\u001b[0m\n\u001b[0m",
      "\u001b[1;31mTypeError\u001b[0m: 'LifoQueue' object is not subscriptable"
     ]
    }
   ],
   "source": [
    "stack[0]"
   ]
  },
  {
   "cell_type": "code",
   "execution_count": 6,
   "id": "be48d5b7",
   "metadata": {
    "ExecuteTime": {
     "end_time": "2022-04-03T19:18:36.848497Z",
     "start_time": "2022-04-03T19:18:36.834532Z"
    },
    "hidden": true
   },
   "outputs": [
    {
     "ename": "TypeError",
     "evalue": "object of type 'LifoQueue' has no len()",
     "output_type": "error",
     "traceback": [
      "\u001b[1;31m---------------------------------------------------------------------------\u001b[0m",
      "\u001b[1;31mTypeError\u001b[0m                                 Traceback (most recent call last)",
      "\u001b[1;32m~\\AppData\\Local\\Temp/ipykernel_7236/3354989208.py\u001b[0m in \u001b[0;36m<module>\u001b[1;34m\u001b[0m\n\u001b[1;32m----> 1\u001b[1;33m \u001b[0mlen\u001b[0m\u001b[1;33m(\u001b[0m\u001b[0mstack\u001b[0m\u001b[1;33m)\u001b[0m\u001b[1;33m\u001b[0m\u001b[1;33m\u001b[0m\u001b[0m\n\u001b[0m",
      "\u001b[1;31mTypeError\u001b[0m: object of type 'LifoQueue' has no len()"
     ]
    }
   ],
   "source": [
    "len(stack)"
   ]
  },
  {
   "cell_type": "code",
   "execution_count": 7,
   "id": "917d3eba",
   "metadata": {
    "ExecuteTime": {
     "end_time": "2022-04-03T19:18:37.063803Z",
     "start_time": "2022-04-03T19:18:37.043856Z"
    },
    "hidden": true
   },
   "outputs": [
    {
     "data": {
      "text/plain": [
       "False"
      ]
     },
     "execution_count": 7,
     "metadata": {},
     "output_type": "execute_result"
    }
   ],
   "source": [
    "stack.empty()"
   ]
  },
  {
   "cell_type": "code",
   "execution_count": 8,
   "id": "b8142dee",
   "metadata": {
    "ExecuteTime": {
     "end_time": "2022-04-03T19:18:37.250221Z",
     "start_time": "2022-04-03T19:18:37.232238Z"
    },
    "hidden": true
   },
   "outputs": [
    {
     "data": {
      "text/plain": [
       "False"
      ]
     },
     "execution_count": 8,
     "metadata": {},
     "output_type": "execute_result"
    }
   ],
   "source": [
    "stack.full()"
   ]
  },
  {
   "cell_type": "code",
   "execution_count": 9,
   "id": "5e1d6e9b",
   "metadata": {
    "ExecuteTime": {
     "end_time": "2022-04-03T19:18:37.804770Z",
     "start_time": "2022-04-03T19:18:37.785821Z"
    },
    "hidden": true
   },
   "outputs": [
    {
     "data": {
      "text/plain": [
       "6"
      ]
     },
     "execution_count": 9,
     "metadata": {},
     "output_type": "execute_result"
    }
   ],
   "source": [
    "# Number of elements in Stack\n",
    "stack.qsize()"
   ]
  },
  {
   "cell_type": "code",
   "execution_count": 10,
   "id": "dabcfeb0",
   "metadata": {
    "ExecuteTime": {
     "end_time": "2022-04-03T19:18:38.147357Z",
     "start_time": "2022-04-03T19:18:38.137384Z"
    },
    "hidden": true
   },
   "outputs": [
    {
     "data": {
      "text/plain": [
       "7"
      ]
     },
     "execution_count": 10,
     "metadata": {},
     "output_type": "execute_result"
    }
   ],
   "source": [
    "# Print first element and remove it\n",
    "stack.get()"
   ]
  },
  {
   "cell_type": "code",
   "execution_count": 11,
   "id": "f3642da9",
   "metadata": {
    "ExecuteTime": {
     "end_time": "2022-04-03T19:18:38.460165Z",
     "start_time": "2022-04-03T19:18:38.453214Z"
    },
    "hidden": true
   },
   "outputs": [
    {
     "name": "stdout",
     "output_type": "stream",
     "text": [
      "10\n",
      "19\n",
      "9\n",
      "17\n",
      "20\n"
     ]
    }
   ],
   "source": [
    "# Print all elements in Queue and remove them\n",
    "printqueue(stack)"
   ]
  },
  {
   "cell_type": "markdown",
   "id": "4fcc0e9c",
   "metadata": {
    "heading_collapsed": true,
    "hidden": true
   },
   "source": [
    "## Impelementation of Queue"
   ]
  },
  {
   "cell_type": "code",
   "execution_count": 12,
   "id": "9d5b740d",
   "metadata": {
    "ExecuteTime": {
     "end_time": "2022-04-03T19:18:38.974193Z",
     "start_time": "2022-04-03T19:18:38.964219Z"
    },
    "hidden": true
   },
   "outputs": [],
   "source": [
    "import queue"
   ]
  },
  {
   "cell_type": "code",
   "execution_count": 13,
   "id": "cd6f0dc1",
   "metadata": {
    "ExecuteTime": {
     "end_time": "2022-04-03T19:18:39.207287Z",
     "start_time": "2022-04-03T19:18:39.197314Z"
    },
    "hidden": true
   },
   "outputs": [],
   "source": [
    "def printqueue (q) :\n",
    "    while q.qsize() != 0 :\n",
    "        print(q.get())"
   ]
  },
  {
   "cell_type": "code",
   "execution_count": 14,
   "id": "31b289c8",
   "metadata": {
    "ExecuteTime": {
     "end_time": "2022-04-03T19:18:39.535358Z",
     "start_time": "2022-04-03T19:18:39.518404Z"
    },
    "hidden": true
   },
   "outputs": [],
   "source": [
    "q = queue.Queue()"
   ]
  },
  {
   "cell_type": "code",
   "execution_count": 15,
   "id": "ef166a96",
   "metadata": {
    "ExecuteTime": {
     "end_time": "2022-04-03T19:18:39.830233Z",
     "start_time": "2022-04-03T19:18:39.824249Z"
    },
    "hidden": true
   },
   "outputs": [],
   "source": [
    "# To add element at the end of Queue\n",
    "q.put(20)\n",
    "q.put(17)\n",
    "q.put(9)\n",
    "q.put(19)\n",
    "q.put(10)\n",
    "q.put(7)"
   ]
  },
  {
   "cell_type": "code",
   "execution_count": 16,
   "id": "cfdf5fd8",
   "metadata": {
    "ExecuteTime": {
     "end_time": "2022-04-03T19:18:40.157932Z",
     "start_time": "2022-04-03T19:18:40.152945Z"
    },
    "hidden": true
   },
   "outputs": [
    {
     "data": {
      "text/plain": [
       "6"
      ]
     },
     "execution_count": 16,
     "metadata": {},
     "output_type": "execute_result"
    }
   ],
   "source": [
    "# Number of elements in Queue\n",
    "q.qsize()"
   ]
  },
  {
   "cell_type": "code",
   "execution_count": 17,
   "id": "b6a78459",
   "metadata": {
    "ExecuteTime": {
     "end_time": "2022-04-03T19:18:40.409089Z",
     "start_time": "2022-04-03T19:18:40.393133Z"
    },
    "hidden": true
   },
   "outputs": [
    {
     "data": {
      "text/plain": [
       "deque([20, 17, 9, 19, 10, 7])"
      ]
     },
     "execution_count": 17,
     "metadata": {},
     "output_type": "execute_result"
    }
   ],
   "source": [
    "# Represent Queue\n",
    "q.queue"
   ]
  },
  {
   "cell_type": "code",
   "execution_count": 18,
   "id": "fc1d6346",
   "metadata": {
    "ExecuteTime": {
     "end_time": "2022-04-03T19:18:40.613315Z",
     "start_time": "2022-04-03T19:18:40.597324Z"
    },
    "hidden": true
   },
   "outputs": [
    {
     "data": {
      "text/plain": [
       "20"
      ]
     },
     "execution_count": 18,
     "metadata": {},
     "output_type": "execute_result"
    }
   ],
   "source": [
    "# Print first element and remove it\n",
    "q.get()"
   ]
  },
  {
   "cell_type": "code",
   "execution_count": 19,
   "id": "aab20435",
   "metadata": {
    "ExecuteTime": {
     "end_time": "2022-04-03T19:18:40.846936Z",
     "start_time": "2022-04-03T19:18:40.829982Z"
    },
    "hidden": true
   },
   "outputs": [
    {
     "name": "stdout",
     "output_type": "stream",
     "text": [
      "17\n",
      "9\n",
      "19\n",
      "10\n",
      "7\n"
     ]
    }
   ],
   "source": [
    "# Print all elements in Queue and remove them\n",
    "printqueue(q)"
   ]
  },
  {
   "cell_type": "markdown",
   "id": "064c3bb6",
   "metadata": {
    "heading_collapsed": true,
    "hidden": true
   },
   "source": [
    "## Impelementation of Priority Queue"
   ]
  },
  {
   "cell_type": "code",
   "execution_count": 20,
   "id": "9ff1a037",
   "metadata": {
    "ExecuteTime": {
     "end_time": "2022-04-03T19:18:41.296736Z",
     "start_time": "2022-04-03T19:18:41.290751Z"
    },
    "hidden": true
   },
   "outputs": [],
   "source": [
    "import queue"
   ]
  },
  {
   "cell_type": "code",
   "execution_count": 21,
   "id": "80817a4e",
   "metadata": {
    "ExecuteTime": {
     "end_time": "2022-04-03T19:18:41.528147Z",
     "start_time": "2022-04-03T19:18:41.521134Z"
    },
    "hidden": true
   },
   "outputs": [],
   "source": [
    "def printqueue (q) :\n",
    "    while q.qsize() != 0 :\n",
    "        print(q.get())"
   ]
  },
  {
   "cell_type": "code",
   "execution_count": 22,
   "id": "1d40942d",
   "metadata": {
    "ExecuteTime": {
     "end_time": "2022-04-03T19:18:42.109035Z",
     "start_time": "2022-04-03T19:18:42.097067Z"
    },
    "hidden": true
   },
   "outputs": [],
   "source": [
    "pq = queue.PriorityQueue()"
   ]
  },
  {
   "cell_type": "code",
   "execution_count": 23,
   "id": "388a0272",
   "metadata": {
    "ExecuteTime": {
     "end_time": "2022-04-03T19:18:42.482662Z",
     "start_time": "2022-04-03T19:18:42.476678Z"
    },
    "hidden": true
   },
   "outputs": [],
   "source": [
    "# To add element at the end of Priority Queue\n",
    "pq.put(20)\n",
    "pq.put(17)\n",
    "pq.put(9)\n",
    "pq.put(19)\n",
    "pq.put(10)\n",
    "pq.put(7)"
   ]
  },
  {
   "cell_type": "code",
   "execution_count": 24,
   "id": "b4adb3d8",
   "metadata": {
    "ExecuteTime": {
     "end_time": "2022-04-03T19:18:42.933440Z",
     "start_time": "2022-04-03T19:18:42.918481Z"
    },
    "hidden": true
   },
   "outputs": [
    {
     "data": {
      "text/plain": [
       "6"
      ]
     },
     "execution_count": 24,
     "metadata": {},
     "output_type": "execute_result"
    }
   ],
   "source": [
    "# Number of elements in Priority Queue\n",
    "pq.qsize()"
   ]
  },
  {
   "cell_type": "code",
   "execution_count": 25,
   "id": "4081a495",
   "metadata": {
    "ExecuteTime": {
     "end_time": "2022-04-03T19:18:43.182623Z",
     "start_time": "2022-04-03T19:18:43.176675Z"
    },
    "hidden": true
   },
   "outputs": [
    {
     "data": {
      "text/plain": [
       "7"
      ]
     },
     "execution_count": 25,
     "metadata": {},
     "output_type": "execute_result"
    }
   ],
   "source": [
    "# Print first element and remove it\n",
    "pq.get()"
   ]
  },
  {
   "cell_type": "code",
   "execution_count": 26,
   "id": "d0555aaf",
   "metadata": {
    "ExecuteTime": {
     "end_time": "2022-04-03T19:18:43.448581Z",
     "start_time": "2022-04-03T19:18:43.436581Z"
    },
    "hidden": true
   },
   "outputs": [
    {
     "name": "stdout",
     "output_type": "stream",
     "text": [
      "9\n",
      "10\n",
      "17\n",
      "19\n",
      "20\n"
     ]
    }
   ],
   "source": [
    "# Print all elements ascending in Priority Queue and remove them\n",
    "printqueue(pq)"
   ]
  },
  {
   "cell_type": "code",
   "execution_count": 27,
   "id": "40535b61",
   "metadata": {
    "ExecuteTime": {
     "end_time": "2022-04-03T19:18:43.697871Z",
     "start_time": "2022-04-03T19:18:43.677890Z"
    },
    "hidden": true
   },
   "outputs": [
    {
     "name": "stdout",
     "output_type": "stream",
     "text": [
      "60\n",
      "40\n",
      "40\n",
      "30\n",
      "20\n",
      "10\n"
     ]
    }
   ],
   "source": [
    "# To reverse Priority Queue\n",
    "\n",
    "newpq = queue.PriorityQueue()\n",
    "\n",
    "newpq.put(-10)\n",
    "newpq.put(-40)\n",
    "newpq.put(-60)\n",
    "newpq.put(-20)\n",
    "newpq.put(-30)\n",
    "newpq.put(-40)\n",
    "\n",
    "while newpq.qsize() != 0 :\n",
    "    print(-newpq.get())"
   ]
  },
  {
   "cell_type": "markdown",
   "id": "06b00621",
   "metadata": {
    "heading_collapsed": true,
    "hidden": true
   },
   "source": [
    "## Impelementation of Dequeue"
   ]
  },
  {
   "cell_type": "code",
   "execution_count": 28,
   "id": "31672ed2",
   "metadata": {
    "ExecuteTime": {
     "end_time": "2022-04-03T19:18:44.499062Z",
     "start_time": "2022-04-03T19:18:44.482089Z"
    },
    "hidden": true
   },
   "outputs": [],
   "source": [
    "import queue"
   ]
  },
  {
   "cell_type": "code",
   "execution_count": 29,
   "id": "ee3dfcdb",
   "metadata": {
    "ExecuteTime": {
     "end_time": "2022-04-03T19:18:44.763485Z",
     "start_time": "2022-04-03T19:18:44.758499Z"
    },
    "hidden": true
   },
   "outputs": [],
   "source": [
    "dequeue = queue.deque()"
   ]
  },
  {
   "cell_type": "code",
   "execution_count": 30,
   "id": "a101b4fa",
   "metadata": {
    "ExecuteTime": {
     "end_time": "2022-04-03T19:18:45.088190Z",
     "start_time": "2022-04-03T19:18:45.072233Z"
    },
    "hidden": true
   },
   "outputs": [],
   "source": [
    "# To add element at the end of Dequeue\n",
    "dequeue.append(20)\n",
    "dequeue.append(17)\n",
    "dequeue.append(9)\n",
    "dequeue.append(19)\n",
    "dequeue.append(10)\n",
    "dequeue.append(7)"
   ]
  },
  {
   "cell_type": "code",
   "execution_count": 31,
   "id": "89185355",
   "metadata": {
    "ExecuteTime": {
     "end_time": "2022-04-03T19:18:45.367926Z",
     "start_time": "2022-04-03T19:18:45.361940Z"
    },
    "hidden": true,
    "scrolled": false
   },
   "outputs": [
    {
     "data": {
      "text/plain": [
       "20"
      ]
     },
     "execution_count": 31,
     "metadata": {},
     "output_type": "execute_result"
    }
   ],
   "source": [
    "# Access first element (As in List)\n",
    "dequeue[0]"
   ]
  },
  {
   "cell_type": "code",
   "execution_count": 32,
   "id": "4c11013b",
   "metadata": {
    "ExecuteTime": {
     "end_time": "2022-04-03T19:18:45.897389Z",
     "start_time": "2022-04-03T19:18:45.882400Z"
    },
    "hidden": true,
    "scrolled": true
   },
   "outputs": [
    {
     "data": {
      "text/plain": [
       "6"
      ]
     },
     "execution_count": 32,
     "metadata": {},
     "output_type": "execute_result"
    }
   ],
   "source": [
    "len(dequeue)"
   ]
  },
  {
   "cell_type": "code",
   "execution_count": 33,
   "id": "0ded54af",
   "metadata": {
    "ExecuteTime": {
     "end_time": "2022-04-03T19:18:46.147329Z",
     "start_time": "2022-04-03T19:18:46.138354Z"
    },
    "hidden": true
   },
   "outputs": [],
   "source": [
    "# To add element at specific position of Dequeue\n",
    "dequeue.insert(3,11)"
   ]
  },
  {
   "cell_type": "code",
   "execution_count": 34,
   "id": "df0fcce4",
   "metadata": {
    "ExecuteTime": {
     "end_time": "2022-04-03T19:18:46.413386Z",
     "start_time": "2022-04-03T19:18:46.397429Z"
    },
    "hidden": true
   },
   "outputs": [
    {
     "data": {
      "text/plain": [
       "deque([20, 17, 9, 11, 19, 10, 7])"
      ]
     },
     "execution_count": 34,
     "metadata": {},
     "output_type": "execute_result"
    }
   ],
   "source": [
    "# Print all elements in Dequeue (Not remove them)\n",
    "dequeue"
   ]
  },
  {
   "cell_type": "code",
   "execution_count": 35,
   "id": "607558d9",
   "metadata": {
    "ExecuteTime": {
     "end_time": "2022-04-03T19:18:46.676968Z",
     "start_time": "2022-04-03T19:18:46.659019Z"
    },
    "hidden": true
   },
   "outputs": [
    {
     "data": {
      "text/plain": [
       "7"
      ]
     },
     "execution_count": 35,
     "metadata": {},
     "output_type": "execute_result"
    }
   ],
   "source": [
    "# Print last element and remove it\n",
    "dequeue.pop()"
   ]
  },
  {
   "cell_type": "code",
   "execution_count": 36,
   "id": "66af7984",
   "metadata": {
    "ExecuteTime": {
     "end_time": "2022-04-03T19:18:46.957628Z",
     "start_time": "2022-04-03T19:18:46.942675Z"
    },
    "hidden": true
   },
   "outputs": [],
   "source": [
    "# To remove specific element (if element in Dequeue)\n",
    "dequeue.remove(9)"
   ]
  },
  {
   "cell_type": "code",
   "execution_count": 37,
   "id": "7b0f7d80",
   "metadata": {
    "ExecuteTime": {
     "end_time": "2022-04-03T19:18:47.205406Z",
     "start_time": "2022-04-03T19:18:47.188452Z"
    },
    "hidden": true
   },
   "outputs": [
    {
     "data": {
      "text/plain": [
       "deque([20, 17, 11, 19, 10])"
      ]
     },
     "execution_count": 37,
     "metadata": {},
     "output_type": "execute_result"
    }
   ],
   "source": [
    "dequeue"
   ]
  },
  {
   "cell_type": "code",
   "execution_count": 38,
   "id": "bcf04c08",
   "metadata": {
    "ExecuteTime": {
     "end_time": "2022-04-03T19:18:47.452318Z",
     "start_time": "2022-04-03T19:18:47.432371Z"
    },
    "hidden": true
   },
   "outputs": [
    {
     "ename": "ValueError",
     "evalue": "deque.remove(x): x not in deque",
     "output_type": "error",
     "traceback": [
      "\u001b[1;31m---------------------------------------------------------------------------\u001b[0m",
      "\u001b[1;31mValueError\u001b[0m                                Traceback (most recent call last)",
      "\u001b[1;32m~\\AppData\\Local\\Temp/ipykernel_7236/160762646.py\u001b[0m in \u001b[0;36m<module>\u001b[1;34m\u001b[0m\n\u001b[0;32m      1\u001b[0m \u001b[1;31m# To remove specific element (if element not in Dequeue)\u001b[0m\u001b[1;33m\u001b[0m\u001b[1;33m\u001b[0m\u001b[0m\n\u001b[1;32m----> 2\u001b[1;33m \u001b[0mdequeue\u001b[0m\u001b[1;33m.\u001b[0m\u001b[0mremove\u001b[0m\u001b[1;33m(\u001b[0m\u001b[1;36m9\u001b[0m\u001b[1;33m)\u001b[0m\u001b[1;33m\u001b[0m\u001b[1;33m\u001b[0m\u001b[0m\n\u001b[0m",
      "\u001b[1;31mValueError\u001b[0m: deque.remove(x): x not in deque"
     ]
    }
   ],
   "source": [
    "# To remove specific element (if element not in Dequeue)\n",
    "dequeue.remove(9)"
   ]
  },
  {
   "cell_type": "code",
   "execution_count": 39,
   "id": "7517ad07",
   "metadata": {
    "ExecuteTime": {
     "end_time": "2022-04-03T19:18:47.731165Z",
     "start_time": "2022-04-03T19:18:47.714182Z"
    },
    "hidden": true
   },
   "outputs": [],
   "source": [
    "# Reverse Dequeue\n",
    "dequeue.reverse()"
   ]
  },
  {
   "cell_type": "code",
   "execution_count": 40,
   "id": "b7569278",
   "metadata": {
    "ExecuteTime": {
     "end_time": "2022-04-03T19:18:48.409081Z",
     "start_time": "2022-04-03T19:18:48.403063Z"
    },
    "hidden": true
   },
   "outputs": [
    {
     "data": {
      "text/plain": [
       "deque([10, 19, 11, 17, 20])"
      ]
     },
     "execution_count": 40,
     "metadata": {},
     "output_type": "execute_result"
    }
   ],
   "source": [
    "dequeue"
   ]
  },
  {
   "cell_type": "code",
   "execution_count": 41,
   "id": "33a00c99",
   "metadata": {
    "ExecuteTime": {
     "end_time": "2022-04-03T19:18:48.719310Z",
     "start_time": "2022-04-03T19:18:48.707342Z"
    },
    "hidden": true
   },
   "outputs": [],
   "source": [
    "# Every run make the last element to be the first element in Dequeue\n",
    "dequeue.rotate()"
   ]
  },
  {
   "cell_type": "code",
   "execution_count": 42,
   "id": "3d1ebfc2",
   "metadata": {
    "ExecuteTime": {
     "end_time": "2022-04-03T19:18:49.253410Z",
     "start_time": "2022-04-03T19:18:49.240446Z"
    },
    "hidden": true
   },
   "outputs": [
    {
     "data": {
      "text/plain": [
       "deque([20, 10, 19, 11, 17])"
      ]
     },
     "execution_count": 42,
     "metadata": {},
     "output_type": "execute_result"
    }
   ],
   "source": [
    "dequeue"
   ]
  },
  {
   "cell_type": "markdown",
   "id": "9370e231",
   "metadata": {
    "hidden": true
   },
   "source": [
    "***Example of using fixed functions***"
   ]
  },
  {
   "cell_type": "code",
   "execution_count": 43,
   "id": "04754a41",
   "metadata": {
    "ExecuteTime": {
     "end_time": "2022-04-03T19:18:49.897242Z",
     "start_time": "2022-04-03T19:18:49.893221Z"
    },
    "hidden": true
   },
   "outputs": [],
   "source": [
    "def AddToQueue (Q , element) :\n",
    "    Q.append(element)\n",
    "    \n",
    "def AccessElements (Q , N) :\n",
    "    if N >= len(Q) :\n",
    "        print (\"Out Of Index\")\n",
    "        return None\n",
    "    elif N < len(Q) :\n",
    "        print(Q[N])\n",
    "    \n",
    "def PrintQueue (Q) :\n",
    "    while ( len(Q) != 0 ) :\n",
    "        print(Q[0])\n",
    "        del Q[0]"
   ]
  },
  {
   "cell_type": "code",
   "execution_count": 44,
   "id": "b0cfbde4",
   "metadata": {
    "ExecuteTime": {
     "end_time": "2022-04-03T19:18:50.193170Z",
     "start_time": "2022-04-03T19:18:50.187186Z"
    },
    "hidden": true
   },
   "outputs": [],
   "source": [
    "deQueue = []"
   ]
  },
  {
   "cell_type": "code",
   "execution_count": 45,
   "id": "182a900c",
   "metadata": {
    "ExecuteTime": {
     "end_time": "2022-04-03T19:18:50.579987Z",
     "start_time": "2022-04-03T19:18:50.568052Z"
    },
    "hidden": true
   },
   "outputs": [],
   "source": [
    "AddToQueue(deQueue , 50)\n",
    "AddToQueue(deQueue , 70)\n",
    "AddToQueue(deQueue , 40)\n",
    "AddToQueue(deQueue , 60)"
   ]
  },
  {
   "cell_type": "code",
   "execution_count": 46,
   "id": "b43b657b",
   "metadata": {
    "ExecuteTime": {
     "end_time": "2022-04-03T19:18:50.965531Z",
     "start_time": "2022-04-03T19:18:50.955558Z"
    },
    "hidden": true
   },
   "outputs": [
    {
     "name": "stdout",
     "output_type": "stream",
     "text": [
      "40\n"
     ]
    }
   ],
   "source": [
    "AccessElements(deQueue , 2)"
   ]
  },
  {
   "cell_type": "code",
   "execution_count": 47,
   "id": "71449acf",
   "metadata": {
    "ExecuteTime": {
     "end_time": "2022-04-03T19:18:51.323131Z",
     "start_time": "2022-04-03T19:18:51.311163Z"
    },
    "hidden": true
   },
   "outputs": [
    {
     "name": "stdout",
     "output_type": "stream",
     "text": [
      "Out Of Index\n"
     ]
    }
   ],
   "source": [
    "AccessElements(deQueue , 4)"
   ]
  },
  {
   "cell_type": "code",
   "execution_count": 48,
   "id": "903d7721",
   "metadata": {
    "ExecuteTime": {
     "end_time": "2022-04-03T19:18:51.618336Z",
     "start_time": "2022-04-03T19:18:51.604374Z"
    },
    "hidden": true
   },
   "outputs": [
    {
     "name": "stdout",
     "output_type": "stream",
     "text": [
      "50\n",
      "70\n",
      "40\n",
      "60\n"
     ]
    }
   ],
   "source": [
    "PrintQueue (deQueue)"
   ]
  },
  {
   "cell_type": "code",
   "execution_count": 49,
   "id": "3f3f66e8",
   "metadata": {
    "ExecuteTime": {
     "end_time": "2022-04-03T19:18:52.148236Z",
     "start_time": "2022-04-03T19:18:52.129254Z"
    },
    "hidden": true
   },
   "outputs": [
    {
     "data": {
      "text/plain": [
       "[]"
      ]
     },
     "execution_count": 49,
     "metadata": {},
     "output_type": "execute_result"
    }
   ],
   "source": [
    "deQueue"
   ]
  },
  {
   "cell_type": "markdown",
   "id": "72d80d73",
   "metadata": {
    "heading_collapsed": true,
    "hidden": true
   },
   "source": [
    "## Impelementation of Map\n",
    "***Map , Unordered Map , Multimap***"
   ]
  },
  {
   "cell_type": "markdown",
   "id": "0d1f7220",
   "metadata": {
    "hidden": true
   },
   "source": [
    "***1. Map --> Remove duplicates , Take the last value , Sort***"
   ]
  },
  {
   "cell_type": "code",
   "execution_count": 50,
   "id": "28ca0998",
   "metadata": {
    "ExecuteTime": {
     "end_time": "2022-04-03T19:18:53.660310Z",
     "start_time": "2022-04-03T19:18:53.643597Z"
    },
    "hidden": true
   },
   "outputs": [
    {
     "data": {
      "text/plain": [
       "{'M': 40, 'H': 60, 'A': 10}"
      ]
     },
     "execution_count": 50,
     "metadata": {},
     "output_type": "execute_result"
    }
   ],
   "source": [
    "mymap = {\"M\":40 , \"H\":60 , \"A\":10}\n",
    "mymap"
   ]
  },
  {
   "cell_type": "code",
   "execution_count": 51,
   "id": "32cf3cd1",
   "metadata": {
    "ExecuteTime": {
     "end_time": "2022-04-03T19:18:54.127639Z",
     "start_time": "2022-04-03T19:18:54.118663Z"
    },
    "hidden": true
   },
   "outputs": [],
   "source": [
    "def AddToMap ( key , value , mapname ) :\n",
    "    mapname[key] = value\n",
    "    mapname = dict(sorted(mapname.items()))\n",
    "    return mapname"
   ]
  },
  {
   "cell_type": "code",
   "execution_count": 52,
   "id": "e73bee1b",
   "metadata": {
    "ExecuteTime": {
     "end_time": "2022-04-03T19:18:55.126451Z",
     "start_time": "2022-04-03T19:18:55.120436Z"
    },
    "hidden": true
   },
   "outputs": [
    {
     "data": {
      "text/plain": [
       "{'A': 10, 'B': 30, 'H': 60, 'M': 40}"
      ]
     },
     "execution_count": 52,
     "metadata": {},
     "output_type": "execute_result"
    }
   ],
   "source": [
    "mymap = AddToMap(\"B\",30,mymap)\n",
    "mymap"
   ]
  },
  {
   "cell_type": "code",
   "execution_count": 53,
   "id": "c760852a",
   "metadata": {
    "ExecuteTime": {
     "end_time": "2022-04-03T19:18:55.393061Z",
     "start_time": "2022-04-03T19:18:55.379099Z"
    },
    "hidden": true
   },
   "outputs": [
    {
     "data": {
      "text/plain": [
       "{'A': 10, 'B': 70, 'H': 60, 'M': 40}"
      ]
     },
     "execution_count": 53,
     "metadata": {},
     "output_type": "execute_result"
    }
   ],
   "source": [
    "mymap = AddToMap(\"B\",70,mymap)\n",
    "mymap"
   ]
  },
  {
   "cell_type": "code",
   "execution_count": 54,
   "id": "24d497e2",
   "metadata": {
    "ExecuteTime": {
     "end_time": "2022-04-03T19:18:55.595589Z",
     "start_time": "2022-04-03T19:18:55.576640Z"
    },
    "hidden": true
   },
   "outputs": [
    {
     "data": {
      "text/plain": [
       "{'A': 10, 'B': 70, 'H': 60, 'M': 50}"
      ]
     },
     "execution_count": 54,
     "metadata": {},
     "output_type": "execute_result"
    }
   ],
   "source": [
    "mymap = AddToMap(\"M\",50,mymap)\n",
    "mymap"
   ]
  },
  {
   "cell_type": "code",
   "execution_count": 55,
   "id": "b9d7e035",
   "metadata": {
    "ExecuteTime": {
     "end_time": "2022-04-03T19:18:55.858896Z",
     "start_time": "2022-04-03T19:18:55.852913Z"
    },
    "hidden": true
   },
   "outputs": [
    {
     "data": {
      "text/plain": [
       "{'A': 10, 'B': 70, 'H': 60, 'M': 50}"
      ]
     },
     "execution_count": 55,
     "metadata": {},
     "output_type": "execute_result"
    }
   ],
   "source": [
    "mymap"
   ]
  },
  {
   "cell_type": "markdown",
   "id": "77a538cb",
   "metadata": {
    "hidden": true
   },
   "source": [
    "***2. Unordered Map --> Remove dublicates , Take the last value***"
   ]
  },
  {
   "cell_type": "code",
   "execution_count": 56,
   "id": "ea3c84c0",
   "metadata": {
    "ExecuteTime": {
     "end_time": "2022-04-03T19:18:56.395251Z",
     "start_time": "2022-04-03T19:18:56.381253Z"
    },
    "hidden": true
   },
   "outputs": [
    {
     "data": {
      "text/plain": [
       "{'M': 40, 'H': 60, 'A': 10}"
      ]
     },
     "execution_count": 56,
     "metadata": {},
     "output_type": "execute_result"
    }
   ],
   "source": [
    "Unordered_Map = {\"M\":40 , \"H\":60 , \"A\":10}\n",
    "Unordered_Map"
   ]
  },
  {
   "cell_type": "code",
   "execution_count": 57,
   "id": "1262effe",
   "metadata": {
    "ExecuteTime": {
     "end_time": "2022-04-03T19:18:56.800555Z",
     "start_time": "2022-04-03T19:18:56.795568Z"
    },
    "hidden": true
   },
   "outputs": [
    {
     "data": {
      "text/plain": [
       "{'M': 40, 'H': 60, 'A': 20}"
      ]
     },
     "execution_count": 57,
     "metadata": {},
     "output_type": "execute_result"
    }
   ],
   "source": [
    "Unordered_Map[\"A\"] = 20\n",
    "Unordered_Map"
   ]
  },
  {
   "cell_type": "code",
   "execution_count": 58,
   "id": "9659abea",
   "metadata": {
    "ExecuteTime": {
     "end_time": "2022-04-03T19:18:57.097438Z",
     "start_time": "2022-04-03T19:18:57.083476Z"
    },
    "hidden": true
   },
   "outputs": [
    {
     "data": {
      "text/plain": [
       "{'M': 40, 'H': 60, 'A': 20, 'B': 30}"
      ]
     },
     "execution_count": 58,
     "metadata": {},
     "output_type": "execute_result"
    }
   ],
   "source": [
    "Unordered_Map[\"B\"] = 30\n",
    "Unordered_Map"
   ]
  },
  {
   "cell_type": "markdown",
   "id": "53c33610",
   "metadata": {
    "hidden": true
   },
   "source": [
    "***3. Multimap --> Sort only , Remain dublicates***"
   ]
  },
  {
   "cell_type": "code",
   "execution_count": 59,
   "id": "0455f6bd",
   "metadata": {
    "ExecuteTime": {
     "end_time": "2022-04-03T19:18:57.629119Z",
     "start_time": "2022-04-03T19:18:57.614160Z"
    },
    "hidden": true
   },
   "outputs": [
    {
     "data": {
      "text/plain": [
       "{'M': 40, 'H': 60, 'A': 10}"
      ]
     },
     "execution_count": 59,
     "metadata": {},
     "output_type": "execute_result"
    }
   ],
   "source": [
    "Multimap = {\"M\":40 , \"H\":60 , \"A\":10}\n",
    "Multimap"
   ]
  },
  {
   "cell_type": "code",
   "execution_count": 60,
   "id": "d03f5a38",
   "metadata": {
    "ExecuteTime": {
     "end_time": "2022-04-03T19:18:57.923493Z",
     "start_time": "2022-04-03T19:18:57.906536Z"
    },
    "hidden": true
   },
   "outputs": [],
   "source": [
    "def AddToMultimap ( key , value , mapname ) :\n",
    "    counter = 0\n",
    "    for i in mapname : \n",
    "        if key in i :\n",
    "            counter+=1\n",
    "            \n",
    "    if counter != 0 :\n",
    "        key = key + str(counter)\n",
    "    \n",
    "    mapname[key] = value\n",
    "    \n",
    "    mapname = dict(sorted(mapname.items()))\n",
    "    return mapname"
   ]
  },
  {
   "cell_type": "code",
   "execution_count": 61,
   "id": "21cf56ea",
   "metadata": {
    "ExecuteTime": {
     "end_time": "2022-04-03T19:18:58.327345Z",
     "start_time": "2022-04-03T19:18:58.322316Z"
    },
    "hidden": true,
    "scrolled": true
   },
   "outputs": [
    {
     "data": {
      "text/plain": [
       "{'A': 10, 'B': 30, 'H': 60, 'M': 40}"
      ]
     },
     "execution_count": 61,
     "metadata": {},
     "output_type": "execute_result"
    }
   ],
   "source": [
    "Multimap = AddToMultimap(\"B\",30,Multimap)\n",
    "Multimap"
   ]
  },
  {
   "cell_type": "code",
   "execution_count": 62,
   "id": "a2710868",
   "metadata": {
    "ExecuteTime": {
     "end_time": "2022-04-03T19:18:58.732396Z",
     "start_time": "2022-04-03T19:18:58.722458Z"
    },
    "hidden": true
   },
   "outputs": [
    {
     "data": {
      "text/plain": [
       "{'A': 10, 'B': 30, 'B1': 70, 'H': 60, 'M': 40}"
      ]
     },
     "execution_count": 62,
     "metadata": {},
     "output_type": "execute_result"
    }
   ],
   "source": [
    "Multimap = AddToMultimap(\"B\",70,Multimap)\n",
    "Multimap"
   ]
  },
  {
   "cell_type": "code",
   "execution_count": 63,
   "id": "94eafec9",
   "metadata": {
    "ExecuteTime": {
     "end_time": "2022-04-03T19:18:59.028301Z",
     "start_time": "2022-04-03T19:18:59.015336Z"
    },
    "hidden": true
   },
   "outputs": [
    {
     "data": {
      "text/plain": [
       "{'A': 10, 'B': 30, 'B1': 70, 'H': 60, 'M': 40, 'M1': 50}"
      ]
     },
     "execution_count": 63,
     "metadata": {},
     "output_type": "execute_result"
    }
   ],
   "source": [
    "Multimap = AddToMultimap(\"M\",50,Multimap)\n",
    "Multimap"
   ]
  },
  {
   "cell_type": "code",
   "execution_count": 64,
   "id": "508c2109",
   "metadata": {
    "ExecuteTime": {
     "end_time": "2022-04-03T19:18:59.403819Z",
     "start_time": "2022-04-03T19:18:59.395841Z"
    },
    "hidden": true
   },
   "outputs": [
    {
     "data": {
      "text/plain": [
       "{'A': 10, 'B': 30, 'B1': 70, 'H': 60, 'M': 40, 'M1': 50}"
      ]
     },
     "execution_count": 64,
     "metadata": {},
     "output_type": "execute_result"
    }
   ],
   "source": [
    "Multimap"
   ]
  },
  {
   "cell_type": "code",
   "execution_count": 65,
   "id": "d300e740",
   "metadata": {
    "ExecuteTime": {
     "end_time": "2022-04-03T19:18:59.839082Z",
     "start_time": "2022-04-03T19:18:59.835093Z"
    },
    "hidden": true
   },
   "outputs": [],
   "source": [
    "# Another Method\n",
    "\n",
    "# def Add ( key , value ) :\n",
    "#     counter = sum(key in s for s in Multimap)\n",
    "#     if counter != 0 :\n",
    "#         key = key + str(counter)\n",
    "#     Multimap[key]=value\n",
    "#     Multimap = dict(sorted(Multimap.items()))"
   ]
  },
  {
   "cell_type": "markdown",
   "id": "13425d93",
   "metadata": {
    "heading_collapsed": true,
    "hidden": true
   },
   "source": [
    "## Impelementation of Set\n",
    "***Set , Unordered Set , Multiset***"
   ]
  },
  {
   "cell_type": "markdown",
   "id": "d34fc479",
   "metadata": {
    "hidden": true
   },
   "source": [
    "***1. Set --> Remove dublicates , Arrange ascending***          \n",
    "\n",
    "***Taken before in Session 2***"
   ]
  },
  {
   "cell_type": "code",
   "execution_count": 66,
   "id": "8f67975a",
   "metadata": {
    "ExecuteTime": {
     "end_time": "2022-04-03T19:19:00.670679Z",
     "start_time": "2022-04-03T19:19:00.663678Z"
    },
    "hidden": true
   },
   "outputs": [
    {
     "data": {
      "text/plain": [
       "{0, 1, 3, 5, 6, 7, 8, 10}"
      ]
     },
     "execution_count": 66,
     "metadata": {},
     "output_type": "execute_result"
    }
   ],
   "source": [
    "myset = {1,5,6,8,10,7,0,6,3,1}\n",
    "myset"
   ]
  },
  {
   "cell_type": "markdown",
   "id": "bbad37cd",
   "metadata": {
    "hidden": true
   },
   "source": [
    "***2. Unordered Set --> Not Sort , Remove dublicates***    \n",
    "                                               \n",
    "***Task Session 5***"
   ]
  },
  {
   "cell_type": "markdown",
   "id": "b3a28900",
   "metadata": {
    "hidden": true
   },
   "source": [
    "***3. Multiset --> Sort only , Remain dublicates***"
   ]
  },
  {
   "cell_type": "code",
   "execution_count": 67,
   "id": "615190e4",
   "metadata": {
    "ExecuteTime": {
     "end_time": "2022-04-03T19:19:02.243430Z",
     "start_time": "2022-04-03T19:19:02.231463Z"
    },
    "hidden": true
   },
   "outputs": [
    {
     "data": {
      "text/plain": [
       "[1, 6, 8, 10, 7, 3]"
      ]
     },
     "execution_count": 67,
     "metadata": {},
     "output_type": "execute_result"
    }
   ],
   "source": [
    "Multiset = [1,6,8,10,7,3]\n",
    "Multiset"
   ]
  },
  {
   "cell_type": "code",
   "execution_count": 68,
   "id": "8e2798f4",
   "metadata": {
    "ExecuteTime": {
     "end_time": "2022-04-03T19:19:02.601917Z",
     "start_time": "2022-04-03T19:19:02.589950Z"
    },
    "hidden": true
   },
   "outputs": [],
   "source": [
    "def AddToMultiset (element , setname) :\n",
    "    setname.append(element)\n",
    "    setname.sort()\n",
    "    print(setname)"
   ]
  },
  {
   "cell_type": "code",
   "execution_count": 69,
   "id": "32c9a051",
   "metadata": {
    "ExecuteTime": {
     "end_time": "2022-04-03T19:19:04.551122Z",
     "start_time": "2022-04-03T19:19:04.535754Z"
    },
    "hidden": true
   },
   "outputs": [
    {
     "name": "stdout",
     "output_type": "stream",
     "text": [
      "[1, 3, 6, 7, 8, 8, 10]\n",
      "[1, 3, 6, 7, 8, 8, 9, 10]\n",
      "[1, 3, 6, 6, 7, 8, 8, 9, 10]\n",
      "[1, 3, 5, 6, 6, 7, 8, 8, 9, 10]\n",
      "[1, 1, 3, 5, 6, 6, 7, 8, 8, 9, 10]\n",
      "[0, 1, 1, 3, 5, 6, 6, 7, 8, 8, 9, 10]\n",
      "[0, 1, 1, 3, 5, 6, 6, 7, 8, 8, 9, 10, 10]\n",
      "[0, 1, 1, 2, 3, 5, 6, 6, 7, 8, 8, 9, 10, 10]\n",
      "[0, 1, 1, 2, 3, 5, 6, 6, 7, 7, 8, 8, 9, 10, 10]\n",
      "[0, 1, 1, 2, 3, 4, 5, 6, 6, 7, 7, 8, 8, 9, 10, 10]\n"
     ]
    }
   ],
   "source": [
    "AddToMultiset(8 , Multiset)\n",
    "AddToMultiset(9 , Multiset)\n",
    "AddToMultiset(6 , Multiset)\n",
    "AddToMultiset(5 , Multiset)\n",
    "AddToMultiset(1 , Multiset)\n",
    "AddToMultiset(0 , Multiset)\n",
    "AddToMultiset(10 , Multiset)\n",
    "AddToMultiset(2 , Multiset)\n",
    "AddToMultiset(7 , Multiset)\n",
    "AddToMultiset(4 , Multiset)"
   ]
  },
  {
   "cell_type": "markdown",
   "id": "c748125c",
   "metadata": {
    "heading_collapsed": true
   },
   "source": [
    "# Binary Search"
   ]
  },
  {
   "cell_type": "code",
   "execution_count": 70,
   "id": "3384bcbd",
   "metadata": {
    "ExecuteTime": {
     "end_time": "2022-04-03T19:19:06.353919Z",
     "start_time": "2022-04-03T19:19:06.336933Z"
    },
    "hidden": true
   },
   "outputs": [],
   "source": [
    "from bisect import bisect_left\n",
    "from bisect import bisect_right"
   ]
  },
  {
   "cell_type": "code",
   "execution_count": 71,
   "id": "aaa9b47a",
   "metadata": {
    "ExecuteTime": {
     "end_time": "2022-04-03T19:19:06.935456Z",
     "start_time": "2022-04-03T19:19:06.920497Z"
    },
    "hidden": true
   },
   "outputs": [
    {
     "name": "stdout",
     "output_type": "stream",
     "text": [
      "Left = 3\n",
      "Right = 4\n"
     ]
    }
   ],
   "source": [
    "x = [1,3,5,7,9,10,15,15,17,20,23]\n",
    "index = bisect_left(x,7)              # Upper Bound\n",
    "index_1 = bisect_right(x,7)           # Lower Bound\n",
    "print(\"Left =\" , index)\n",
    "print(\"Right =\" , index_1)"
   ]
  },
  {
   "cell_type": "code",
   "execution_count": 72,
   "id": "6519ac2d",
   "metadata": {
    "ExecuteTime": {
     "end_time": "2022-04-03T19:19:07.676965Z",
     "start_time": "2022-04-03T19:19:07.666965Z"
    },
    "hidden": true
   },
   "outputs": [
    {
     "name": "stdout",
     "output_type": "stream",
     "text": [
      "Left = 6\n",
      "Right = 8\n"
     ]
    }
   ],
   "source": [
    "x = [1,3,5,7,9,10,15,15,17,20,23]\n",
    "index = bisect_left(x,15)             # Upper Bound\n",
    "index_1 = bisect_right(x,15)          # Lower Bound\n",
    "print(\"Left =\" , index)\n",
    "print(\"Right =\" , index_1)"
   ]
  },
  {
   "cell_type": "code",
   "execution_count": 73,
   "id": "62524d73",
   "metadata": {
    "ExecuteTime": {
     "end_time": "2022-04-03T19:19:09.221216Z",
     "start_time": "2022-04-03T19:19:09.209268Z"
    },
    "hidden": true
   },
   "outputs": [
    {
     "name": "stdout",
     "output_type": "stream",
     "text": [
      "Left = 9\n",
      "Right = 9\n"
     ]
    }
   ],
   "source": [
    "x = [1,3,5,7,9,10,15,15,17,20,23]\n",
    "index = bisect_left(x,19)             # Upper Bound\n",
    "index_1 = bisect_right(x,19)          # Lower Bound\n",
    "print(\"Left =\" , index)\n",
    "print(\"Right =\" , index_1)"
   ]
  },
  {
   "cell_type": "markdown",
   "id": "9303918c",
   "metadata": {
    "heading_collapsed": true
   },
   "source": [
    "# Object Oriented Programming (OOP)"
   ]
  },
  {
   "cell_type": "markdown",
   "id": "86b695b8",
   "metadata": {
    "heading_collapsed": true,
    "hidden": true
   },
   "source": [
    "## Example On Control Access"
   ]
  },
  {
   "cell_type": "code",
   "execution_count": 74,
   "id": "358d2895",
   "metadata": {
    "ExecuteTime": {
     "end_time": "2022-04-03T19:19:34.471160Z",
     "start_time": "2022-04-03T19:19:34.461168Z"
    },
    "hidden": true
   },
   "outputs": [],
   "source": [
    "Username = \"Maha\"\n",
    "def ChangeUserName (Password) :\n",
    "    global Username\n",
    "    My_password = 1994\n",
    "    if Password == My_password :\n",
    "        New_User = input(\"Please Enter Your New Username :\")\n",
    "        Username = New_User\n",
    "    else :\n",
    "        print(\"The entered password is incorrect\")"
   ]
  },
  {
   "cell_type": "code",
   "execution_count": 75,
   "id": "e83eb5cd",
   "metadata": {
    "ExecuteTime": {
     "end_time": "2022-04-03T19:19:35.720393Z",
     "start_time": "2022-04-03T19:19:35.701432Z"
    },
    "hidden": true
   },
   "outputs": [
    {
     "data": {
      "text/plain": [
       "'Maha'"
      ]
     },
     "execution_count": 75,
     "metadata": {},
     "output_type": "execute_result"
    }
   ],
   "source": [
    "Username"
   ]
  },
  {
   "cell_type": "code",
   "execution_count": 76,
   "id": "74edc7df",
   "metadata": {
    "ExecuteTime": {
     "end_time": "2022-04-03T19:19:36.830585Z",
     "start_time": "2022-04-03T19:19:36.814640Z"
    },
    "hidden": true
   },
   "outputs": [
    {
     "name": "stdout",
     "output_type": "stream",
     "text": [
      "The entered password is incorrect\n"
     ]
    }
   ],
   "source": [
    "ChangeUserName(194)"
   ]
  },
  {
   "cell_type": "code",
   "execution_count": 77,
   "id": "c6f7ddb6",
   "metadata": {
    "ExecuteTime": {
     "end_time": "2022-04-03T19:19:43.933065Z",
     "start_time": "2022-04-03T19:19:38.737266Z"
    },
    "hidden": true
   },
   "outputs": [
    {
     "name": "stdout",
     "output_type": "stream",
     "text": [
      "Please Enter Your New Username :moha\n"
     ]
    }
   ],
   "source": [
    "ChangeUserName(1994)"
   ]
  },
  {
   "cell_type": "code",
   "execution_count": 78,
   "id": "de6ed64d",
   "metadata": {
    "ExecuteTime": {
     "end_time": "2022-04-03T19:19:44.618171Z",
     "start_time": "2022-04-03T19:19:44.612172Z"
    },
    "hidden": true
   },
   "outputs": [
    {
     "data": {
      "text/plain": [
       "'moha'"
      ]
     },
     "execution_count": 78,
     "metadata": {},
     "output_type": "execute_result"
    }
   ],
   "source": [
    "Username"
   ]
  },
  {
   "cell_type": "markdown",
   "id": "22257e00",
   "metadata": {
    "heading_collapsed": true,
    "hidden": true
   },
   "source": [
    "## Example "
   ]
  },
  {
   "cell_type": "code",
   "execution_count": 79,
   "id": "15b3075a",
   "metadata": {
    "ExecuteTime": {
     "end_time": "2022-04-03T19:19:46.170696Z",
     "start_time": "2022-04-03T19:19:46.155739Z"
    },
    "hidden": true
   },
   "outputs": [],
   "source": [
    "class Employee () :\n",
    "    Name = \"\"\n",
    "    Salary = \"\"\n",
    "    Phone_Number = \"\"\n",
    "    \n",
    "    def ChangePhoneNumber (self) :\n",
    "        self.Phone_Number = \"0100111\""
   ]
  },
  {
   "cell_type": "code",
   "execution_count": 80,
   "id": "1783a180",
   "metadata": {
    "ExecuteTime": {
     "end_time": "2022-04-03T19:19:46.840683Z",
     "start_time": "2022-04-03T19:19:46.835670Z"
    },
    "hidden": true
   },
   "outputs": [],
   "source": [
    "emp1 = Employee()"
   ]
  },
  {
   "cell_type": "code",
   "execution_count": 81,
   "id": "194b7042",
   "metadata": {
    "ExecuteTime": {
     "end_time": "2022-04-03T19:19:47.429734Z",
     "start_time": "2022-04-03T19:19:47.425710Z"
    },
    "hidden": true
   },
   "outputs": [
    {
     "data": {
      "text/plain": [
       "__main__.Employee"
      ]
     },
     "execution_count": 81,
     "metadata": {},
     "output_type": "execute_result"
    }
   ],
   "source": [
    "type(emp1)"
   ]
  },
  {
   "cell_type": "code",
   "execution_count": 82,
   "id": "7e911ca9",
   "metadata": {
    "ExecuteTime": {
     "end_time": "2022-04-03T19:19:48.515201Z",
     "start_time": "2022-04-03T19:19:48.502239Z"
    },
    "hidden": true
   },
   "outputs": [],
   "source": [
    "emp1.Name = \"Maha\"\n",
    "emp1.Salary = 5000\n",
    "emp1.Phone_Number = \"011011\""
   ]
  },
  {
   "cell_type": "code",
   "execution_count": 83,
   "id": "851bb182",
   "metadata": {
    "ExecuteTime": {
     "end_time": "2022-04-03T19:19:49.394286Z",
     "start_time": "2022-04-03T19:19:49.384280Z"
    },
    "hidden": true
   },
   "outputs": [],
   "source": [
    "emp1.ChangePhoneNumber()"
   ]
  },
  {
   "cell_type": "code",
   "execution_count": 84,
   "id": "a77b3820",
   "metadata": {
    "ExecuteTime": {
     "end_time": "2022-04-03T19:19:50.075722Z",
     "start_time": "2022-04-03T19:19:50.071716Z"
    },
    "hidden": true
   },
   "outputs": [
    {
     "data": {
      "text/plain": [
       "'0100111'"
      ]
     },
     "execution_count": 84,
     "metadata": {},
     "output_type": "execute_result"
    }
   ],
   "source": [
    "emp1.Phone_Number"
   ]
  },
  {
   "cell_type": "code",
   "execution_count": 85,
   "id": "59f7f017",
   "metadata": {
    "ExecuteTime": {
     "end_time": "2022-04-03T19:20:20.648475Z",
     "start_time": "2022-04-03T19:20:20.636539Z"
    },
    "hidden": true
   },
   "outputs": [],
   "source": [
    "Employees = []\n",
    "def CreateEmployees () :\n",
    "    x = int(input(\"Please Enter How Many Employees You Want To Add ?\"))\n",
    "    for i in range(x) :\n",
    "        new_emp = Employee()       # Class Above\n",
    "        new_emp.Name = input(\"Please Enter Employee Name :\")\n",
    "        new_emp.Salary = int(input(\"Please Enter Employee Salary :\"))\n",
    "        new_emp.Phone_Number = int(input(\"Please Enter Employee Phone Number :\"))\n",
    "        Employees.append(new_emp)"
   ]
  },
  {
   "cell_type": "code",
   "execution_count": 86,
   "id": "f929cbf0",
   "metadata": {
    "ExecuteTime": {
     "end_time": "2022-04-03T19:20:53.617329Z",
     "start_time": "2022-04-03T19:20:21.487044Z"
    },
    "hidden": true
   },
   "outputs": [
    {
     "name": "stdout",
     "output_type": "stream",
     "text": [
      "Please Enter How Many Employees You Want To Add ?2\n",
      "Please Enter Employee Name :Mohamed\n",
      "Please Enter Employee Salary :8000\n",
      "Please Enter Employee Phone Number :012012\n",
      "Please Enter Employee Name :Aya\n",
      "Please Enter Employee Salary :6000\n",
      "Please Enter Employee Phone Number :010010\n"
     ]
    }
   ],
   "source": [
    "CreateEmployees()"
   ]
  },
  {
   "cell_type": "code",
   "execution_count": 87,
   "id": "961cd46a",
   "metadata": {
    "ExecuteTime": {
     "end_time": "2022-04-03T19:20:56.789121Z",
     "start_time": "2022-04-03T19:20:56.784136Z"
    },
    "hidden": true
   },
   "outputs": [
    {
     "name": "stdout",
     "output_type": "stream",
     "text": [
      "Mohamed\n",
      "8000\n",
      "12012\n",
      "Aya\n",
      "6000\n",
      "10010\n"
     ]
    }
   ],
   "source": [
    "for i in Employees :\n",
    "    print(i.Name)\n",
    "    print(i.Salary)\n",
    "    print(i.Phone_Number)"
   ]
  }
 ],
 "metadata": {
  "kernelspec": {
   "display_name": "Python 3 (ipykernel)",
   "language": "python",
   "name": "python3"
  },
  "language_info": {
   "codemirror_mode": {
    "name": "ipython",
    "version": 3
   },
   "file_extension": ".py",
   "mimetype": "text/x-python",
   "name": "python",
   "nbconvert_exporter": "python",
   "pygments_lexer": "ipython3",
   "version": "3.9.7"
  },
  "toc": {
   "base_numbering": 1,
   "nav_menu": {},
   "number_sections": true,
   "sideBar": true,
   "skip_h1_title": false,
   "title_cell": "Table of Contents",
   "title_sidebar": "Contents",
   "toc_cell": false,
   "toc_position": {},
   "toc_section_display": true,
   "toc_window_display": false
  },
  "varInspector": {
   "cols": {
    "lenName": 16,
    "lenType": 16,
    "lenVar": 40
   },
   "kernels_config": {
    "python": {
     "delete_cmd_postfix": "",
     "delete_cmd_prefix": "del ",
     "library": "var_list.py",
     "varRefreshCmd": "print(var_dic_list())"
    },
    "r": {
     "delete_cmd_postfix": ") ",
     "delete_cmd_prefix": "rm(",
     "library": "var_list.r",
     "varRefreshCmd": "cat(var_dic_list()) "
    }
   },
   "types_to_exclude": [
    "module",
    "function",
    "builtin_function_or_method",
    "instance",
    "_Feature"
   ],
   "window_display": false
  }
 },
 "nbformat": 4,
 "nbformat_minor": 5
}
