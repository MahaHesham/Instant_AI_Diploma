{
 "cells": [
  {
   "cell_type": "markdown",
   "id": "729cb0f9",
   "metadata": {
    "heading_collapsed": true
   },
   "source": [
    "## Task 1 : -\n",
    "**Install jupyter extensions**\n",
    "\n",
    "**( Done )**"
   ]
  },
  {
   "cell_type": "markdown",
   "id": "bfabf886",
   "metadata": {
    "heading_collapsed": true
   },
   "source": [
    "## Task 2 : -\n",
    "**Solve python exercies on w3shools**\n",
    "\n",
    "**Completed 95 of 95 Exercises**"
   ]
  },
  {
   "cell_type": "markdown",
   "id": "929b722d",
   "metadata": {
    "heading_collapsed": true
   },
   "source": [
    "## Task 3 : - \n",
    "**Create your own module and add at least 3 functions and 4 constant variables**"
   ]
  },
  {
   "cell_type": "code",
   "execution_count": 1,
   "id": "3b170073",
   "metadata": {
    "ExecuteTime": {
     "end_time": "2022-03-04T14:08:33.598698Z",
     "start_time": "2022-03-04T14:08:33.579749Z"
    },
    "hidden": true
   },
   "outputs": [],
   "source": [
    "import Task"
   ]
  },
  {
   "cell_type": "code",
   "execution_count": 2,
   "id": "8656c9ce",
   "metadata": {
    "ExecuteTime": {
     "end_time": "2022-03-04T14:08:33.613658Z",
     "start_time": "2022-03-04T14:08:33.600693Z"
    },
    "hidden": true
   },
   "outputs": [
    {
     "data": {
      "text/plain": [
       "2.718281828459045"
      ]
     },
     "execution_count": 2,
     "metadata": {},
     "output_type": "execute_result"
    }
   ],
   "source": [
    "Task.e"
   ]
  },
  {
   "cell_type": "code",
   "execution_count": 3,
   "id": "d094ecb8",
   "metadata": {
    "ExecuteTime": {
     "end_time": "2022-03-04T14:08:33.629648Z",
     "start_time": "2022-03-04T14:08:33.614657Z"
    },
    "hidden": true
   },
   "outputs": [
    {
     "data": {
      "text/plain": [
       "9.8"
      ]
     },
     "execution_count": 3,
     "metadata": {},
     "output_type": "execute_result"
    }
   ],
   "source": [
    "Task.gravity"
   ]
  },
  {
   "cell_type": "code",
   "execution_count": 4,
   "id": "721331ef",
   "metadata": {
    "ExecuteTime": {
     "end_time": "2022-03-04T14:08:33.644576Z",
     "start_time": "2022-03-04T14:08:33.631612Z"
    },
    "hidden": true
   },
   "outputs": [
    {
     "data": {
      "text/plain": [
       "9000000000"
      ]
     },
     "execution_count": 4,
     "metadata": {},
     "output_type": "execute_result"
    }
   ],
   "source": [
    "Task.k"
   ]
  },
  {
   "cell_type": "code",
   "execution_count": 5,
   "id": "9d5d5ca0",
   "metadata": {
    "ExecuteTime": {
     "end_time": "2022-03-04T14:08:33.660533Z",
     "start_time": "2022-03-04T14:08:33.647567Z"
    },
    "hidden": true
   },
   "outputs": [
    {
     "data": {
      "text/plain": [
       "3.141592653589793"
      ]
     },
     "execution_count": 5,
     "metadata": {},
     "output_type": "execute_result"
    }
   ],
   "source": [
    "Task.pi"
   ]
  },
  {
   "cell_type": "code",
   "execution_count": 6,
   "id": "2ce5b055",
   "metadata": {
    "ExecuteTime": {
     "end_time": "2022-03-04T14:08:33.675744Z",
     "start_time": "2022-03-04T14:08:33.661530Z"
    },
    "hidden": true
   },
   "outputs": [
    {
     "data": {
      "text/plain": [
       "6.63e-34"
      ]
     },
     "execution_count": 6,
     "metadata": {},
     "output_type": "execute_result"
    }
   ],
   "source": [
    "Task.plank"
   ]
  },
  {
   "cell_type": "code",
   "execution_count": 7,
   "id": "8ef0def7",
   "metadata": {
    "ExecuteTime": {
     "end_time": "2022-03-04T14:08:33.690704Z",
     "start_time": "2022-03-04T14:08:33.676741Z"
    },
    "hidden": true
   },
   "outputs": [],
   "source": [
    "numbers = [1,2,3,4,5,6,7,8,9,10,11,12,13,14,15]"
   ]
  },
  {
   "cell_type": "code",
   "execution_count": 8,
   "id": "6babc0f4",
   "metadata": {
    "ExecuteTime": {
     "end_time": "2022-03-04T14:08:33.705898Z",
     "start_time": "2022-03-04T14:08:33.691702Z"
    },
    "hidden": true
   },
   "outputs": [
    {
     "name": "stdout",
     "output_type": "stream",
     "text": [
      "2\n",
      "4\n",
      "6\n",
      "8\n",
      "10\n",
      "12\n",
      "14\n"
     ]
    }
   ],
   "source": [
    "Task.printeven(numbers)"
   ]
  },
  {
   "cell_type": "code",
   "execution_count": 9,
   "id": "8d6a64ee",
   "metadata": {
    "ExecuteTime": {
     "end_time": "2022-03-04T14:08:33.721934Z",
     "start_time": "2022-03-04T14:08:33.706869Z"
    },
    "hidden": true
   },
   "outputs": [
    {
     "data": {
      "text/plain": [
       "True"
      ]
     },
     "execution_count": 9,
     "metadata": {},
     "output_type": "execute_result"
    }
   ],
   "source": [
    "Task.searchforelement(numbers,10)"
   ]
  },
  {
   "cell_type": "code",
   "execution_count": 10,
   "id": "9eda1ba1",
   "metadata": {
    "ExecuteTime": {
     "end_time": "2022-03-04T14:08:33.737094Z",
     "start_time": "2022-03-04T14:08:33.723904Z"
    },
    "hidden": true
   },
   "outputs": [
    {
     "data": {
      "text/plain": [
       "False"
      ]
     },
     "execution_count": 10,
     "metadata": {},
     "output_type": "execute_result"
    }
   ],
   "source": [
    "Task.searchforelement(numbers,18)"
   ]
  },
  {
   "cell_type": "code",
   "execution_count": 11,
   "id": "8a204f64",
   "metadata": {
    "ExecuteTime": {
     "end_time": "2022-03-04T14:08:33.753147Z",
     "start_time": "2022-03-04T14:08:33.738127Z"
    },
    "hidden": true
   },
   "outputs": [],
   "source": [
    "extlist = [1,4,7,8,[3,\"M\",9],6]"
   ]
  },
  {
   "cell_type": "code",
   "execution_count": 12,
   "id": "f95d098a",
   "metadata": {
    "ExecuteTime": {
     "end_time": "2022-03-04T14:08:33.769103Z",
     "start_time": "2022-03-04T14:08:33.754182Z"
    },
    "hidden": true
   },
   "outputs": [
    {
     "data": {
      "text/plain": [
       "True"
      ]
     },
     "execution_count": 12,
     "metadata": {},
     "output_type": "execute_result"
    }
   ],
   "source": [
    "Task.searchforelement(extlist,\"M\")"
   ]
  },
  {
   "cell_type": "code",
   "execution_count": 13,
   "id": "8a5a093c",
   "metadata": {
    "ExecuteTime": {
     "end_time": "2022-03-04T14:08:33.784137Z",
     "start_time": "2022-03-04T14:08:33.770135Z"
    },
    "hidden": true
   },
   "outputs": [
    {
     "data": {
      "text/plain": [
       "False"
      ]
     },
     "execution_count": 13,
     "metadata": {},
     "output_type": "execute_result"
    }
   ],
   "source": [
    "Task.searchforelement(extlist,11)"
   ]
  },
  {
   "cell_type": "code",
   "execution_count": 14,
   "id": "093b2916",
   "metadata": {
    "ExecuteTime": {
     "end_time": "2022-03-04T14:08:59.214814Z",
     "start_time": "2022-03-04T14:08:33.785174Z"
    },
    "hidden": true,
    "scrolled": false
   },
   "outputs": [
    {
     "name": "stdout",
     "output_type": "stream",
     "text": [
      "Please choose the operation {+,-,*,/} :20\n",
      "You enter unknown operation\n"
     ]
    }
   ],
   "source": [
    "Task.mathoperations()"
   ]
  },
  {
   "cell_type": "code",
   "execution_count": 15,
   "id": "279b2b2e",
   "metadata": {
    "ExecuteTime": {
     "end_time": "2022-03-04T14:09:17.419540Z",
     "start_time": "2022-03-04T14:08:59.215825Z"
    },
    "hidden": true,
    "scrolled": false
   },
   "outputs": [
    {
     "name": "stdout",
     "output_type": "stream",
     "text": [
      "Please choose the operation {+,-,*,/} :/\n",
      "Please enter the first number :30\n",
      "Please enter the second number :5\n",
      "Result = 30.0 / 5.0 = 6.0\n"
     ]
    }
   ],
   "source": [
    "Task.mathoperations()"
   ]
  },
  {
   "cell_type": "markdown",
   "id": "8f4b72df",
   "metadata": {
    "heading_collapsed": true
   },
   "source": [
    "## Task 4 : -\n",
    "**How to create private variable or constant variable in a module**\n",
    "\n",
    "**( Done )**"
   ]
  },
  {
   "cell_type": "markdown",
   "id": "4539ff15",
   "metadata": {
    "heading_collapsed": true,
    "hidden": true
   },
   "source": [
    "### Answer 1 : -"
   ]
  },
  {
   "cell_type": "code",
   "execution_count": 16,
   "id": "8aad314b",
   "metadata": {
    "ExecuteTime": {
     "end_time": "2022-03-04T14:09:17.435507Z",
     "start_time": "2022-03-04T14:09:17.421534Z"
    },
    "hidden": true
   },
   "outputs": [],
   "source": [
    "import Task"
   ]
  },
  {
   "cell_type": "code",
   "execution_count": 17,
   "id": "f9ee0223",
   "metadata": {
    "ExecuteTime": {
     "end_time": "2022-03-04T14:09:17.450757Z",
     "start_time": "2022-03-04T14:09:17.436516Z"
    },
    "hidden": true
   },
   "outputs": [],
   "source": [
    "a = Task.Constant ()"
   ]
  },
  {
   "cell_type": "code",
   "execution_count": 18,
   "id": "caca1d82",
   "metadata": {
    "ExecuteTime": {
     "end_time": "2022-03-04T14:09:17.466593Z",
     "start_time": "2022-03-04T14:09:17.451789Z"
    },
    "hidden": true
   },
   "outputs": [
    {
     "data": {
      "text/plain": [
       "3.14"
      ]
     },
     "execution_count": 18,
     "metadata": {},
     "output_type": "execute_result"
    }
   ],
   "source": [
    "a.pi"
   ]
  },
  {
   "cell_type": "code",
   "execution_count": 19,
   "id": "24f54dcb",
   "metadata": {
    "ExecuteTime": {
     "end_time": "2022-03-04T14:09:17.620962Z",
     "start_time": "2022-03-04T14:09:17.468412Z"
    },
    "hidden": true
   },
   "outputs": [
    {
     "ename": "AttributeError",
     "evalue": "'Constant' object attribute 'pi' is read-only",
     "output_type": "error",
     "traceback": [
      "\u001b[1;31m---------------------------------------------------------------------------\u001b[0m",
      "\u001b[1;31mAttributeError\u001b[0m                            Traceback (most recent call last)",
      "\u001b[1;32m~\\AppData\\Local\\Temp/ipykernel_17348/787100568.py\u001b[0m in \u001b[0;36m<module>\u001b[1;34m\u001b[0m\n\u001b[1;32m----> 1\u001b[1;33m \u001b[0ma\u001b[0m\u001b[1;33m.\u001b[0m\u001b[0mpi\u001b[0m \u001b[1;33m=\u001b[0m \u001b[1;36m5\u001b[0m\u001b[1;33m\u001b[0m\u001b[1;33m\u001b[0m\u001b[0m\n\u001b[0m",
      "\u001b[1;31mAttributeError\u001b[0m: 'Constant' object attribute 'pi' is read-only"
     ]
    }
   ],
   "source": [
    "a.pi = 5"
   ]
  },
  {
   "cell_type": "code",
   "execution_count": 20,
   "id": "0d732520",
   "metadata": {
    "ExecuteTime": {
     "end_time": "2022-03-04T14:09:30.438371Z",
     "start_time": "2022-03-04T14:09:30.428404Z"
    },
    "hidden": true
   },
   "outputs": [
    {
     "data": {
      "text/plain": [
       "3.14"
      ]
     },
     "execution_count": 20,
     "metadata": {},
     "output_type": "execute_result"
    }
   ],
   "source": [
    "a.pi"
   ]
  },
  {
   "cell_type": "markdown",
   "id": "cc8815e0",
   "metadata": {
    "heading_collapsed": true,
    "hidden": true
   },
   "source": [
    "### Answer 2 : -"
   ]
  },
  {
   "cell_type": "code",
   "execution_count": 21,
   "id": "67a76de2",
   "metadata": {
    "ExecuteTime": {
     "end_time": "2022-03-04T14:09:35.099961Z",
     "start_time": "2022-03-04T14:09:35.091951Z"
    },
    "hidden": true
   },
   "outputs": [],
   "source": [
    "import Task"
   ]
  },
  {
   "cell_type": "code",
   "execution_count": 22,
   "id": "a9962c65",
   "metadata": {
    "ExecuteTime": {
     "end_time": "2022-03-04T14:09:35.115919Z",
     "start_time": "2022-03-04T14:09:35.100956Z"
    },
    "hidden": true
   },
   "outputs": [],
   "source": [
    "z = Task.Const()"
   ]
  },
  {
   "cell_type": "code",
   "execution_count": 23,
   "id": "2046ef25",
   "metadata": {
    "ExecuteTime": {
     "end_time": "2022-03-04T14:09:35.130954Z",
     "start_time": "2022-03-04T14:09:35.116727Z"
    },
    "hidden": true
   },
   "outputs": [
    {
     "ename": "AttributeError",
     "evalue": "'Const' object has no attribute '__pi'",
     "output_type": "error",
     "traceback": [
      "\u001b[1;31m---------------------------------------------------------------------------\u001b[0m",
      "\u001b[1;31mAttributeError\u001b[0m                            Traceback (most recent call last)",
      "\u001b[1;32m~\\AppData\\Local\\Temp/ipykernel_17348/3271747239.py\u001b[0m in \u001b[0;36m<module>\u001b[1;34m\u001b[0m\n\u001b[1;32m----> 1\u001b[1;33m \u001b[0mz\u001b[0m\u001b[1;33m.\u001b[0m\u001b[0m__pi\u001b[0m\u001b[1;33m\u001b[0m\u001b[1;33m\u001b[0m\u001b[0m\n\u001b[0m",
      "\u001b[1;31mAttributeError\u001b[0m: 'Const' object has no attribute '__pi'"
     ]
    }
   ],
   "source": [
    "z.__pi"
   ]
  },
  {
   "cell_type": "code",
   "execution_count": 24,
   "id": "01641f49",
   "metadata": {
    "ExecuteTime": {
     "end_time": "2022-03-04T14:09:40.583005Z",
     "start_time": "2022-03-04T14:09:40.575027Z"
    },
    "hidden": true,
    "scrolled": true
   },
   "outputs": [
    {
     "name": "stdout",
     "output_type": "stream",
     "text": [
      "pi = 3.14\n"
     ]
    }
   ],
   "source": [
    "z.get()"
   ]
  }
 ],
 "metadata": {
  "kernelspec": {
   "display_name": "Python 3 (ipykernel)",
   "language": "python",
   "name": "python3"
  },
  "language_info": {
   "codemirror_mode": {
    "name": "ipython",
    "version": 3
   },
   "file_extension": ".py",
   "mimetype": "text/x-python",
   "name": "python",
   "nbconvert_exporter": "python",
   "pygments_lexer": "ipython3",
   "version": "3.9.7"
  },
  "toc": {
   "base_numbering": 1,
   "nav_menu": {},
   "number_sections": true,
   "sideBar": true,
   "skip_h1_title": false,
   "title_cell": "Table of Contents",
   "title_sidebar": "Contents",
   "toc_cell": false,
   "toc_position": {},
   "toc_section_display": true,
   "toc_window_display": false
  },
  "varInspector": {
   "cols": {
    "lenName": 16,
    "lenType": 16,
    "lenVar": 40
   },
   "kernels_config": {
    "python": {
     "delete_cmd_postfix": "",
     "delete_cmd_prefix": "del ",
     "library": "var_list.py",
     "varRefreshCmd": "print(var_dic_list())"
    },
    "r": {
     "delete_cmd_postfix": ") ",
     "delete_cmd_prefix": "rm(",
     "library": "var_list.r",
     "varRefreshCmd": "cat(var_dic_list()) "
    }
   },
   "types_to_exclude": [
    "module",
    "function",
    "builtin_function_or_method",
    "instance",
    "_Feature"
   ],
   "window_display": false
  }
 },
 "nbformat": 4,
 "nbformat_minor": 5
}
