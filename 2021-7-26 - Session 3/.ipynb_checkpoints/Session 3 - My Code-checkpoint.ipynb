{
 "cells": [
  {
   "cell_type": "markdown",
   "id": "9f9f4ae4",
   "metadata": {
    "heading_collapsed": true
   },
   "source": [
    "# Containers "
   ]
  },
  {
   "cell_type": "markdown",
   "id": "5b336a24",
   "metadata": {
    "heading_collapsed": true,
    "hidden": true
   },
   "source": [
    "## List (Taken in Session 2)\n",
    "## Tuple (Taken in Session 2)\n",
    "## Set (Taken in Session 2)\n",
    "## Dictionary"
   ]
  },
  {
   "cell_type": "code",
   "execution_count": 1,
   "id": "fe9ee6af",
   "metadata": {
    "ExecuteTime": {
     "end_time": "2022-03-04T13:58:04.669498Z",
     "start_time": "2022-03-04T13:58:04.651521Z"
    },
    "hidden": true
   },
   "outputs": [
    {
     "data": {
      "text/plain": [
       "{'Name': 'Maha',\n",
       " 'Age': 28,\n",
       " 'Email': 'Maha@gmail.com',\n",
       " 'FavouriteColors': ['Red', 'Black']}"
      ]
     },
     "execution_count": 1,
     "metadata": {},
     "output_type": "execute_result"
    }
   ],
   "source": [
    "data = { \"Name\":\"Maha\" , \"Age\":28 , \"Email\":\"Maha@gmail.com\" , \"FavouriteColors\":[\"Red\" , \"Black\"] }\n",
    "data"
   ]
  },
  {
   "cell_type": "code",
   "execution_count": 2,
   "id": "b1a4fd08",
   "metadata": {
    "ExecuteTime": {
     "end_time": "2022-03-04T13:58:04.685430Z",
     "start_time": "2022-03-04T13:58:04.670471Z"
    },
    "hidden": true
   },
   "outputs": [
    {
     "name": "stdout",
     "output_type": "stream",
     "text": [
      "Maha\n",
      "28\n",
      "Maha@gmail.com\n",
      "Red\n",
      "Black\n"
     ]
    }
   ],
   "source": [
    "# print (dict_name[\"key_name\"])\n",
    "print(data[\"Name\"])\n",
    "print(data[\"Age\"])\n",
    "print(data[\"Email\"])\n",
    "print(data[\"FavouriteColors\"][0])\n",
    "print(data[\"FavouriteColors\"][1])"
   ]
  },
  {
   "cell_type": "code",
   "execution_count": 3,
   "id": "7bcf0c61",
   "metadata": {
    "ExecuteTime": {
     "end_time": "2022-03-04T13:58:04.840050Z",
     "start_time": "2022-03-04T13:58:04.686429Z"
    },
    "hidden": true
   },
   "outputs": [
    {
     "ename": "KeyError",
     "evalue": "'email'",
     "output_type": "error",
     "traceback": [
      "\u001b[1;31m---------------------------------------------------------------------------\u001b[0m",
      "\u001b[1;31mKeyError\u001b[0m                                  Traceback (most recent call last)",
      "\u001b[1;32m~\\AppData\\Local\\Temp/ipykernel_11940/3582203312.py\u001b[0m in \u001b[0;36m<module>\u001b[1;34m\u001b[0m\n\u001b[1;32m----> 1\u001b[1;33m \u001b[0mprint\u001b[0m\u001b[1;33m(\u001b[0m\u001b[0mdata\u001b[0m\u001b[1;33m[\u001b[0m\u001b[1;34m\"email\"\u001b[0m\u001b[1;33m]\u001b[0m\u001b[1;33m)\u001b[0m\u001b[1;33m\u001b[0m\u001b[1;33m\u001b[0m\u001b[0m\n\u001b[0m",
      "\u001b[1;31mKeyError\u001b[0m: 'email'"
     ]
    }
   ],
   "source": [
    "print(data[\"email\"])"
   ]
  },
  {
   "cell_type": "code",
   "execution_count": 4,
   "id": "9cc5c8e4",
   "metadata": {
    "ExecuteTime": {
     "end_time": "2022-03-04T13:58:12.513497Z",
     "start_time": "2022-03-04T13:58:12.499553Z"
    },
    "hidden": true
   },
   "outputs": [
    {
     "data": {
      "text/plain": [
       "dict_items([('Name', 'Maha'), ('Age', 28), ('Email', 'Maha@gmail.com'), ('FavouriteColors', ['Red', 'Black'])])"
      ]
     },
     "execution_count": 4,
     "metadata": {},
     "output_type": "execute_result"
    }
   ],
   "source": [
    "data.items()"
   ]
  },
  {
   "cell_type": "code",
   "execution_count": 5,
   "id": "288e39b0",
   "metadata": {
    "ExecuteTime": {
     "end_time": "2022-03-04T13:58:12.529458Z",
     "start_time": "2022-03-04T13:58:12.515462Z"
    },
    "hidden": true
   },
   "outputs": [
    {
     "data": {
      "text/plain": [
       "dict_keys(['Name', 'Age', 'Email', 'FavouriteColors'])"
      ]
     },
     "execution_count": 5,
     "metadata": {},
     "output_type": "execute_result"
    }
   ],
   "source": [
    "data.keys()"
   ]
  },
  {
   "cell_type": "code",
   "execution_count": 6,
   "id": "4639eb09",
   "metadata": {
    "ExecuteTime": {
     "end_time": "2022-03-04T13:58:12.544418Z",
     "start_time": "2022-03-04T13:58:12.530421Z"
    },
    "hidden": true
   },
   "outputs": [
    {
     "data": {
      "text/plain": [
       "['Name', 'Age', 'Email', 'FavouriteColors']"
      ]
     },
     "execution_count": 6,
     "metadata": {},
     "output_type": "execute_result"
    }
   ],
   "source": [
    "# To save in memory\n",
    "keys = list(data.keys())\n",
    "keys"
   ]
  },
  {
   "cell_type": "code",
   "execution_count": 7,
   "id": "b683d689",
   "metadata": {
    "ExecuteTime": {
     "end_time": "2022-03-04T13:58:12.560376Z",
     "start_time": "2022-03-04T13:58:12.545381Z"
    },
    "hidden": true
   },
   "outputs": [
    {
     "name": "stdout",
     "output_type": "stream",
     "text": [
      "Name\n",
      "Age\n",
      "Email\n",
      "FavouriteColors\n"
     ]
    }
   ],
   "source": [
    "print(keys[0])\n",
    "print(keys[1])\n",
    "print(keys[2])\n",
    "print(keys[-1])"
   ]
  },
  {
   "cell_type": "code",
   "execution_count": 8,
   "id": "04fab9b1",
   "metadata": {
    "ExecuteTime": {
     "end_time": "2022-03-04T13:58:12.575333Z",
     "start_time": "2022-03-04T13:58:12.561339Z"
    },
    "hidden": true
   },
   "outputs": [
    {
     "data": {
      "text/plain": [
       "dict_values(['Maha', 28, 'Maha@gmail.com', ['Red', 'Black']])"
      ]
     },
     "execution_count": 8,
     "metadata": {},
     "output_type": "execute_result"
    }
   ],
   "source": [
    "data.values()"
   ]
  },
  {
   "cell_type": "code",
   "execution_count": 9,
   "id": "da68ab28",
   "metadata": {
    "ExecuteTime": {
     "end_time": "2022-03-04T13:58:12.590294Z",
     "start_time": "2022-03-04T13:58:12.576333Z"
    },
    "hidden": true
   },
   "outputs": [
    {
     "data": {
      "text/plain": [
       "['Maha', 28, 'Maha@gmail.com', ['Red', 'Black']]"
      ]
     },
     "execution_count": 9,
     "metadata": {},
     "output_type": "execute_result"
    }
   ],
   "source": [
    "# To save in memory\n",
    "values = list(data.values())\n",
    "values"
   ]
  },
  {
   "cell_type": "code",
   "execution_count": 10,
   "id": "6281e666",
   "metadata": {
    "ExecuteTime": {
     "end_time": "2022-03-04T13:58:12.606250Z",
     "start_time": "2022-03-04T13:58:12.591290Z"
    },
    "hidden": true
   },
   "outputs": [
    {
     "name": "stdout",
     "output_type": "stream",
     "text": [
      "Maha\n",
      "28\n",
      "Maha@gmail.com\n",
      "['Red', 'Black']\n"
     ]
    }
   ],
   "source": [
    "print(values[0])\n",
    "print(values[1])\n",
    "print(values[2])\n",
    "print(values[-1])"
   ]
  },
  {
   "cell_type": "code",
   "execution_count": 11,
   "id": "13369462",
   "metadata": {
    "ExecuteTime": {
     "end_time": "2022-03-04T13:58:12.622208Z",
     "start_time": "2022-03-04T13:58:12.607248Z"
    },
    "hidden": true,
    "scrolled": true
   },
   "outputs": [
    {
     "name": "stdout",
     "output_type": "stream",
     "text": [
      "Maha\n",
      "28\n",
      "Maha@gmail.com\n",
      "['Red', 'Black']\n"
     ]
    }
   ],
   "source": [
    "# print(dict_name.get(\"key\")) ==> value\n",
    "print(data.get(\"Name\"))\n",
    "print(data.get(\"Age\"))\n",
    "print(data.get(\"Email\"))\n",
    "print(data.get(\"FavouriteColors\"))"
   ]
  },
  {
   "cell_type": "code",
   "execution_count": 12,
   "id": "0980ebb7",
   "metadata": {
    "ExecuteTime": {
     "end_time": "2022-03-04T13:58:12.637170Z",
     "start_time": "2022-03-04T13:58:12.623173Z"
    },
    "hidden": true
   },
   "outputs": [
    {
     "data": {
      "text/plain": [
       "{'Name': 'Maha',\n",
       " 'Age': 28,\n",
       " 'Email': 'Maha@gmail.com',\n",
       " 'FavouriteColors': ['Red', 'Black'],\n",
       " 'Department': 'Computer'}"
      ]
     },
     "execution_count": 12,
     "metadata": {},
     "output_type": "execute_result"
    }
   ],
   "source": [
    "# Adding new key & value\n",
    "# dict_name[\"new_key\"] = value\n",
    "data[\"Department\"] = \"Computer\"\n",
    "data"
   ]
  },
  {
   "cell_type": "code",
   "execution_count": 13,
   "id": "a943e84a",
   "metadata": {
    "ExecuteTime": {
     "end_time": "2022-03-04T13:58:12.653127Z",
     "start_time": "2022-03-04T13:58:12.640162Z"
    },
    "hidden": true
   },
   "outputs": [
    {
     "data": {
      "text/plain": [
       "{'Name': 'Maha',\n",
       " 'Age': 28,\n",
       " 'Email': 'Maha@gmail.com',\n",
       " 'FavouriteColors': ['Red', 'Black'],\n",
       " 'Department': 'AI'}"
      ]
     },
     "execution_count": 13,
     "metadata": {},
     "output_type": "execute_result"
    }
   ],
   "source": [
    "# Changing value of any key \n",
    "# dict_name[\"key_name\"] = new_value\n",
    "data[\"Department\"] = \"AI\"\n",
    "data"
   ]
  },
  {
   "cell_type": "code",
   "execution_count": 14,
   "id": "a1deb07d",
   "metadata": {
    "ExecuteTime": {
     "end_time": "2022-03-04T13:58:12.668056Z",
     "start_time": "2022-03-04T13:58:12.654129Z"
    },
    "hidden": true
   },
   "outputs": [
    {
     "data": {
      "text/plain": [
       "{'Name': 'Maha',\n",
       " 'Age': 28,\n",
       " 'Email': 'Maha@gmail.com',\n",
       " 'FavouriteColors': ['Red', 'Black']}"
      ]
     },
     "execution_count": 14,
     "metadata": {},
     "output_type": "execute_result"
    }
   ],
   "source": [
    "# Remove last element \n",
    "data.popitem()\n",
    "data"
   ]
  },
  {
   "cell_type": "code",
   "execution_count": 15,
   "id": "fcc1e926",
   "metadata": {
    "ExecuteTime": {
     "end_time": "2022-03-04T13:58:12.684034Z",
     "start_time": "2022-03-04T13:58:12.670048Z"
    },
    "hidden": true
   },
   "outputs": [
    {
     "data": {
      "text/plain": [
       "{'Name': 'Maha', 'Age': 28, 'FavouriteColors': ['Red', 'Black']}"
      ]
     },
     "execution_count": 15,
     "metadata": {},
     "output_type": "execute_result"
    }
   ],
   "source": [
    "# Remove specific element\n",
    "# print(dict_name.pop(\"key\"))\n",
    "data.pop(\"Email\")\n",
    "data"
   ]
  },
  {
   "cell_type": "code",
   "execution_count": 16,
   "id": "6a81f16c",
   "metadata": {
    "ExecuteTime": {
     "end_time": "2022-03-04T13:58:12.699002Z",
     "start_time": "2022-03-04T13:58:12.685007Z"
    },
    "hidden": true
   },
   "outputs": [],
   "source": [
    "# OR \n",
    "del data[\"Age\"]"
   ]
  },
  {
   "cell_type": "code",
   "execution_count": 17,
   "id": "cad3ae8c",
   "metadata": {
    "ExecuteTime": {
     "end_time": "2022-03-04T13:58:12.714930Z",
     "start_time": "2022-03-04T13:58:12.699967Z"
    },
    "hidden": true
   },
   "outputs": [],
   "source": [
    "# Not cleared from memory\n",
    "data.clear()"
   ]
  },
  {
   "cell_type": "code",
   "execution_count": 18,
   "id": "9be0e9b2",
   "metadata": {
    "ExecuteTime": {
     "end_time": "2022-03-04T13:58:12.729914Z",
     "start_time": "2022-03-04T13:58:12.715926Z"
    },
    "hidden": true
   },
   "outputs": [
    {
     "data": {
      "text/plain": [
       "{}"
      ]
     },
     "execution_count": 18,
     "metadata": {},
     "output_type": "execute_result"
    }
   ],
   "source": [
    "data"
   ]
  },
  {
   "cell_type": "markdown",
   "id": "cc2b9e10",
   "metadata": {
    "heading_collapsed": true
   },
   "source": [
    "# Loops"
   ]
  },
  {
   "cell_type": "markdown",
   "id": "ee259c22",
   "metadata": {
    "heading_collapsed": true,
    "hidden": true
   },
   "source": [
    "## For loop"
   ]
  },
  {
   "cell_type": "code",
   "execution_count": 19,
   "id": "be99fe15",
   "metadata": {
    "ExecuteTime": {
     "end_time": "2022-03-04T13:58:12.744880Z",
     "start_time": "2022-03-04T13:58:12.730884Z"
    },
    "hidden": true,
    "scrolled": true
   },
   "outputs": [
    {
     "name": "stdout",
     "output_type": "stream",
     "text": [
      "2\n",
      "4\n",
      "6\n",
      "8\n",
      "10\n",
      "12\n",
      "14\n",
      "==========\n",
      "2\n",
      "4\n",
      "6\n",
      "8\n",
      "10\n",
      "12\n",
      "14\n"
     ]
    }
   ],
   "source": [
    "numbers = [1,2,3,4,5,6,7,8,9,10,11,12,13,14,15]\n",
    "for i in numbers:\n",
    "    if (i % 2 ==0 ):\n",
    "        print(i)\n",
    "\n",
    "print(\"=\"*10)\n",
    "\n",
    "for i in range (0, len(numbers)):\n",
    "    if (numbers[i] %2 ==0 ):\n",
    "        print(numbers[i])"
   ]
  },
  {
   "cell_type": "code",
   "execution_count": 20,
   "id": "1b0999fb",
   "metadata": {
    "ExecuteTime": {
     "end_time": "2022-03-04T13:58:12.760837Z",
     "start_time": "2022-03-04T13:58:12.745845Z"
    },
    "hidden": true
   },
   "outputs": [
    {
     "name": "stdout",
     "output_type": "stream",
     "text": [
      "4\n",
      "5\n",
      "6\n",
      "7\n",
      "8\n",
      "9\n",
      "10\n",
      "11\n",
      "12\n",
      "13\n",
      "14\n",
      "15\n",
      "==========\n",
      "1\n",
      "2\n",
      "3\n",
      "4\n",
      "5\n",
      "6\n",
      "7\n",
      "8\n",
      "9\n",
      "10\n",
      "11\n",
      "12\n",
      "13\n",
      "14\n",
      "15\n"
     ]
    }
   ],
   "source": [
    "# and & or \n",
    "# and --> The 2 conditions must be True\n",
    "# or --> At least 1 condition must be True\n",
    "\n",
    "for element in numbers :\n",
    "    if type(element) == int and element > 3 :\n",
    "        print(element)\n",
    "        \n",
    "print(\"=\"*10)\n",
    "\n",
    "for element in numbers :\n",
    "    if type(element) == int or element > 3 :\n",
    "        print(element)"
   ]
  },
  {
   "cell_type": "code",
   "execution_count": 21,
   "id": "1c089268",
   "metadata": {
    "ExecuteTime": {
     "end_time": "2022-03-04T13:58:12.776786Z",
     "start_time": "2022-03-04T13:58:12.761803Z"
    },
    "hidden": true
   },
   "outputs": [
    {
     "data": {
      "text/plain": [
       "[1, 2, 3, 4, 'M', True, 5, 6, 7]"
      ]
     },
     "execution_count": 21,
     "metadata": {},
     "output_type": "execute_result"
    }
   ],
   "source": [
    "mylist = [1, 2, 3, 4, 'M', True, 5, 6, 7]\n",
    "mylist"
   ]
  },
  {
   "cell_type": "code",
   "execution_count": 22,
   "id": "bcf95de5",
   "metadata": {
    "ExecuteTime": {
     "end_time": "2022-03-04T13:58:12.791749Z",
     "start_time": "2022-03-04T13:58:12.777801Z"
    },
    "hidden": true,
    "scrolled": true
   },
   "outputs": [
    {
     "name": "stdout",
     "output_type": "stream",
     "text": [
      "6\n",
      "7\n",
      "8\n",
      "9\n",
      "10\n",
      "11\n",
      "12\n",
      "==============================\n",
      "[1, 2, 3, 4, 'M', True, 5, 6, 7]\n"
     ]
    }
   ],
   "source": [
    "for i in mylist:\n",
    "    if type(i) == int:\n",
    "        print(i+5)\n",
    "\n",
    "print(\"=\"*30)        \n",
    "print(mylist)\n",
    "\n",
    "# Nothing occurs as code not run on original mylist but take a copy of mylist to run on"
   ]
  },
  {
   "cell_type": "code",
   "execution_count": 23,
   "id": "9431cd54",
   "metadata": {
    "ExecuteTime": {
     "end_time": "2022-03-04T13:58:12.806715Z",
     "start_time": "2022-03-04T13:58:12.792752Z"
    },
    "hidden": true
   },
   "outputs": [
    {
     "name": "stdout",
     "output_type": "stream",
     "text": [
      "[1, 2, 3, 4, 'M', True, 5, 6, 7]\n"
     ]
    }
   ],
   "source": [
    "for i in mylist :\n",
    "    if type(i) == int :\n",
    "        i+=5\n",
    "print(mylist)\n",
    "\n",
    "# Nothing occurs as code not run on original mylist but take a copy of mylist to run on"
   ]
  },
  {
   "cell_type": "code",
   "execution_count": 24,
   "id": "a9eebbda",
   "metadata": {
    "ExecuteTime": {
     "end_time": "2022-03-04T13:58:12.822671Z",
     "start_time": "2022-03-04T13:58:12.807721Z"
    },
    "hidden": true
   },
   "outputs": [
    {
     "name": "stdout",
     "output_type": "stream",
     "text": [
      "[6, 7, 8, 9, 'M', True, 10, 11, 12]\n"
     ]
    }
   ],
   "source": [
    "# To run on original mylist \n",
    "for i in range(0,len(mylist)) :\n",
    "    if type(mylist[i]) == int :\n",
    "        mylist[i]+=5\n",
    "print(mylist)"
   ]
  },
  {
   "cell_type": "code",
   "execution_count": 25,
   "id": "7a4612fa",
   "metadata": {
    "ExecuteTime": {
     "end_time": "2022-03-04T13:58:12.838629Z",
     "start_time": "2022-03-04T13:58:12.823680Z"
    },
    "hidden": true
   },
   "outputs": [
    {
     "name": "stdout",
     "output_type": "stream",
     "text": [
      "6\n",
      "8\n",
      "M\n",
      "10\n",
      "12\n"
     ]
    }
   ],
   "source": [
    "# Default start index, default stop index, step size is two\n",
    "for i in range(0,len(mylist),2) :\n",
    "    print(mylist[i])"
   ]
  },
  {
   "cell_type": "code",
   "execution_count": 26,
   "id": "f11359b1",
   "metadata": {
    "ExecuteTime": {
     "end_time": "2022-03-04T13:58:12.853589Z",
     "start_time": "2022-03-04T13:58:12.839595Z"
    },
    "hidden": true
   },
   "outputs": [
    {
     "data": {
      "text/plain": [
       "[1, 2, 3, 4, 5, 6, 7, 8, 9]"
      ]
     },
     "execution_count": 26,
     "metadata": {},
     "output_type": "execute_result"
    }
   ],
   "source": [
    "x = [1,2,3,4,5,6,7,8,9]\n",
    "x"
   ]
  },
  {
   "cell_type": "code",
   "execution_count": 27,
   "id": "aa2fbd92",
   "metadata": {
    "ExecuteTime": {
     "end_time": "2022-03-04T13:58:12.869546Z",
     "start_time": "2022-03-04T13:58:12.854554Z"
    },
    "hidden": true
   },
   "outputs": [
    {
     "name": "stdout",
     "output_type": "stream",
     "text": [
      "1\n",
      "2\n",
      "3\n",
      "4\n",
      "5\n",
      "6\n",
      "7\n",
      "8\n",
      "9\n"
     ]
    }
   ],
   "source": [
    "# If i want to print --> Easy way\n",
    "for i in x :\n",
    "    print(i)"
   ]
  },
  {
   "cell_type": "code",
   "execution_count": 28,
   "id": "547e6318",
   "metadata": {
    "ExecuteTime": {
     "end_time": "2022-03-04T13:58:12.884510Z",
     "start_time": "2022-03-04T13:58:12.870512Z"
    },
    "hidden": true,
    "scrolled": true
   },
   "outputs": [
    {
     "name": "stdout",
     "output_type": "stream",
     "text": [
      "1\n",
      "2\n",
      "3\n",
      "4\n",
      "5\n",
      "6\n",
      "7\n",
      "8\n",
      "9\n"
     ]
    }
   ],
   "source": [
    "# If i want to calculate --> Other way\n",
    "for i in range(len(x)) :\n",
    "    print(x[i])"
   ]
  },
  {
   "cell_type": "code",
   "execution_count": 29,
   "id": "56818241",
   "metadata": {
    "ExecuteTime": {
     "end_time": "2022-03-04T13:58:12.900250Z",
     "start_time": "2022-03-04T13:58:12.885504Z"
    },
    "hidden": true
   },
   "outputs": [
    {
     "name": "stdout",
     "output_type": "stream",
     "text": [
      "1\n",
      "3\n",
      "5\n",
      "7\n"
     ]
    }
   ],
   "source": [
    "myset = {1,3,5,7}\n",
    "for i in myset :\n",
    "    print(i)"
   ]
  },
  {
   "cell_type": "code",
   "execution_count": 30,
   "id": "52716f99",
   "metadata": {
    "ExecuteTime": {
     "end_time": "2022-03-04T13:58:12.915210Z",
     "start_time": "2022-03-04T13:58:12.901248Z"
    },
    "hidden": true
   },
   "outputs": [
    {
     "data": {
      "text/plain": [
       "{'Name': 'Maha',\n",
       " 'Age': 28,\n",
       " 'Email': 'Maha@gmail.com',\n",
       " 'FavouriteColors': ['Red', 'Black']}"
      ]
     },
     "execution_count": 30,
     "metadata": {},
     "output_type": "execute_result"
    }
   ],
   "source": [
    "data = { \"Name\":\"Maha\" , \"Age\":28 , \"Email\":\"Maha@gmail.com\" , \"FavouriteColors\":[\"Red\" , \"Black\"] }\n",
    "data"
   ]
  },
  {
   "cell_type": "code",
   "execution_count": 31,
   "id": "02e93bbb",
   "metadata": {
    "ExecuteTime": {
     "end_time": "2022-03-04T13:58:12.931167Z",
     "start_time": "2022-03-04T13:58:12.919201Z"
    },
    "hidden": true
   },
   "outputs": [
    {
     "name": "stdout",
     "output_type": "stream",
     "text": [
      "Name\n",
      "Age\n",
      "Email\n",
      "FavouriteColors\n"
     ]
    }
   ],
   "source": [
    "# Print keys only\n",
    "for i in data :\n",
    "    print(i)"
   ]
  },
  {
   "cell_type": "code",
   "execution_count": 32,
   "id": "4e528705",
   "metadata": {
    "ExecuteTime": {
     "end_time": "2022-03-04T13:58:12.946127Z",
     "start_time": "2022-03-04T13:58:12.932165Z"
    },
    "hidden": true
   },
   "outputs": [
    {
     "name": "stdout",
     "output_type": "stream",
     "text": [
      "Maha\n",
      "28\n",
      "Maha@gmail.com\n",
      "['Red', 'Black']\n"
     ]
    }
   ],
   "source": [
    "# Print values only\n",
    "for i in data :\n",
    "    print(data[i])"
   ]
  },
  {
   "cell_type": "code",
   "execution_count": 33,
   "id": "99362fc4",
   "metadata": {
    "ExecuteTime": {
     "end_time": "2022-03-04T13:58:12.962119Z",
     "start_time": "2022-03-04T13:58:12.947150Z"
    },
    "hidden": true,
    "scrolled": true
   },
   "outputs": [
    {
     "name": "stdout",
     "output_type": "stream",
     "text": [
      "Name : Maha\n",
      "Age : 28\n",
      "Email : Maha@gmail.com\n",
      "FavouriteColors : ['Red', 'Black']\n"
     ]
    }
   ],
   "source": [
    "# Print keys & values\n",
    "for i in data :\n",
    "    print(i , \":\" , data[i])"
   ]
  },
  {
   "cell_type": "code",
   "execution_count": 34,
   "id": "92a8d0cc",
   "metadata": {
    "ExecuteTime": {
     "end_time": "2022-03-04T13:58:12.977076Z",
     "start_time": "2022-03-04T13:58:12.963117Z"
    },
    "hidden": true
   },
   "outputs": [
    {
     "name": "stdout",
     "output_type": "stream",
     "text": [
      "String found inside\n"
     ]
    }
   ],
   "source": [
    "exlist = [1,4,7,8,[3,\"M\",9],6]\n",
    "for i in exlist :\n",
    "    if i == \"M\" :\n",
    "        print(\"String found\")\n",
    "    elif type(i) == list :\n",
    "        for j in i :\n",
    "            if j == \"M\" :\n",
    "                print(\"String found inside\")"
   ]
  },
  {
   "cell_type": "markdown",
   "id": "2b7449e5",
   "metadata": {
    "heading_collapsed": true,
    "hidden": true
   },
   "source": [
    "## While Loop"
   ]
  },
  {
   "cell_type": "code",
   "execution_count": 35,
   "id": "42ffb574",
   "metadata": {
    "ExecuteTime": {
     "end_time": "2022-03-04T13:58:12.993034Z",
     "start_time": "2022-03-04T13:58:12.978075Z"
    },
    "hidden": true
   },
   "outputs": [
    {
     "name": "stdout",
     "output_type": "stream",
     "text": [
      "0\n",
      "1\n",
      "2\n",
      "3\n",
      "4\n",
      "5\n",
      "6\n",
      "7\n",
      "8\n",
      "9\n",
      "10\n"
     ]
    }
   ],
   "source": [
    "# It will do the order until the condition becomes False \n",
    "# It will do the order while the condition is True \n",
    "\n",
    "x = 0\n",
    "while x <= 10 :  # Condition\n",
    "    print(x)\n",
    "    x+=1\n",
    "    \n",
    "# It will print from 0 to 10 "
   ]
  },
  {
   "cell_type": "code",
   "execution_count": 36,
   "id": "458c0516",
   "metadata": {
    "ExecuteTime": {
     "end_time": "2022-03-04T13:58:13.007962Z",
     "start_time": "2022-03-04T13:58:12.994036Z"
    },
    "hidden": true
   },
   "outputs": [
    {
     "name": "stdout",
     "output_type": "stream",
     "text": [
      "1\n",
      "2\n",
      "3\n",
      "4\n",
      "M\n",
      "True\n",
      "5\n",
      "6\n"
     ]
    }
   ],
   "source": [
    "mylist = [1, 2, 3, 4, 'M', True, 5, 6, 7]\n",
    "x = 0\n",
    "while(x < 8):\n",
    "    print(mylist[x])\n",
    "    x+=1"
   ]
  },
  {
   "cell_type": "markdown",
   "id": "6ead1072",
   "metadata": {
    "heading_collapsed": true,
    "hidden": true
   },
   "source": [
    "## Break and Continue"
   ]
  },
  {
   "cell_type": "code",
   "execution_count": 37,
   "id": "9bab9cf1",
   "metadata": {
    "ExecuteTime": {
     "end_time": "2022-03-04T13:58:13.022956Z",
     "start_time": "2022-03-04T13:58:13.008990Z"
    },
    "hidden": true
   },
   "outputs": [
    {
     "data": {
      "text/plain": [
       "[1, 2, 3, 4, 5, 6, 7, 8, 9, 10]"
      ]
     },
     "execution_count": 37,
     "metadata": {},
     "output_type": "execute_result"
    }
   ],
   "source": [
    "numlist = [1,2,3,4,5,6,7,8,9,10]\n",
    "numlist"
   ]
  },
  {
   "cell_type": "code",
   "execution_count": 38,
   "id": "7f73d50d",
   "metadata": {
    "ExecuteTime": {
     "end_time": "2022-03-04T13:58:13.037914Z",
     "start_time": "2022-03-04T13:58:13.023953Z"
    },
    "hidden": true
   },
   "outputs": [
    {
     "name": "stdout",
     "output_type": "stream",
     "text": [
      "1\n",
      "2\n",
      "3\n",
      "4\n",
      "5\n",
      "7\n",
      "9\n"
     ]
    }
   ],
   "source": [
    "# Continue ===> Skip\n",
    "for i in numlist :\n",
    "    if i >= 6 and i%2 == 0 :\n",
    "        continue\n",
    "    else :\n",
    "        print(i)"
   ]
  },
  {
   "cell_type": "code",
   "execution_count": 39,
   "id": "55599803",
   "metadata": {
    "ExecuteTime": {
     "end_time": "2022-03-04T13:58:13.053872Z",
     "start_time": "2022-03-04T13:58:13.038898Z"
    },
    "hidden": true
   },
   "outputs": [
    {
     "name": "stdout",
     "output_type": "stream",
     "text": [
      "1\n",
      "2\n",
      "3\n",
      "4\n",
      "5\n"
     ]
    }
   ],
   "source": [
    "# Break ===> Comes outside loop\n",
    "for i in numlist :\n",
    "    if i >= 6 :\n",
    "        break\n",
    "    else :\n",
    "        print(i)"
   ]
  },
  {
   "cell_type": "markdown",
   "id": "6f804946",
   "metadata": {
    "heading_collapsed": true
   },
   "source": [
    "# Functions"
   ]
  },
  {
   "cell_type": "code",
   "execution_count": 40,
   "id": "088fc2db",
   "metadata": {
    "ExecuteTime": {
     "end_time": "2022-03-04T13:58:13.068827Z",
     "start_time": "2022-03-04T13:58:13.054873Z"
    },
    "hidden": true
   },
   "outputs": [],
   "source": [
    "list1 = [0,1,2,3,4,5,6,7,8,9,10]\n",
    "list2 = [11,12,13,14,15,16,17,18,19,20]"
   ]
  },
  {
   "cell_type": "code",
   "execution_count": 41,
   "id": "4c321546",
   "metadata": {
    "ExecuteTime": {
     "end_time": "2022-03-04T13:58:13.084789Z",
     "start_time": "2022-03-04T13:58:13.069844Z"
    },
    "hidden": true
   },
   "outputs": [],
   "source": [
    "def printeven (listname) :\n",
    "    for i in listname :\n",
    "        if type(i) == int and i%2 == 0 :\n",
    "            print(i)"
   ]
  },
  {
   "cell_type": "code",
   "execution_count": 42,
   "id": "4b54b2c7",
   "metadata": {
    "ExecuteTime": {
     "end_time": "2022-03-04T13:58:13.099741Z",
     "start_time": "2022-03-04T13:58:13.085786Z"
    },
    "hidden": true
   },
   "outputs": [
    {
     "name": "stdout",
     "output_type": "stream",
     "text": [
      "0\n",
      "2\n",
      "4\n",
      "6\n",
      "8\n",
      "10\n"
     ]
    }
   ],
   "source": [
    "printeven(list1)"
   ]
  },
  {
   "cell_type": "code",
   "execution_count": 43,
   "id": "604b488e",
   "metadata": {
    "ExecuteTime": {
     "end_time": "2022-03-04T13:58:13.114707Z",
     "start_time": "2022-03-04T13:58:13.100714Z"
    },
    "hidden": true
   },
   "outputs": [
    {
     "name": "stdout",
     "output_type": "stream",
     "text": [
      "12\n",
      "14\n",
      "16\n",
      "18\n",
      "20\n"
     ]
    }
   ],
   "source": [
    "printeven(list2)"
   ]
  },
  {
   "cell_type": "code",
   "execution_count": 44,
   "id": "aaba135c",
   "metadata": {
    "ExecuteTime": {
     "end_time": "2022-03-04T13:58:13.130668Z",
     "start_time": "2022-03-04T13:58:13.115714Z"
    },
    "hidden": true
   },
   "outputs": [],
   "source": [
    "def mathoperation (a,b) :\n",
    "    x = a + b\n",
    "    y = x / 2\n",
    "    z = y + 10\n",
    "    print(x,y,z)"
   ]
  },
  {
   "cell_type": "code",
   "execution_count": 45,
   "id": "4ddf6b3a",
   "metadata": {
    "ExecuteTime": {
     "end_time": "2022-03-04T13:58:13.146615Z",
     "start_time": "2022-03-04T13:58:13.131632Z"
    },
    "hidden": true
   },
   "outputs": [
    {
     "name": "stdout",
     "output_type": "stream",
     "text": [
      "8 4.0 14.0\n"
     ]
    }
   ],
   "source": [
    "mathoperation(5,3)"
   ]
  },
  {
   "cell_type": "code",
   "execution_count": 46,
   "id": "0054c76d",
   "metadata": {
    "ExecuteTime": {
     "end_time": "2022-03-04T13:58:13.161577Z",
     "start_time": "2022-03-04T13:58:13.147621Z"
    },
    "hidden": true
   },
   "outputs": [],
   "source": [
    "def addten (listname) : \n",
    "    for i in range(len(listname)) :\n",
    "        listname[i]*=1.1\n",
    "    print(listname)"
   ]
  },
  {
   "cell_type": "code",
   "execution_count": 47,
   "id": "5f05c837",
   "metadata": {
    "ExecuteTime": {
     "end_time": "2022-03-04T13:58:13.177535Z",
     "start_time": "2022-03-04T13:58:13.162573Z"
    },
    "hidden": true
   },
   "outputs": [],
   "source": [
    "empsalary = [1000,2000,3000,4000,5000]"
   ]
  },
  {
   "cell_type": "code",
   "execution_count": 48,
   "id": "ebaa72c7",
   "metadata": {
    "ExecuteTime": {
     "end_time": "2022-03-04T13:58:13.192502Z",
     "start_time": "2022-03-04T13:58:13.179503Z"
    },
    "hidden": true
   },
   "outputs": [
    {
     "name": "stdout",
     "output_type": "stream",
     "text": [
      "[1100.0, 2200.0, 3300.0000000000005, 4400.0, 5500.0]\n"
     ]
    }
   ],
   "source": [
    "addten(empsalary)"
   ]
  },
  {
   "cell_type": "code",
   "execution_count": 49,
   "id": "3ad7f7e6",
   "metadata": {
    "ExecuteTime": {
     "end_time": "2022-03-04T13:58:13.208452Z",
     "start_time": "2022-03-04T13:58:13.193499Z"
    },
    "hidden": true
   },
   "outputs": [],
   "source": [
    "def searchforelement (listname,element) :\n",
    "    for i in listname :\n",
    "        if i == element :\n",
    "            return True\n",
    "    \n",
    "    return False"
   ]
  },
  {
   "cell_type": "code",
   "execution_count": 50,
   "id": "3f192bac",
   "metadata": {
    "ExecuteTime": {
     "end_time": "2022-03-04T13:58:13.223420Z",
     "start_time": "2022-03-04T13:58:13.209459Z"
    },
    "hidden": true
   },
   "outputs": [],
   "source": [
    "list1 = [0,1,2,3,4,5,6,7,8,9,10]\n",
    "list2 = [11,12,13,14,15,16,17,18,19,20]"
   ]
  },
  {
   "cell_type": "code",
   "execution_count": 51,
   "id": "cfbed3bd",
   "metadata": {
    "ExecuteTime": {
     "end_time": "2022-03-04T13:58:13.238380Z",
     "start_time": "2022-03-04T13:58:13.224382Z"
    },
    "hidden": true
   },
   "outputs": [
    {
     "data": {
      "text/plain": [
       "True"
      ]
     },
     "execution_count": 51,
     "metadata": {},
     "output_type": "execute_result"
    }
   ],
   "source": [
    "searchforelement(list1,6)"
   ]
  },
  {
   "cell_type": "code",
   "execution_count": 52,
   "id": "df78b4d9",
   "metadata": {
    "ExecuteTime": {
     "end_time": "2022-03-04T13:58:13.254337Z",
     "start_time": "2022-03-04T13:58:13.239380Z"
    },
    "hidden": true
   },
   "outputs": [
    {
     "data": {
      "text/plain": [
       "False"
      ]
     },
     "execution_count": 52,
     "metadata": {},
     "output_type": "execute_result"
    }
   ],
   "source": [
    "searchforelement(list1,18)"
   ]
  },
  {
   "cell_type": "code",
   "execution_count": 53,
   "id": "f5f78b51",
   "metadata": {
    "ExecuteTime": {
     "end_time": "2022-03-04T13:58:13.270295Z",
     "start_time": "2022-03-04T13:58:13.255349Z"
    },
    "hidden": true
   },
   "outputs": [
    {
     "data": {
      "text/plain": [
       "True"
      ]
     },
     "execution_count": 53,
     "metadata": {},
     "output_type": "execute_result"
    }
   ],
   "source": [
    "searchforelement(list2,15)"
   ]
  },
  {
   "cell_type": "code",
   "execution_count": 54,
   "id": "fcadc766",
   "metadata": {
    "ExecuteTime": {
     "end_time": "2022-03-04T13:58:13.285253Z",
     "start_time": "2022-03-04T13:58:13.271290Z"
    },
    "hidden": true
   },
   "outputs": [
    {
     "data": {
      "text/plain": [
       "False"
      ]
     },
     "execution_count": 54,
     "metadata": {},
     "output_type": "execute_result"
    }
   ],
   "source": [
    "searchforelement(list2,4)"
   ]
  },
  {
   "cell_type": "markdown",
   "id": "44447657",
   "metadata": {
    "hidden": true
   },
   "source": [
    "**print VS return**\n",
    "* print ===> print only not store any value from function\n",
    "* return ===> return back values from function"
   ]
  },
  {
   "cell_type": "code",
   "execution_count": 55,
   "id": "d46ca25b",
   "metadata": {
    "ExecuteTime": {
     "end_time": "2022-03-04T13:58:13.301177Z",
     "start_time": "2022-03-04T13:58:13.286218Z"
    },
    "hidden": true
   },
   "outputs": [],
   "source": [
    "def add(number1,number2):\n",
    "    print (number1+number2)"
   ]
  },
  {
   "cell_type": "code",
   "execution_count": 56,
   "id": "1ca8867e",
   "metadata": {
    "ExecuteTime": {
     "end_time": "2022-03-04T13:58:13.316173Z",
     "start_time": "2022-03-04T13:58:13.302176Z"
    },
    "hidden": true,
    "scrolled": true
   },
   "outputs": [
    {
     "name": "stdout",
     "output_type": "stream",
     "text": [
      "7\n"
     ]
    }
   ],
   "source": [
    "z = add (3,4)"
   ]
  },
  {
   "cell_type": "code",
   "execution_count": 57,
   "id": "b9fc8b23",
   "metadata": {
    "ExecuteTime": {
     "end_time": "2022-03-04T13:58:13.332131Z",
     "start_time": "2022-03-04T13:58:13.317136Z"
    },
    "hidden": true
   },
   "outputs": [],
   "source": [
    "z"
   ]
  },
  {
   "cell_type": "code",
   "execution_count": 58,
   "id": "15a0b796",
   "metadata": {
    "ExecuteTime": {
     "end_time": "2022-03-04T13:58:13.347097Z",
     "start_time": "2022-03-04T13:58:13.333093Z"
    },
    "hidden": true
   },
   "outputs": [],
   "source": [
    "def add(number1,number2):\n",
    "    return (number1+number2)"
   ]
  },
  {
   "cell_type": "code",
   "execution_count": 59,
   "id": "86795eaf",
   "metadata": {
    "ExecuteTime": {
     "end_time": "2022-03-04T13:58:13.362055Z",
     "start_time": "2022-03-04T13:58:13.349066Z"
    },
    "hidden": true
   },
   "outputs": [],
   "source": [
    "x = add (3,4)"
   ]
  },
  {
   "cell_type": "code",
   "execution_count": 60,
   "id": "592686fa",
   "metadata": {
    "ExecuteTime": {
     "end_time": "2022-03-04T13:58:13.378005Z",
     "start_time": "2022-03-04T13:58:13.363013Z"
    },
    "hidden": true
   },
   "outputs": [
    {
     "data": {
      "text/plain": [
       "7"
      ]
     },
     "execution_count": 60,
     "metadata": {},
     "output_type": "execute_result"
    }
   ],
   "source": [
    "x"
   ]
  },
  {
   "cell_type": "markdown",
   "id": "4bcc3c4d",
   "metadata": {
    "heading_collapsed": true
   },
   "source": [
    "# Make you own library"
   ]
  },
  {
   "cell_type": "code",
   "execution_count": 61,
   "id": "4499a057",
   "metadata": {
    "ExecuteTime": {
     "end_time": "2022-03-04T13:58:13.393931Z",
     "start_time": "2022-03-04T13:58:13.379019Z"
    },
    "hidden": true
   },
   "outputs": [],
   "source": [
    "import math"
   ]
  },
  {
   "cell_type": "code",
   "execution_count": 62,
   "id": "102064fe",
   "metadata": {
    "ExecuteTime": {
     "end_time": "2022-03-04T13:58:13.408924Z",
     "start_time": "2022-03-04T13:58:13.395924Z"
    },
    "hidden": true
   },
   "outputs": [
    {
     "data": {
      "text/plain": [
       "3.141592653589793"
      ]
     },
     "execution_count": 62,
     "metadata": {},
     "output_type": "execute_result"
    }
   ],
   "source": [
    "math.pi"
   ]
  },
  {
   "cell_type": "code",
   "execution_count": 63,
   "id": "787331bb",
   "metadata": {
    "ExecuteTime": {
     "end_time": "2022-03-04T13:58:13.424849Z",
     "start_time": "2022-03-04T13:58:13.409907Z"
    },
    "hidden": true
   },
   "outputs": [
    {
     "data": {
      "text/plain": [
       "6.0"
      ]
     },
     "execution_count": 63,
     "metadata": {},
     "output_type": "execute_result"
    }
   ],
   "source": [
    "math.sqrt(36)"
   ]
  },
  {
   "cell_type": "code",
   "execution_count": 64,
   "id": "82e36e3b",
   "metadata": {
    "ExecuteTime": {
     "end_time": "2022-03-04T13:58:13.439810Z",
     "start_time": "2022-03-04T13:58:13.425847Z"
    },
    "hidden": true
   },
   "outputs": [
    {
     "data": {
      "text/plain": [
       "24"
      ]
     },
     "execution_count": 64,
     "metadata": {},
     "output_type": "execute_result"
    }
   ],
   "source": [
    "math.factorial(4)\n",
    "# 4*3*2*1"
   ]
  },
  {
   "cell_type": "markdown",
   "id": "eeec361e",
   "metadata": {
    "hidden": true
   },
   "source": [
    "**Experiment of My_Library**"
   ]
  },
  {
   "cell_type": "code",
   "execution_count": 65,
   "id": "8e1fd273",
   "metadata": {
    "ExecuteTime": {
     "end_time": "2022-03-04T13:58:13.455796Z",
     "start_time": "2022-03-04T13:58:13.440807Z"
    },
    "hidden": true
   },
   "outputs": [],
   "source": [
    "import My_Library"
   ]
  },
  {
   "cell_type": "code",
   "execution_count": 66,
   "id": "c440ae48",
   "metadata": {
    "ExecuteTime": {
     "end_time": "2022-03-04T13:58:13.470757Z",
     "start_time": "2022-03-04T13:58:13.456762Z"
    },
    "hidden": true
   },
   "outputs": [
    {
     "data": {
      "text/plain": [
       "9.8"
      ]
     },
     "execution_count": 66,
     "metadata": {},
     "output_type": "execute_result"
    }
   ],
   "source": [
    "My_Library.gravity"
   ]
  },
  {
   "cell_type": "code",
   "execution_count": 67,
   "id": "2656540c",
   "metadata": {
    "ExecuteTime": {
     "end_time": "2022-03-04T13:58:13.485728Z",
     "start_time": "2022-03-04T13:58:13.471755Z"
    },
    "hidden": true
   },
   "outputs": [
    {
     "data": {
      "text/plain": [
       "2.7"
      ]
     },
     "execution_count": 67,
     "metadata": {},
     "output_type": "execute_result"
    }
   ],
   "source": [
    "My_Library.e"
   ]
  },
  {
   "cell_type": "code",
   "execution_count": 68,
   "id": "28989d4b",
   "metadata": {
    "ExecuteTime": {
     "end_time": "2022-03-04T13:58:13.501677Z",
     "start_time": "2022-03-04T13:58:13.486715Z"
    },
    "hidden": true
   },
   "outputs": [
    {
     "data": {
      "text/plain": [
       "9000000000"
      ]
     },
     "execution_count": 68,
     "metadata": {},
     "output_type": "execute_result"
    }
   ],
   "source": [
    "My_Library.k"
   ]
  },
  {
   "cell_type": "code",
   "execution_count": 69,
   "id": "6688ff83",
   "metadata": {
    "ExecuteTime": {
     "end_time": "2022-03-04T13:58:13.517599Z",
     "start_time": "2022-03-04T13:58:13.502640Z"
    },
    "hidden": true
   },
   "outputs": [
    {
     "data": {
      "text/plain": [
       "6.63e-34"
      ]
     },
     "execution_count": 69,
     "metadata": {},
     "output_type": "execute_result"
    }
   ],
   "source": [
    "My_Library.plank"
   ]
  },
  {
   "cell_type": "code",
   "execution_count": 70,
   "id": "d884f4c5",
   "metadata": {
    "ExecuteTime": {
     "end_time": "2022-03-04T13:58:13.532583Z",
     "start_time": "2022-03-04T13:58:13.518600Z"
    },
    "hidden": true
   },
   "outputs": [
    {
     "name": "stdout",
     "output_type": "stream",
     "text": [
      "2.0\n"
     ]
    }
   ],
   "source": [
    "My_Library.divide(4,2)"
   ]
  },
  {
   "cell_type": "code",
   "execution_count": 71,
   "id": "839cd2d5",
   "metadata": {
    "ExecuteTime": {
     "end_time": "2022-03-04T13:58:13.548550Z",
     "start_time": "2022-03-04T13:58:13.533558Z"
    },
    "hidden": true
   },
   "outputs": [],
   "source": [
    "x = [1,3,5,7,9]"
   ]
  },
  {
   "cell_type": "code",
   "execution_count": 72,
   "id": "37f793c5",
   "metadata": {
    "ExecuteTime": {
     "end_time": "2022-03-04T13:58:13.563477Z",
     "start_time": "2022-03-04T13:58:13.549515Z"
    },
    "hidden": true
   },
   "outputs": [
    {
     "name": "stdout",
     "output_type": "stream",
     "text": [
      "Element is found\n"
     ]
    }
   ],
   "source": [
    "My_Library.find(x,9)"
   ]
  },
  {
   "cell_type": "code",
   "execution_count": 73,
   "id": "e9dfbce7",
   "metadata": {
    "ExecuteTime": {
     "end_time": "2022-03-04T13:58:13.579550Z",
     "start_time": "2022-03-04T13:58:13.564475Z"
    },
    "hidden": true
   },
   "outputs": [
    {
     "name": "stdout",
     "output_type": "stream",
     "text": [
      "Element is added\n",
      "[1, 3, 5, 7, 9, 11]\n"
     ]
    }
   ],
   "source": [
    "My_Library.add(x,11)"
   ]
  },
  {
   "cell_type": "code",
   "execution_count": 74,
   "id": "c8aa53d7",
   "metadata": {
    "ExecuteTime": {
     "end_time": "2022-03-04T13:58:13.595507Z",
     "start_time": "2022-03-04T13:58:13.581520Z"
    },
    "hidden": true
   },
   "outputs": [
    {
     "name": "stdout",
     "output_type": "stream",
     "text": [
      "Element is already in the list\n"
     ]
    }
   ],
   "source": [
    "My_Library.add(x,7)"
   ]
  },
  {
   "cell_type": "markdown",
   "id": "5ae4a496",
   "metadata": {
    "heading_collapsed": true
   },
   "source": [
    "# Try ..... Except"
   ]
  },
  {
   "cell_type": "code",
   "execution_count": 75,
   "id": "7757f104",
   "metadata": {
    "ExecuteTime": {
     "end_time": "2022-03-04T13:58:13.610434Z",
     "start_time": "2022-03-04T13:58:13.596488Z"
    },
    "hidden": true
   },
   "outputs": [],
   "source": [
    "# try :\n",
    "     # Some Code\n",
    "# except :\n",
    "     # Executed if an error in the try block"
   ]
  },
  {
   "cell_type": "code",
   "execution_count": 76,
   "id": "11730708",
   "metadata": {
    "ExecuteTime": {
     "end_time": "2022-03-04T13:58:13.626424Z",
     "start_time": "2022-03-04T13:58:13.612431Z"
    },
    "hidden": true
   },
   "outputs": [],
   "source": [
    "def divide (a,b) :\n",
    "    try :\n",
    "        R = a / b\n",
    "        print(\"Result = \" , R)\n",
    "    except :\n",
    "        print(\"An error occure , please try again\")"
   ]
  },
  {
   "cell_type": "code",
   "execution_count": 77,
   "id": "1c074f47",
   "metadata": {
    "ExecuteTime": {
     "end_time": "2022-03-04T13:58:13.888988Z",
     "start_time": "2022-03-04T13:58:13.627390Z"
    },
    "hidden": true
   },
   "outputs": [
    {
     "name": "stdout",
     "output_type": "stream",
     "text": [
      "An error occure , please try again\n"
     ]
    }
   ],
   "source": [
    "divide(5,0)"
   ]
  },
  {
   "cell_type": "code",
   "execution_count": 78,
   "id": "68cd1dae",
   "metadata": {
    "ExecuteTime": {
     "end_time": "2022-03-04T13:58:13.904016Z",
     "start_time": "2022-03-04T13:58:13.889961Z"
    },
    "hidden": true
   },
   "outputs": [
    {
     "name": "stdout",
     "output_type": "stream",
     "text": [
      "Result =  5.0\n"
     ]
    }
   ],
   "source": [
    "divide(10,2)"
   ]
  },
  {
   "cell_type": "code",
   "execution_count": 79,
   "id": "81347ad7",
   "metadata": {
    "ExecuteTime": {
     "end_time": "2022-03-04T13:58:13.920032Z",
     "start_time": "2022-03-04T13:58:13.904982Z"
    },
    "hidden": true
   },
   "outputs": [],
   "source": [
    "# try :\n",
    "     # Some Code\n",
    "# except :\n",
    "     # Executed if an error in the try block\n",
    "# else :\n",
    "     # Executed if no exception"
   ]
  },
  {
   "cell_type": "code",
   "execution_count": 80,
   "id": "bb560161",
   "metadata": {
    "ExecuteTime": {
     "end_time": "2022-03-04T13:58:13.935795Z",
     "start_time": "2022-03-04T13:58:13.921025Z"
    },
    "hidden": true
   },
   "outputs": [],
   "source": [
    "def divide (a,b) :\n",
    "    try :\n",
    "        R = a / b\n",
    "    except :\n",
    "        print(\"An error occure , please try again\")\n",
    "    else :\n",
    "        print(\"Result = \" , R)"
   ]
  },
  {
   "cell_type": "code",
   "execution_count": 81,
   "id": "59973114",
   "metadata": {
    "ExecuteTime": {
     "end_time": "2022-03-04T13:58:13.950984Z",
     "start_time": "2022-03-04T13:58:13.936786Z"
    },
    "hidden": true
   },
   "outputs": [
    {
     "name": "stdout",
     "output_type": "stream",
     "text": [
      "An error occure , please try again\n"
     ]
    }
   ],
   "source": [
    "divide(20,0)"
   ]
  },
  {
   "cell_type": "code",
   "execution_count": 82,
   "id": "031b790a",
   "metadata": {
    "ExecuteTime": {
     "end_time": "2022-03-04T13:58:13.966419Z",
     "start_time": "2022-03-04T13:58:13.952984Z"
    },
    "hidden": true
   },
   "outputs": [
    {
     "name": "stdout",
     "output_type": "stream",
     "text": [
      "Result =  6.0\n"
     ]
    }
   ],
   "source": [
    "divide(30,5)"
   ]
  }
 ],
 "metadata": {
  "kernelspec": {
   "display_name": "Python 3 (ipykernel)",
   "language": "python",
   "name": "python3"
  },
  "language_info": {
   "codemirror_mode": {
    "name": "ipython",
    "version": 3
   },
   "file_extension": ".py",
   "mimetype": "text/x-python",
   "name": "python",
   "nbconvert_exporter": "python",
   "pygments_lexer": "ipython3",
   "version": "3.9.7"
  },
  "toc": {
   "base_numbering": 1,
   "nav_menu": {},
   "number_sections": true,
   "sideBar": true,
   "skip_h1_title": false,
   "title_cell": "Table of Contents",
   "title_sidebar": "Contents",
   "toc_cell": false,
   "toc_position": {},
   "toc_section_display": true,
   "toc_window_display": false
  },
  "varInspector": {
   "cols": {
    "lenName": 16,
    "lenType": 16,
    "lenVar": 40
   },
   "kernels_config": {
    "python": {
     "delete_cmd_postfix": "",
     "delete_cmd_prefix": "del ",
     "library": "var_list.py",
     "varRefreshCmd": "print(var_dic_list())"
    },
    "r": {
     "delete_cmd_postfix": ") ",
     "delete_cmd_prefix": "rm(",
     "library": "var_list.r",
     "varRefreshCmd": "cat(var_dic_list()) "
    }
   },
   "types_to_exclude": [
    "module",
    "function",
    "builtin_function_or_method",
    "instance",
    "_Feature"
   ],
   "window_display": false
  }
 },
 "nbformat": 4,
 "nbformat_minor": 5
}
