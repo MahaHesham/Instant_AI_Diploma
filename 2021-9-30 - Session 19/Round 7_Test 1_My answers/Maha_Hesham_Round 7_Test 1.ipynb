{
 "cells": [
  {
   "cell_type": "markdown",
   "id": "6913eb15",
   "metadata": {},
   "source": [
    "<h2> Questions </h2>"
   ]
  },
  {
   "cell_type": "markdown",
   "id": "61708524",
   "metadata": {},
   "source": [
    "1- from your point of view, what is AI ? "
   ]
  },
  {
   "cell_type": "markdown",
   "id": "e2c5b05e",
   "metadata": {},
   "source": [
    "* AI stands for artificial intelligence , derived from natural intelligence . \n",
    "* It is an optimizing technique to get the best possible with the lowest cost or effort possible ."
   ]
  },
  {
   "cell_type": "markdown",
   "id": "e65c7b12",
   "metadata": {},
   "source": [
    "2- Why Do we use AI ? "
   ]
  },
  {
   "cell_type": "markdown",
   "id": "77e68fd7",
   "metadata": {},
   "source": [
    "* To make desisions and reduce effort without emotions (i.e : minimum effort & maximum profit)"
   ]
  },
  {
   "cell_type": "markdown",
   "id": "a370e37e",
   "metadata": {},
   "source": [
    "3- When to use AI and when not to ? "
   ]
  },
  {
   "cell_type": "markdown",
   "id": "d7413210",
   "metadata": {},
   "source": [
    "* You should use Artificial Intelligence (AI) when you:\n",
    "1. require a great degree precision.\n",
    "2. faster decision-making.\n",
    "3. handle decisions logically without human interference.\n",
    "4. handle redundant tasks.\n",
    "5. risk analysis.\n",
    "\n",
    "* You shouldn't use Artificial Intelligence (AI) when you:\n",
    "1. Solving less complex problems.\n",
    "2. Lack of labeled data and in-house expertise."
   ]
  },
  {
   "cell_type": "markdown",
   "id": "1bae8536",
   "metadata": {},
   "source": [
    "4- What is the AI pipeline, define each step?\n"
   ]
  },
  {
   "cell_type": "markdown",
   "id": "66f3b202",
   "metadata": {},
   "source": [
    "* AI pipeline : sequence of operations to perform from A-Z to reach goal (steps that should to do to achieve AI aim)\n",
    "\n",
    "* Steps :-\n",
    "1. Verify AI ( is there any other options )\n",
    "2. Collect data ( Data Gathering ) \n",
    "3. Data Preprocessing ( initial processing of data to be suited for analysis )\n",
    "4. Feature Engineering ( conclude insights , choose useful information )\n",
    "5. Model selection ( which machine learning algorithm to use , based on: {type of data , data relations , values} )\n",
    "6. Fit the data into model ( convert the algorithm into code to get the best results )\n",
    "7. Train ( check code before deployment )\n",
    "8. Test ( check system frontend before deployment )\n",
    "9. Deploy ( upload the whole system on development / production environment )\n",
    "10. Monitor ( check the whole system after deployment ,  monitor the system server memory and database memory )"
   ]
  },
  {
   "cell_type": "markdown",
   "id": "853e4554",
   "metadata": {},
   "source": [
    "5- Define the general sequence of software engineering?\n"
   ]
  },
  {
   "cell_type": "markdown",
   "id": "3876e138",
   "metadata": {},
   "source": [
    "* Software engineering was introduced to address the issues of low-quality software projects. Problems arise when a software generally exceeds timelines, budgets, and reduced levels of quality.\n",
    "\n",
    "* SDLC:-\n",
    "1. Communication\n",
    "2. Requirement Gathering\n",
    "3. Feasibility Study\n",
    "4. System Analysis\n",
    "5. Software Design\n",
    "6. Coding\n",
    "7. Testing\n",
    "8. Integration\n",
    "9. Implementation\n",
    "10. Operations and maintenance\n",
    "11. Disposition"
   ]
  },
  {
   "cell_type": "markdown",
   "id": "d0232d9e",
   "metadata": {},
   "source": [
    "6- Why devOps has become the most important cycle in software engineering? "
   ]
  },
  {
   "cell_type": "markdown",
   "id": "26aaca61",
   "metadata": {},
   "source": [
    "* DevOps describes a culture and set of processes that bring development and operations teams together to complete software development\n",
    "\n",
    "* Reasons:-\n",
    "1. Shorter Development Cycles, Faster Innovation\n",
    "2. Reduced Deployment Failures, Rollbacks, and Time to Recover\n",
    "3. Improved Communication and Collaboration between develpers and operation team\n",
    "4. Increased Efficiencies\n",
    "5. Reduced Costs and IT Headcount"
   ]
  },
  {
   "cell_type": "markdown",
   "id": "8f2356b6",
   "metadata": {},
   "source": [
    "7- State the difference between MLOps , DataOps"
   ]
  },
  {
   "cell_type": "markdown",
   "id": "a23475cf",
   "metadata": {},
   "source": [
    "* DataOps is for deploying and monitoring data pipelines.\n",
    "\n",
    "* MLOps is for deploying and monitoring machine learning models.\n",
    "\n",
    "* You can have DataOps without MLOps because you can have data extraction and transformation without machine learning. The contrary is rarely true."
   ]
  },
  {
   "cell_type": "markdown",
   "id": "eeef8e51",
   "metadata": {},
   "source": [
    "8- AI is .....% data and .....% modeling "
   ]
  },
  {
   "cell_type": "markdown",
   "id": "fc8ce90e",
   "metadata": {},
   "source": [
    "*  AI is 80 % data and 20 % modeling\n",
    "\n",
    "* 80 % data : 90 % data cleaning , filtering & 10 % apply data analysis algorithms , get insights"
   ]
  },
  {
   "cell_type": "markdown",
   "id": "16684452",
   "metadata": {},
   "source": [
    "9- Give 5 examples of AI driven companies in Egypt, and state what they apply AI in."
   ]
  },
  {
   "cell_type": "markdown",
   "id": "36a71d06",
   "metadata": {},
   "source": []
  },
  {
   "cell_type": "markdown",
   "id": "c57286a1",
   "metadata": {},
   "source": [
    "10- What are the most common AI fields in Egypt? "
   ]
  },
  {
   "cell_type": "markdown",
   "id": "40c4f64d",
   "metadata": {},
   "source": [
    "1. NLP\n",
    "2. Data analysis\n",
    "3. Computer vision\n",
    "4. Medical field"
   ]
  },
  {
   "cell_type": "markdown",
   "id": "29b88215",
   "metadata": {},
   "source": [
    "11- Define Data Science "
   ]
  },
  {
   "cell_type": "markdown",
   "id": "99b04e29",
   "metadata": {},
   "source": [
    "* The science that deals with any operations of any kind that we perform on the data from start ( data gathering , filtering , preprocessing , ...etc ) to end"
   ]
  },
  {
   "cell_type": "markdown",
   "id": "2426fcf6",
   "metadata": {},
   "source": [
    "12- What is the difference between data scientist, data engineer, and data analyst?"
   ]
  },
  {
   "cell_type": "markdown",
   "id": "80f4c5d7",
   "metadata": {},
   "source": [
    "* Data Scientist : select which portion of data to work on , Sampling , process data based on type of problem , take notes , generate insights about data - document results store data temporary.\n",
    "\n",
    "* Data Engineer ( Data Responsibility ) : Categorize - preprocessing categories - Structure Data - manage access -document data ( write data schema ) - Store Data.\n",
    "\n",
    "* Data analyist : generate reports , data modeling ( ml / deep learning ) documentation."
   ]
  },
  {
   "cell_type": "markdown",
   "id": "bcc10d47",
   "metadata": {},
   "source": [
    "13- What are the most important skills an AI engineer must have? \n"
   ]
  },
  {
   "cell_type": "markdown",
   "id": "79d3fd69",
   "metadata": {},
   "source": [
    "1. Troubleshooting and Problem-solving Skills\n",
    "2. Programming Skills ( knowledge of many coding languages (java , python , c# , c++ , ...etc ) )\n",
    "3. Knowledge of Linear Algebra, Probability, calculus, and Statistics \n",
    "4. Spark and Big Data Technologies\n",
    "5. Knowledge of Algorithms and Frameworks"
   ]
  },
  {
   "cell_type": "markdown",
   "id": "45e9ffd2",
   "metadata": {},
   "source": [
    "14- What are the data collecting methods, explain each one breifly."
   ]
  },
  {
   "cell_type": "markdown",
   "id": "73019db4",
   "metadata": {},
   "source": [
    "1. Interviews.\n",
    "2. Questionnaires and surveys.\n",
    "3. Observations.\n",
    "4. Documents and records.\n",
    "5. Focus groups.\n",
    "6. Oral histories."
   ]
  },
  {
   "cell_type": "markdown",
   "id": "3f654528",
   "metadata": {},
   "source": [
    "15- What is feature engineering?"
   ]
  },
  {
   "cell_type": "markdown",
   "id": "ace1d416",
   "metadata": {},
   "source": [
    "* the process of using domain knowledge to extract features (characteristics, properties, attributes) from raw data"
   ]
  },
  {
   "cell_type": "markdown",
   "id": "fc91490e",
   "metadata": {},
   "source": [
    "16- What are the parts of mathemactics used for AI? "
   ]
  },
  {
   "cell_type": "markdown",
   "id": "e96df113",
   "metadata": {},
   "source": [
    "1. linear algebra ( Collect data { Data Gathering } )\n",
    "2. statistics ( Data Preprocessing {initial processing of data to be suited for analysis } )\n",
    "3. probability ( Feature Engineering { conclude insights } )\n",
    "4. calculus ( Monitor )"
   ]
  },
  {
   "cell_type": "markdown",
   "id": "9021267c",
   "metadata": {},
   "source": [
    "17- Explain why do we need each part of the math used for AI."
   ]
  },
  {
   "cell_type": "markdown",
   "id": "461c4208",
   "metadata": {},
   "source": [
    "1. linear algebra ( read data , represent data as equations )\n",
    "2. statistics ( collect info about the data, test relations )\n",
    "3. probability ( test probability of events that might happen )\n",
    "4. calculus ( how to modify equations )"
   ]
  },
  {
   "cell_type": "markdown",
   "id": "781c08d3",
   "metadata": {},
   "source": [
    "18- What is data sampling? why do we sample? and how to avoid bad sampling? "
   ]
  },
  {
   "cell_type": "markdown",
   "id": "6e27b195",
   "metadata": {},
   "source": [
    "* Data sampling is a statistical analysis technique used to select, manipulate and analyze a representative subset of data points to identify patterns and trends in the larger data set being examined\n",
    "\n",
    "* We use Sampling to draw conclusions about populations from samples , sampling can be particularly useful with data sets that are too large to efficiently analyze in full\n",
    "\n",
    "* To avoid bad sampling\n",
    "1. Define a target population and a sampling frame (the list of individuals that the sample will be drawn from).\n",
    "2. Make online surveys as short and accessible as possible.\n",
    "3. Follow up on non-responders.\n",
    "4. Avoid convenience sampling."
   ]
  },
  {
   "cell_type": "markdown",
   "id": "2aae475c",
   "metadata": {},
   "source": [
    "19- What are the acceptable range of data used for sampling?"
   ]
  },
  {
   "cell_type": "markdown",
   "id": "c5b307d4",
   "metadata": {},
   "source": [
    "* A good maximum sample size is usually around 10% of the population, as long as this does not exceed 1000 , Even in a population of 200,000, sampling 1000 people will normally give a fairly accurate result."
   ]
  },
  {
   "cell_type": "markdown",
   "id": "cc160c86",
   "metadata": {},
   "source": [
    "20- What are the problems of genrealizing a result obtained by studying a sample into the whole dataset? "
   ]
  },
  {
   "cell_type": "markdown",
   "id": "688db583",
   "metadata": {},
   "source": [
    "1. The sample size may not be enough to express the population and therefore it will not be representative of all the data\n",
    "\n",
    "2. The circumstances in which I worked, the statistics are different from one sample to another"
   ]
  },
  {
   "cell_type": "markdown",
   "id": "90dddcfa",
   "metadata": {},
   "source": [
    "21- Suggest a way to work with small dataset."
   ]
  },
  {
   "cell_type": "markdown",
   "id": "0ccc6cf6",
   "metadata": {},
   "source": [
    "1. Choose simple models.\n",
    "2. Remove outliers from data.\n",
    "3. Select relevant features.\n",
    "4. Combine several models.\n",
    "5. Rely on confidence intervals instead of point estimates.\n",
    "6. Extend the dataset.\n",
    "7. Apply transfer learning when possible."
   ]
  },
  {
   "cell_type": "markdown",
   "id": "8fc0b898",
   "metadata": {},
   "source": [
    "22- What are the basic types of data in python?\n"
   ]
  },
  {
   "cell_type": "markdown",
   "id": "4ce68129",
   "metadata": {},
   "source": [
    "* Integer (int) , Floating Point (float) , Character (char) , String (str or text) , Boolean (bool) , Enumerated type (enum) , Array , Date"
   ]
  },
  {
   "cell_type": "markdown",
   "id": "7ffcd7d1",
   "metadata": {},
   "source": [
    "23- Define python as a programming languaege."
   ]
  },
  {
   "cell_type": "markdown",
   "id": "3cfa69b8",
   "metadata": {},
   "source": [
    "* python is low-level, interpreted, untyped, oop based, programing language"
   ]
  },
  {
   "cell_type": "markdown",
   "id": "a803daaa",
   "metadata": {},
   "source": [
    "24- Give 2 examples of 2 low level programming languages?"
   ]
  },
  {
   "cell_type": "markdown",
   "id": "d3e20414",
   "metadata": {},
   "source": [
    "* Python, Ruby, Java, JavaScript, C, C++, and C#."
   ]
  },
  {
   "cell_type": "markdown",
   "id": "4a54d3ab",
   "metadata": {},
   "source": [
    "25- Why do we use python for AI?"
   ]
  },
  {
   "cell_type": "markdown",
   "id": "0accc7fa",
   "metadata": {},
   "source": [
    "1. Rich library ecosystem \n",
    "2. Flexibility (can be used along with other programming languages)\n",
    "3. Simple and Consistent\n",
    "4. Platform Independent\n",
    "5. Huge Community and Popularity"
   ]
  },
  {
   "cell_type": "markdown",
   "id": "3886cdde",
   "metadata": {},
   "source": [
    "26- What are the most used programming languages for AI in business? and Why ? ( State only 3 )"
   ]
  },
  {
   "cell_type": "markdown",
   "id": "7452cd01",
   "metadata": {},
   "source": [
    "1. Python as it's so popular within AI development is that it was created as a powerful data analysis tool and has always been popular within the field of big data\n",
    "\n",
    "\n",
    "2. Lisp as it includes several features that are critical to successful AI projects such as:\n",
    "a. Rapid prototyping.\n",
    "b. Dynamic object creation.\n",
    "c. Mandatory garbage collection.\n",
    "d. Data structures can be executed as programs.\n",
    "e. Programs can be modified as data.\n",
    "f. Uses recursion as a control structure and not an iteration.\n",
    "g. Great symbolic information processing capabilities.\n",
    "h. Read-Eval-Print-Loop to ease interactive programming.\n",
    "\n",
    "\n",
    "3. Java as it's :\n",
    "a. the common language in mobile app development\n",
    "b. Can work with TensorFlow \n",
    "c. has other libraries and frameworks specifically designed for AI such as  ( Deep Java Library , Kubeflow , OpenNLP , Java Machine Learning Library , Neuroph)"
   ]
  },
  {
   "cell_type": "markdown",
   "id": "c3d56ba4",
   "metadata": {},
   "source": [
    "27- Can we use Simple Machine learning with image data ? and why / why not ? "
   ]
  },
  {
   "cell_type": "markdown",
   "id": "3084b378",
   "metadata": {},
   "source": [
    "* Yes\n",
    "\n",
    "* machine learning algorithms have a specific pipeline or steps to learn from data, The preprocessing steps include:\n",
    "1. Converting all the images into the same format.\n",
    "2. Cropping the unnecessary regions on images.\n",
    "3. Transforming them into numbers for algorithms to learn from them(array of numbers).\n",
    "\n",
    "* Computers see an input image as an array of pixels, and it depends on the image resolution , it will see height * width * dimension"
   ]
  },
  {
   "cell_type": "markdown",
   "id": "e3dd38d7",
   "metadata": {},
   "source": [
    "\n",
    "28- What are the most important packages to work with AI in python?"
   ]
  },
  {
   "cell_type": "markdown",
   "id": "3e20948c",
   "metadata": {},
   "source": [
    "* Tensor Flow, Keras, Theano, Scikit-lear, PyTorch, NumPy, Panda, Seaborn"
   ]
  },
  {
   "cell_type": "markdown",
   "id": "ccf22daf",
   "metadata": {},
   "source": [
    "29- What is domain knowledge in data science?"
   ]
  },
  {
   "cell_type": "markdown",
   "id": "084006ed",
   "metadata": {},
   "source": [
    "* Domain knowledge is the knowledge about the environment in which the data is processed to reveal secrets of the data”"
   ]
  },
  {
   "cell_type": "markdown",
   "id": "a05fefe1",
   "metadata": {},
   "source": [
    "30- Why exactly numpy is the most important package for AI in python?"
   ]
  },
  {
   "cell_type": "markdown",
   "id": "45ddb5af",
   "metadata": {},
   "source": [
    "* NumPy can be used to perform a wide variety of mathematical operations on arrays."
   ]
  },
  {
   "cell_type": "markdown",
   "id": "6081d8a6",
   "metadata": {},
   "source": [
    "31- What are the packages used for web scrapping?"
   ]
  },
  {
   "cell_type": "markdown",
   "id": "38fa1b70",
   "metadata": {},
   "source": [
    "* beautifule soup , requests"
   ]
  },
  {
   "cell_type": "markdown",
   "id": "ca0c4c31",
   "metadata": {},
   "source": [
    "32- What are the types of problems AI can solve?"
   ]
  },
  {
   "cell_type": "markdown",
   "id": "52551536",
   "metadata": {},
   "source": [
    "1. Find trends, patterns, and associations.\n",
    "2. Discover inefficiencies.\n",
    "3. Execute plans.\n",
    "4. Learn and become better.\n",
    "5. Predict future outcomes based on historical trends.\n",
    "6. Inform fact-based decisions."
   ]
  },
  {
   "cell_type": "markdown",
   "id": "a98ce4c2",
   "metadata": {},
   "source": [
    "33- What are the 5Vs of big data?"
   ]
  },
  {
   "cell_type": "markdown",
   "id": "2deb51a3",
   "metadata": {},
   "source": [
    "* Velocity, Volume, Value, Variety, and Veracity"
   ]
  },
  {
   "cell_type": "markdown",
   "id": "56849fef",
   "metadata": {},
   "source": [
    "<h2> Coding</h2>"
   ]
  },
  {
   "cell_type": "markdown",
   "id": "7fcb0b76",
   "metadata": {},
   "source": [
    "A- Import any data set you want from the internet (must be uploaded with the file)"
   ]
  },
  {
   "cell_type": "code",
   "execution_count": 1,
   "id": "10f2ed10",
   "metadata": {
    "ExecuteTime": {
     "end_time": "2021-09-30T19:59:11.103504Z",
     "start_time": "2021-09-30T19:59:09.444565Z"
    }
   },
   "outputs": [],
   "source": [
    "import pandas as pd\n",
    "import matplotlib.pyplot as plt"
   ]
  },
  {
   "cell_type": "code",
   "execution_count": 2,
   "id": "f1e7e5f0",
   "metadata": {
    "ExecuteTime": {
     "end_time": "2021-09-30T19:59:11.134484Z",
     "start_time": "2021-09-30T19:59:11.110503Z"
    }
   },
   "outputs": [],
   "source": [
    "def convert_str_to_number(x):\n",
    "    total_stars = 0\n",
    "    num_map = {'K':1000, 'M':1000000, 'B':1000000000}\n",
    "    if x.isdigit():\n",
    "        total_stars = int(x)\n",
    "    else:\n",
    "        if len(x) > 1:\n",
    "            total_stars = float(x[:-1]) * num_map.get(x[-1].upper(), 1)\n",
    "    return int(total_stars)"
   ]
  },
  {
   "cell_type": "code",
   "execution_count": 3,
   "id": "87e05974",
   "metadata": {
    "ExecuteTime": {
     "end_time": "2021-09-30T19:59:11.273396Z",
     "start_time": "2021-09-30T19:59:11.141480Z"
    }
   },
   "outputs": [
    {
     "data": {
      "text/html": [
       "<div>\n",
       "<style scoped>\n",
       "    .dataframe tbody tr th:only-of-type {\n",
       "        vertical-align: middle;\n",
       "    }\n",
       "\n",
       "    .dataframe tbody tr th {\n",
       "        vertical-align: top;\n",
       "    }\n",
       "\n",
       "    .dataframe thead th {\n",
       "        text-align: right;\n",
       "    }\n",
       "</style>\n",
       "<table border=\"1\" class=\"dataframe\">\n",
       "  <thead>\n",
       "    <tr style=\"text-align: right;\">\n",
       "      <th></th>\n",
       "      <th>Unnamed: 0</th>\n",
       "      <th>course_title</th>\n",
       "      <th>course_organization</th>\n",
       "      <th>course_Certificate_type</th>\n",
       "      <th>course_rating</th>\n",
       "      <th>course_difficulty</th>\n",
       "      <th>course_students_enrolled</th>\n",
       "    </tr>\n",
       "  </thead>\n",
       "  <tbody>\n",
       "    <tr>\n",
       "      <th>0</th>\n",
       "      <td>134</td>\n",
       "      <td>(ISC)² Systems Security Certified Practitioner...</td>\n",
       "      <td>(ISC)²</td>\n",
       "      <td>SPECIALIZATION</td>\n",
       "      <td>4.7</td>\n",
       "      <td>Beginner</td>\n",
       "      <td>5.3k</td>\n",
       "    </tr>\n",
       "    <tr>\n",
       "      <th>1</th>\n",
       "      <td>743</td>\n",
       "      <td>A Crash Course in Causality:  Inferring Causal...</td>\n",
       "      <td>University of Pennsylvania</td>\n",
       "      <td>COURSE</td>\n",
       "      <td>4.7</td>\n",
       "      <td>Intermediate</td>\n",
       "      <td>17k</td>\n",
       "    </tr>\n",
       "    <tr>\n",
       "      <th>2</th>\n",
       "      <td>874</td>\n",
       "      <td>A Crash Course in Data Science</td>\n",
       "      <td>Johns Hopkins University</td>\n",
       "      <td>COURSE</td>\n",
       "      <td>4.5</td>\n",
       "      <td>Mixed</td>\n",
       "      <td>130k</td>\n",
       "    </tr>\n",
       "    <tr>\n",
       "      <th>3</th>\n",
       "      <td>413</td>\n",
       "      <td>A Law Student's Toolkit</td>\n",
       "      <td>Yale University</td>\n",
       "      <td>COURSE</td>\n",
       "      <td>4.7</td>\n",
       "      <td>Mixed</td>\n",
       "      <td>91k</td>\n",
       "    </tr>\n",
       "    <tr>\n",
       "      <th>4</th>\n",
       "      <td>635</td>\n",
       "      <td>A Life of Happiness and Fulfillment</td>\n",
       "      <td>Indian School of Business</td>\n",
       "      <td>COURSE</td>\n",
       "      <td>4.8</td>\n",
       "      <td>Mixed</td>\n",
       "      <td>320k</td>\n",
       "    </tr>\n",
       "  </tbody>\n",
       "</table>\n",
       "</div>"
      ],
      "text/plain": [
       "   Unnamed: 0                                       course_title  \\\n",
       "0         134  (ISC)² Systems Security Certified Practitioner...   \n",
       "1         743  A Crash Course in Causality:  Inferring Causal...   \n",
       "2         874                     A Crash Course in Data Science   \n",
       "3         413                            A Law Student's Toolkit   \n",
       "4         635                A Life of Happiness and Fulfillment   \n",
       "\n",
       "          course_organization course_Certificate_type  course_rating  \\\n",
       "0                      (ISC)²          SPECIALIZATION            4.7   \n",
       "1  University of Pennsylvania                  COURSE            4.7   \n",
       "2    Johns Hopkins University                  COURSE            4.5   \n",
       "3             Yale University                  COURSE            4.7   \n",
       "4   Indian School of Business                  COURSE            4.8   \n",
       "\n",
       "  course_difficulty course_students_enrolled  \n",
       "0          Beginner                     5.3k  \n",
       "1      Intermediate                      17k  \n",
       "2             Mixed                     130k  \n",
       "3             Mixed                      91k  \n",
       "4             Mixed                     320k  "
      ]
     },
     "execution_count": 3,
     "metadata": {},
     "output_type": "execute_result"
    }
   ],
   "source": [
    "coursea_data=pd.read_csv('coursea_data.csv')\n",
    "coursea_data.head()"
   ]
  },
  {
   "cell_type": "markdown",
   "id": "9706c4ca",
   "metadata": {},
   "source": [
    "B- Write the data schema for this data with full discription "
   ]
  },
  {
   "cell_type": "code",
   "execution_count": 4,
   "id": "05a46ca7",
   "metadata": {
    "ExecuteTime": {
     "end_time": "2021-09-30T19:59:11.335355Z",
     "start_time": "2021-09-30T19:59:11.277393Z"
    }
   },
   "outputs": [
    {
     "name": "stdout",
     "output_type": "stream",
     "text": [
      "<class 'pandas.core.frame.DataFrame'>\n",
      "RangeIndex: 891 entries, 0 to 890\n",
      "Data columns (total 7 columns):\n",
      " #   Column                    Non-Null Count  Dtype  \n",
      "---  ------                    --------------  -----  \n",
      " 0   Unnamed: 0                891 non-null    int64  \n",
      " 1   course_title              891 non-null    object \n",
      " 2   course_organization       891 non-null    object \n",
      " 3   course_Certificate_type   891 non-null    object \n",
      " 4   course_rating             891 non-null    float64\n",
      " 5   course_difficulty         891 non-null    object \n",
      " 6   course_students_enrolled  891 non-null    object \n",
      "dtypes: float64(1), int64(1), object(5)\n",
      "memory usage: 48.9+ KB\n"
     ]
    }
   ],
   "source": [
    "coursea_data.info()"
   ]
  },
  {
   "cell_type": "markdown",
   "id": "67c60996",
   "metadata": {},
   "source": [
    "C- visulaize all the relations among the important columns in this data, save the graphs as images."
   ]
  },
  {
   "cell_type": "code",
   "execution_count": 5,
   "id": "035d95b6",
   "metadata": {
    "ExecuteTime": {
     "end_time": "2021-09-30T19:59:11.984943Z",
     "start_time": "2021-09-30T19:59:11.339358Z"
    }
   },
   "outputs": [
    {
     "data": {
      "image/png": "[encoded data removed]",
      "text/plain": [
       "<Figure size 720x360 with 1 Axes>"
      ]
     },
     "metadata": {
      "needs_background": "light"
     },
     "output_type": "display_data"
    }
   ],
   "source": [
    "total_certificate_type=coursea_data.course_Certificate_type.value_counts()\n",
    "plt.figure(figsize=(10,5))\n",
    "plt.bar(total_certificate_type.index,total_certificate_type.values)\n",
    "plt.xlabel('Certificate Type')\n",
    "plt.ylabel('Total')\n",
    "plt.title('Totla No. of Certificate Type')\n",
    "plt.savefig('total_certificate_type')\n",
    "plt.show()"
   ]
  },
  {
   "cell_type": "code",
   "execution_count": 6,
   "id": "7371bd2f",
   "metadata": {
    "ExecuteTime": {
     "end_time": "2021-09-30T19:59:12.434653Z",
     "start_time": "2021-09-30T19:59:11.988938Z"
    }
   },
   "outputs": [
    {
     "data": {
      "image/png": "[encoded data removed]",
      "text/plain": [
       "<Figure size 720x360 with 1 Axes>"
      ]
     },
     "metadata": {
      "needs_background": "light"
     },
     "output_type": "display_data"
    }
   ],
   "source": [
    "total_course_difficulty=coursea_data.course_difficulty.value_counts()\n",
    "plt.figure(figsize=(10,5))\n",
    "plt.bar(total_course_difficulty.index,total_course_difficulty.values)\n",
    "plt.xlabel('Course Difficulty')\n",
    "plt.ylabel('Total')\n",
    "plt.title('Totla No. of Course based on Difficulty')\n",
    "plt.savefig('total_course_difficulty')\n",
    "plt.show()"
   ]
  },
  {
   "cell_type": "code",
   "execution_count": 7,
   "id": "d7fba1b9",
   "metadata": {
    "ExecuteTime": {
     "end_time": "2021-09-30T19:59:12.496612Z",
     "start_time": "2021-09-30T19:59:12.438652Z"
    }
   },
   "outputs": [
    {
     "data": {
      "text/html": [
       "<div>\n",
       "<style scoped>\n",
       "    .dataframe tbody tr th:only-of-type {\n",
       "        vertical-align: middle;\n",
       "    }\n",
       "\n",
       "    .dataframe tbody tr th {\n",
       "        vertical-align: top;\n",
       "    }\n",
       "\n",
       "    .dataframe thead th {\n",
       "        text-align: right;\n",
       "    }\n",
       "</style>\n",
       "<table border=\"1\" class=\"dataframe\">\n",
       "  <thead>\n",
       "    <tr style=\"text-align: right;\">\n",
       "      <th></th>\n",
       "      <th>Unnamed: 0</th>\n",
       "      <th>course_title</th>\n",
       "      <th>course_organization</th>\n",
       "      <th>course_Certificate_type</th>\n",
       "      <th>course_rating</th>\n",
       "      <th>course_difficulty</th>\n",
       "      <th>course_students_enrolled</th>\n",
       "    </tr>\n",
       "  </thead>\n",
       "  <tbody>\n",
       "    <tr>\n",
       "      <th>0</th>\n",
       "      <td>134</td>\n",
       "      <td>(ISC)² Systems Security Certified Practitioner...</td>\n",
       "      <td>(ISC)²</td>\n",
       "      <td>SPECIALIZATION</td>\n",
       "      <td>4.7</td>\n",
       "      <td>Beginner</td>\n",
       "      <td>5300</td>\n",
       "    </tr>\n",
       "    <tr>\n",
       "      <th>1</th>\n",
       "      <td>743</td>\n",
       "      <td>A Crash Course in Causality:  Inferring Causal...</td>\n",
       "      <td>University of Pennsylvania</td>\n",
       "      <td>COURSE</td>\n",
       "      <td>4.7</td>\n",
       "      <td>Intermediate</td>\n",
       "      <td>17000</td>\n",
       "    </tr>\n",
       "    <tr>\n",
       "      <th>2</th>\n",
       "      <td>874</td>\n",
       "      <td>A Crash Course in Data Science</td>\n",
       "      <td>Johns Hopkins University</td>\n",
       "      <td>COURSE</td>\n",
       "      <td>4.5</td>\n",
       "      <td>Mixed</td>\n",
       "      <td>130000</td>\n",
       "    </tr>\n",
       "    <tr>\n",
       "      <th>3</th>\n",
       "      <td>413</td>\n",
       "      <td>A Law Student's Toolkit</td>\n",
       "      <td>Yale University</td>\n",
       "      <td>COURSE</td>\n",
       "      <td>4.7</td>\n",
       "      <td>Mixed</td>\n",
       "      <td>91000</td>\n",
       "    </tr>\n",
       "    <tr>\n",
       "      <th>4</th>\n",
       "      <td>635</td>\n",
       "      <td>A Life of Happiness and Fulfillment</td>\n",
       "      <td>Indian School of Business</td>\n",
       "      <td>COURSE</td>\n",
       "      <td>4.8</td>\n",
       "      <td>Mixed</td>\n",
       "      <td>320000</td>\n",
       "    </tr>\n",
       "  </tbody>\n",
       "</table>\n",
       "</div>"
      ],
      "text/plain": [
       "   Unnamed: 0                                       course_title  \\\n",
       "0         134  (ISC)² Systems Security Certified Practitioner...   \n",
       "1         743  A Crash Course in Causality:  Inferring Causal...   \n",
       "2         874                     A Crash Course in Data Science   \n",
       "3         413                            A Law Student's Toolkit   \n",
       "4         635                A Life of Happiness and Fulfillment   \n",
       "\n",
       "          course_organization course_Certificate_type  course_rating  \\\n",
       "0                      (ISC)²          SPECIALIZATION            4.7   \n",
       "1  University of Pennsylvania                  COURSE            4.7   \n",
       "2    Johns Hopkins University                  COURSE            4.5   \n",
       "3             Yale University                  COURSE            4.7   \n",
       "4   Indian School of Business                  COURSE            4.8   \n",
       "\n",
       "  course_difficulty  course_students_enrolled  \n",
       "0          Beginner                      5300  \n",
       "1      Intermediate                     17000  \n",
       "2             Mixed                    130000  \n",
       "3             Mixed                     91000  \n",
       "4             Mixed                    320000  "
      ]
     },
     "execution_count": 7,
     "metadata": {},
     "output_type": "execute_result"
    }
   ],
   "source": [
    "coursea_data['course_students_enrolled']=coursea_data['course_students_enrolled'].apply(convert_str_to_number)\n",
    "coursea_data.head()"
   ]
  },
  {
   "cell_type": "code",
   "execution_count": 8,
   "id": "64f1f24a",
   "metadata": {
    "ExecuteTime": {
     "end_time": "2021-09-30T19:59:12.589554Z",
     "start_time": "2021-09-30T19:59:12.503610Z"
    }
   },
   "outputs": [],
   "source": [
    "course_organization=coursea_data.groupby('course_organization')\n",
    "average_rating=course_organization.course_rating.mean().sort_values(ascending=False)\n",
    "students_total = course_organization.course_students_enrolled.sum().sort_values(ascending=False)"
   ]
  },
  {
   "cell_type": "code",
   "execution_count": 9,
   "id": "c07a2ca7",
   "metadata": {
    "ExecuteTime": {
     "end_time": "2021-09-30T19:59:14.744176Z",
     "start_time": "2021-09-30T19:59:12.595551Z"
    }
   },
   "outputs": [
    {
     "data": {
      "image/png": "[encoded data removed]",
      "text/plain": [
       "<Figure size 1080x360 with 1 Axes>"
      ]
     },
     "metadata": {
      "needs_background": "light"
     },
     "output_type": "display_data"
    },
    {
     "data": {
      "image/png": "[encoded data removed]",
      "text/plain": [
       "<Figure size 1080x360 with 1 Axes>"
      ]
     },
     "metadata": {
      "needs_background": "light"
     },
     "output_type": "display_data"
    }
   ],
   "source": [
    "average_rating_top_20=average_rating[:20]\n",
    "plt.figure(figsize=(15,5))\n",
    "plt.bar(average_rating_top_20.index,average_rating_top_20.values)\n",
    "plt.xticks(rotation=90)\n",
    "plt.ylim(4.2, 5.0)\n",
    "plt.xlabel('Organization Name')\n",
    "plt.ylabel('Rating')\n",
    "plt.title('Top 20 Organizations based on Average Rating')\n",
    "plt.savefig('top_20_rating')\n",
    "plt.show()\n",
    "\n",
    "\n",
    "students_total_rating_top_20=students_total.loc[average_rating_top_20.index]\n",
    "plt.figure(figsize=(15,5))\n",
    "plt.bar(students_total_rating_top_20.index,students_total_rating_top_20.values)\n",
    "plt.xticks(rotation=90)\n",
    "plt.xlabel('Organization Name')\n",
    "plt.ylabel('No. of Students')\n",
    "plt.title('The Total Number of Enrolled Students for\\nthe Top 20 Organizations based on Average Rating')\n",
    "plt.savefig('top_20_rating_students_total')\n",
    "plt.show()"
   ]
  },
  {
   "cell_type": "code",
   "execution_count": 10,
   "id": "fe68e7b9",
   "metadata": {
    "ExecuteTime": {
     "end_time": "2021-09-30T19:59:16.820898Z",
     "start_time": "2021-09-30T19:59:14.748175Z"
    }
   },
   "outputs": [
    {
     "data": {
      "image/png": "[encoded data removed]",
      "text/plain": [
       "<Figure size 1080x360 with 1 Axes>"
      ]
     },
     "metadata": {
      "needs_background": "light"
     },
     "output_type": "display_data"
    },
    {
     "data": {
      "image/png": "[encoded data removed]",
      "text/plain": [
       "<Figure size 1080x360 with 1 Axes>"
      ]
     },
     "metadata": {
      "needs_background": "light"
     },
     "output_type": "display_data"
    }
   ],
   "source": [
    "students_total_top_20=students_total[:20]\n",
    "plt.figure(figsize=(15,5))\n",
    "plt.bar(students_total_top_20.index,students_total_top_20.values)\n",
    "plt.xticks(rotation=90)\n",
    "plt.xlabel('Organization Name')\n",
    "plt.ylabel('No. of Students')\n",
    "plt.title('Top 20 Organizations based on The Total Number of Enrolled Students ')\n",
    "plt.savefig('top_20_students_total')\n",
    "plt.show()\n",
    "\n",
    "average_rating_students_total_top_20=average_rating.loc[students_total_top_20.index]\n",
    "plt.figure(figsize=(15,5))\n",
    "plt.bar(average_rating_students_total_top_20.index,average_rating_students_total_top_20.values)\n",
    "plt.xticks(rotation=90)\n",
    "plt.ylim(4.2, 5.0)\n",
    "plt.xlabel('Organization Name')\n",
    "plt.ylabel('Rating')\n",
    "plt.title('Average Rating of Top 20 Organizations based on Total Number of Enrolled Students')\n",
    "plt.savefig('top_20_students_total_rating')\n",
    "plt.show()"
   ]
  },
  {
   "cell_type": "code",
   "execution_count": 11,
   "id": "efeb5a45",
   "metadata": {
    "ExecuteTime": {
     "end_time": "2021-09-30T19:59:18.431821Z",
     "start_time": "2021-09-30T19:59:16.826847Z"
    }
   },
   "outputs": [
    {
     "data": {
      "image/png": "[encoded data removed]",
      "text/plain": [
       "<Figure size 1080x360 with 1 Axes>"
      ]
     },
     "metadata": {
      "needs_background": "light"
     },
     "output_type": "display_data"
    }
   ],
   "source": [
    "difficulty_rating=course_organization.course_difficulty.value_counts().unstack()\n",
    "difficulty_rating=difficulty_rating.loc[average_rating_top_20.index]\n",
    "difficulty_rating.plot.bar(stacked=True,figsize=(15,5), width=0.6)\n",
    "plt.xlabel('Organization Name')\n",
    "plt.ylabel('No. of Corusers')\n",
    "plt.title('Total No. of Courses Provided by Top 20 Organizations based on Average Rating ')\n",
    "plt.savefig('top_20_rating_No_Corusers')\n",
    "plt.show()"
   ]
  },
  {
   "cell_type": "code",
   "execution_count": 12,
   "id": "37054c59",
   "metadata": {
    "ExecuteTime": {
     "end_time": "2021-09-30T19:59:20.431594Z",
     "start_time": "2021-09-30T19:59:18.436820Z"
    }
   },
   "outputs": [
    {
     "data": {
      "image/png": "[encoded data removed]",
      "text/plain": [
       "<Figure size 1080x360 with 1 Axes>"
      ]
     },
     "metadata": {
      "needs_background": "light"
     },
     "output_type": "display_data"
    }
   ],
   "source": [
    "difficulty_students_total=course_organization.course_difficulty.value_counts().unstack()\n",
    "difficulty_students_total=difficulty_students_total.loc[students_total_top_20.index]\n",
    "difficulty_students_total.plot.bar(stacked=True,figsize=(15,5), width=0.6)\n",
    "plt.xlabel('Organization Name')\n",
    "plt.ylabel('No. of Corusers')\n",
    "plt.title('Total No. of Courses Provided by Top 20 Organizations based on Total Number of Enrolled Students')\n",
    "plt.savefig('top_20_student_No_Corusers')\n",
    "plt.show()"
   ]
  },
  {
   "cell_type": "markdown",
   "id": "64da44e1",
   "metadata": {},
   "source": [
    "D- Drop any columns that are not necessary, state why exactly did you drop them?"
   ]
  },
  {
   "cell_type": "code",
   "execution_count": 13,
   "id": "87ecfab4",
   "metadata": {
    "ExecuteTime": {
     "end_time": "2021-09-30T19:59:20.492506Z",
     "start_time": "2021-09-30T19:59:20.436541Z"
    }
   },
   "outputs": [
    {
     "data": {
      "text/html": [
       "<div>\n",
       "<style scoped>\n",
       "    .dataframe tbody tr th:only-of-type {\n",
       "        vertical-align: middle;\n",
       "    }\n",
       "\n",
       "    .dataframe tbody tr th {\n",
       "        vertical-align: top;\n",
       "    }\n",
       "\n",
       "    .dataframe thead th {\n",
       "        text-align: right;\n",
       "    }\n",
       "</style>\n",
       "<table border=\"1\" class=\"dataframe\">\n",
       "  <thead>\n",
       "    <tr style=\"text-align: right;\">\n",
       "      <th></th>\n",
       "      <th>Unnamed: 0</th>\n",
       "      <th>course_title</th>\n",
       "      <th>course_organization</th>\n",
       "      <th>course_Certificate_type</th>\n",
       "      <th>course_rating</th>\n",
       "      <th>course_difficulty</th>\n",
       "      <th>course_students_enrolled</th>\n",
       "    </tr>\n",
       "  </thead>\n",
       "  <tbody>\n",
       "    <tr>\n",
       "      <th>0</th>\n",
       "      <td>134</td>\n",
       "      <td>(ISC)² Systems Security Certified Practitioner...</td>\n",
       "      <td>(ISC)²</td>\n",
       "      <td>SPECIALIZATION</td>\n",
       "      <td>4.7</td>\n",
       "      <td>Beginner</td>\n",
       "      <td>5300</td>\n",
       "    </tr>\n",
       "    <tr>\n",
       "      <th>1</th>\n",
       "      <td>743</td>\n",
       "      <td>A Crash Course in Causality:  Inferring Causal...</td>\n",
       "      <td>University of Pennsylvania</td>\n",
       "      <td>COURSE</td>\n",
       "      <td>4.7</td>\n",
       "      <td>Intermediate</td>\n",
       "      <td>17000</td>\n",
       "    </tr>\n",
       "    <tr>\n",
       "      <th>2</th>\n",
       "      <td>874</td>\n",
       "      <td>A Crash Course in Data Science</td>\n",
       "      <td>Johns Hopkins University</td>\n",
       "      <td>COURSE</td>\n",
       "      <td>4.5</td>\n",
       "      <td>Mixed</td>\n",
       "      <td>130000</td>\n",
       "    </tr>\n",
       "    <tr>\n",
       "      <th>3</th>\n",
       "      <td>413</td>\n",
       "      <td>A Law Student's Toolkit</td>\n",
       "      <td>Yale University</td>\n",
       "      <td>COURSE</td>\n",
       "      <td>4.7</td>\n",
       "      <td>Mixed</td>\n",
       "      <td>91000</td>\n",
       "    </tr>\n",
       "    <tr>\n",
       "      <th>4</th>\n",
       "      <td>635</td>\n",
       "      <td>A Life of Happiness and Fulfillment</td>\n",
       "      <td>Indian School of Business</td>\n",
       "      <td>COURSE</td>\n",
       "      <td>4.8</td>\n",
       "      <td>Mixed</td>\n",
       "      <td>320000</td>\n",
       "    </tr>\n",
       "  </tbody>\n",
       "</table>\n",
       "</div>"
      ],
      "text/plain": [
       "   Unnamed: 0                                       course_title  \\\n",
       "0         134  (ISC)² Systems Security Certified Practitioner...   \n",
       "1         743  A Crash Course in Causality:  Inferring Causal...   \n",
       "2         874                     A Crash Course in Data Science   \n",
       "3         413                            A Law Student's Toolkit   \n",
       "4         635                A Life of Happiness and Fulfillment   \n",
       "\n",
       "          course_organization course_Certificate_type  course_rating  \\\n",
       "0                      (ISC)²          SPECIALIZATION            4.7   \n",
       "1  University of Pennsylvania                  COURSE            4.7   \n",
       "2    Johns Hopkins University                  COURSE            4.5   \n",
       "3             Yale University                  COURSE            4.7   \n",
       "4   Indian School of Business                  COURSE            4.8   \n",
       "\n",
       "  course_difficulty  course_students_enrolled  \n",
       "0          Beginner                      5300  \n",
       "1      Intermediate                     17000  \n",
       "2             Mixed                    130000  \n",
       "3             Mixed                     91000  \n",
       "4             Mixed                    320000  "
      ]
     },
     "execution_count": 13,
     "metadata": {},
     "output_type": "execute_result"
    }
   ],
   "source": [
    "coursea_data.head()"
   ]
  },
  {
   "cell_type": "code",
   "execution_count": 14,
   "id": "b5d025f2",
   "metadata": {
    "ExecuteTime": {
     "end_time": "2021-09-30T19:59:20.744347Z",
     "start_time": "2021-09-30T19:59:20.497502Z"
    }
   },
   "outputs": [
    {
     "data": {
      "text/html": [
       "<div>\n",
       "<style scoped>\n",
       "    .dataframe tbody tr th:only-of-type {\n",
       "        vertical-align: middle;\n",
       "    }\n",
       "\n",
       "    .dataframe tbody tr th {\n",
       "        vertical-align: top;\n",
       "    }\n",
       "\n",
       "    .dataframe thead th {\n",
       "        text-align: right;\n",
       "    }\n",
       "</style>\n",
       "<table border=\"1\" class=\"dataframe\">\n",
       "  <thead>\n",
       "    <tr style=\"text-align: right;\">\n",
       "      <th></th>\n",
       "      <th>course_organization</th>\n",
       "      <th>course_Certificate_type</th>\n",
       "      <th>course_rating</th>\n",
       "      <th>course_difficulty</th>\n",
       "      <th>course_students_enrolled</th>\n",
       "    </tr>\n",
       "  </thead>\n",
       "  <tbody>\n",
       "    <tr>\n",
       "      <th>0</th>\n",
       "      <td>(ISC)²</td>\n",
       "      <td>SPECIALIZATION</td>\n",
       "      <td>4.7</td>\n",
       "      <td>Beginner</td>\n",
       "      <td>5300</td>\n",
       "    </tr>\n",
       "    <tr>\n",
       "      <th>1</th>\n",
       "      <td>University of Pennsylvania</td>\n",
       "      <td>COURSE</td>\n",
       "      <td>4.7</td>\n",
       "      <td>Intermediate</td>\n",
       "      <td>17000</td>\n",
       "    </tr>\n",
       "    <tr>\n",
       "      <th>2</th>\n",
       "      <td>Johns Hopkins University</td>\n",
       "      <td>COURSE</td>\n",
       "      <td>4.5</td>\n",
       "      <td>Mixed</td>\n",
       "      <td>130000</td>\n",
       "    </tr>\n",
       "    <tr>\n",
       "      <th>3</th>\n",
       "      <td>Yale University</td>\n",
       "      <td>COURSE</td>\n",
       "      <td>4.7</td>\n",
       "      <td>Mixed</td>\n",
       "      <td>91000</td>\n",
       "    </tr>\n",
       "    <tr>\n",
       "      <th>4</th>\n",
       "      <td>Indian School of Business</td>\n",
       "      <td>COURSE</td>\n",
       "      <td>4.8</td>\n",
       "      <td>Mixed</td>\n",
       "      <td>320000</td>\n",
       "    </tr>\n",
       "  </tbody>\n",
       "</table>\n",
       "</div>"
      ],
      "text/plain": [
       "          course_organization course_Certificate_type  course_rating  \\\n",
       "0                      (ISC)²          SPECIALIZATION            4.7   \n",
       "1  University of Pennsylvania                  COURSE            4.7   \n",
       "2    Johns Hopkins University                  COURSE            4.5   \n",
       "3             Yale University                  COURSE            4.7   \n",
       "4   Indian School of Business                  COURSE            4.8   \n",
       "\n",
       "  course_difficulty  course_students_enrolled  \n",
       "0          Beginner                      5300  \n",
       "1      Intermediate                     17000  \n",
       "2             Mixed                    130000  \n",
       "3             Mixed                     91000  \n",
       "4             Mixed                    320000  "
      ]
     },
     "execution_count": 14,
     "metadata": {},
     "output_type": "execute_result"
    }
   ],
   "source": [
    "coursea_data.drop(['Unnamed: 0','course_title'],axis=1,inplace=True)\n",
    "coursea_data.head()"
   ]
  },
  {
   "cell_type": "markdown",
   "id": "e17084e2",
   "metadata": {},
   "source": [
    "columns Unnamed: 0 is just a random id given to each coruse\n",
    "\n",
    "columns course_title is just the coruses title/name , nothing can be concluded from it from it"
   ]
  },
  {
   "cell_type": "markdown",
   "id": "5e0af3c4",
   "metadata": {},
   "source": [
    "E- Group the data by the column that has the most important impact on data from your point of view"
   ]
  },
  {
   "cell_type": "code",
   "execution_count": 15,
   "id": "47028987",
   "metadata": {
    "ExecuteTime": {
     "end_time": "2021-09-30T19:59:20.848282Z",
     "start_time": "2021-09-30T19:59:20.754338Z"
    }
   },
   "outputs": [],
   "source": [
    "course_organization=coursea_data.groupby('course_organization')"
   ]
  },
  {
   "cell_type": "markdown",
   "id": "302b65a4",
   "metadata": {},
   "source": [
    "course_organization is used as a based for analysis as it's can help understand students' behaviour"
   ]
  },
  {
   "cell_type": "markdown",
   "id": "a3c99755",
   "metadata": {},
   "source": [
    "F- Do all the operations required to write a report discribing what insights did you get from this data, and then suggest actions.\n"
   ]
  },
  {
   "cell_type": "code",
   "execution_count": 16,
   "id": "639567fb",
   "metadata": {
    "ExecuteTime": {
     "end_time": "2021-09-30T19:59:22.811095Z",
     "start_time": "2021-09-30T19:59:20.857274Z"
    }
   },
   "outputs": [],
   "source": [
    "course_organization_describe=course_organization[['course_rating','course_students_enrolled']].describe()"
   ]
  },
  {
   "cell_type": "code",
   "execution_count": 17,
   "id": "a6e22f65",
   "metadata": {
    "ExecuteTime": {
     "end_time": "2021-09-30T19:59:22.950933Z",
     "start_time": "2021-09-30T19:59:22.813022Z"
    }
   },
   "outputs": [
    {
     "data": {
      "text/html": [
       "<div>\n",
       "<style scoped>\n",
       "    .dataframe tbody tr th:only-of-type {\n",
       "        vertical-align: middle;\n",
       "    }\n",
       "\n",
       "    .dataframe tbody tr th {\n",
       "        vertical-align: top;\n",
       "    }\n",
       "\n",
       "    .dataframe thead tr th {\n",
       "        text-align: left;\n",
       "    }\n",
       "\n",
       "    .dataframe thead tr:last-of-type th {\n",
       "        text-align: right;\n",
       "    }\n",
       "</style>\n",
       "<table border=\"1\" class=\"dataframe\">\n",
       "  <thead>\n",
       "    <tr>\n",
       "      <th></th>\n",
       "      <th colspan=\"8\" halign=\"left\">course_rating</th>\n",
       "      <th colspan=\"8\" halign=\"left\">course_students_enrolled</th>\n",
       "    </tr>\n",
       "    <tr>\n",
       "      <th></th>\n",
       "      <th>count</th>\n",
       "      <th>mean</th>\n",
       "      <th>std</th>\n",
       "      <th>min</th>\n",
       "      <th>25%</th>\n",
       "      <th>50%</th>\n",
       "      <th>75%</th>\n",
       "      <th>max</th>\n",
       "      <th>count</th>\n",
       "      <th>mean</th>\n",
       "      <th>std</th>\n",
       "      <th>min</th>\n",
       "      <th>25%</th>\n",
       "      <th>50%</th>\n",
       "      <th>75%</th>\n",
       "      <th>max</th>\n",
       "    </tr>\n",
       "    <tr>\n",
       "      <th>course_organization</th>\n",
       "      <th></th>\n",
       "      <th></th>\n",
       "      <th></th>\n",
       "      <th></th>\n",
       "      <th></th>\n",
       "      <th></th>\n",
       "      <th></th>\n",
       "      <th></th>\n",
       "      <th></th>\n",
       "      <th></th>\n",
       "      <th></th>\n",
       "      <th></th>\n",
       "      <th></th>\n",
       "      <th></th>\n",
       "      <th></th>\n",
       "      <th></th>\n",
       "    </tr>\n",
       "  </thead>\n",
       "  <tbody>\n",
       "    <tr>\n",
       "      <th>Hebrew University of Jerusalem</th>\n",
       "      <td>1.0</td>\n",
       "      <td>4.900000</td>\n",
       "      <td>NaN</td>\n",
       "      <td>4.9</td>\n",
       "      <td>4.900</td>\n",
       "      <td>4.90</td>\n",
       "      <td>4.900</td>\n",
       "      <td>4.9</td>\n",
       "      <td>1.0</td>\n",
       "      <td>95000.000000</td>\n",
       "      <td>NaN</td>\n",
       "      <td>95000.0</td>\n",
       "      <td>95000.0</td>\n",
       "      <td>95000.0</td>\n",
       "      <td>95000.0</td>\n",
       "      <td>95000.0</td>\n",
       "    </tr>\n",
       "    <tr>\n",
       "      <th>Nanyang Technological University, Singapore</th>\n",
       "      <td>1.0</td>\n",
       "      <td>4.900000</td>\n",
       "      <td>NaN</td>\n",
       "      <td>4.9</td>\n",
       "      <td>4.900</td>\n",
       "      <td>4.90</td>\n",
       "      <td>4.900</td>\n",
       "      <td>4.9</td>\n",
       "      <td>1.0</td>\n",
       "      <td>47000.000000</td>\n",
       "      <td>NaN</td>\n",
       "      <td>47000.0</td>\n",
       "      <td>47000.0</td>\n",
       "      <td>47000.0</td>\n",
       "      <td>47000.0</td>\n",
       "      <td>47000.0</td>\n",
       "    </tr>\n",
       "    <tr>\n",
       "      <th>Universidade Estadual de Campinas</th>\n",
       "      <td>1.0</td>\n",
       "      <td>4.900000</td>\n",
       "      <td>NaN</td>\n",
       "      <td>4.9</td>\n",
       "      <td>4.900</td>\n",
       "      <td>4.90</td>\n",
       "      <td>4.900</td>\n",
       "      <td>4.9</td>\n",
       "      <td>1.0</td>\n",
       "      <td>17000.000000</td>\n",
       "      <td>NaN</td>\n",
       "      <td>17000.0</td>\n",
       "      <td>17000.0</td>\n",
       "      <td>17000.0</td>\n",
       "      <td>17000.0</td>\n",
       "      <td>17000.0</td>\n",
       "    </tr>\n",
       "    <tr>\n",
       "      <th>Crece con Google</th>\n",
       "      <td>1.0</td>\n",
       "      <td>4.900000</td>\n",
       "      <td>NaN</td>\n",
       "      <td>4.9</td>\n",
       "      <td>4.900</td>\n",
       "      <td>4.90</td>\n",
       "      <td>4.900</td>\n",
       "      <td>4.9</td>\n",
       "      <td>1.0</td>\n",
       "      <td>8800.000000</td>\n",
       "      <td>NaN</td>\n",
       "      <td>8800.0</td>\n",
       "      <td>8800.0</td>\n",
       "      <td>8800.0</td>\n",
       "      <td>8800.0</td>\n",
       "      <td>8800.0</td>\n",
       "    </tr>\n",
       "    <tr>\n",
       "      <th>London Business School</th>\n",
       "      <td>1.0</td>\n",
       "      <td>4.900000</td>\n",
       "      <td>NaN</td>\n",
       "      <td>4.9</td>\n",
       "      <td>4.900</td>\n",
       "      <td>4.90</td>\n",
       "      <td>4.900</td>\n",
       "      <td>4.9</td>\n",
       "      <td>1.0</td>\n",
       "      <td>57000.000000</td>\n",
       "      <td>NaN</td>\n",
       "      <td>57000.0</td>\n",
       "      <td>57000.0</td>\n",
       "      <td>57000.0</td>\n",
       "      <td>57000.0</td>\n",
       "      <td>57000.0</td>\n",
       "    </tr>\n",
       "    <tr>\n",
       "      <th>Google - Spectrum Sharing</th>\n",
       "      <td>1.0</td>\n",
       "      <td>4.900000</td>\n",
       "      <td>NaN</td>\n",
       "      <td>4.9</td>\n",
       "      <td>4.900</td>\n",
       "      <td>4.90</td>\n",
       "      <td>4.900</td>\n",
       "      <td>4.9</td>\n",
       "      <td>1.0</td>\n",
       "      <td>210000.000000</td>\n",
       "      <td>NaN</td>\n",
       "      <td>210000.0</td>\n",
       "      <td>210000.0</td>\n",
       "      <td>210000.0</td>\n",
       "      <td>210000.0</td>\n",
       "      <td>210000.0</td>\n",
       "    </tr>\n",
       "    <tr>\n",
       "      <th>ScrumTrek</th>\n",
       "      <td>1.0</td>\n",
       "      <td>4.900000</td>\n",
       "      <td>NaN</td>\n",
       "      <td>4.9</td>\n",
       "      <td>4.900</td>\n",
       "      <td>4.90</td>\n",
       "      <td>4.900</td>\n",
       "      <td>4.9</td>\n",
       "      <td>1.0</td>\n",
       "      <td>12000.000000</td>\n",
       "      <td>NaN</td>\n",
       "      <td>12000.0</td>\n",
       "      <td>12000.0</td>\n",
       "      <td>12000.0</td>\n",
       "      <td>12000.0</td>\n",
       "      <td>12000.0</td>\n",
       "    </tr>\n",
       "    <tr>\n",
       "      <th>Universidade de São Paulo</th>\n",
       "      <td>3.0</td>\n",
       "      <td>4.866667</td>\n",
       "      <td>0.057735</td>\n",
       "      <td>4.8</td>\n",
       "      <td>4.850</td>\n",
       "      <td>4.90</td>\n",
       "      <td>4.900</td>\n",
       "      <td>4.9</td>\n",
       "      <td>3.0</td>\n",
       "      <td>68500.000000</td>\n",
       "      <td>58755.850772</td>\n",
       "      <td>4500.0</td>\n",
       "      <td>42750.0</td>\n",
       "      <td>81000.0</td>\n",
       "      <td>100500.0</td>\n",
       "      <td>120000.0</td>\n",
       "    </tr>\n",
       "    <tr>\n",
       "      <th>The University of Chicago</th>\n",
       "      <td>2.0</td>\n",
       "      <td>4.850000</td>\n",
       "      <td>0.070711</td>\n",
       "      <td>4.8</td>\n",
       "      <td>4.825</td>\n",
       "      <td>4.85</td>\n",
       "      <td>4.875</td>\n",
       "      <td>4.9</td>\n",
       "      <td>2.0</td>\n",
       "      <td>84000.000000</td>\n",
       "      <td>65053.823869</td>\n",
       "      <td>38000.0</td>\n",
       "      <td>61000.0</td>\n",
       "      <td>84000.0</td>\n",
       "      <td>107000.0</td>\n",
       "      <td>130000.0</td>\n",
       "    </tr>\n",
       "    <tr>\n",
       "      <th>Universidad de los Andes</th>\n",
       "      <td>5.0</td>\n",
       "      <td>4.820000</td>\n",
       "      <td>0.044721</td>\n",
       "      <td>4.8</td>\n",
       "      <td>4.800</td>\n",
       "      <td>4.80</td>\n",
       "      <td>4.800</td>\n",
       "      <td>4.9</td>\n",
       "      <td>5.0</td>\n",
       "      <td>61080.000000</td>\n",
       "      <td>48627.481942</td>\n",
       "      <td>4400.0</td>\n",
       "      <td>23000.0</td>\n",
       "      <td>58000.0</td>\n",
       "      <td>110000.0</td>\n",
       "      <td>110000.0</td>\n",
       "    </tr>\n",
       "    <tr>\n",
       "      <th>Yale University</th>\n",
       "      <td>17.0</td>\n",
       "      <td>4.817647</td>\n",
       "      <td>0.088284</td>\n",
       "      <td>4.6</td>\n",
       "      <td>4.800</td>\n",
       "      <td>4.80</td>\n",
       "      <td>4.900</td>\n",
       "      <td>4.9</td>\n",
       "      <td>17.0</td>\n",
       "      <td>232470.588235</td>\n",
       "      <td>596114.707675</td>\n",
       "      <td>4800.0</td>\n",
       "      <td>24000.0</td>\n",
       "      <td>36000.0</td>\n",
       "      <td>100000.0</td>\n",
       "      <td>2500000.0</td>\n",
       "    </tr>\n",
       "    <tr>\n",
       "      <th>Berklee College of Music</th>\n",
       "      <td>14.0</td>\n",
       "      <td>4.807143</td>\n",
       "      <td>0.026726</td>\n",
       "      <td>4.8</td>\n",
       "      <td>4.800</td>\n",
       "      <td>4.80</td>\n",
       "      <td>4.800</td>\n",
       "      <td>4.9</td>\n",
       "      <td>14.0</td>\n",
       "      <td>92000.000000</td>\n",
       "      <td>80952.977804</td>\n",
       "      <td>28000.0</td>\n",
       "      <td>43250.0</td>\n",
       "      <td>64000.0</td>\n",
       "      <td>103500.0</td>\n",
       "      <td>320000.0</td>\n",
       "    </tr>\n",
       "    <tr>\n",
       "      <th>Tel Aviv University</th>\n",
       "      <td>1.0</td>\n",
       "      <td>4.800000</td>\n",
       "      <td>NaN</td>\n",
       "      <td>4.8</td>\n",
       "      <td>4.800</td>\n",
       "      <td>4.80</td>\n",
       "      <td>4.800</td>\n",
       "      <td>4.8</td>\n",
       "      <td>1.0</td>\n",
       "      <td>49000.000000</td>\n",
       "      <td>NaN</td>\n",
       "      <td>49000.0</td>\n",
       "      <td>49000.0</td>\n",
       "      <td>49000.0</td>\n",
       "      <td>49000.0</td>\n",
       "      <td>49000.0</td>\n",
       "    </tr>\n",
       "    <tr>\n",
       "      <th>Kalshoven-Gieskes Forum</th>\n",
       "      <td>1.0</td>\n",
       "      <td>4.800000</td>\n",
       "      <td>NaN</td>\n",
       "      <td>4.8</td>\n",
       "      <td>4.800</td>\n",
       "      <td>4.80</td>\n",
       "      <td>4.800</td>\n",
       "      <td>4.8</td>\n",
       "      <td>1.0</td>\n",
       "      <td>22000.000000</td>\n",
       "      <td>NaN</td>\n",
       "      <td>22000.0</td>\n",
       "      <td>22000.0</td>\n",
       "      <td>22000.0</td>\n",
       "      <td>22000.0</td>\n",
       "      <td>22000.0</td>\n",
       "    </tr>\n",
       "    <tr>\n",
       "      <th>Relay Graduate School of Education</th>\n",
       "      <td>1.0</td>\n",
       "      <td>4.800000</td>\n",
       "      <td>NaN</td>\n",
       "      <td>4.8</td>\n",
       "      <td>4.800</td>\n",
       "      <td>4.80</td>\n",
       "      <td>4.800</td>\n",
       "      <td>4.8</td>\n",
       "      <td>1.0</td>\n",
       "      <td>53000.000000</td>\n",
       "      <td>NaN</td>\n",
       "      <td>53000.0</td>\n",
       "      <td>53000.0</td>\n",
       "      <td>53000.0</td>\n",
       "      <td>53000.0</td>\n",
       "      <td>53000.0</td>\n",
       "    </tr>\n",
       "    <tr>\n",
       "      <th>Institute for the Future</th>\n",
       "      <td>2.0</td>\n",
       "      <td>4.800000</td>\n",
       "      <td>0.000000</td>\n",
       "      <td>4.8</td>\n",
       "      <td>4.800</td>\n",
       "      <td>4.80</td>\n",
       "      <td>4.800</td>\n",
       "      <td>4.8</td>\n",
       "      <td>2.0</td>\n",
       "      <td>8550.000000</td>\n",
       "      <td>1202.081528</td>\n",
       "      <td>7700.0</td>\n",
       "      <td>8125.0</td>\n",
       "      <td>8550.0</td>\n",
       "      <td>8975.0</td>\n",
       "      <td>9400.0</td>\n",
       "    </tr>\n",
       "    <tr>\n",
       "      <th>UCL School of Management</th>\n",
       "      <td>1.0</td>\n",
       "      <td>4.800000</td>\n",
       "      <td>NaN</td>\n",
       "      <td>4.8</td>\n",
       "      <td>4.800</td>\n",
       "      <td>4.80</td>\n",
       "      <td>4.800</td>\n",
       "      <td>4.8</td>\n",
       "      <td>1.0</td>\n",
       "      <td>7800.000000</td>\n",
       "      <td>NaN</td>\n",
       "      <td>7800.0</td>\n",
       "      <td>7800.0</td>\n",
       "      <td>7800.0</td>\n",
       "      <td>7800.0</td>\n",
       "      <td>7800.0</td>\n",
       "    </tr>\n",
       "    <tr>\n",
       "      <th>Osmosis</th>\n",
       "      <td>1.0</td>\n",
       "      <td>4.800000</td>\n",
       "      <td>NaN</td>\n",
       "      <td>4.8</td>\n",
       "      <td>4.800</td>\n",
       "      <td>4.80</td>\n",
       "      <td>4.800</td>\n",
       "      <td>4.8</td>\n",
       "      <td>1.0</td>\n",
       "      <td>32000.000000</td>\n",
       "      <td>NaN</td>\n",
       "      <td>32000.0</td>\n",
       "      <td>32000.0</td>\n",
       "      <td>32000.0</td>\n",
       "      <td>32000.0</td>\n",
       "      <td>32000.0</td>\n",
       "    </tr>\n",
       "    <tr>\n",
       "      <th>The University of Tokyo</th>\n",
       "      <td>1.0</td>\n",
       "      <td>4.800000</td>\n",
       "      <td>NaN</td>\n",
       "      <td>4.8</td>\n",
       "      <td>4.800</td>\n",
       "      <td>4.80</td>\n",
       "      <td>4.800</td>\n",
       "      <td>4.8</td>\n",
       "      <td>1.0</td>\n",
       "      <td>52000.000000</td>\n",
       "      <td>NaN</td>\n",
       "      <td>52000.0</td>\n",
       "      <td>52000.0</td>\n",
       "      <td>52000.0</td>\n",
       "      <td>52000.0</td>\n",
       "      <td>52000.0</td>\n",
       "    </tr>\n",
       "    <tr>\n",
       "      <th>The George Washington University</th>\n",
       "      <td>2.0</td>\n",
       "      <td>4.800000</td>\n",
       "      <td>0.000000</td>\n",
       "      <td>4.8</td>\n",
       "      <td>4.800</td>\n",
       "      <td>4.80</td>\n",
       "      <td>4.800</td>\n",
       "      <td>4.8</td>\n",
       "      <td>2.0</td>\n",
       "      <td>10050.000000</td>\n",
       "      <td>8414.570696</td>\n",
       "      <td>4100.0</td>\n",
       "      <td>7075.0</td>\n",
       "      <td>10050.0</td>\n",
       "      <td>13025.0</td>\n",
       "      <td>16000.0</td>\n",
       "    </tr>\n",
       "  </tbody>\n",
       "</table>\n",
       "</div>"
      ],
      "text/plain": [
       "                                            course_rating                      \\\n",
       "                                                    count      mean       std   \n",
       "course_organization                                                             \n",
       "Hebrew University of Jerusalem                        1.0  4.900000       NaN   \n",
       "Nanyang Technological University, Singapore           1.0  4.900000       NaN   \n",
       "Universidade Estadual de Campinas                     1.0  4.900000       NaN   \n",
       "Crece con Google                                      1.0  4.900000       NaN   \n",
       "London Business School                                1.0  4.900000       NaN   \n",
       "Google - Spectrum Sharing                             1.0  4.900000       NaN   \n",
       "ScrumTrek                                             1.0  4.900000       NaN   \n",
       "Universidade de São Paulo                             3.0  4.866667  0.057735   \n",
       "The University of Chicago                             2.0  4.850000  0.070711   \n",
       "Universidad de los Andes                              5.0  4.820000  0.044721   \n",
       "Yale University                                      17.0  4.817647  0.088284   \n",
       "Berklee College of Music                             14.0  4.807143  0.026726   \n",
       "Tel Aviv University                                   1.0  4.800000       NaN   \n",
       "Kalshoven-Gieskes Forum                               1.0  4.800000       NaN   \n",
       "Relay Graduate School of Education                    1.0  4.800000       NaN   \n",
       "Institute for the Future                              2.0  4.800000  0.000000   \n",
       "UCL School of Management                              1.0  4.800000       NaN   \n",
       "Osmosis                                               1.0  4.800000       NaN   \n",
       "The University of Tokyo                               1.0  4.800000       NaN   \n",
       "The George Washington University                      2.0  4.800000  0.000000   \n",
       "\n",
       "                                                                           \\\n",
       "                                             min    25%   50%    75%  max   \n",
       "course_organization                                                         \n",
       "Hebrew University of Jerusalem               4.9  4.900  4.90  4.900  4.9   \n",
       "Nanyang Technological University, Singapore  4.9  4.900  4.90  4.900  4.9   \n",
       "Universidade Estadual de Campinas            4.9  4.900  4.90  4.900  4.9   \n",
       "Crece con Google                             4.9  4.900  4.90  4.900  4.9   \n",
       "London Business School                       4.9  4.900  4.90  4.900  4.9   \n",
       "Google - Spectrum Sharing                    4.9  4.900  4.90  4.900  4.9   \n",
       "ScrumTrek                                    4.9  4.900  4.90  4.900  4.9   \n",
       "Universidade de São Paulo                    4.8  4.850  4.90  4.900  4.9   \n",
       "The University of Chicago                    4.8  4.825  4.85  4.875  4.9   \n",
       "Universidad de los Andes                     4.8  4.800  4.80  4.800  4.9   \n",
       "Yale University                              4.6  4.800  4.80  4.900  4.9   \n",
       "Berklee College of Music                     4.8  4.800  4.80  4.800  4.9   \n",
       "Tel Aviv University                          4.8  4.800  4.80  4.800  4.8   \n",
       "Kalshoven-Gieskes Forum                      4.8  4.800  4.80  4.800  4.8   \n",
       "Relay Graduate School of Education           4.8  4.800  4.80  4.800  4.8   \n",
       "Institute for the Future                     4.8  4.800  4.80  4.800  4.8   \n",
       "UCL School of Management                     4.8  4.800  4.80  4.800  4.8   \n",
       "Osmosis                                      4.8  4.800  4.80  4.800  4.8   \n",
       "The University of Tokyo                      4.8  4.800  4.80  4.800  4.8   \n",
       "The George Washington University             4.8  4.800  4.80  4.800  4.8   \n",
       "\n",
       "                                            course_students_enrolled  \\\n",
       "                                                               count   \n",
       "course_organization                                                    \n",
       "Hebrew University of Jerusalem                                   1.0   \n",
       "Nanyang Technological University, Singapore                      1.0   \n",
       "Universidade Estadual de Campinas                                1.0   \n",
       "Crece con Google                                                 1.0   \n",
       "London Business School                                           1.0   \n",
       "Google - Spectrum Sharing                                        1.0   \n",
       "ScrumTrek                                                        1.0   \n",
       "Universidade de São Paulo                                        3.0   \n",
       "The University of Chicago                                        2.0   \n",
       "Universidad de los Andes                                         5.0   \n",
       "Yale University                                                 17.0   \n",
       "Berklee College of Music                                        14.0   \n",
       "Tel Aviv University                                              1.0   \n",
       "Kalshoven-Gieskes Forum                                          1.0   \n",
       "Relay Graduate School of Education                               1.0   \n",
       "Institute for the Future                                         2.0   \n",
       "UCL School of Management                                         1.0   \n",
       "Osmosis                                                          1.0   \n",
       "The University of Tokyo                                          1.0   \n",
       "The George Washington University                                 2.0   \n",
       "\n",
       "                                                                           \\\n",
       "                                                      mean            std   \n",
       "course_organization                                                         \n",
       "Hebrew University of Jerusalem                95000.000000            NaN   \n",
       "Nanyang Technological University, Singapore   47000.000000            NaN   \n",
       "Universidade Estadual de Campinas             17000.000000            NaN   \n",
       "Crece con Google                               8800.000000            NaN   \n",
       "London Business School                        57000.000000            NaN   \n",
       "Google - Spectrum Sharing                    210000.000000            NaN   \n",
       "ScrumTrek                                     12000.000000            NaN   \n",
       "Universidade de São Paulo                     68500.000000   58755.850772   \n",
       "The University of Chicago                     84000.000000   65053.823869   \n",
       "Universidad de los Andes                      61080.000000   48627.481942   \n",
       "Yale University                              232470.588235  596114.707675   \n",
       "Berklee College of Music                      92000.000000   80952.977804   \n",
       "Tel Aviv University                           49000.000000            NaN   \n",
       "Kalshoven-Gieskes Forum                       22000.000000            NaN   \n",
       "Relay Graduate School of Education            53000.000000            NaN   \n",
       "Institute for the Future                       8550.000000    1202.081528   \n",
       "UCL School of Management                       7800.000000            NaN   \n",
       "Osmosis                                       32000.000000            NaN   \n",
       "The University of Tokyo                       52000.000000            NaN   \n",
       "The George Washington University              10050.000000    8414.570696   \n",
       "\n",
       "                                                                           \\\n",
       "                                                  min       25%       50%   \n",
       "course_organization                                                         \n",
       "Hebrew University of Jerusalem                95000.0   95000.0   95000.0   \n",
       "Nanyang Technological University, Singapore   47000.0   47000.0   47000.0   \n",
       "Universidade Estadual de Campinas             17000.0   17000.0   17000.0   \n",
       "Crece con Google                               8800.0    8800.0    8800.0   \n",
       "London Business School                        57000.0   57000.0   57000.0   \n",
       "Google - Spectrum Sharing                    210000.0  210000.0  210000.0   \n",
       "ScrumTrek                                     12000.0   12000.0   12000.0   \n",
       "Universidade de São Paulo                      4500.0   42750.0   81000.0   \n",
       "The University of Chicago                     38000.0   61000.0   84000.0   \n",
       "Universidad de los Andes                       4400.0   23000.0   58000.0   \n",
       "Yale University                                4800.0   24000.0   36000.0   \n",
       "Berklee College of Music                      28000.0   43250.0   64000.0   \n",
       "Tel Aviv University                           49000.0   49000.0   49000.0   \n",
       "Kalshoven-Gieskes Forum                       22000.0   22000.0   22000.0   \n",
       "Relay Graduate School of Education            53000.0   53000.0   53000.0   \n",
       "Institute for the Future                       7700.0    8125.0    8550.0   \n",
       "UCL School of Management                       7800.0    7800.0    7800.0   \n",
       "Osmosis                                       32000.0   32000.0   32000.0   \n",
       "The University of Tokyo                       52000.0   52000.0   52000.0   \n",
       "The George Washington University               4100.0    7075.0   10050.0   \n",
       "\n",
       "                                                                  \n",
       "                                                  75%        max  \n",
       "course_organization                                               \n",
       "Hebrew University of Jerusalem                95000.0    95000.0  \n",
       "Nanyang Technological University, Singapore   47000.0    47000.0  \n",
       "Universidade Estadual de Campinas             17000.0    17000.0  \n",
       "Crece con Google                               8800.0     8800.0  \n",
       "London Business School                        57000.0    57000.0  \n",
       "Google - Spectrum Sharing                    210000.0   210000.0  \n",
       "ScrumTrek                                     12000.0    12000.0  \n",
       "Universidade de São Paulo                    100500.0   120000.0  \n",
       "The University of Chicago                    107000.0   130000.0  \n",
       "Universidad de los Andes                     110000.0   110000.0  \n",
       "Yale University                              100000.0  2500000.0  \n",
       "Berklee College of Music                     103500.0   320000.0  \n",
       "Tel Aviv University                           49000.0    49000.0  \n",
       "Kalshoven-Gieskes Forum                       22000.0    22000.0  \n",
       "Relay Graduate School of Education            53000.0    53000.0  \n",
       "Institute for the Future                       8975.0     9400.0  \n",
       "UCL School of Management                       7800.0     7800.0  \n",
       "Osmosis                                       32000.0    32000.0  \n",
       "The University of Tokyo                       52000.0    52000.0  \n",
       "The George Washington University              13025.0    16000.0  "
      ]
     },
     "execution_count": 17,
     "metadata": {},
     "output_type": "execute_result"
    }
   ],
   "source": [
    "#top 20 based on the Average rating\n",
    "course_organization_describe.loc[average_rating_top_20.index]"
   ]
  },
  {
   "cell_type": "code",
   "execution_count": 18,
   "id": "cc6f9677",
   "metadata": {
    "ExecuteTime": {
     "end_time": "2021-09-30T19:59:23.230756Z",
     "start_time": "2021-09-30T19:59:22.954935Z"
    }
   },
   "outputs": [
    {
     "data": {
      "text/html": [
       "<div>\n",
       "<style scoped>\n",
       "    .dataframe tbody tr th:only-of-type {\n",
       "        vertical-align: middle;\n",
       "    }\n",
       "\n",
       "    .dataframe tbody tr th {\n",
       "        vertical-align: top;\n",
       "    }\n",
       "\n",
       "    .dataframe thead tr th {\n",
       "        text-align: left;\n",
       "    }\n",
       "\n",
       "    .dataframe thead tr:last-of-type th {\n",
       "        text-align: right;\n",
       "    }\n",
       "</style>\n",
       "<table border=\"1\" class=\"dataframe\">\n",
       "  <thead>\n",
       "    <tr>\n",
       "      <th></th>\n",
       "      <th colspan=\"8\" halign=\"left\">course_rating</th>\n",
       "      <th colspan=\"8\" halign=\"left\">course_students_enrolled</th>\n",
       "    </tr>\n",
       "    <tr>\n",
       "      <th></th>\n",
       "      <th>count</th>\n",
       "      <th>mean</th>\n",
       "      <th>std</th>\n",
       "      <th>min</th>\n",
       "      <th>25%</th>\n",
       "      <th>50%</th>\n",
       "      <th>75%</th>\n",
       "      <th>max</th>\n",
       "      <th>count</th>\n",
       "      <th>mean</th>\n",
       "      <th>std</th>\n",
       "      <th>min</th>\n",
       "      <th>25%</th>\n",
       "      <th>50%</th>\n",
       "      <th>75%</th>\n",
       "      <th>max</th>\n",
       "    </tr>\n",
       "    <tr>\n",
       "      <th>course_organization</th>\n",
       "      <th></th>\n",
       "      <th></th>\n",
       "      <th></th>\n",
       "      <th></th>\n",
       "      <th></th>\n",
       "      <th></th>\n",
       "      <th></th>\n",
       "      <th></th>\n",
       "      <th></th>\n",
       "      <th></th>\n",
       "      <th></th>\n",
       "      <th></th>\n",
       "      <th></th>\n",
       "      <th></th>\n",
       "      <th></th>\n",
       "      <th></th>\n",
       "    </tr>\n",
       "  </thead>\n",
       "  <tbody>\n",
       "    <tr>\n",
       "      <th>University of Michigan</th>\n",
       "      <td>41.0</td>\n",
       "      <td>4.729268</td>\n",
       "      <td>0.095509</td>\n",
       "      <td>4.5</td>\n",
       "      <td>4.700</td>\n",
       "      <td>4.80</td>\n",
       "      <td>4.8</td>\n",
       "      <td>4.9</td>\n",
       "      <td>41.0</td>\n",
       "      <td>181407.317073</td>\n",
       "      <td>322044.397087</td>\n",
       "      <td>2300.0</td>\n",
       "      <td>19000.0</td>\n",
       "      <td>59000.0</td>\n",
       "      <td>220000.0</td>\n",
       "      <td>1500000.0</td>\n",
       "    </tr>\n",
       "    <tr>\n",
       "      <th>University of Pennsylvania</th>\n",
       "      <td>59.0</td>\n",
       "      <td>4.696610</td>\n",
       "      <td>0.137673</td>\n",
       "      <td>4.2</td>\n",
       "      <td>4.600</td>\n",
       "      <td>4.70</td>\n",
       "      <td>4.8</td>\n",
       "      <td>4.9</td>\n",
       "      <td>59.0</td>\n",
       "      <td>93242.372881</td>\n",
       "      <td>127795.289163</td>\n",
       "      <td>1700.0</td>\n",
       "      <td>21000.0</td>\n",
       "      <td>40000.0</td>\n",
       "      <td>110000.0</td>\n",
       "      <td>760000.0</td>\n",
       "    </tr>\n",
       "    <tr>\n",
       "      <th>Stanford University</th>\n",
       "      <td>16.0</td>\n",
       "      <td>4.768750</td>\n",
       "      <td>0.119548</td>\n",
       "      <td>4.5</td>\n",
       "      <td>4.700</td>\n",
       "      <td>4.80</td>\n",
       "      <td>4.9</td>\n",
       "      <td>4.9</td>\n",
       "      <td>16.0</td>\n",
       "      <td>303375.000000</td>\n",
       "      <td>779813.727758</td>\n",
       "      <td>11000.0</td>\n",
       "      <td>29500.0</td>\n",
       "      <td>78500.0</td>\n",
       "      <td>177500.0</td>\n",
       "      <td>3200000.0</td>\n",
       "    </tr>\n",
       "    <tr>\n",
       "      <th>University of California, Irvine</th>\n",
       "      <td>27.0</td>\n",
       "      <td>4.596296</td>\n",
       "      <td>0.148016</td>\n",
       "      <td>4.2</td>\n",
       "      <td>4.550</td>\n",
       "      <td>4.60</td>\n",
       "      <td>4.7</td>\n",
       "      <td>4.8</td>\n",
       "      <td>27.0</td>\n",
       "      <td>160222.222222</td>\n",
       "      <td>187717.878197</td>\n",
       "      <td>1700.0</td>\n",
       "      <td>55500.0</td>\n",
       "      <td>79000.0</td>\n",
       "      <td>185000.0</td>\n",
       "      <td>790000.0</td>\n",
       "    </tr>\n",
       "    <tr>\n",
       "      <th>Johns Hopkins University</th>\n",
       "      <td>28.0</td>\n",
       "      <td>4.660714</td>\n",
       "      <td>0.157149</td>\n",
       "      <td>4.3</td>\n",
       "      <td>4.575</td>\n",
       "      <td>4.70</td>\n",
       "      <td>4.8</td>\n",
       "      <td>4.9</td>\n",
       "      <td>28.0</td>\n",
       "      <td>153532.142857</td>\n",
       "      <td>215465.707598</td>\n",
       "      <td>8100.0</td>\n",
       "      <td>27500.0</td>\n",
       "      <td>59500.0</td>\n",
       "      <td>195000.0</td>\n",
       "      <td>830000.0</td>\n",
       "    </tr>\n",
       "    <tr>\n",
       "      <th>Duke University</th>\n",
       "      <td>28.0</td>\n",
       "      <td>4.664286</td>\n",
       "      <td>0.147106</td>\n",
       "      <td>4.2</td>\n",
       "      <td>4.600</td>\n",
       "      <td>4.70</td>\n",
       "      <td>4.8</td>\n",
       "      <td>4.9</td>\n",
       "      <td>28.0</td>\n",
       "      <td>141700.000000</td>\n",
       "      <td>126960.416695</td>\n",
       "      <td>7900.0</td>\n",
       "      <td>23250.0</td>\n",
       "      <td>135000.0</td>\n",
       "      <td>205000.0</td>\n",
       "      <td>490000.0</td>\n",
       "    </tr>\n",
       "    <tr>\n",
       "      <th>Yale University</th>\n",
       "      <td>17.0</td>\n",
       "      <td>4.817647</td>\n",
       "      <td>0.088284</td>\n",
       "      <td>4.6</td>\n",
       "      <td>4.800</td>\n",
       "      <td>4.80</td>\n",
       "      <td>4.9</td>\n",
       "      <td>4.9</td>\n",
       "      <td>17.0</td>\n",
       "      <td>232470.588235</td>\n",
       "      <td>596114.707675</td>\n",
       "      <td>4800.0</td>\n",
       "      <td>24000.0</td>\n",
       "      <td>36000.0</td>\n",
       "      <td>100000.0</td>\n",
       "      <td>2500000.0</td>\n",
       "    </tr>\n",
       "    <tr>\n",
       "      <th>IBM</th>\n",
       "      <td>22.0</td>\n",
       "      <td>4.613636</td>\n",
       "      <td>0.099021</td>\n",
       "      <td>4.4</td>\n",
       "      <td>4.600</td>\n",
       "      <td>4.60</td>\n",
       "      <td>4.7</td>\n",
       "      <td>4.8</td>\n",
       "      <td>22.0</td>\n",
       "      <td>134381.818182</td>\n",
       "      <td>123320.429066</td>\n",
       "      <td>2600.0</td>\n",
       "      <td>42500.0</td>\n",
       "      <td>110000.0</td>\n",
       "      <td>207500.0</td>\n",
       "      <td>480000.0</td>\n",
       "    </tr>\n",
       "    <tr>\n",
       "      <th>deeplearning.ai</th>\n",
       "      <td>16.0</td>\n",
       "      <td>4.743750</td>\n",
       "      <td>0.115289</td>\n",
       "      <td>4.5</td>\n",
       "      <td>4.700</td>\n",
       "      <td>4.75</td>\n",
       "      <td>4.8</td>\n",
       "      <td>4.9</td>\n",
       "      <td>16.0</td>\n",
       "      <td>178962.500000</td>\n",
       "      <td>218746.358065</td>\n",
       "      <td>2400.0</td>\n",
       "      <td>12750.0</td>\n",
       "      <td>98000.0</td>\n",
       "      <td>247500.0</td>\n",
       "      <td>690000.0</td>\n",
       "    </tr>\n",
       "    <tr>\n",
       "      <th>Google Cloud</th>\n",
       "      <td>34.0</td>\n",
       "      <td>4.582353</td>\n",
       "      <td>0.162314</td>\n",
       "      <td>3.9</td>\n",
       "      <td>4.500</td>\n",
       "      <td>4.60</td>\n",
       "      <td>4.7</td>\n",
       "      <td>4.8</td>\n",
       "      <td>34.0</td>\n",
       "      <td>76597.058824</td>\n",
       "      <td>100955.866401</td>\n",
       "      <td>3000.0</td>\n",
       "      <td>11250.0</td>\n",
       "      <td>30000.0</td>\n",
       "      <td>81000.0</td>\n",
       "      <td>310000.0</td>\n",
       "    </tr>\n",
       "    <tr>\n",
       "      <th>Georgia Institute of Technology</th>\n",
       "      <td>10.0</td>\n",
       "      <td>4.660000</td>\n",
       "      <td>0.084327</td>\n",
       "      <td>4.5</td>\n",
       "      <td>4.600</td>\n",
       "      <td>4.70</td>\n",
       "      <td>4.7</td>\n",
       "      <td>4.8</td>\n",
       "      <td>10.0</td>\n",
       "      <td>181300.000000</td>\n",
       "      <td>197162.116037</td>\n",
       "      <td>29000.0</td>\n",
       "      <td>49000.0</td>\n",
       "      <td>98500.0</td>\n",
       "      <td>240000.0</td>\n",
       "      <td>610000.0</td>\n",
       "    </tr>\n",
       "    <tr>\n",
       "      <th>University of Illinois at Urbana-Champaign</th>\n",
       "      <td>22.0</td>\n",
       "      <td>4.654545</td>\n",
       "      <td>0.173829</td>\n",
       "      <td>4.2</td>\n",
       "      <td>4.600</td>\n",
       "      <td>4.70</td>\n",
       "      <td>4.8</td>\n",
       "      <td>4.9</td>\n",
       "      <td>22.0</td>\n",
       "      <td>76318.181818</td>\n",
       "      <td>94642.880830</td>\n",
       "      <td>10000.0</td>\n",
       "      <td>18000.0</td>\n",
       "      <td>56000.0</td>\n",
       "      <td>75250.0</td>\n",
       "      <td>380000.0</td>\n",
       "    </tr>\n",
       "    <tr>\n",
       "      <th>University of Virginia</th>\n",
       "      <td>19.0</td>\n",
       "      <td>4.715789</td>\n",
       "      <td>0.121395</td>\n",
       "      <td>4.4</td>\n",
       "      <td>4.650</td>\n",
       "      <td>4.70</td>\n",
       "      <td>4.8</td>\n",
       "      <td>4.9</td>\n",
       "      <td>19.0</td>\n",
       "      <td>81894.736842</td>\n",
       "      <td>61901.260745</td>\n",
       "      <td>10000.0</td>\n",
       "      <td>36500.0</td>\n",
       "      <td>65000.0</td>\n",
       "      <td>125000.0</td>\n",
       "      <td>240000.0</td>\n",
       "    </tr>\n",
       "    <tr>\n",
       "      <th>Berklee College of Music</th>\n",
       "      <td>14.0</td>\n",
       "      <td>4.807143</td>\n",
       "      <td>0.026726</td>\n",
       "      <td>4.8</td>\n",
       "      <td>4.800</td>\n",
       "      <td>4.80</td>\n",
       "      <td>4.8</td>\n",
       "      <td>4.9</td>\n",
       "      <td>14.0</td>\n",
       "      <td>92000.000000</td>\n",
       "      <td>80952.977804</td>\n",
       "      <td>28000.0</td>\n",
       "      <td>43250.0</td>\n",
       "      <td>64000.0</td>\n",
       "      <td>103500.0</td>\n",
       "      <td>320000.0</td>\n",
       "    </tr>\n",
       "    <tr>\n",
       "      <th>University of California, Davis</th>\n",
       "      <td>21.0</td>\n",
       "      <td>4.619048</td>\n",
       "      <td>0.112335</td>\n",
       "      <td>4.4</td>\n",
       "      <td>4.500</td>\n",
       "      <td>4.60</td>\n",
       "      <td>4.7</td>\n",
       "      <td>4.8</td>\n",
       "      <td>21.0</td>\n",
       "      <td>60890.476190</td>\n",
       "      <td>46820.913113</td>\n",
       "      <td>4900.0</td>\n",
       "      <td>22000.0</td>\n",
       "      <td>56000.0</td>\n",
       "      <td>86000.0</td>\n",
       "      <td>160000.0</td>\n",
       "    </tr>\n",
       "    <tr>\n",
       "      <th>Universidad Nacional Autónoma de México</th>\n",
       "      <td>14.0</td>\n",
       "      <td>4.750000</td>\n",
       "      <td>0.085485</td>\n",
       "      <td>4.6</td>\n",
       "      <td>4.700</td>\n",
       "      <td>4.80</td>\n",
       "      <td>4.8</td>\n",
       "      <td>4.9</td>\n",
       "      <td>14.0</td>\n",
       "      <td>86278.571429</td>\n",
       "      <td>95302.079875</td>\n",
       "      <td>8900.0</td>\n",
       "      <td>23750.0</td>\n",
       "      <td>36500.0</td>\n",
       "      <td>130000.0</td>\n",
       "      <td>310000.0</td>\n",
       "    </tr>\n",
       "    <tr>\n",
       "      <th>University of California San Diego</th>\n",
       "      <td>9.0</td>\n",
       "      <td>4.644444</td>\n",
       "      <td>0.142400</td>\n",
       "      <td>4.4</td>\n",
       "      <td>4.600</td>\n",
       "      <td>4.70</td>\n",
       "      <td>4.7</td>\n",
       "      <td>4.9</td>\n",
       "      <td>9.0</td>\n",
       "      <td>129555.555556</td>\n",
       "      <td>81957.475423</td>\n",
       "      <td>17000.0</td>\n",
       "      <td>62000.0</td>\n",
       "      <td>150000.0</td>\n",
       "      <td>180000.0</td>\n",
       "      <td>250000.0</td>\n",
       "    </tr>\n",
       "    <tr>\n",
       "      <th>Google</th>\n",
       "      <td>9.0</td>\n",
       "      <td>4.733333</td>\n",
       "      <td>0.070711</td>\n",
       "      <td>4.6</td>\n",
       "      <td>4.700</td>\n",
       "      <td>4.70</td>\n",
       "      <td>4.8</td>\n",
       "      <td>4.8</td>\n",
       "      <td>9.0</td>\n",
       "      <td>128111.111111</td>\n",
       "      <td>111311.998954</td>\n",
       "      <td>19000.0</td>\n",
       "      <td>62000.0</td>\n",
       "      <td>81000.0</td>\n",
       "      <td>130000.0</td>\n",
       "      <td>350000.0</td>\n",
       "    </tr>\n",
       "    <tr>\n",
       "      <th>The University of Edinburgh</th>\n",
       "      <td>8.0</td>\n",
       "      <td>4.675000</td>\n",
       "      <td>0.070711</td>\n",
       "      <td>4.6</td>\n",
       "      <td>4.600</td>\n",
       "      <td>4.70</td>\n",
       "      <td>4.7</td>\n",
       "      <td>4.8</td>\n",
       "      <td>8.0</td>\n",
       "      <td>109375.000000</td>\n",
       "      <td>118983.717373</td>\n",
       "      <td>16000.0</td>\n",
       "      <td>29500.0</td>\n",
       "      <td>68500.0</td>\n",
       "      <td>135000.0</td>\n",
       "      <td>370000.0</td>\n",
       "    </tr>\n",
       "    <tr>\n",
       "      <th>University of Washington</th>\n",
       "      <td>5.0</td>\n",
       "      <td>4.660000</td>\n",
       "      <td>0.054772</td>\n",
       "      <td>4.6</td>\n",
       "      <td>4.600</td>\n",
       "      <td>4.70</td>\n",
       "      <td>4.7</td>\n",
       "      <td>4.7</td>\n",
       "      <td>5.0</td>\n",
       "      <td>167400.000000</td>\n",
       "      <td>92216.050664</td>\n",
       "      <td>77000.0</td>\n",
       "      <td>110000.0</td>\n",
       "      <td>120000.0</td>\n",
       "      <td>240000.0</td>\n",
       "      <td>290000.0</td>\n",
       "    </tr>\n",
       "  </tbody>\n",
       "</table>\n",
       "</div>"
      ],
      "text/plain": [
       "                                           course_rating                      \\\n",
       "                                                   count      mean       std   \n",
       "course_organization                                                            \n",
       "University of Michigan                              41.0  4.729268  0.095509   \n",
       "University of Pennsylvania                          59.0  4.696610  0.137673   \n",
       "Stanford University                                 16.0  4.768750  0.119548   \n",
       "University of California, Irvine                    27.0  4.596296  0.148016   \n",
       "Johns Hopkins University                            28.0  4.660714  0.157149   \n",
       "Duke University                                     28.0  4.664286  0.147106   \n",
       "Yale University                                     17.0  4.817647  0.088284   \n",
       "IBM                                                 22.0  4.613636  0.099021   \n",
       "deeplearning.ai                                     16.0  4.743750  0.115289   \n",
       "Google Cloud                                        34.0  4.582353  0.162314   \n",
       "Georgia Institute of Technology                     10.0  4.660000  0.084327   \n",
       "University of Illinois at Urbana-Champaign          22.0  4.654545  0.173829   \n",
       "University of Virginia                              19.0  4.715789  0.121395   \n",
       "Berklee College of Music                            14.0  4.807143  0.026726   \n",
       "University of California, Davis                     21.0  4.619048  0.112335   \n",
       "Universidad Nacional Autónoma de México             14.0  4.750000  0.085485   \n",
       "University of California San Diego                   9.0  4.644444  0.142400   \n",
       "Google                                               9.0  4.733333  0.070711   \n",
       "The University of Edinburgh                          8.0  4.675000  0.070711   \n",
       "University of Washington                             5.0  4.660000  0.054772   \n",
       "\n",
       "                                                                        \\\n",
       "                                            min    25%   50%  75%  max   \n",
       "course_organization                                                      \n",
       "University of Michigan                      4.5  4.700  4.80  4.8  4.9   \n",
       "University of Pennsylvania                  4.2  4.600  4.70  4.8  4.9   \n",
       "Stanford University                         4.5  4.700  4.80  4.9  4.9   \n",
       "University of California, Irvine            4.2  4.550  4.60  4.7  4.8   \n",
       "Johns Hopkins University                    4.3  4.575  4.70  4.8  4.9   \n",
       "Duke University                             4.2  4.600  4.70  4.8  4.9   \n",
       "Yale University                             4.6  4.800  4.80  4.9  4.9   \n",
       "IBM                                         4.4  4.600  4.60  4.7  4.8   \n",
       "deeplearning.ai                             4.5  4.700  4.75  4.8  4.9   \n",
       "Google Cloud                                3.9  4.500  4.60  4.7  4.8   \n",
       "Georgia Institute of Technology             4.5  4.600  4.70  4.7  4.8   \n",
       "University of Illinois at Urbana-Champaign  4.2  4.600  4.70  4.8  4.9   \n",
       "University of Virginia                      4.4  4.650  4.70  4.8  4.9   \n",
       "Berklee College of Music                    4.8  4.800  4.80  4.8  4.9   \n",
       "University of California, Davis             4.4  4.500  4.60  4.7  4.8   \n",
       "Universidad Nacional Autónoma de México     4.6  4.700  4.80  4.8  4.9   \n",
       "University of California San Diego          4.4  4.600  4.70  4.7  4.9   \n",
       "Google                                      4.6  4.700  4.70  4.8  4.8   \n",
       "The University of Edinburgh                 4.6  4.600  4.70  4.7  4.8   \n",
       "University of Washington                    4.6  4.600  4.70  4.7  4.7   \n",
       "\n",
       "                                           course_students_enrolled  \\\n",
       "                                                              count   \n",
       "course_organization                                                   \n",
       "University of Michigan                                         41.0   \n",
       "University of Pennsylvania                                     59.0   \n",
       "Stanford University                                            16.0   \n",
       "University of California, Irvine                               27.0   \n",
       "Johns Hopkins University                                       28.0   \n",
       "Duke University                                                28.0   \n",
       "Yale University                                                17.0   \n",
       "IBM                                                            22.0   \n",
       "deeplearning.ai                                                16.0   \n",
       "Google Cloud                                                   34.0   \n",
       "Georgia Institute of Technology                                10.0   \n",
       "University of Illinois at Urbana-Champaign                     22.0   \n",
       "University of Virginia                                         19.0   \n",
       "Berklee College of Music                                       14.0   \n",
       "University of California, Davis                                21.0   \n",
       "Universidad Nacional Autónoma de México                        14.0   \n",
       "University of California San Diego                              9.0   \n",
       "Google                                                          9.0   \n",
       "The University of Edinburgh                                     8.0   \n",
       "University of Washington                                        5.0   \n",
       "\n",
       "                                                                          \\\n",
       "                                                     mean            std   \n",
       "course_organization                                                        \n",
       "University of Michigan                      181407.317073  322044.397087   \n",
       "University of Pennsylvania                   93242.372881  127795.289163   \n",
       "Stanford University                         303375.000000  779813.727758   \n",
       "University of California, Irvine            160222.222222  187717.878197   \n",
       "Johns Hopkins University                    153532.142857  215465.707598   \n",
       "Duke University                             141700.000000  126960.416695   \n",
       "Yale University                             232470.588235  596114.707675   \n",
       "IBM                                         134381.818182  123320.429066   \n",
       "deeplearning.ai                             178962.500000  218746.358065   \n",
       "Google Cloud                                 76597.058824  100955.866401   \n",
       "Georgia Institute of Technology             181300.000000  197162.116037   \n",
       "University of Illinois at Urbana-Champaign   76318.181818   94642.880830   \n",
       "University of Virginia                       81894.736842   61901.260745   \n",
       "Berklee College of Music                     92000.000000   80952.977804   \n",
       "University of California, Davis              60890.476190   46820.913113   \n",
       "Universidad Nacional Autónoma de México      86278.571429   95302.079875   \n",
       "University of California San Diego          129555.555556   81957.475423   \n",
       "Google                                      128111.111111  111311.998954   \n",
       "The University of Edinburgh                 109375.000000  118983.717373   \n",
       "University of Washington                    167400.000000   92216.050664   \n",
       "\n",
       "                                                                         \\\n",
       "                                                min       25%       50%   \n",
       "course_organization                                                       \n",
       "University of Michigan                       2300.0   19000.0   59000.0   \n",
       "University of Pennsylvania                   1700.0   21000.0   40000.0   \n",
       "Stanford University                         11000.0   29500.0   78500.0   \n",
       "University of California, Irvine             1700.0   55500.0   79000.0   \n",
       "Johns Hopkins University                     8100.0   27500.0   59500.0   \n",
       "Duke University                              7900.0   23250.0  135000.0   \n",
       "Yale University                              4800.0   24000.0   36000.0   \n",
       "IBM                                          2600.0   42500.0  110000.0   \n",
       "deeplearning.ai                              2400.0   12750.0   98000.0   \n",
       "Google Cloud                                 3000.0   11250.0   30000.0   \n",
       "Georgia Institute of Technology             29000.0   49000.0   98500.0   \n",
       "University of Illinois at Urbana-Champaign  10000.0   18000.0   56000.0   \n",
       "University of Virginia                      10000.0   36500.0   65000.0   \n",
       "Berklee College of Music                    28000.0   43250.0   64000.0   \n",
       "University of California, Davis              4900.0   22000.0   56000.0   \n",
       "Universidad Nacional Autónoma de México      8900.0   23750.0   36500.0   \n",
       "University of California San Diego          17000.0   62000.0  150000.0   \n",
       "Google                                      19000.0   62000.0   81000.0   \n",
       "The University of Edinburgh                 16000.0   29500.0   68500.0   \n",
       "University of Washington                    77000.0  110000.0  120000.0   \n",
       "\n",
       "                                                                 \n",
       "                                                 75%        max  \n",
       "course_organization                                              \n",
       "University of Michigan                      220000.0  1500000.0  \n",
       "University of Pennsylvania                  110000.0   760000.0  \n",
       "Stanford University                         177500.0  3200000.0  \n",
       "University of California, Irvine            185000.0   790000.0  \n",
       "Johns Hopkins University                    195000.0   830000.0  \n",
       "Duke University                             205000.0   490000.0  \n",
       "Yale University                             100000.0  2500000.0  \n",
       "IBM                                         207500.0   480000.0  \n",
       "deeplearning.ai                             247500.0   690000.0  \n",
       "Google Cloud                                 81000.0   310000.0  \n",
       "Georgia Institute of Technology             240000.0   610000.0  \n",
       "University of Illinois at Urbana-Champaign   75250.0   380000.0  \n",
       "University of Virginia                      125000.0   240000.0  \n",
       "Berklee College of Music                    103500.0   320000.0  \n",
       "University of California, Davis              86000.0   160000.0  \n",
       "Universidad Nacional Autónoma de México     130000.0   310000.0  \n",
       "University of California San Diego          180000.0   250000.0  \n",
       "Google                                      130000.0   350000.0  \n",
       "The University of Edinburgh                 135000.0   370000.0  \n",
       "University of Washington                    240000.0   290000.0  "
      ]
     },
     "execution_count": 18,
     "metadata": {},
     "output_type": "execute_result"
    }
   ],
   "source": [
    "#top 20 based on the Total number of Enrolled Students\n",
    "course_organization_describe.loc[students_total_top_20.index]"
   ]
  },
  {
   "cell_type": "markdown",
   "id": "98b9d425",
   "metadata": {},
   "source": [
    "1.\tTop 20 organization differ based on the totla number of enrolled students and the average rating \n",
    "2.\tNumber of courses offered by the top 20 organization also differ when observed based on the average rating and when observed based on the total number of enrolled students \n",
    "3.\tRating cannot be used to determine the popularity of organization and it’s better to use the number of enrolled students as a measurement.\n"
   ]
  },
  {
   "cell_type": "markdown",
   "id": "d043b801",
   "metadata": {},
   "source": [
    "**Best Wishes**"
   ]
  },
  {
   "attachments": {
    "images.jpg": {
     "image/jpeg": "[encoded data removed]"
    }
   },
   "cell_type": "markdown",
   "id": "d0a83b9d",
   "metadata": {},
   "source": [
    "![images.jpg](attachment:images.jpg)"
   ]
  }
 ],
 "metadata": {
  "kernelspec": {
   "display_name": "Python 3",
   "language": "python",
   "name": "python3"
  },
  "language_info": {
   "codemirror_mode": {
    "name": "ipython",
    "version": 3
   },
   "file_extension": ".py",
   "mimetype": "text/x-python",
   "name": "python",
   "nbconvert_exporter": "python",
   "pygments_lexer": "ipython3",
   "version": "3.8.8"
  },
  "toc": {
   "base_numbering": 1,
   "nav_menu": {},
   "number_sections": false,
   "sideBar": true,
   "skip_h1_title": false,
   "title_cell": "Table of Contents",
   "title_sidebar": "Contents",
   "toc_cell": false,
   "toc_position": {},
   "toc_section_display": true,
   "toc_window_display": false
  },
  "varInspector": {
   "cols": {
    "lenName": 16,
    "lenType": 16,
    "lenVar": 40
   },
   "kernels_config": {
    "python": {
     "delete_cmd_postfix": "",
     "delete_cmd_prefix": "del ",
     "library": "var_list.py",
     "varRefreshCmd": "print(var_dic_list())"
    },
    "r": {
     "delete_cmd_postfix": ") ",
     "delete_cmd_prefix": "rm(",
     "library": "var_list.r",
     "varRefreshCmd": "cat(var_dic_list()) "
    }
   },
   "types_to_exclude": [
    "module",
    "function",
    "builtin_function_or_method",
    "instance",
    "_Feature"
   ],
   "window_display": false
  }
 },
 "nbformat": 4,
 "nbformat_minor": 5
}
