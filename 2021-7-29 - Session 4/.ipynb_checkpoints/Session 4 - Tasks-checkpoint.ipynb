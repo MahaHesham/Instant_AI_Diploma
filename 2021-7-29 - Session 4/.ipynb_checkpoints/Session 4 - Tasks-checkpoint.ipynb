{
 "cells": [
  {
   "cell_type": "markdown",
   "id": "17d708cb",
   "metadata": {},
   "source": [
    "# Task :-\n",
    "**Implementation of tree data structure by code in python**"
   ]
  },
  {
   "cell_type": "markdown",
   "id": "cb0907eb",
   "metadata": {},
   "source": [
    "**Links Used :-**\n",
    "1. https://www.delftstack.com/howto/python/trees-in-python/\n",
    "2. https://www.delftstack.com/howto/python/python-tree/"
   ]
  },
  {
   "cell_type": "markdown",
   "id": "297c616e",
   "metadata": {
    "heading_collapsed": true
   },
   "source": [
    "## Implement a Tree From Scratch"
   ]
  },
  {
   "cell_type": "code",
   "execution_count": 1,
   "id": "a015fce9",
   "metadata": {
    "ExecuteTime": {
     "end_time": "2022-03-13T07:50:10.965699Z",
     "start_time": "2022-03-13T07:50:10.951033Z"
    },
    "hidden": true
   },
   "outputs": [],
   "source": [
    "class Node :                          # Represent a single node\n",
    "    def __init__(self, data) :\n",
    "        self.left = None              # Pointing to the left child\n",
    "        self.right = None             # Pointing to the right child\n",
    "        self.data = data              # Containing the value for that node\n",
    "        \n",
    "root = Node(10)\n",
    "root.left = Node(34)\n",
    "root.right = Node(89)\n",
    "root.left.left = Node(45)\n",
    "root.left.right = Node(50)"
   ]
  },
  {
   "cell_type": "markdown",
   "id": "41077aba",
   "metadata": {
    "hidden": true
   },
   "source": [
    "The tree looks like below.\n",
    "\n",
    "          10\n",
    "        /    \\\n",
    "       34      89\n",
    "     /    \\  \n",
    "    45    50"
   ]
  },
  {
   "cell_type": "markdown",
   "id": "e57b5cd5",
   "metadata": {
    "heading_collapsed": true
   },
   "source": [
    "## Traverse a Binary Tree in Python"
   ]
  },
  {
   "cell_type": "code",
   "execution_count": 2,
   "id": "4a0d4fdc",
   "metadata": {
    "ExecuteTime": {
     "end_time": "2022-03-13T07:50:10.980662Z",
     "start_time": "2022-03-13T07:50:10.966745Z"
    },
    "hidden": true
   },
   "outputs": [
    {
     "name": "stdout",
     "output_type": "stream",
     "text": [
      "10\n",
      "34\n",
      "45\n",
      "50\n",
      "89\n"
     ]
    }
   ],
   "source": [
    "# Pre-Order Traversal\n",
    "def preorder(node):\n",
    "    if node:\n",
    "        print(node.data)\n",
    "        preorder(node.left)\n",
    "        preorder(node.right)\n",
    "\n",
    "preorder(root)"
   ]
  },
  {
   "cell_type": "code",
   "execution_count": 3,
   "id": "7902c463",
   "metadata": {
    "ExecuteTime": {
     "end_time": "2022-03-13T07:50:10.996148Z",
     "start_time": "2022-03-13T07:50:10.982691Z"
    },
    "hidden": true
   },
   "outputs": [
    {
     "name": "stdout",
     "output_type": "stream",
     "text": [
      "45\n",
      "34\n",
      "50\n",
      "10\n",
      "89\n"
     ]
    }
   ],
   "source": [
    "# In-Order Traversal\n",
    "def inorder(node):\n",
    "    if node:\n",
    "        inorder(node.left)\n",
    "        print(node.data)\n",
    "        inorder(node.right)\n",
    "        \n",
    "inorder(root)"
   ]
  },
  {
   "cell_type": "code",
   "execution_count": 4,
   "id": "607a55a4",
   "metadata": {
    "ExecuteTime": {
     "end_time": "2022-03-13T07:50:11.012187Z",
     "start_time": "2022-03-13T07:50:10.996791Z"
    },
    "hidden": true
   },
   "outputs": [
    {
     "name": "stdout",
     "output_type": "stream",
     "text": [
      "45\n",
      "50\n",
      "34\n",
      "89\n",
      "10\n"
     ]
    }
   ],
   "source": [
    "# Post-Order Traversal\n",
    "def postorder(node):\n",
    "    if node:\n",
    "        postorder(node.left)\n",
    "        postorder(node.right)\n",
    "        print(node.data)\n",
    "        \n",
    "postorder(root)"
   ]
  },
  {
   "cell_type": "markdown",
   "id": "ca09a9fd",
   "metadata": {
    "heading_collapsed": true
   },
   "source": [
    "## Implement a Tree Using a Python Library"
   ]
  },
  {
   "cell_type": "code",
   "execution_count": 5,
   "id": "6fa05f88",
   "metadata": {
    "ExecuteTime": {
     "end_time": "2022-03-13T07:50:11.043644Z",
     "start_time": "2022-03-13T07:50:11.012750Z"
    },
    "hidden": true
   },
   "outputs": [],
   "source": [
    "from anytree import Node, RenderTree"
   ]
  },
  {
   "cell_type": "code",
   "execution_count": 6,
   "id": "f98bf37d",
   "metadata": {
    "ExecuteTime": {
     "end_time": "2022-03-13T07:50:11.058678Z",
     "start_time": "2022-03-13T07:50:11.044641Z"
    },
    "hidden": true,
    "scrolled": true
   },
   "outputs": [
    {
     "name": "stdout",
     "output_type": "stream",
     "text": [
      " 10\n",
      "├──  34\n",
      "│   ├──  45\n",
      "│   └──  50\n",
      "└──  89\n"
     ]
    }
   ],
   "source": [
    "root = Node(10)\n",
    "\n",
    "level_1_child_1 = Node(34, parent=root)\n",
    "level_1_child_2 = Node(89, parent=root)\n",
    "level_2_child_1 = Node(45, parent=level_1_child_1)\n",
    "level_2_child_2 = Node(50, parent=level_1_child_1)\n",
    "\n",
    "for pre, fill, node in RenderTree(root):\n",
    "    print(f\"{pre} {node.name}\")\n",
    "# OR --> print(\"%s%s\" % (pre, node.name))"
   ]
  },
  {
   "cell_type": "markdown",
   "id": "f23dd457",
   "metadata": {
    "heading_collapsed": true
   },
   "source": [
    "## Another Method :-"
   ]
  },
  {
   "cell_type": "code",
   "execution_count": 7,
   "id": "3ed53a45",
   "metadata": {
    "ExecuteTime": {
     "end_time": "2022-03-13T07:50:11.074187Z",
     "start_time": "2022-03-13T07:50:11.059653Z"
    },
    "hidden": true
   },
   "outputs": [],
   "source": [
    "class Tree:\n",
    "    def __init__(self, val = None):\n",
    "        if val != None:\n",
    "            self.val = val\n",
    "        else:\n",
    "            self.val = None\n",
    "            \n",
    "        self.left = None\n",
    "        self.right = None\n",
    "\n",
    "        \n",
    "    def insert(self, val):\n",
    "        if self.val:\n",
    "            if val < self.val:\n",
    "                if self.left is None:\n",
    "                    self.left = Tree(val)\n",
    "                else:\n",
    "                    self.left.insert(val)\n",
    "            \n",
    "            elif val > self.val:\n",
    "                if self.right is None:\n",
    "                    self.right = Tree(val)\n",
    "                else:\n",
    "                    self.right.insert(val)\n",
    "        \n",
    "        else:\n",
    "            self.val = val\n",
    "\n",
    "            \n",
    "    def printValues(self):\n",
    "        if self.left:\n",
    "            self.left.printValues()\n",
    "        \n",
    "        print(self.val)\n",
    "        \n",
    "        if self.right:\n",
    "            self.right.printValues()\n",
    "        "
   ]
  },
  {
   "cell_type": "code",
   "execution_count": 8,
   "id": "a8a09c16",
   "metadata": {
    "ExecuteTime": {
     "end_time": "2022-03-13T07:50:11.090198Z",
     "start_time": "2022-03-13T07:50:11.075184Z"
    },
    "hidden": true
   },
   "outputs": [],
   "source": [
    "tree = Tree(20)\n",
    "tree.left = Tree(18)\n",
    "tree.right = Tree(22)"
   ]
  },
  {
   "cell_type": "code",
   "execution_count": 9,
   "id": "e5d7ca1a",
   "metadata": {
    "ExecuteTime": {
     "end_time": "2022-03-13T07:50:11.106184Z",
     "start_time": "2022-03-13T07:50:11.091174Z"
    },
    "hidden": true
   },
   "outputs": [
    {
     "name": "stdout",
     "output_type": "stream",
     "text": [
      "5\n",
      "18\n",
      "19\n",
      "20\n",
      "21\n",
      "22\n",
      "24\n"
     ]
    }
   ],
   "source": [
    "tree.insert(19)\n",
    "tree.insert(24)\n",
    "tree.insert(5)\n",
    "tree.insert(21)\n",
    "\n",
    "tree.printValues()"
   ]
  },
  {
   "cell_type": "markdown",
   "id": "4464f8b5",
   "metadata": {
    "ExecuteTime": {
     "end_time": "2021-10-26T20:49:50.491864Z",
     "start_time": "2021-10-26T20:49:50.477876Z"
    },
    "hidden": true
   },
   "source": [
    "**The tree would look like this :**\n",
    "<img src=\"tree.jpg\" width=\"300\" height=\"300\" />"
   ]
  }
 ],
 "metadata": {
  "kernelspec": {
   "display_name": "Python 3 (ipykernel)",
   "language": "python",
   "name": "python3"
  },
  "language_info": {
   "codemirror_mode": {
    "name": "ipython",
    "version": 3
   },
   "file_extension": ".py",
   "mimetype": "text/x-python",
   "name": "python",
   "nbconvert_exporter": "python",
   "pygments_lexer": "ipython3",
   "version": "3.9.7"
  },
  "toc": {
   "base_numbering": 1,
   "nav_menu": {},
   "number_sections": true,
   "sideBar": true,
   "skip_h1_title": false,
   "title_cell": "Table of Contents",
   "title_sidebar": "Contents",
   "toc_cell": false,
   "toc_position": {},
   "toc_section_display": true,
   "toc_window_display": false
  },
  "varInspector": {
   "cols": {
    "lenName": 16,
    "lenType": 16,
    "lenVar": 40
   },
   "kernels_config": {
    "python": {
     "delete_cmd_postfix": "",
     "delete_cmd_prefix": "del ",
     "library": "var_list.py",
     "varRefreshCmd": "print(var_dic_list())"
    },
    "r": {
     "delete_cmd_postfix": ") ",
     "delete_cmd_prefix": "rm(",
     "library": "var_list.r",
     "varRefreshCmd": "cat(var_dic_list()) "
    }
   },
   "types_to_exclude": [
    "module",
    "function",
    "builtin_function_or_method",
    "instance",
    "_Feature"
   ],
   "window_display": false
  }
 },
 "nbformat": 4,
 "nbformat_minor": 5
}
