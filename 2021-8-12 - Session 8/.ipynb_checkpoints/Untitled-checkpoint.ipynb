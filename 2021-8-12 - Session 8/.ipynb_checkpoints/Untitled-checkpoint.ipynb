{
 "cells": [
  {
   "cell_type": "code",
   "execution_count": null,
   "id": "a61e7082",
   "metadata": {
    "ExecuteTime": {
     "end_time": "2021-08-16T14:31:31.128250Z",
     "start_time": "2021-08-16T14:31:31.120255Z"
    }
   },
   "outputs": [],
   "source": [
    "from datetime import datetime"
   ]
  },
  {
   "cell_type": "code",
   "execution_count": null,
   "id": "07b5c925",
   "metadata": {
    "ExecuteTime": {
     "end_time": "2021-08-16T14:31:31.682895Z",
     "start_time": "2021-08-16T14:31:31.661906Z"
    }
   },
   "outputs": [],
   "source": [
    "with open (\"m.txt\" , \"a\") as txt:\n",
    "    txt.write('\\nAccessed on ' + str(datetime.now()))"
   ]
  },
  {
   "cell_type": "code",
   "execution_count": 1,
   "id": "c92514bd",
   "metadata": {
    "ExecuteTime": {
     "end_time": "2021-08-16T14:58:02.695312Z",
     "start_time": "2021-08-16T14:58:02.671264Z"
    }
   },
   "outputs": [],
   "source": [
    "from crontab import CronTab"
   ]
  },
  {
   "cell_type": "code",
   "execution_count": null,
   "id": "2db29caa",
   "metadata": {
    "ExecuteTime": {
     "end_time": "2021-08-16T14:56:52.997119Z",
     "start_time": "2021-08-16T14:56:52.985133Z"
    }
   },
   "outputs": [],
   "source": [
    "CronItem1 = CronTab(tab=\"* * * * * echo hello_world\")\n"
   ]
  },
  {
   "cell_type": "code",
   "execution_count": null,
   "id": "0c6855ae",
   "metadata": {},
   "outputs": [],
   "source": []
  },
  {
   "cell_type": "code",
   "execution_count": 4,
   "id": "d3e2efcc",
   "metadata": {
    "ExecuteTime": {
     "end_time": "2021-08-16T14:59:42.691856Z",
     "start_time": "2021-08-16T14:59:42.666873Z"
    }
   },
   "outputs": [],
   "source": [
    "cron = CronTab()\n",
    "job = cron.new(command='python m.py')\n",
    "job.minute.every(1)\n",
    "cron.write( 'output.tab' )"
   ]
  },
  {
   "cell_type": "code",
   "execution_count": 5,
   "id": "7f5706ce",
   "metadata": {
    "ExecuteTime": {
     "end_time": "2021-08-16T15:01:36.217810Z",
     "start_time": "2021-08-16T15:01:35.814020Z"
    },
    "scrolled": true
   },
   "outputs": [
    {
     "ename": "OSError",
     "evalue": "Please specify user or filename to write.",
     "output_type": "error",
     "traceback": [
      "\u001b[1;31m---------------------------------------------------------------------------\u001b[0m",
      "\u001b[1;31mOSError\u001b[0m                                   Traceback (most recent call last)",
      "\u001b[1;32m<ipython-input-5-70b72dc2c3c4>\u001b[0m in \u001b[0;36m<module>\u001b[1;34m\u001b[0m\n\u001b[0;32m      2\u001b[0m \u001b[0mjob\u001b[0m \u001b[1;33m=\u001b[0m \u001b[0mcron\u001b[0m\u001b[1;33m.\u001b[0m\u001b[0mnew\u001b[0m\u001b[1;33m(\u001b[0m\u001b[0mcommand\u001b[0m\u001b[1;33m=\u001b[0m\u001b[1;34m'python m.py'\u001b[0m\u001b[1;33m)\u001b[0m               \u001b[1;31m#To create task\u001b[0m\u001b[1;33m\u001b[0m\u001b[1;33m\u001b[0m\u001b[0m\n\u001b[0;32m      3\u001b[0m \u001b[0mjob\u001b[0m\u001b[1;33m.\u001b[0m\u001b[0mminute\u001b[0m\u001b[1;33m.\u001b[0m\u001b[0mevery\u001b[0m\u001b[1;33m(\u001b[0m\u001b[1;36m1\u001b[0m\u001b[1;33m)\u001b[0m\u001b[1;33m\u001b[0m\u001b[1;33m\u001b[0m\u001b[0m\n\u001b[1;32m----> 4\u001b[1;33m \u001b[0mcron\u001b[0m\u001b[1;33m.\u001b[0m\u001b[0mwrite\u001b[0m\u001b[1;33m(\u001b[0m\u001b[1;33m)\u001b[0m\u001b[1;33m\u001b[0m\u001b[1;33m\u001b[0m\u001b[0m\n\u001b[0m",
      "\u001b[1;32m~\\anaconda3\\lib\\site-packages\\crontab.py\u001b[0m in \u001b[0;36mwrite\u001b[1;34m(self, filename, user, errors)\u001b[0m\n\u001b[0;32m    353\u001b[0m             \u001b[1;32mif\u001b[0m \u001b[1;32mnot\u001b[0m \u001b[0mself\u001b[0m\u001b[1;33m.\u001b[0m\u001b[0muser\u001b[0m\u001b[1;33m:\u001b[0m\u001b[1;33m\u001b[0m\u001b[1;33m\u001b[0m\u001b[0m\n\u001b[0;32m    354\u001b[0m                 \u001b[0mos\u001b[0m\u001b[1;33m.\u001b[0m\u001b[0munlink\u001b[0m\u001b[1;33m(\u001b[0m\u001b[0mpath\u001b[0m\u001b[1;33m)\u001b[0m\u001b[1;33m\u001b[0m\u001b[1;33m\u001b[0m\u001b[0m\n\u001b[1;32m--> 355\u001b[1;33m                 \u001b[1;32mraise\u001b[0m \u001b[0mIOError\u001b[0m\u001b[1;33m(\u001b[0m\u001b[1;34m\"Please specify user or filename to write.\"\u001b[0m\u001b[1;33m)\u001b[0m\u001b[1;33m\u001b[0m\u001b[1;33m\u001b[0m\u001b[0m\n\u001b[0m\u001b[0;32m    356\u001b[0m \u001b[1;33m\u001b[0m\u001b[0m\n\u001b[0;32m    357\u001b[0m             \u001b[0mproc\u001b[0m \u001b[1;33m=\u001b[0m \u001b[0mopen_pipe\u001b[0m\u001b[1;33m(\u001b[0m\u001b[0mCRONCMD\u001b[0m\u001b[1;33m,\u001b[0m \u001b[0mpath\u001b[0m\u001b[1;33m,\u001b[0m \u001b[1;33m**\u001b[0m\u001b[0mself\u001b[0m\u001b[1;33m.\u001b[0m\u001b[0muser_opt\u001b[0m\u001b[1;33m)\u001b[0m\u001b[1;33m\u001b[0m\u001b[1;33m\u001b[0m\u001b[0m\n",
      "\u001b[1;31mOSError\u001b[0m: Please specify user or filename to write."
     ]
    }
   ],
   "source": [
    "cron = CronTab(tabfile='filename.tab')              #To access cron\n",
    "job = cron.new(command='python m.py')               #To create task   \n",
    "job.minute.every(1)\n",
    "cron.write()"
   ]
  },
  {
   "cell_type": "code",
   "execution_count": 3,
   "id": "a7693d3b",
   "metadata": {
    "ExecuteTime": {
     "end_time": "2021-08-16T14:59:30.154980Z",
     "start_time": "2021-08-16T14:59:30.132015Z"
    }
   },
   "outputs": [],
   "source": [
    "job.clear()\n"
   ]
  },
  {
   "cell_type": "code",
   "execution_count": 7,
   "id": "296a025a",
   "metadata": {
    "ExecuteTime": {
     "end_time": "2021-08-16T15:04:11.755614Z",
     "start_time": "2021-08-16T15:04:11.735629Z"
    }
   },
   "outputs": [],
   "source": [
    "cron = CronTab(tabfile='filename.tab')              #To access cron\n",
    "job = cron.new(command='python m.py')               #To create task   \n",
    "job.minute.every(1)\n",
    "cron.write()"
   ]
  },
  {
   "cell_type": "code",
   "execution_count": null,
   "id": "063d9f83",
   "metadata": {},
   "outputs": [],
   "source": []
  },
  {
   "cell_type": "code",
   "execution_count": null,
   "id": "2c2ab4e2",
   "metadata": {},
   "outputs": [],
   "source": []
  },
  {
   "cell_type": "code",
   "execution_count": null,
   "id": "21a162f7",
   "metadata": {},
   "outputs": [],
   "source": []
  },
  {
   "cell_type": "code",
   "execution_count": null,
   "id": "8ff0ff3c",
   "metadata": {},
   "outputs": [],
   "source": []
  },
  {
   "cell_type": "code",
   "execution_count": null,
   "id": "49433806",
   "metadata": {},
   "outputs": [],
   "source": []
  },
  {
   "cell_type": "code",
   "execution_count": null,
   "id": "08ec2429",
   "metadata": {},
   "outputs": [],
   "source": []
  }
 ],
 "metadata": {
  "kernelspec": {
   "display_name": "Python 3",
   "language": "python",
   "name": "python3"
  },
  "language_info": {
   "codemirror_mode": {
    "name": "ipython",
    "version": 3
   },
   "file_extension": ".py",
   "mimetype": "text/x-python",
   "name": "python",
   "nbconvert_exporter": "python",
   "pygments_lexer": "ipython3",
   "version": "3.8.8"
  },
  "toc": {
   "base_numbering": 1,
   "nav_menu": {},
   "number_sections": true,
   "sideBar": true,
   "skip_h1_title": false,
   "title_cell": "Table of Contents",
   "title_sidebar": "Contents",
   "toc_cell": false,
   "toc_position": {},
   "toc_section_display": true,
   "toc_window_display": false
  },
  "varInspector": {
   "cols": {
    "lenName": 16,
    "lenType": 16,
    "lenVar": 40
   },
   "kernels_config": {
    "python": {
     "delete_cmd_postfix": "",
     "delete_cmd_prefix": "del ",
     "library": "var_list.py",
     "varRefreshCmd": "print(var_dic_list())"
    },
    "r": {
     "delete_cmd_postfix": ") ",
     "delete_cmd_prefix": "rm(",
     "library": "var_list.r",
     "varRefreshCmd": "cat(var_dic_list()) "
    }
   },
   "types_to_exclude": [
    "module",
    "function",
    "builtin_function_or_method",
    "instance",
    "_Feature"
   ],
   "window_display": false
  }
 },
 "nbformat": 4,
 "nbformat_minor": 5
}
