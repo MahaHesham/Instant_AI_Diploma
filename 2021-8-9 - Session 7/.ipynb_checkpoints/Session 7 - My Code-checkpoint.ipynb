{
 "cells": [
  {
   "cell_type": "markdown",
   "id": "879253f1",
   "metadata": {},
   "source": [
    "# Regular Expressions"
   ]
  },
  {
   "cell_type": "markdown",
   "id": "45ad836e",
   "metadata": {
    "heading_collapsed": true
   },
   "source": [
    "## Rules :-"
   ]
  },
  {
   "cell_type": "markdown",
   "id": "f633df5f",
   "metadata": {
    "hidden": true
   },
   "source": [
    "***Python Regular Expression Quick Guide***\n",
    "\n",
    ".        - Matches any character Except New Line \"\\n\"                             \n",
    "^        - Matches the beginning of a line or a String                             \n",
    "$        - Matches the end of the line or a String                             \n",
    "\\d       - Matches Digit (0-9)                             \n",
    "\\D       - Matches Not a Digit (0-9)                             \n",
    "\\w       - Matches Word Character only \"lowercase, uppercase, digits, underscore\" (a-z, A-Z, 0-9, _)                           \n",
    "\\W       - Matches Not a Word Character                             \n",
    "\\s       - Matches whitespace (space, tab, newline)                             \n",
    "\\S       - Matches any non-whitespace character (space, tab, newline)                             \n",
    "\\b       - Matches Word Boundary                             \n",
    "\\B       - Matches Not a Word Boundary                             \n",
    "\n",
    "\\.       - Matches only dots                                                                      \n",
    "[  ]     - Matches a single character in the listed set (Matches Characters in brackets)                             \n",
    "[^ ]     - Matches a single character not in the listed set (Matches Characters NOT in brackets)                               \n",
    "|        - Either Or\n",
    "( )      - Group \n",
    "\n",
    "\n",
    "*Quantifiers :-*                             \n",
    "\n",
    "{*}      - Repeats a character zero or more times                             \n",
    "{+}      - Repeats a character one or more times                             \n",
    "{?}      - Repeats a character zero or one time                             \n",
    "{+?}     - Repeats a character one or more times (non-greedy)                             \n",
    "{*?}     - Repeats a character zero or more times (non-greedy)                                                           \n",
    "{3}      - Exact Number                             \n",
    "{3,4}    - Range of Numbers (Minimum, Maximum)                             \n",
    "[a-z0-9] - The set of characters can include a range                                                                           \n",
    "(        - Indicates where string extraction is to start                                                                       \n",
    ")        - Indicates where string extraction is to end                             \n",
    "\n",
    "\n",
    "*Sample Regexs :-*                             \n",
    "\n",
    "[a-zA-Z0-9_.+-]+@[a-zA-Z0-9-]+.[a-zA-Z0-9-.]+                                                                                   "
   ]
  },
  {
   "cell_type": "code",
   "execution_count": 1,
   "id": "ccad61b4",
   "metadata": {
    "ExecuteTime": {
     "end_time": "2022-06-21T06:17:17.459266Z",
     "start_time": "2022-06-21T06:17:17.444282Z"
    },
    "hidden": true
   },
   "outputs": [
    {
     "name": "stdout",
     "output_type": "stream",
     "text": [
      "Tab\n",
      "\tTab\n",
      "\\tTab\n",
      "Tab\\nTab\n",
      "--------------------\n",
      "Tab\n",
      "Tab\n"
     ]
    }
   ],
   "source": [
    "print (\"Tab\")\n",
    "print (\"\\tTab\")          # Take Space Before\n",
    "print (r\"\\tTab\")         # Raw Print\n",
    "print(r\"Tab\\nTab\")\n",
    "print(\"-\"*20)\n",
    "print(\"Tab\\nTab\")        # New Line"
   ]
  },
  {
   "cell_type": "markdown",
   "id": "6aae0929",
   "metadata": {
    "heading_collapsed": true
   },
   "source": [
    "## Examples :-"
   ]
  },
  {
   "cell_type": "code",
   "execution_count": 2,
   "id": "6415054c",
   "metadata": {
    "ExecuteTime": {
     "end_time": "2022-06-21T06:17:17.475224Z",
     "start_time": "2022-06-21T06:17:17.460240Z"
    },
    "hidden": true
   },
   "outputs": [],
   "source": [
    "Text = '''abcdefghijklmnopqurtuvwxyz\n",
    "ABCDEFGHIJKLMNOPQRSTUVWXYZ\n",
    "123456789010\n",
    "Ha HaHa\n",
    "MetaCharacters (Need to be escaped):\n",
    ". ^ $ * + ? { } [ ] \\ | ( )\n",
    "abc\n",
    "cat\n",
    "mat \n",
    "hat\n",
    "bat\n",
    "fat\n",
    "sat\n",
    "01092329340\n",
    "coreyms-com\n",
    "321-555-4321\n",
    "123.555.1234\n",
    "123*555*1234\n",
    "800-555-1234\n",
    "900-555-1234\n",
    "Mr. Schafer\n",
    "Mr Smith\n",
    "Ms Davis\n",
    "Mrs. Robinson\n",
    "Mr. T\n",
    "'''\n",
    "\n",
    "Sentence = 'Start a sentence and then bring it to an end'\n",
    "\n",
    "Emails = '''\n",
    "CoreyMSchafer@gmail.com\n",
    "corey.schafer@university.edu\n",
    "corey-321-schafer@my-work.net\n",
    "'''"
   ]
  },
  {
   "cell_type": "code",
   "execution_count": 3,
   "id": "abf7b904",
   "metadata": {
    "ExecuteTime": {
     "end_time": "2022-06-21T06:17:17.491182Z",
     "start_time": "2022-06-21T06:17:17.477194Z"
    },
    "hidden": true,
    "scrolled": false
   },
   "outputs": [
    {
     "name": "stdout",
     "output_type": "stream",
     "text": [
      "Text :  308\n",
      "Sentence :  44\n",
      "Emails :  84\n"
     ]
    }
   ],
   "source": [
    "print(\"Text : \" , len(Text))\n",
    "print(\"Sentence : \" , len(Sentence))\n",
    "print(\"Emails : \" , len(Emails))"
   ]
  },
  {
   "cell_type": "code",
   "execution_count": 4,
   "id": "54eadf14",
   "metadata": {
    "ExecuteTime": {
     "end_time": "2022-06-21T06:17:17.507150Z",
     "start_time": "2022-06-21T06:17:17.492184Z"
    },
    "hidden": true
   },
   "outputs": [],
   "source": [
    "import re"
   ]
  },
  {
   "cell_type": "code",
   "execution_count": 5,
   "id": "98690428",
   "metadata": {
    "ExecuteTime": {
     "end_time": "2022-06-21T06:17:17.523105Z",
     "start_time": "2022-06-21T06:17:17.508114Z"
    },
    "hidden": true,
    "scrolled": false
   },
   "outputs": [
    {
     "name": "stdout",
     "output_type": "stream",
     "text": [
      "(0, 3)\n",
      "(140, 143)\n",
      "Number Of Times :  2\n"
     ]
    }
   ],
   "source": [
    "Pattern = re.compile(r\"abc\")         # Search for \"abc\" \n",
    "Matches = Pattern.finditer(Text)     # Search in \"Text\" and store in \"Matches\"\n",
    "Counter = 0\n",
    "for Element in Matches :\n",
    "    print(Element.span())\n",
    "    Counter +=1\n",
    "print(\"Number Of Times : \" , str(Counter))"
   ]
  },
  {
   "cell_type": "code",
   "execution_count": 6,
   "id": "f2eb44d1",
   "metadata": {
    "ExecuteTime": {
     "end_time": "2022-06-21T06:17:17.539030Z",
     "start_time": "2022-06-21T06:17:17.524101Z"
    },
    "hidden": true
   },
   "outputs": [],
   "source": [
    "Pattern = re.compile(r\"bca\")\n",
    "Matches = Pattern.finditer(Text)\n",
    "for Element in Matches :\n",
    "    print(Element)                # No output means nothing found"
   ]
  },
  {
   "cell_type": "code",
   "execution_count": 7,
   "id": "49a28a7b",
   "metadata": {
    "ExecuteTime": {
     "end_time": "2022-06-21T06:17:17.570976Z",
     "start_time": "2022-06-21T06:17:17.541024Z"
    },
    "hidden": true
   },
   "outputs": [
    {
     "name": "stdout",
     "output_type": "stream",
     "text": [
      "<re.Match object; span=(0, 1), match='a'>\n",
      "<re.Match object; span=(1, 2), match='b'>\n",
      "<re.Match object; span=(2, 3), match='c'>\n",
      "<re.Match object; span=(3, 4), match='d'>\n",
      "<re.Match object; span=(4, 5), match='e'>\n",
      "<re.Match object; span=(5, 6), match='f'>\n",
      "<re.Match object; span=(6, 7), match='g'>\n",
      "<re.Match object; span=(7, 8), match='h'>\n",
      "<re.Match object; span=(8, 9), match='i'>\n",
      "<re.Match object; span=(9, 10), match='j'>\n",
      "<re.Match object; span=(10, 11), match='k'>\n",
      "<re.Match object; span=(11, 12), match='l'>\n",
      "<re.Match object; span=(12, 13), match='m'>\n",
      "<re.Match object; span=(13, 14), match='n'>\n",
      "<re.Match object; span=(14, 15), match='o'>\n",
      "<re.Match object; span=(15, 16), match='p'>\n",
      "<re.Match object; span=(16, 17), match='q'>\n",
      "<re.Match object; span=(17, 18), match='u'>\n",
      "<re.Match object; span=(18, 19), match='r'>\n",
      "<re.Match object; span=(19, 20), match='t'>\n",
      "<re.Match object; span=(20, 21), match='u'>\n",
      "<re.Match object; span=(21, 22), match='v'>\n",
      "<re.Match object; span=(22, 23), match='w'>\n",
      "<re.Match object; span=(23, 24), match='x'>\n",
      "<re.Match object; span=(24, 25), match='y'>\n",
      "<re.Match object; span=(25, 26), match='z'>\n",
      "<re.Match object; span=(27, 28), match='A'>\n",
      "<re.Match object; span=(28, 29), match='B'>\n",
      "<re.Match object; span=(29, 30), match='C'>\n",
      "<re.Match object; span=(30, 31), match='D'>\n",
      "<re.Match object; span=(31, 32), match='E'>\n",
      "<re.Match object; span=(32, 33), match='F'>\n",
      "<re.Match object; span=(33, 34), match='G'>\n",
      "<re.Match object; span=(34, 35), match='H'>\n",
      "<re.Match object; span=(35, 36), match='I'>\n",
      "<re.Match object; span=(36, 37), match='J'>\n",
      "<re.Match object; span=(37, 38), match='K'>\n",
      "<re.Match object; span=(38, 39), match='L'>\n",
      "<re.Match object; span=(39, 40), match='M'>\n",
      "<re.Match object; span=(40, 41), match='N'>\n",
      "<re.Match object; span=(41, 42), match='O'>\n",
      "<re.Match object; span=(42, 43), match='P'>\n",
      "<re.Match object; span=(43, 44), match='Q'>\n",
      "<re.Match object; span=(44, 45), match='R'>\n",
      "<re.Match object; span=(45, 46), match='S'>\n",
      "<re.Match object; span=(46, 47), match='T'>\n",
      "<re.Match object; span=(47, 48), match='U'>\n",
      "<re.Match object; span=(48, 49), match='V'>\n",
      "<re.Match object; span=(49, 50), match='W'>\n",
      "<re.Match object; span=(50, 51), match='X'>\n",
      "<re.Match object; span=(51, 52), match='Y'>\n",
      "<re.Match object; span=(52, 53), match='Z'>\n",
      "<re.Match object; span=(54, 55), match='1'>\n",
      "<re.Match object; span=(55, 56), match='2'>\n",
      "<re.Match object; span=(56, 57), match='3'>\n",
      "<re.Match object; span=(57, 58), match='4'>\n",
      "<re.Match object; span=(58, 59), match='5'>\n",
      "<re.Match object; span=(59, 60), match='6'>\n",
      "<re.Match object; span=(60, 61), match='7'>\n",
      "<re.Match object; span=(61, 62), match='8'>\n",
      "<re.Match object; span=(62, 63), match='9'>\n",
      "<re.Match object; span=(63, 64), match='0'>\n",
      "<re.Match object; span=(64, 65), match='1'>\n",
      "<re.Match object; span=(65, 66), match='0'>\n",
      "<re.Match object; span=(67, 68), match='H'>\n",
      "<re.Match object; span=(68, 69), match='a'>\n",
      "<re.Match object; span=(69, 70), match=' '>\n",
      "<re.Match object; span=(70, 71), match='H'>\n",
      "<re.Match object; span=(71, 72), match='a'>\n",
      "<re.Match object; span=(72, 73), match='H'>\n",
      "<re.Match object; span=(73, 74), match='a'>\n",
      "<re.Match object; span=(75, 76), match='M'>\n",
      "<re.Match object; span=(76, 77), match='e'>\n",
      "<re.Match object; span=(77, 78), match='t'>\n",
      "<re.Match object; span=(78, 79), match='a'>\n",
      "<re.Match object; span=(79, 80), match='C'>\n",
      "<re.Match object; span=(80, 81), match='h'>\n",
      "<re.Match object; span=(81, 82), match='a'>\n",
      "<re.Match object; span=(82, 83), match='r'>\n",
      "<re.Match object; span=(83, 84), match='a'>\n",
      "<re.Match object; span=(84, 85), match='c'>\n",
      "<re.Match object; span=(85, 86), match='t'>\n",
      "<re.Match object; span=(86, 87), match='e'>\n",
      "<re.Match object; span=(87, 88), match='r'>\n",
      "<re.Match object; span=(88, 89), match='s'>\n",
      "<re.Match object; span=(89, 90), match=' '>\n",
      "<re.Match object; span=(90, 91), match='('>\n",
      "<re.Match object; span=(91, 92), match='N'>\n",
      "<re.Match object; span=(92, 93), match='e'>\n",
      "<re.Match object; span=(93, 94), match='e'>\n",
      "<re.Match object; span=(94, 95), match='d'>\n",
      "<re.Match object; span=(95, 96), match=' '>\n",
      "<re.Match object; span=(96, 97), match='t'>\n",
      "<re.Match object; span=(97, 98), match='o'>\n",
      "<re.Match object; span=(98, 99), match=' '>\n",
      "<re.Match object; span=(99, 100), match='b'>\n",
      "<re.Match object; span=(100, 101), match='e'>\n",
      "<re.Match object; span=(101, 102), match=' '>\n",
      "<re.Match object; span=(102, 103), match='e'>\n",
      "<re.Match object; span=(103, 104), match='s'>\n",
      "<re.Match object; span=(104, 105), match='c'>\n",
      "<re.Match object; span=(105, 106), match='a'>\n",
      "<re.Match object; span=(106, 107), match='p'>\n",
      "<re.Match object; span=(107, 108), match='e'>\n",
      "<re.Match object; span=(108, 109), match='d'>\n",
      "<re.Match object; span=(109, 110), match=')'>\n",
      "<re.Match object; span=(110, 111), match=':'>\n",
      "<re.Match object; span=(112, 113), match='.'>\n",
      "<re.Match object; span=(113, 114), match=' '>\n",
      "<re.Match object; span=(114, 115), match='^'>\n",
      "<re.Match object; span=(115, 116), match=' '>\n",
      "<re.Match object; span=(116, 117), match='$'>\n",
      "<re.Match object; span=(117, 118), match=' '>\n",
      "<re.Match object; span=(118, 119), match='*'>\n",
      "<re.Match object; span=(119, 120), match=' '>\n",
      "<re.Match object; span=(120, 121), match='+'>\n",
      "<re.Match object; span=(121, 122), match=' '>\n",
      "<re.Match object; span=(122, 123), match='?'>\n",
      "<re.Match object; span=(123, 124), match=' '>\n",
      "<re.Match object; span=(124, 125), match='{'>\n",
      "<re.Match object; span=(125, 126), match=' '>\n",
      "<re.Match object; span=(126, 127), match='}'>\n",
      "<re.Match object; span=(127, 128), match=' '>\n",
      "<re.Match object; span=(128, 129), match='['>\n",
      "<re.Match object; span=(129, 130), match=' '>\n",
      "<re.Match object; span=(130, 131), match=']'>\n",
      "<re.Match object; span=(131, 132), match=' '>\n",
      "<re.Match object; span=(132, 133), match='\\\\'>\n",
      "<re.Match object; span=(133, 134), match=' '>\n",
      "<re.Match object; span=(134, 135), match='|'>\n",
      "<re.Match object; span=(135, 136), match=' '>\n",
      "<re.Match object; span=(136, 137), match='('>\n",
      "<re.Match object; span=(137, 138), match=' '>\n",
      "<re.Match object; span=(138, 139), match=')'>\n",
      "<re.Match object; span=(140, 141), match='a'>\n",
      "<re.Match object; span=(141, 142), match='b'>\n",
      "<re.Match object; span=(142, 143), match='c'>\n",
      "<re.Match object; span=(144, 145), match='c'>\n",
      "<re.Match object; span=(145, 146), match='a'>\n",
      "<re.Match object; span=(146, 147), match='t'>\n",
      "<re.Match object; span=(148, 149), match='m'>\n",
      "<re.Match object; span=(149, 150), match='a'>\n",
      "<re.Match object; span=(150, 151), match='t'>\n",
      "<re.Match object; span=(151, 152), match=' '>\n",
      "<re.Match object; span=(153, 154), match='h'>\n",
      "<re.Match object; span=(154, 155), match='a'>\n",
      "<re.Match object; span=(155, 156), match='t'>\n",
      "<re.Match object; span=(157, 158), match='b'>\n",
      "<re.Match object; span=(158, 159), match='a'>\n",
      "<re.Match object; span=(159, 160), match='t'>\n",
      "<re.Match object; span=(161, 162), match='f'>\n",
      "<re.Match object; span=(162, 163), match='a'>\n",
      "<re.Match object; span=(163, 164), match='t'>\n",
      "<re.Match object; span=(165, 166), match='s'>\n",
      "<re.Match object; span=(166, 167), match='a'>\n",
      "<re.Match object; span=(167, 168), match='t'>\n",
      "<re.Match object; span=(169, 170), match='0'>\n",
      "<re.Match object; span=(170, 171), match='1'>\n",
      "<re.Match object; span=(171, 172), match='0'>\n",
      "<re.Match object; span=(172, 173), match='9'>\n",
      "<re.Match object; span=(173, 174), match='2'>\n",
      "<re.Match object; span=(174, 175), match='3'>\n",
      "<re.Match object; span=(175, 176), match='2'>\n",
      "<re.Match object; span=(176, 177), match='9'>\n",
      "<re.Match object; span=(177, 178), match='3'>\n",
      "<re.Match object; span=(178, 179), match='4'>\n",
      "<re.Match object; span=(179, 180), match='0'>\n",
      "<re.Match object; span=(181, 182), match='c'>\n",
      "<re.Match object; span=(182, 183), match='o'>\n",
      "<re.Match object; span=(183, 184), match='r'>\n",
      "<re.Match object; span=(184, 185), match='e'>\n",
      "<re.Match object; span=(185, 186), match='y'>\n",
      "<re.Match object; span=(186, 187), match='m'>\n",
      "<re.Match object; span=(187, 188), match='s'>\n",
      "<re.Match object; span=(188, 189), match='-'>\n",
      "<re.Match object; span=(189, 190), match='c'>\n",
      "<re.Match object; span=(190, 191), match='o'>\n",
      "<re.Match object; span=(191, 192), match='m'>\n",
      "<re.Match object; span=(193, 194), match='3'>\n",
      "<re.Match object; span=(194, 195), match='2'>\n",
      "<re.Match object; span=(195, 196), match='1'>\n",
      "<re.Match object; span=(196, 197), match='-'>\n",
      "<re.Match object; span=(197, 198), match='5'>\n",
      "<re.Match object; span=(198, 199), match='5'>\n",
      "<re.Match object; span=(199, 200), match='5'>\n",
      "<re.Match object; span=(200, 201), match='-'>\n",
      "<re.Match object; span=(201, 202), match='4'>\n",
      "<re.Match object; span=(202, 203), match='3'>\n",
      "<re.Match object; span=(203, 204), match='2'>\n",
      "<re.Match object; span=(204, 205), match='1'>\n",
      "<re.Match object; span=(206, 207), match='1'>\n",
      "<re.Match object; span=(207, 208), match='2'>\n",
      "<re.Match object; span=(208, 209), match='3'>\n",
      "<re.Match object; span=(209, 210), match='.'>\n",
      "<re.Match object; span=(210, 211), match='5'>\n",
      "<re.Match object; span=(211, 212), match='5'>\n",
      "<re.Match object; span=(212, 213), match='5'>\n",
      "<re.Match object; span=(213, 214), match='.'>\n",
      "<re.Match object; span=(214, 215), match='1'>\n",
      "<re.Match object; span=(215, 216), match='2'>\n",
      "<re.Match object; span=(216, 217), match='3'>\n",
      "<re.Match object; span=(217, 218), match='4'>\n",
      "<re.Match object; span=(219, 220), match='1'>\n",
      "<re.Match object; span=(220, 221), match='2'>\n",
      "<re.Match object; span=(221, 222), match='3'>\n",
      "<re.Match object; span=(222, 223), match='*'>\n",
      "<re.Match object; span=(223, 224), match='5'>\n",
      "<re.Match object; span=(224, 225), match='5'>\n",
      "<re.Match object; span=(225, 226), match='5'>\n",
      "<re.Match object; span=(226, 227), match='*'>\n",
      "<re.Match object; span=(227, 228), match='1'>\n",
      "<re.Match object; span=(228, 229), match='2'>\n",
      "<re.Match object; span=(229, 230), match='3'>\n",
      "<re.Match object; span=(230, 231), match='4'>\n",
      "<re.Match object; span=(232, 233), match='8'>\n",
      "<re.Match object; span=(233, 234), match='0'>\n",
      "<re.Match object; span=(234, 235), match='0'>\n",
      "<re.Match object; span=(235, 236), match='-'>\n",
      "<re.Match object; span=(236, 237), match='5'>\n",
      "<re.Match object; span=(237, 238), match='5'>\n",
      "<re.Match object; span=(238, 239), match='5'>\n",
      "<re.Match object; span=(239, 240), match='-'>\n",
      "<re.Match object; span=(240, 241), match='1'>\n",
      "<re.Match object; span=(241, 242), match='2'>\n",
      "<re.Match object; span=(242, 243), match='3'>\n",
      "<re.Match object; span=(243, 244), match='4'>\n",
      "<re.Match object; span=(245, 246), match='9'>\n",
      "<re.Match object; span=(246, 247), match='0'>\n",
      "<re.Match object; span=(247, 248), match='0'>\n",
      "<re.Match object; span=(248, 249), match='-'>\n",
      "<re.Match object; span=(249, 250), match='5'>\n",
      "<re.Match object; span=(250, 251), match='5'>\n",
      "<re.Match object; span=(251, 252), match='5'>\n",
      "<re.Match object; span=(252, 253), match='-'>\n",
      "<re.Match object; span=(253, 254), match='1'>\n",
      "<re.Match object; span=(254, 255), match='2'>\n",
      "<re.Match object; span=(255, 256), match='3'>\n",
      "<re.Match object; span=(256, 257), match='4'>\n",
      "<re.Match object; span=(258, 259), match='M'>\n",
      "<re.Match object; span=(259, 260), match='r'>\n",
      "<re.Match object; span=(260, 261), match='.'>\n",
      "<re.Match object; span=(261, 262), match=' '>\n",
      "<re.Match object; span=(262, 263), match='S'>\n",
      "<re.Match object; span=(263, 264), match='c'>\n",
      "<re.Match object; span=(264, 265), match='h'>\n",
      "<re.Match object; span=(265, 266), match='a'>\n",
      "<re.Match object; span=(266, 267), match='f'>\n",
      "<re.Match object; span=(267, 268), match='e'>\n",
      "<re.Match object; span=(268, 269), match='r'>\n",
      "<re.Match object; span=(270, 271), match='M'>\n",
      "<re.Match object; span=(271, 272), match='r'>\n",
      "<re.Match object; span=(272, 273), match=' '>\n",
      "<re.Match object; span=(273, 274), match='S'>\n",
      "<re.Match object; span=(274, 275), match='m'>\n",
      "<re.Match object; span=(275, 276), match='i'>\n",
      "<re.Match object; span=(276, 277), match='t'>\n",
      "<re.Match object; span=(277, 278), match='h'>\n",
      "<re.Match object; span=(279, 280), match='M'>\n",
      "<re.Match object; span=(280, 281), match='s'>\n",
      "<re.Match object; span=(281, 282), match=' '>\n",
      "<re.Match object; span=(282, 283), match='D'>\n",
      "<re.Match object; span=(283, 284), match='a'>\n",
      "<re.Match object; span=(284, 285), match='v'>\n",
      "<re.Match object; span=(285, 286), match='i'>\n",
      "<re.Match object; span=(286, 287), match='s'>\n",
      "<re.Match object; span=(288, 289), match='M'>\n",
      "<re.Match object; span=(289, 290), match='r'>\n",
      "<re.Match object; span=(290, 291), match='s'>\n",
      "<re.Match object; span=(291, 292), match='.'>\n",
      "<re.Match object; span=(292, 293), match=' '>\n",
      "<re.Match object; span=(293, 294), match='R'>\n",
      "<re.Match object; span=(294, 295), match='o'>\n",
      "<re.Match object; span=(295, 296), match='b'>\n",
      "<re.Match object; span=(296, 297), match='i'>\n",
      "<re.Match object; span=(297, 298), match='n'>\n",
      "<re.Match object; span=(298, 299), match='s'>\n",
      "<re.Match object; span=(299, 300), match='o'>\n",
      "<re.Match object; span=(300, 301), match='n'>\n",
      "<re.Match object; span=(302, 303), match='M'>\n",
      "<re.Match object; span=(303, 304), match='r'>\n",
      "<re.Match object; span=(304, 305), match='.'>\n",
      "<re.Match object; span=(305, 306), match=' '>\n",
      "<re.Match object; span=(306, 307), match='T'>\n",
      "Number Of Times :  283\n"
     ]
    }
   ],
   "source": [
    "Pattern = re.compile(r\".\")            # Matches any character Except New Line \"\\n\"\n",
    "Matches = Pattern.finditer(Text)\n",
    "Counter = 0\n",
    "for Element in Matches :\n",
    "    print(Element)\n",
    "    Counter +=1\n",
    "print(\"Number Of Times : \" , str(Counter))"
   ]
  },
  {
   "cell_type": "code",
   "execution_count": 8,
   "id": "84f9163c",
   "metadata": {
    "ExecuteTime": {
     "end_time": "2022-06-21T06:17:17.586934Z",
     "start_time": "2022-06-21T06:17:17.571942Z"
    },
    "hidden": true
   },
   "outputs": [
    {
     "name": "stdout",
     "output_type": "stream",
     "text": [
      "<re.Match object; span=(112, 113), match='.'>\n",
      "<re.Match object; span=(209, 210), match='.'>\n",
      "<re.Match object; span=(213, 214), match='.'>\n",
      "<re.Match object; span=(260, 261), match='.'>\n",
      "<re.Match object; span=(291, 292), match='.'>\n",
      "<re.Match object; span=(304, 305), match='.'>\n"
     ]
    }
   ],
   "source": [
    "Pattern = re.compile(r\"\\.\")         # Matches only dots\n",
    "Matches = Pattern.finditer(Text)\n",
    "for Element in Matches :\n",
    "    print(Element)"
   ]
  },
  {
   "cell_type": "code",
   "execution_count": 9,
   "id": "1532df97",
   "metadata": {
    "ExecuteTime": {
     "end_time": "2022-06-21T06:17:17.602889Z",
     "start_time": "2022-06-21T06:17:17.587900Z"
    },
    "hidden": true
   },
   "outputs": [
    {
     "name": "stdout",
     "output_type": "stream",
     "text": [
      "<re.Match object; span=(181, 192), match='coreyms-com'>\n"
     ]
    }
   ],
   "source": [
    "Pattern = re.compile(r\"coreyms.com\")\n",
    "Matches = Pattern.finditer(Text)\n",
    "for Element in Matches :\n",
    "    print(Element)"
   ]
  },
  {
   "cell_type": "code",
   "execution_count": 10,
   "id": "902e2eda",
   "metadata": {
    "ExecuteTime": {
     "end_time": "2022-06-21T06:17:17.618840Z",
     "start_time": "2022-06-21T06:17:17.603855Z"
    },
    "hidden": true
   },
   "outputs": [],
   "source": [
    "Pattern = re.compile(r\"coreyms\\.com\")\n",
    "Matches = Pattern.finditer(Text)\n",
    "for Element in Matches :\n",
    "    print(Element)                # No output means nothing found"
   ]
  },
  {
   "cell_type": "code",
   "execution_count": 11,
   "id": "6bb7c90b",
   "metadata": {
    "ExecuteTime": {
     "end_time": "2022-06-21T06:17:17.634799Z",
     "start_time": "2022-06-21T06:17:17.619814Z"
    },
    "hidden": true
   },
   "outputs": [
    {
     "name": "stdout",
     "output_type": "stream",
     "text": [
      "<re.Match object; span=(41, 44), match='end'>\n"
     ]
    }
   ],
   "source": [
    "Pattern = re.compile(r\"end$\")           # Matches the end of the line or a String \n",
    "Matches = Pattern.finditer(Sentence)    # If the word \"end\" is at the end of the sentence or string\n",
    "for Element in Matches :\n",
    "    print(Element)"
   ]
  },
  {
   "cell_type": "code",
   "execution_count": 12,
   "id": "42b1622d",
   "metadata": {
    "ExecuteTime": {
     "end_time": "2022-06-21T06:17:17.650763Z",
     "start_time": "2022-06-21T06:17:17.637765Z"
    },
    "hidden": true
   },
   "outputs": [
    {
     "name": "stdout",
     "output_type": "stream",
     "text": [
      "<re.Match object; span=(3, 4), match='d'>\n",
      "<re.Match object; span=(94, 95), match='d'>\n",
      "<re.Match object; span=(108, 109), match='d'>\n"
     ]
    }
   ],
   "source": [
    "Pattern = re.compile(r\"d\")          # Search for \"d\"\n",
    "Matches = Pattern.finditer(Text)\n",
    "for Element in Matches :\n",
    "    print(Element)"
   ]
  },
  {
   "cell_type": "code",
   "execution_count": 13,
   "id": "5c6a9d8e",
   "metadata": {
    "ExecuteTime": {
     "end_time": "2022-06-21T06:17:17.666688Z",
     "start_time": "2022-06-21T06:17:17.651729Z"
    },
    "hidden": true
   },
   "outputs": [
    {
     "name": "stdout",
     "output_type": "stream",
     "text": [
      "<re.Match object; span=(54, 55), match='1'>\n",
      "<re.Match object; span=(55, 56), match='2'>\n",
      "<re.Match object; span=(56, 57), match='3'>\n",
      "<re.Match object; span=(57, 58), match='4'>\n",
      "<re.Match object; span=(58, 59), match='5'>\n",
      "<re.Match object; span=(59, 60), match='6'>\n",
      "<re.Match object; span=(60, 61), match='7'>\n",
      "<re.Match object; span=(61, 62), match='8'>\n",
      "<re.Match object; span=(62, 63), match='9'>\n",
      "<re.Match object; span=(63, 64), match='0'>\n",
      "<re.Match object; span=(64, 65), match='1'>\n",
      "<re.Match object; span=(65, 66), match='0'>\n",
      "<re.Match object; span=(169, 170), match='0'>\n",
      "<re.Match object; span=(170, 171), match='1'>\n",
      "<re.Match object; span=(171, 172), match='0'>\n",
      "<re.Match object; span=(172, 173), match='9'>\n",
      "<re.Match object; span=(173, 174), match='2'>\n",
      "<re.Match object; span=(174, 175), match='3'>\n",
      "<re.Match object; span=(175, 176), match='2'>\n",
      "<re.Match object; span=(176, 177), match='9'>\n",
      "<re.Match object; span=(177, 178), match='3'>\n",
      "<re.Match object; span=(178, 179), match='4'>\n",
      "<re.Match object; span=(179, 180), match='0'>\n",
      "<re.Match object; span=(193, 194), match='3'>\n",
      "<re.Match object; span=(194, 195), match='2'>\n",
      "<re.Match object; span=(195, 196), match='1'>\n",
      "<re.Match object; span=(197, 198), match='5'>\n",
      "<re.Match object; span=(198, 199), match='5'>\n",
      "<re.Match object; span=(199, 200), match='5'>\n",
      "<re.Match object; span=(201, 202), match='4'>\n",
      "<re.Match object; span=(202, 203), match='3'>\n",
      "<re.Match object; span=(203, 204), match='2'>\n",
      "<re.Match object; span=(204, 205), match='1'>\n",
      "<re.Match object; span=(206, 207), match='1'>\n",
      "<re.Match object; span=(207, 208), match='2'>\n",
      "<re.Match object; span=(208, 209), match='3'>\n",
      "<re.Match object; span=(210, 211), match='5'>\n",
      "<re.Match object; span=(211, 212), match='5'>\n",
      "<re.Match object; span=(212, 213), match='5'>\n",
      "<re.Match object; span=(214, 215), match='1'>\n",
      "<re.Match object; span=(215, 216), match='2'>\n",
      "<re.Match object; span=(216, 217), match='3'>\n",
      "<re.Match object; span=(217, 218), match='4'>\n",
      "<re.Match object; span=(219, 220), match='1'>\n",
      "<re.Match object; span=(220, 221), match='2'>\n",
      "<re.Match object; span=(221, 222), match='3'>\n",
      "<re.Match object; span=(223, 224), match='5'>\n",
      "<re.Match object; span=(224, 225), match='5'>\n",
      "<re.Match object; span=(225, 226), match='5'>\n",
      "<re.Match object; span=(227, 228), match='1'>\n",
      "<re.Match object; span=(228, 229), match='2'>\n",
      "<re.Match object; span=(229, 230), match='3'>\n",
      "<re.Match object; span=(230, 231), match='4'>\n",
      "<re.Match object; span=(232, 233), match='8'>\n",
      "<re.Match object; span=(233, 234), match='0'>\n",
      "<re.Match object; span=(234, 235), match='0'>\n",
      "<re.Match object; span=(236, 237), match='5'>\n",
      "<re.Match object; span=(237, 238), match='5'>\n",
      "<re.Match object; span=(238, 239), match='5'>\n",
      "<re.Match object; span=(240, 241), match='1'>\n",
      "<re.Match object; span=(241, 242), match='2'>\n",
      "<re.Match object; span=(242, 243), match='3'>\n",
      "<re.Match object; span=(243, 244), match='4'>\n",
      "<re.Match object; span=(245, 246), match='9'>\n",
      "<re.Match object; span=(246, 247), match='0'>\n",
      "<re.Match object; span=(247, 248), match='0'>\n",
      "<re.Match object; span=(249, 250), match='5'>\n",
      "<re.Match object; span=(250, 251), match='5'>\n",
      "<re.Match object; span=(251, 252), match='5'>\n",
      "<re.Match object; span=(253, 254), match='1'>\n",
      "<re.Match object; span=(254, 255), match='2'>\n",
      "<re.Match object; span=(255, 256), match='3'>\n",
      "<re.Match object; span=(256, 257), match='4'>\n",
      "Number Of Times :  73\n"
     ]
    }
   ],
   "source": [
    "Pattern = re.compile(r\"\\d\")         # Matches Only Digit (0-9)\n",
    "Matches = Pattern.finditer(Text)\n",
    "Counter = 0\n",
    "for Element in Matches :\n",
    "    print(Element)\n",
    "    Counter +=1\n",
    "print(\"Number Of Times : \" , str(Counter))"
   ]
  },
  {
   "cell_type": "code",
   "execution_count": 14,
   "id": "15251d67",
   "metadata": {
    "ExecuteTime": {
     "end_time": "2022-06-21T06:17:17.682670Z",
     "start_time": "2022-06-21T06:17:17.667686Z"
    },
    "hidden": true
   },
   "outputs": [
    {
     "name": "stdout",
     "output_type": "stream",
     "text": [
      "<re.Match object; span=(30, 31), match='D'>\n",
      "<re.Match object; span=(282, 283), match='D'>\n"
     ]
    }
   ],
   "source": [
    "Pattern = re.compile(r\"D\")          # Search for \"D\"\n",
    "Matches = Pattern.finditer(Text)\n",
    "for Element in Matches :\n",
    "    print(Element)"
   ]
  },
  {
   "cell_type": "code",
   "execution_count": 15,
   "id": "7a7f9bf7",
   "metadata": {
    "ExecuteTime": {
     "end_time": "2022-06-21T06:17:17.714561Z",
     "start_time": "2022-06-21T06:17:17.683644Z"
    },
    "hidden": true
   },
   "outputs": [
    {
     "name": "stdout",
     "output_type": "stream",
     "text": [
      "<re.Match object; span=(0, 1), match='a'>\n",
      "<re.Match object; span=(1, 2), match='b'>\n",
      "<re.Match object; span=(2, 3), match='c'>\n",
      "<re.Match object; span=(3, 4), match='d'>\n",
      "<re.Match object; span=(4, 5), match='e'>\n",
      "<re.Match object; span=(5, 6), match='f'>\n",
      "<re.Match object; span=(6, 7), match='g'>\n",
      "<re.Match object; span=(7, 8), match='h'>\n",
      "<re.Match object; span=(8, 9), match='i'>\n",
      "<re.Match object; span=(9, 10), match='j'>\n",
      "<re.Match object; span=(10, 11), match='k'>\n",
      "<re.Match object; span=(11, 12), match='l'>\n",
      "<re.Match object; span=(12, 13), match='m'>\n",
      "<re.Match object; span=(13, 14), match='n'>\n",
      "<re.Match object; span=(14, 15), match='o'>\n",
      "<re.Match object; span=(15, 16), match='p'>\n",
      "<re.Match object; span=(16, 17), match='q'>\n",
      "<re.Match object; span=(17, 18), match='u'>\n",
      "<re.Match object; span=(18, 19), match='r'>\n",
      "<re.Match object; span=(19, 20), match='t'>\n",
      "<re.Match object; span=(20, 21), match='u'>\n",
      "<re.Match object; span=(21, 22), match='v'>\n",
      "<re.Match object; span=(22, 23), match='w'>\n",
      "<re.Match object; span=(23, 24), match='x'>\n",
      "<re.Match object; span=(24, 25), match='y'>\n",
      "<re.Match object; span=(25, 26), match='z'>\n",
      "<re.Match object; span=(26, 27), match='\\n'>\n",
      "<re.Match object; span=(27, 28), match='A'>\n",
      "<re.Match object; span=(28, 29), match='B'>\n",
      "<re.Match object; span=(29, 30), match='C'>\n",
      "<re.Match object; span=(30, 31), match='D'>\n",
      "<re.Match object; span=(31, 32), match='E'>\n",
      "<re.Match object; span=(32, 33), match='F'>\n",
      "<re.Match object; span=(33, 34), match='G'>\n",
      "<re.Match object; span=(34, 35), match='H'>\n",
      "<re.Match object; span=(35, 36), match='I'>\n",
      "<re.Match object; span=(36, 37), match='J'>\n",
      "<re.Match object; span=(37, 38), match='K'>\n",
      "<re.Match object; span=(38, 39), match='L'>\n",
      "<re.Match object; span=(39, 40), match='M'>\n",
      "<re.Match object; span=(40, 41), match='N'>\n",
      "<re.Match object; span=(41, 42), match='O'>\n",
      "<re.Match object; span=(42, 43), match='P'>\n",
      "<re.Match object; span=(43, 44), match='Q'>\n",
      "<re.Match object; span=(44, 45), match='R'>\n",
      "<re.Match object; span=(45, 46), match='S'>\n",
      "<re.Match object; span=(46, 47), match='T'>\n",
      "<re.Match object; span=(47, 48), match='U'>\n",
      "<re.Match object; span=(48, 49), match='V'>\n",
      "<re.Match object; span=(49, 50), match='W'>\n",
      "<re.Match object; span=(50, 51), match='X'>\n",
      "<re.Match object; span=(51, 52), match='Y'>\n",
      "<re.Match object; span=(52, 53), match='Z'>\n",
      "<re.Match object; span=(53, 54), match='\\n'>\n",
      "<re.Match object; span=(66, 67), match='\\n'>\n",
      "<re.Match object; span=(67, 68), match='H'>\n",
      "<re.Match object; span=(68, 69), match='a'>\n",
      "<re.Match object; span=(69, 70), match=' '>\n",
      "<re.Match object; span=(70, 71), match='H'>\n",
      "<re.Match object; span=(71, 72), match='a'>\n",
      "<re.Match object; span=(72, 73), match='H'>\n",
      "<re.Match object; span=(73, 74), match='a'>\n",
      "<re.Match object; span=(74, 75), match='\\n'>\n",
      "<re.Match object; span=(75, 76), match='M'>\n",
      "<re.Match object; span=(76, 77), match='e'>\n",
      "<re.Match object; span=(77, 78), match='t'>\n",
      "<re.Match object; span=(78, 79), match='a'>\n",
      "<re.Match object; span=(79, 80), match='C'>\n",
      "<re.Match object; span=(80, 81), match='h'>\n",
      "<re.Match object; span=(81, 82), match='a'>\n",
      "<re.Match object; span=(82, 83), match='r'>\n",
      "<re.Match object; span=(83, 84), match='a'>\n",
      "<re.Match object; span=(84, 85), match='c'>\n",
      "<re.Match object; span=(85, 86), match='t'>\n",
      "<re.Match object; span=(86, 87), match='e'>\n",
      "<re.Match object; span=(87, 88), match='r'>\n",
      "<re.Match object; span=(88, 89), match='s'>\n",
      "<re.Match object; span=(89, 90), match=' '>\n",
      "<re.Match object; span=(90, 91), match='('>\n",
      "<re.Match object; span=(91, 92), match='N'>\n",
      "<re.Match object; span=(92, 93), match='e'>\n",
      "<re.Match object; span=(93, 94), match='e'>\n",
      "<re.Match object; span=(94, 95), match='d'>\n",
      "<re.Match object; span=(95, 96), match=' '>\n",
      "<re.Match object; span=(96, 97), match='t'>\n",
      "<re.Match object; span=(97, 98), match='o'>\n",
      "<re.Match object; span=(98, 99), match=' '>\n",
      "<re.Match object; span=(99, 100), match='b'>\n",
      "<re.Match object; span=(100, 101), match='e'>\n",
      "<re.Match object; span=(101, 102), match=' '>\n",
      "<re.Match object; span=(102, 103), match='e'>\n",
      "<re.Match object; span=(103, 104), match='s'>\n",
      "<re.Match object; span=(104, 105), match='c'>\n",
      "<re.Match object; span=(105, 106), match='a'>\n",
      "<re.Match object; span=(106, 107), match='p'>\n",
      "<re.Match object; span=(107, 108), match='e'>\n",
      "<re.Match object; span=(108, 109), match='d'>\n",
      "<re.Match object; span=(109, 110), match=')'>\n",
      "<re.Match object; span=(110, 111), match=':'>\n",
      "<re.Match object; span=(111, 112), match='\\n'>\n",
      "<re.Match object; span=(112, 113), match='.'>\n",
      "<re.Match object; span=(113, 114), match=' '>\n",
      "<re.Match object; span=(114, 115), match='^'>\n",
      "<re.Match object; span=(115, 116), match=' '>\n",
      "<re.Match object; span=(116, 117), match='$'>\n",
      "<re.Match object; span=(117, 118), match=' '>\n",
      "<re.Match object; span=(118, 119), match='*'>\n",
      "<re.Match object; span=(119, 120), match=' '>\n",
      "<re.Match object; span=(120, 121), match='+'>\n",
      "<re.Match object; span=(121, 122), match=' '>\n",
      "<re.Match object; span=(122, 123), match='?'>\n",
      "<re.Match object; span=(123, 124), match=' '>\n",
      "<re.Match object; span=(124, 125), match='{'>\n",
      "<re.Match object; span=(125, 126), match=' '>\n",
      "<re.Match object; span=(126, 127), match='}'>\n",
      "<re.Match object; span=(127, 128), match=' '>\n",
      "<re.Match object; span=(128, 129), match='['>\n",
      "<re.Match object; span=(129, 130), match=' '>\n",
      "<re.Match object; span=(130, 131), match=']'>\n",
      "<re.Match object; span=(131, 132), match=' '>\n",
      "<re.Match object; span=(132, 133), match='\\\\'>\n",
      "<re.Match object; span=(133, 134), match=' '>\n",
      "<re.Match object; span=(134, 135), match='|'>\n",
      "<re.Match object; span=(135, 136), match=' '>\n",
      "<re.Match object; span=(136, 137), match='('>\n",
      "<re.Match object; span=(137, 138), match=' '>\n",
      "<re.Match object; span=(138, 139), match=')'>\n",
      "<re.Match object; span=(139, 140), match='\\n'>\n",
      "<re.Match object; span=(140, 141), match='a'>\n",
      "<re.Match object; span=(141, 142), match='b'>\n",
      "<re.Match object; span=(142, 143), match='c'>\n",
      "<re.Match object; span=(143, 144), match='\\n'>\n",
      "<re.Match object; span=(144, 145), match='c'>\n",
      "<re.Match object; span=(145, 146), match='a'>\n",
      "<re.Match object; span=(146, 147), match='t'>\n",
      "<re.Match object; span=(147, 148), match='\\n'>\n",
      "<re.Match object; span=(148, 149), match='m'>\n",
      "<re.Match object; span=(149, 150), match='a'>\n",
      "<re.Match object; span=(150, 151), match='t'>\n",
      "<re.Match object; span=(151, 152), match=' '>\n",
      "<re.Match object; span=(152, 153), match='\\n'>\n",
      "<re.Match object; span=(153, 154), match='h'>\n",
      "<re.Match object; span=(154, 155), match='a'>\n",
      "<re.Match object; span=(155, 156), match='t'>\n",
      "<re.Match object; span=(156, 157), match='\\n'>\n",
      "<re.Match object; span=(157, 158), match='b'>\n",
      "<re.Match object; span=(158, 159), match='a'>\n",
      "<re.Match object; span=(159, 160), match='t'>\n",
      "<re.Match object; span=(160, 161), match='\\n'>\n",
      "<re.Match object; span=(161, 162), match='f'>\n",
      "<re.Match object; span=(162, 163), match='a'>\n",
      "<re.Match object; span=(163, 164), match='t'>\n",
      "<re.Match object; span=(164, 165), match='\\n'>\n",
      "<re.Match object; span=(165, 166), match='s'>\n",
      "<re.Match object; span=(166, 167), match='a'>\n",
      "<re.Match object; span=(167, 168), match='t'>\n",
      "<re.Match object; span=(168, 169), match='\\n'>\n",
      "<re.Match object; span=(180, 181), match='\\n'>\n",
      "<re.Match object; span=(181, 182), match='c'>\n",
      "<re.Match object; span=(182, 183), match='o'>\n",
      "<re.Match object; span=(183, 184), match='r'>\n",
      "<re.Match object; span=(184, 185), match='e'>\n",
      "<re.Match object; span=(185, 186), match='y'>\n",
      "<re.Match object; span=(186, 187), match='m'>\n",
      "<re.Match object; span=(187, 188), match='s'>\n",
      "<re.Match object; span=(188, 189), match='-'>\n",
      "<re.Match object; span=(189, 190), match='c'>\n",
      "<re.Match object; span=(190, 191), match='o'>\n",
      "<re.Match object; span=(191, 192), match='m'>\n",
      "<re.Match object; span=(192, 193), match='\\n'>\n",
      "<re.Match object; span=(196, 197), match='-'>\n",
      "<re.Match object; span=(200, 201), match='-'>\n",
      "<re.Match object; span=(205, 206), match='\\n'>\n",
      "<re.Match object; span=(209, 210), match='.'>\n",
      "<re.Match object; span=(213, 214), match='.'>\n",
      "<re.Match object; span=(218, 219), match='\\n'>\n",
      "<re.Match object; span=(222, 223), match='*'>\n",
      "<re.Match object; span=(226, 227), match='*'>\n",
      "<re.Match object; span=(231, 232), match='\\n'>\n",
      "<re.Match object; span=(235, 236), match='-'>\n",
      "<re.Match object; span=(239, 240), match='-'>\n",
      "<re.Match object; span=(244, 245), match='\\n'>\n",
      "<re.Match object; span=(248, 249), match='-'>\n",
      "<re.Match object; span=(252, 253), match='-'>\n",
      "<re.Match object; span=(257, 258), match='\\n'>\n",
      "<re.Match object; span=(258, 259), match='M'>\n",
      "<re.Match object; span=(259, 260), match='r'>\n",
      "<re.Match object; span=(260, 261), match='.'>\n",
      "<re.Match object; span=(261, 262), match=' '>\n",
      "<re.Match object; span=(262, 263), match='S'>\n",
      "<re.Match object; span=(263, 264), match='c'>\n",
      "<re.Match object; span=(264, 265), match='h'>\n",
      "<re.Match object; span=(265, 266), match='a'>\n",
      "<re.Match object; span=(266, 267), match='f'>\n",
      "<re.Match object; span=(267, 268), match='e'>\n",
      "<re.Match object; span=(268, 269), match='r'>\n",
      "<re.Match object; span=(269, 270), match='\\n'>\n",
      "<re.Match object; span=(270, 271), match='M'>\n",
      "<re.Match object; span=(271, 272), match='r'>\n",
      "<re.Match object; span=(272, 273), match=' '>\n",
      "<re.Match object; span=(273, 274), match='S'>\n",
      "<re.Match object; span=(274, 275), match='m'>\n",
      "<re.Match object; span=(275, 276), match='i'>\n",
      "<re.Match object; span=(276, 277), match='t'>\n",
      "<re.Match object; span=(277, 278), match='h'>\n",
      "<re.Match object; span=(278, 279), match='\\n'>\n",
      "<re.Match object; span=(279, 280), match='M'>\n",
      "<re.Match object; span=(280, 281), match='s'>\n",
      "<re.Match object; span=(281, 282), match=' '>\n",
      "<re.Match object; span=(282, 283), match='D'>\n",
      "<re.Match object; span=(283, 284), match='a'>\n",
      "<re.Match object; span=(284, 285), match='v'>\n",
      "<re.Match object; span=(285, 286), match='i'>\n",
      "<re.Match object; span=(286, 287), match='s'>\n",
      "<re.Match object; span=(287, 288), match='\\n'>\n",
      "<re.Match object; span=(288, 289), match='M'>\n",
      "<re.Match object; span=(289, 290), match='r'>\n",
      "<re.Match object; span=(290, 291), match='s'>\n",
      "<re.Match object; span=(291, 292), match='.'>\n",
      "<re.Match object; span=(292, 293), match=' '>\n",
      "<re.Match object; span=(293, 294), match='R'>\n",
      "<re.Match object; span=(294, 295), match='o'>\n",
      "<re.Match object; span=(295, 296), match='b'>\n",
      "<re.Match object; span=(296, 297), match='i'>\n",
      "<re.Match object; span=(297, 298), match='n'>\n",
      "<re.Match object; span=(298, 299), match='s'>\n",
      "<re.Match object; span=(299, 300), match='o'>\n",
      "<re.Match object; span=(300, 301), match='n'>\n",
      "<re.Match object; span=(301, 302), match='\\n'>\n",
      "<re.Match object; span=(302, 303), match='M'>\n",
      "<re.Match object; span=(303, 304), match='r'>\n",
      "<re.Match object; span=(304, 305), match='.'>\n",
      "<re.Match object; span=(305, 306), match=' '>\n",
      "<re.Match object; span=(306, 307), match='T'>\n",
      "<re.Match object; span=(307, 308), match='\\n'>\n",
      "Number Of Times :  235\n"
     ]
    }
   ],
   "source": [
    "Pattern = re.compile(r\"\\D\")         # Matches Not a Digit (0-9)   \n",
    "Matches = Pattern.finditer(Text)\n",
    "Counter = 0\n",
    "for Element in Matches :\n",
    "    print(Element)\n",
    "    Counter +=1\n",
    "print(\"Number Of Times : \" , str(Counter))"
   ]
  },
  {
   "cell_type": "code",
   "execution_count": 16,
   "id": "fad1b526",
   "metadata": {
    "ExecuteTime": {
     "end_time": "2022-06-21T06:17:17.730518Z",
     "start_time": "2022-06-21T06:17:17.715558Z"
    },
    "hidden": true,
    "scrolled": true
   },
   "outputs": [
    {
     "name": "stdout",
     "output_type": "stream",
     "text": [
      "<re.Match object; span=(22, 23), match='w'>\n"
     ]
    }
   ],
   "source": [
    "Pattern = re.compile(r\"w\")          # Search for \"w\"\n",
    "Matches = Pattern.finditer(Text)\n",
    "for Element in Matches :\n",
    "    print(Element)"
   ]
  },
  {
   "cell_type": "code",
   "execution_count": 17,
   "id": "89713e43",
   "metadata": {
    "ExecuteTime": {
     "end_time": "2022-06-21T06:17:17.745477Z",
     "start_time": "2022-06-21T06:17:17.731515Z"
    },
    "hidden": true
   },
   "outputs": [
    {
     "name": "stdout",
     "output_type": "stream",
     "text": [
      "<re.Match object; span=(0, 1), match='a'>\n",
      "<re.Match object; span=(1, 2), match='b'>\n",
      "<re.Match object; span=(2, 3), match='c'>\n",
      "<re.Match object; span=(3, 4), match='d'>\n",
      "<re.Match object; span=(4, 5), match='e'>\n",
      "<re.Match object; span=(5, 6), match='f'>\n",
      "<re.Match object; span=(6, 7), match='g'>\n",
      "<re.Match object; span=(7, 8), match='h'>\n",
      "<re.Match object; span=(8, 9), match='i'>\n",
      "<re.Match object; span=(9, 10), match='j'>\n",
      "<re.Match object; span=(10, 11), match='k'>\n",
      "<re.Match object; span=(11, 12), match='l'>\n",
      "<re.Match object; span=(12, 13), match='m'>\n",
      "<re.Match object; span=(13, 14), match='n'>\n",
      "<re.Match object; span=(14, 15), match='o'>\n",
      "<re.Match object; span=(15, 16), match='p'>\n",
      "<re.Match object; span=(16, 17), match='q'>\n",
      "<re.Match object; span=(17, 18), match='u'>\n",
      "<re.Match object; span=(18, 19), match='r'>\n",
      "<re.Match object; span=(19, 20), match='t'>\n",
      "<re.Match object; span=(20, 21), match='u'>\n",
      "<re.Match object; span=(21, 22), match='v'>\n",
      "<re.Match object; span=(22, 23), match='w'>\n",
      "<re.Match object; span=(23, 24), match='x'>\n",
      "<re.Match object; span=(24, 25), match='y'>\n",
      "<re.Match object; span=(25, 26), match='z'>\n",
      "<re.Match object; span=(27, 28), match='A'>\n",
      "<re.Match object; span=(28, 29), match='B'>\n",
      "<re.Match object; span=(29, 30), match='C'>\n",
      "<re.Match object; span=(30, 31), match='D'>\n",
      "<re.Match object; span=(31, 32), match='E'>\n",
      "<re.Match object; span=(32, 33), match='F'>\n",
      "<re.Match object; span=(33, 34), match='G'>\n",
      "<re.Match object; span=(34, 35), match='H'>\n",
      "<re.Match object; span=(35, 36), match='I'>\n",
      "<re.Match object; span=(36, 37), match='J'>\n",
      "<re.Match object; span=(37, 38), match='K'>\n",
      "<re.Match object; span=(38, 39), match='L'>\n",
      "<re.Match object; span=(39, 40), match='M'>\n",
      "<re.Match object; span=(40, 41), match='N'>\n",
      "<re.Match object; span=(41, 42), match='O'>\n",
      "<re.Match object; span=(42, 43), match='P'>\n",
      "<re.Match object; span=(43, 44), match='Q'>\n",
      "<re.Match object; span=(44, 45), match='R'>\n",
      "<re.Match object; span=(45, 46), match='S'>\n",
      "<re.Match object; span=(46, 47), match='T'>\n",
      "<re.Match object; span=(47, 48), match='U'>\n",
      "<re.Match object; span=(48, 49), match='V'>\n",
      "<re.Match object; span=(49, 50), match='W'>\n",
      "<re.Match object; span=(50, 51), match='X'>\n",
      "<re.Match object; span=(51, 52), match='Y'>\n",
      "<re.Match object; span=(52, 53), match='Z'>\n",
      "<re.Match object; span=(54, 55), match='1'>\n",
      "<re.Match object; span=(55, 56), match='2'>\n",
      "<re.Match object; span=(56, 57), match='3'>\n",
      "<re.Match object; span=(57, 58), match='4'>\n",
      "<re.Match object; span=(58, 59), match='5'>\n",
      "<re.Match object; span=(59, 60), match='6'>\n",
      "<re.Match object; span=(60, 61), match='7'>\n",
      "<re.Match object; span=(61, 62), match='8'>\n",
      "<re.Match object; span=(62, 63), match='9'>\n",
      "<re.Match object; span=(63, 64), match='0'>\n",
      "<re.Match object; span=(64, 65), match='1'>\n",
      "<re.Match object; span=(65, 66), match='0'>\n",
      "<re.Match object; span=(67, 68), match='H'>\n",
      "<re.Match object; span=(68, 69), match='a'>\n",
      "<re.Match object; span=(70, 71), match='H'>\n",
      "<re.Match object; span=(71, 72), match='a'>\n",
      "<re.Match object; span=(72, 73), match='H'>\n",
      "<re.Match object; span=(73, 74), match='a'>\n",
      "<re.Match object; span=(75, 76), match='M'>\n",
      "<re.Match object; span=(76, 77), match='e'>\n",
      "<re.Match object; span=(77, 78), match='t'>\n",
      "<re.Match object; span=(78, 79), match='a'>\n",
      "<re.Match object; span=(79, 80), match='C'>\n",
      "<re.Match object; span=(80, 81), match='h'>\n",
      "<re.Match object; span=(81, 82), match='a'>\n",
      "<re.Match object; span=(82, 83), match='r'>\n",
      "<re.Match object; span=(83, 84), match='a'>\n",
      "<re.Match object; span=(84, 85), match='c'>\n",
      "<re.Match object; span=(85, 86), match='t'>\n",
      "<re.Match object; span=(86, 87), match='e'>\n",
      "<re.Match object; span=(87, 88), match='r'>\n",
      "<re.Match object; span=(88, 89), match='s'>\n",
      "<re.Match object; span=(91, 92), match='N'>\n",
      "<re.Match object; span=(92, 93), match='e'>\n",
      "<re.Match object; span=(93, 94), match='e'>\n",
      "<re.Match object; span=(94, 95), match='d'>\n",
      "<re.Match object; span=(96, 97), match='t'>\n",
      "<re.Match object; span=(97, 98), match='o'>\n",
      "<re.Match object; span=(99, 100), match='b'>\n",
      "<re.Match object; span=(100, 101), match='e'>\n",
      "<re.Match object; span=(102, 103), match='e'>\n",
      "<re.Match object; span=(103, 104), match='s'>\n",
      "<re.Match object; span=(104, 105), match='c'>\n",
      "<re.Match object; span=(105, 106), match='a'>\n",
      "<re.Match object; span=(106, 107), match='p'>\n",
      "<re.Match object; span=(107, 108), match='e'>\n",
      "<re.Match object; span=(108, 109), match='d'>\n",
      "<re.Match object; span=(140, 141), match='a'>\n",
      "<re.Match object; span=(141, 142), match='b'>\n",
      "<re.Match object; span=(142, 143), match='c'>\n",
      "<re.Match object; span=(144, 145), match='c'>\n",
      "<re.Match object; span=(145, 146), match='a'>\n",
      "<re.Match object; span=(146, 147), match='t'>\n",
      "<re.Match object; span=(148, 149), match='m'>\n",
      "<re.Match object; span=(149, 150), match='a'>\n",
      "<re.Match object; span=(150, 151), match='t'>\n",
      "<re.Match object; span=(153, 154), match='h'>\n",
      "<re.Match object; span=(154, 155), match='a'>\n",
      "<re.Match object; span=(155, 156), match='t'>\n",
      "<re.Match object; span=(157, 158), match='b'>\n",
      "<re.Match object; span=(158, 159), match='a'>\n",
      "<re.Match object; span=(159, 160), match='t'>\n",
      "<re.Match object; span=(161, 162), match='f'>\n",
      "<re.Match object; span=(162, 163), match='a'>\n",
      "<re.Match object; span=(163, 164), match='t'>\n",
      "<re.Match object; span=(165, 166), match='s'>\n",
      "<re.Match object; span=(166, 167), match='a'>\n",
      "<re.Match object; span=(167, 168), match='t'>\n",
      "<re.Match object; span=(169, 170), match='0'>\n",
      "<re.Match object; span=(170, 171), match='1'>\n",
      "<re.Match object; span=(171, 172), match='0'>\n",
      "<re.Match object; span=(172, 173), match='9'>\n",
      "<re.Match object; span=(173, 174), match='2'>\n",
      "<re.Match object; span=(174, 175), match='3'>\n",
      "<re.Match object; span=(175, 176), match='2'>\n",
      "<re.Match object; span=(176, 177), match='9'>\n",
      "<re.Match object; span=(177, 178), match='3'>\n",
      "<re.Match object; span=(178, 179), match='4'>\n",
      "<re.Match object; span=(179, 180), match='0'>\n",
      "<re.Match object; span=(181, 182), match='c'>\n",
      "<re.Match object; span=(182, 183), match='o'>\n",
      "<re.Match object; span=(183, 184), match='r'>\n",
      "<re.Match object; span=(184, 185), match='e'>\n",
      "<re.Match object; span=(185, 186), match='y'>\n",
      "<re.Match object; span=(186, 187), match='m'>\n",
      "<re.Match object; span=(187, 188), match='s'>\n",
      "<re.Match object; span=(189, 190), match='c'>\n",
      "<re.Match object; span=(190, 191), match='o'>\n",
      "<re.Match object; span=(191, 192), match='m'>\n",
      "<re.Match object; span=(193, 194), match='3'>\n",
      "<re.Match object; span=(194, 195), match='2'>\n",
      "<re.Match object; span=(195, 196), match='1'>\n",
      "<re.Match object; span=(197, 198), match='5'>\n",
      "<re.Match object; span=(198, 199), match='5'>\n",
      "<re.Match object; span=(199, 200), match='5'>\n",
      "<re.Match object; span=(201, 202), match='4'>\n",
      "<re.Match object; span=(202, 203), match='3'>\n",
      "<re.Match object; span=(203, 204), match='2'>\n",
      "<re.Match object; span=(204, 205), match='1'>\n",
      "<re.Match object; span=(206, 207), match='1'>\n",
      "<re.Match object; span=(207, 208), match='2'>\n",
      "<re.Match object; span=(208, 209), match='3'>\n",
      "<re.Match object; span=(210, 211), match='5'>\n",
      "<re.Match object; span=(211, 212), match='5'>\n",
      "<re.Match object; span=(212, 213), match='5'>\n",
      "<re.Match object; span=(214, 215), match='1'>\n",
      "<re.Match object; span=(215, 216), match='2'>\n",
      "<re.Match object; span=(216, 217), match='3'>\n",
      "<re.Match object; span=(217, 218), match='4'>\n",
      "<re.Match object; span=(219, 220), match='1'>\n",
      "<re.Match object; span=(220, 221), match='2'>\n",
      "<re.Match object; span=(221, 222), match='3'>\n",
      "<re.Match object; span=(223, 224), match='5'>\n",
      "<re.Match object; span=(224, 225), match='5'>\n",
      "<re.Match object; span=(225, 226), match='5'>\n",
      "<re.Match object; span=(227, 228), match='1'>\n",
      "<re.Match object; span=(228, 229), match='2'>\n",
      "<re.Match object; span=(229, 230), match='3'>\n",
      "<re.Match object; span=(230, 231), match='4'>\n",
      "<re.Match object; span=(232, 233), match='8'>\n",
      "<re.Match object; span=(233, 234), match='0'>\n",
      "<re.Match object; span=(234, 235), match='0'>\n",
      "<re.Match object; span=(236, 237), match='5'>\n",
      "<re.Match object; span=(237, 238), match='5'>\n",
      "<re.Match object; span=(238, 239), match='5'>\n",
      "<re.Match object; span=(240, 241), match='1'>\n",
      "<re.Match object; span=(241, 242), match='2'>\n",
      "<re.Match object; span=(242, 243), match='3'>\n",
      "<re.Match object; span=(243, 244), match='4'>\n",
      "<re.Match object; span=(245, 246), match='9'>\n",
      "<re.Match object; span=(246, 247), match='0'>\n",
      "<re.Match object; span=(247, 248), match='0'>\n",
      "<re.Match object; span=(249, 250), match='5'>\n",
      "<re.Match object; span=(250, 251), match='5'>\n",
      "<re.Match object; span=(251, 252), match='5'>\n",
      "<re.Match object; span=(253, 254), match='1'>\n",
      "<re.Match object; span=(254, 255), match='2'>\n",
      "<re.Match object; span=(255, 256), match='3'>\n",
      "<re.Match object; span=(256, 257), match='4'>\n",
      "<re.Match object; span=(258, 259), match='M'>\n",
      "<re.Match object; span=(259, 260), match='r'>\n",
      "<re.Match object; span=(262, 263), match='S'>\n",
      "<re.Match object; span=(263, 264), match='c'>\n",
      "<re.Match object; span=(264, 265), match='h'>\n",
      "<re.Match object; span=(265, 266), match='a'>\n",
      "<re.Match object; span=(266, 267), match='f'>\n",
      "<re.Match object; span=(267, 268), match='e'>\n",
      "<re.Match object; span=(268, 269), match='r'>\n",
      "<re.Match object; span=(270, 271), match='M'>\n",
      "<re.Match object; span=(271, 272), match='r'>\n",
      "<re.Match object; span=(273, 274), match='S'>\n",
      "<re.Match object; span=(274, 275), match='m'>\n",
      "<re.Match object; span=(275, 276), match='i'>\n",
      "<re.Match object; span=(276, 277), match='t'>\n",
      "<re.Match object; span=(277, 278), match='h'>\n",
      "<re.Match object; span=(279, 280), match='M'>\n",
      "<re.Match object; span=(280, 281), match='s'>\n",
      "<re.Match object; span=(282, 283), match='D'>\n",
      "<re.Match object; span=(283, 284), match='a'>\n",
      "<re.Match object; span=(284, 285), match='v'>\n",
      "<re.Match object; span=(285, 286), match='i'>\n",
      "<re.Match object; span=(286, 287), match='s'>\n",
      "<re.Match object; span=(288, 289), match='M'>\n",
      "<re.Match object; span=(289, 290), match='r'>\n",
      "<re.Match object; span=(290, 291), match='s'>\n",
      "<re.Match object; span=(293, 294), match='R'>\n",
      "<re.Match object; span=(294, 295), match='o'>\n",
      "<re.Match object; span=(295, 296), match='b'>\n",
      "<re.Match object; span=(296, 297), match='i'>\n",
      "<re.Match object; span=(297, 298), match='n'>\n",
      "<re.Match object; span=(298, 299), match='s'>\n",
      "<re.Match object; span=(299, 300), match='o'>\n",
      "<re.Match object; span=(300, 301), match='n'>\n",
      "<re.Match object; span=(302, 303), match='M'>\n",
      "<re.Match object; span=(303, 304), match='r'>\n",
      "<re.Match object; span=(306, 307), match='T'>\n",
      "Number Of Times :  228\n"
     ]
    }
   ],
   "source": [
    "Pattern = re.compile(r\"\\w\")       # Matches Word Character only \"lowercase, uppercase, digits, underscore\" (a-z, A-Z, 0-9, _)\n",
    "Matches = Pattern.finditer(Text)\n",
    "Counter = 0\n",
    "for Element in Matches :\n",
    "    print(Element)\n",
    "    Counter +=1\n",
    "print(\"Number Of Times : \" , str(Counter))"
   ]
  },
  {
   "cell_type": "code",
   "execution_count": 18,
   "id": "eccbfac9",
   "metadata": {
    "ExecuteTime": {
     "end_time": "2022-06-21T06:17:17.761436Z",
     "start_time": "2022-06-21T06:17:17.746500Z"
    },
    "hidden": true
   },
   "outputs": [
    {
     "name": "stdout",
     "output_type": "stream",
     "text": [
      "<re.Match object; span=(49, 50), match='W'>\n"
     ]
    }
   ],
   "source": [
    "Pattern = re.compile(r\"W\")          # Search for \"W\"\n",
    "Matches = Pattern.finditer(Text)\n",
    "for Element in Matches :\n",
    "    print(Element)"
   ]
  },
  {
   "cell_type": "code",
   "execution_count": 19,
   "id": "da40ec63",
   "metadata": {
    "ExecuteTime": {
     "end_time": "2022-06-21T06:17:17.777391Z",
     "start_time": "2022-06-21T06:17:17.762431Z"
    },
    "hidden": true
   },
   "outputs": [
    {
     "name": "stdout",
     "output_type": "stream",
     "text": [
      "<re.Match object; span=(26, 27), match='\\n'>\n",
      "<re.Match object; span=(53, 54), match='\\n'>\n",
      "<re.Match object; span=(66, 67), match='\\n'>\n",
      "<re.Match object; span=(69, 70), match=' '>\n",
      "<re.Match object; span=(74, 75), match='\\n'>\n",
      "<re.Match object; span=(89, 90), match=' '>\n",
      "<re.Match object; span=(90, 91), match='('>\n",
      "<re.Match object; span=(95, 96), match=' '>\n",
      "<re.Match object; span=(98, 99), match=' '>\n",
      "<re.Match object; span=(101, 102), match=' '>\n",
      "<re.Match object; span=(109, 110), match=')'>\n",
      "<re.Match object; span=(110, 111), match=':'>\n",
      "<re.Match object; span=(111, 112), match='\\n'>\n",
      "<re.Match object; span=(112, 113), match='.'>\n",
      "<re.Match object; span=(113, 114), match=' '>\n",
      "<re.Match object; span=(114, 115), match='^'>\n",
      "<re.Match object; span=(115, 116), match=' '>\n",
      "<re.Match object; span=(116, 117), match='$'>\n",
      "<re.Match object; span=(117, 118), match=' '>\n",
      "<re.Match object; span=(118, 119), match='*'>\n",
      "<re.Match object; span=(119, 120), match=' '>\n",
      "<re.Match object; span=(120, 121), match='+'>\n",
      "<re.Match object; span=(121, 122), match=' '>\n",
      "<re.Match object; span=(122, 123), match='?'>\n",
      "<re.Match object; span=(123, 124), match=' '>\n",
      "<re.Match object; span=(124, 125), match='{'>\n",
      "<re.Match object; span=(125, 126), match=' '>\n",
      "<re.Match object; span=(126, 127), match='}'>\n",
      "<re.Match object; span=(127, 128), match=' '>\n",
      "<re.Match object; span=(128, 129), match='['>\n",
      "<re.Match object; span=(129, 130), match=' '>\n",
      "<re.Match object; span=(130, 131), match=']'>\n",
      "<re.Match object; span=(131, 132), match=' '>\n",
      "<re.Match object; span=(132, 133), match='\\\\'>\n",
      "<re.Match object; span=(133, 134), match=' '>\n",
      "<re.Match object; span=(134, 135), match='|'>\n",
      "<re.Match object; span=(135, 136), match=' '>\n",
      "<re.Match object; span=(136, 137), match='('>\n",
      "<re.Match object; span=(137, 138), match=' '>\n",
      "<re.Match object; span=(138, 139), match=')'>\n",
      "<re.Match object; span=(139, 140), match='\\n'>\n",
      "<re.Match object; span=(143, 144), match='\\n'>\n",
      "<re.Match object; span=(147, 148), match='\\n'>\n",
      "<re.Match object; span=(151, 152), match=' '>\n",
      "<re.Match object; span=(152, 153), match='\\n'>\n",
      "<re.Match object; span=(156, 157), match='\\n'>\n",
      "<re.Match object; span=(160, 161), match='\\n'>\n",
      "<re.Match object; span=(164, 165), match='\\n'>\n",
      "<re.Match object; span=(168, 169), match='\\n'>\n",
      "<re.Match object; span=(180, 181), match='\\n'>\n",
      "<re.Match object; span=(188, 189), match='-'>\n",
      "<re.Match object; span=(192, 193), match='\\n'>\n",
      "<re.Match object; span=(196, 197), match='-'>\n",
      "<re.Match object; span=(200, 201), match='-'>\n",
      "<re.Match object; span=(205, 206), match='\\n'>\n",
      "<re.Match object; span=(209, 210), match='.'>\n",
      "<re.Match object; span=(213, 214), match='.'>\n",
      "<re.Match object; span=(218, 219), match='\\n'>\n",
      "<re.Match object; span=(222, 223), match='*'>\n",
      "<re.Match object; span=(226, 227), match='*'>\n",
      "<re.Match object; span=(231, 232), match='\\n'>\n",
      "<re.Match object; span=(235, 236), match='-'>\n",
      "<re.Match object; span=(239, 240), match='-'>\n",
      "<re.Match object; span=(244, 245), match='\\n'>\n",
      "<re.Match object; span=(248, 249), match='-'>\n",
      "<re.Match object; span=(252, 253), match='-'>\n",
      "<re.Match object; span=(257, 258), match='\\n'>\n",
      "<re.Match object; span=(260, 261), match='.'>\n",
      "<re.Match object; span=(261, 262), match=' '>\n",
      "<re.Match object; span=(269, 270), match='\\n'>\n",
      "<re.Match object; span=(272, 273), match=' '>\n",
      "<re.Match object; span=(278, 279), match='\\n'>\n",
      "<re.Match object; span=(281, 282), match=' '>\n",
      "<re.Match object; span=(287, 288), match='\\n'>\n",
      "<re.Match object; span=(291, 292), match='.'>\n",
      "<re.Match object; span=(292, 293), match=' '>\n",
      "<re.Match object; span=(301, 302), match='\\n'>\n",
      "<re.Match object; span=(304, 305), match='.'>\n",
      "<re.Match object; span=(305, 306), match=' '>\n",
      "<re.Match object; span=(307, 308), match='\\n'>\n",
      "Number Of Times :  80\n"
     ]
    }
   ],
   "source": [
    "Pattern = re.compile(r\"\\W\")       # Matches Not a Word Character\n",
    "Matches = Pattern.finditer(Text)\n",
    "Counter = 0\n",
    "for Element in Matches :\n",
    "    print(Element)\n",
    "    Counter +=1\n",
    "print(\"Number Of Times : \" , str(Counter))"
   ]
  },
  {
   "cell_type": "code",
   "execution_count": 20,
   "id": "7ca6b532",
   "metadata": {
    "ExecuteTime": {
     "end_time": "2022-06-21T06:17:17.793385Z",
     "start_time": "2022-06-21T06:17:17.778391Z"
    },
    "hidden": true
   },
   "outputs": [
    {
     "name": "stdout",
     "output_type": "stream",
     "text": [
      "<re.Match object; span=(54, 56), match='12'>\n",
      "<re.Match object; span=(56, 58), match='34'>\n",
      "<re.Match object; span=(58, 60), match='56'>\n",
      "<re.Match object; span=(60, 62), match='78'>\n",
      "<re.Match object; span=(62, 64), match='90'>\n",
      "<re.Match object; span=(64, 66), match='10'>\n",
      "<re.Match object; span=(169, 171), match='01'>\n",
      "<re.Match object; span=(171, 173), match='09'>\n",
      "<re.Match object; span=(173, 175), match='23'>\n",
      "<re.Match object; span=(175, 177), match='29'>\n",
      "<re.Match object; span=(177, 179), match='34'>\n",
      "<re.Match object; span=(193, 195), match='32'>\n",
      "<re.Match object; span=(197, 199), match='55'>\n",
      "<re.Match object; span=(201, 203), match='43'>\n",
      "<re.Match object; span=(203, 205), match='21'>\n",
      "<re.Match object; span=(206, 208), match='12'>\n",
      "<re.Match object; span=(210, 212), match='55'>\n",
      "<re.Match object; span=(214, 216), match='12'>\n",
      "<re.Match object; span=(216, 218), match='34'>\n",
      "<re.Match object; span=(219, 221), match='12'>\n",
      "<re.Match object; span=(223, 225), match='55'>\n",
      "<re.Match object; span=(227, 229), match='12'>\n",
      "<re.Match object; span=(229, 231), match='34'>\n",
      "<re.Match object; span=(232, 234), match='80'>\n",
      "<re.Match object; span=(236, 238), match='55'>\n",
      "<re.Match object; span=(240, 242), match='12'>\n",
      "<re.Match object; span=(242, 244), match='34'>\n",
      "<re.Match object; span=(245, 247), match='90'>\n",
      "<re.Match object; span=(249, 251), match='55'>\n",
      "<re.Match object; span=(253, 255), match='12'>\n",
      "<re.Match object; span=(255, 257), match='34'>\n",
      "Number Of Times :  31\n"
     ]
    }
   ],
   "source": [
    "Pattern = re.compile(r\"\\d\\d\")      # Matches only 2 digits (0-9)\n",
    "Matches = Pattern.finditer(Text)\n",
    "Counter = 0\n",
    "for Element in Matches :\n",
    "    print(Element)\n",
    "    Counter +=1\n",
    "print(\"Number Of Times : \" , str(Counter))"
   ]
  },
  {
   "cell_type": "code",
   "execution_count": 21,
   "id": "038197e4",
   "metadata": {
    "ExecuteTime": {
     "end_time": "2022-06-21T06:17:17.809308Z",
     "start_time": "2022-06-21T06:17:17.794349Z"
    },
    "hidden": true
   },
   "outputs": [
    {
     "name": "stdout",
     "output_type": "stream",
     "text": [
      "<re.Match object; span=(54, 57), match='123'>\n",
      "<re.Match object; span=(57, 60), match='456'>\n",
      "<re.Match object; span=(60, 63), match='789'>\n",
      "<re.Match object; span=(63, 66), match='010'>\n",
      "<re.Match object; span=(169, 172), match='010'>\n",
      "<re.Match object; span=(172, 175), match='923'>\n",
      "<re.Match object; span=(175, 178), match='293'>\n",
      "<re.Match object; span=(193, 196), match='321'>\n",
      "<re.Match object; span=(197, 200), match='555'>\n",
      "<re.Match object; span=(201, 204), match='432'>\n",
      "<re.Match object; span=(206, 209), match='123'>\n",
      "<re.Match object; span=(210, 213), match='555'>\n",
      "<re.Match object; span=(214, 217), match='123'>\n",
      "<re.Match object; span=(219, 222), match='123'>\n",
      "<re.Match object; span=(223, 226), match='555'>\n",
      "<re.Match object; span=(227, 230), match='123'>\n",
      "<re.Match object; span=(232, 235), match='800'>\n",
      "<re.Match object; span=(236, 239), match='555'>\n",
      "<re.Match object; span=(240, 243), match='123'>\n",
      "<re.Match object; span=(245, 248), match='900'>\n",
      "<re.Match object; span=(249, 252), match='555'>\n",
      "<re.Match object; span=(253, 256), match='123'>\n",
      "Number Of Times :  22\n"
     ]
    }
   ],
   "source": [
    "Pattern = re.compile(r\"\\d\\d\\d\")      # Matches only 3 digits (0-9)\n",
    "Matches = Pattern.finditer(Text)\n",
    "Counter = 0\n",
    "for Element in Matches :\n",
    "    print(Element)\n",
    "    Counter +=1\n",
    "print(\"Number Of Times : \" , str(Counter))"
   ]
  },
  {
   "cell_type": "code",
   "execution_count": 22,
   "id": "af4545d7",
   "metadata": {
    "ExecuteTime": {
     "end_time": "2022-06-21T06:17:17.825265Z",
     "start_time": "2022-06-21T06:17:17.810306Z"
    },
    "hidden": true
   },
   "outputs": [
    {
     "name": "stdout",
     "output_type": "stream",
     "text": [
      "<re.Match object; span=(0, 4), match='abcd'>\n",
      "<re.Match object; span=(4, 8), match='efgh'>\n",
      "<re.Match object; span=(8, 12), match='ijkl'>\n",
      "<re.Match object; span=(12, 16), match='mnop'>\n",
      "<re.Match object; span=(16, 20), match='qurt'>\n",
      "<re.Match object; span=(20, 24), match='uvwx'>\n",
      "<re.Match object; span=(24, 28), match='yz\\nA'>\n",
      "<re.Match object; span=(28, 32), match='BCDE'>\n",
      "<re.Match object; span=(32, 36), match='FGHI'>\n",
      "<re.Match object; span=(36, 40), match='JKLM'>\n",
      "<re.Match object; span=(40, 44), match='NOPQ'>\n",
      "<re.Match object; span=(44, 48), match='RSTU'>\n",
      "<re.Match object; span=(48, 52), match='VWXY'>\n",
      "<re.Match object; span=(66, 70), match='\\nHa '>\n",
      "<re.Match object; span=(70, 74), match='HaHa'>\n",
      "<re.Match object; span=(74, 78), match='\\nMet'>\n",
      "<re.Match object; span=(78, 82), match='aCha'>\n",
      "<re.Match object; span=(82, 86), match='ract'>\n",
      "<re.Match object; span=(86, 90), match='ers '>\n",
      "<re.Match object; span=(90, 94), match='(Nee'>\n",
      "<re.Match object; span=(94, 98), match='d to'>\n",
      "<re.Match object; span=(98, 102), match=' be '>\n",
      "<re.Match object; span=(102, 106), match='esca'>\n",
      "<re.Match object; span=(106, 110), match='ped)'>\n",
      "<re.Match object; span=(110, 114), match=':\\n. '>\n",
      "<re.Match object; span=(114, 118), match='^ $ '>\n",
      "<re.Match object; span=(118, 122), match='* + '>\n",
      "<re.Match object; span=(122, 126), match='? { '>\n",
      "<re.Match object; span=(126, 130), match='} [ '>\n",
      "<re.Match object; span=(130, 134), match='] \\\\ '>\n",
      "<re.Match object; span=(134, 138), match='| ( '>\n",
      "<re.Match object; span=(138, 142), match=')\\nab'>\n",
      "<re.Match object; span=(142, 146), match='c\\nca'>\n",
      "<re.Match object; span=(146, 150), match='t\\nma'>\n",
      "<re.Match object; span=(150, 154), match='t \\nh'>\n",
      "<re.Match object; span=(154, 158), match='at\\nb'>\n",
      "<re.Match object; span=(158, 162), match='at\\nf'>\n",
      "<re.Match object; span=(162, 166), match='at\\ns'>\n",
      "<re.Match object; span=(180, 184), match='\\ncor'>\n",
      "<re.Match object; span=(184, 188), match='eyms'>\n",
      "<re.Match object; span=(188, 192), match='-com'>\n",
      "<re.Match object; span=(257, 261), match='\\nMr.'>\n",
      "<re.Match object; span=(261, 265), match=' Sch'>\n",
      "<re.Match object; span=(265, 269), match='afer'>\n",
      "<re.Match object; span=(269, 273), match='\\nMr '>\n",
      "<re.Match object; span=(273, 277), match='Smit'>\n",
      "<re.Match object; span=(277, 281), match='h\\nMs'>\n",
      "<re.Match object; span=(281, 285), match=' Dav'>\n",
      "<re.Match object; span=(285, 289), match='is\\nM'>\n",
      "<re.Match object; span=(289, 293), match='rs. '>\n",
      "<re.Match object; span=(293, 297), match='Robi'>\n",
      "<re.Match object; span=(297, 301), match='nson'>\n",
      "<re.Match object; span=(301, 305), match='\\nMr.'>\n",
      "Number Of Times :  53\n"
     ]
    }
   ],
   "source": [
    "Pattern = re.compile(r\"\\D{4}\")        # Character set \"Quantifier\" , Matches not digits repeated 4 times\n",
    "Matches = Pattern.finditer(Text)\n",
    "Counter = 0\n",
    "for Element in Matches :\n",
    "    print(Element)\n",
    "    Counter +=1\n",
    "print(\"Number Of Times : \" , str(Counter))"
   ]
  },
  {
   "cell_type": "code",
   "execution_count": 23,
   "id": "c6dc4b86",
   "metadata": {
    "ExecuteTime": {
     "end_time": "2022-06-21T06:17:17.841222Z",
     "start_time": "2022-06-21T06:17:17.826263Z"
    },
    "hidden": true,
    "scrolled": true
   },
   "outputs": [
    {
     "name": "stdout",
     "output_type": "stream",
     "text": [
      "<re.Match object; span=(54, 66), match='123456789010'>\n",
      "<re.Match object; span=(193, 205), match='321-555-4321'>\n",
      "<re.Match object; span=(206, 218), match='123.555.1234'>\n",
      "<re.Match object; span=(219, 231), match='123*555*1234'>\n",
      "<re.Match object; span=(232, 244), match='800-555-1234'>\n",
      "<re.Match object; span=(245, 257), match='900-555-1234'>\n",
      "Number Of Times :  6\n"
     ]
    }
   ],
   "source": [
    "Pattern = re.compile(r\"\\d{3}.\\d{3}.\\d{4}\")        # Character set \"Quantifier\" , . --> All except \\n  \n",
    "Matches = Pattern.finditer(Text)\n",
    "Counter = 0\n",
    "for Element in Matches :\n",
    "    print(Element)\n",
    "    Counter +=1\n",
    "print(\"Number Of Times : \" , str(Counter))"
   ]
  },
  {
   "cell_type": "code",
   "execution_count": 24,
   "id": "9ce2ba16",
   "metadata": {
    "ExecuteTime": {
     "end_time": "2022-06-21T06:17:17.857201Z",
     "start_time": "2022-06-21T06:17:17.842219Z"
    },
    "hidden": true
   },
   "outputs": [
    {
     "name": "stdout",
     "output_type": "stream",
     "text": [
      "<re.Match object; span=(193, 205), match='321-555-4321'>\n",
      "<re.Match object; span=(232, 244), match='800-555-1234'>\n",
      "<re.Match object; span=(245, 257), match='900-555-1234'>\n",
      "Number Of Times :  3\n"
     ]
    }
   ],
   "source": [
    "Pattern = re.compile(r\"\\d{3}-\\d{3}-\\d{4}\")        # Character set \"Quantifier\" , - Only\n",
    "Matches = Pattern.finditer(Text)\n",
    "Counter = 0\n",
    "for Element in Matches :\n",
    "    print(Element)\n",
    "    Counter +=1\n",
    "print(\"Number Of Times : \" , str(Counter))"
   ]
  },
  {
   "cell_type": "code",
   "execution_count": 25,
   "id": "9286719f",
   "metadata": {
    "ExecuteTime": {
     "end_time": "2022-06-21T06:17:17.873171Z",
     "start_time": "2022-06-21T06:17:17.858211Z"
    },
    "hidden": true
   },
   "outputs": [
    {
     "name": "stdout",
     "output_type": "stream",
     "text": [
      "<re.Match object; span=(54, 65), match='12345678901'>\n",
      "<re.Match object; span=(169, 180), match='01092329340'>\n",
      "<re.Match object; span=(193, 204), match='321-555-432'>\n",
      "<re.Match object; span=(206, 217), match='123.555.123'>\n",
      "<re.Match object; span=(219, 230), match='123*555*123'>\n",
      "<re.Match object; span=(232, 243), match='800-555-123'>\n",
      "<re.Match object; span=(245, 256), match='900-555-123'>\n",
      "Number Of Times :  7\n"
     ]
    }
   ],
   "source": [
    "Pattern = re.compile(r\"\\d\\d\\d.\\d\\d\\d.\\d\\d\\d\")        # . --> All except \\n  \n",
    "Matches = Pattern.finditer(Text)\n",
    "Counter = 0\n",
    "for Element in Matches :\n",
    "    print(Element)\n",
    "    Counter +=1\n",
    "print(\"Number Of Times : \" , str(Counter))"
   ]
  },
  {
   "cell_type": "code",
   "execution_count": 26,
   "id": "f8c48c68",
   "metadata": {
    "ExecuteTime": {
     "end_time": "2022-06-21T06:17:17.889125Z",
     "start_time": "2022-06-21T06:17:17.874134Z"
    },
    "hidden": true
   },
   "outputs": [
    {
     "name": "stdout",
     "output_type": "stream",
     "text": [
      "<re.Match object; span=(193, 205), match='321-555-4321'>\n",
      "<re.Match object; span=(206, 218), match='123.555.1234'>\n",
      "<re.Match object; span=(232, 244), match='800-555-1234'>\n",
      "<re.Match object; span=(245, 257), match='900-555-1234'>\n",
      "Number Of Times :  4\n"
     ]
    }
   ],
   "source": [
    "Pattern = re.compile(r\"\\d\\d\\d[-.]\\d\\d\\d[-.]\\d\\d\\d\\d\")        # Character set \"Quantifier\" , [-.] --> - OR . only \n",
    "Matches = Pattern.finditer(Text)\n",
    "Counter = 0\n",
    "for Element in Matches :\n",
    "    print(Element)\n",
    "    Counter +=1\n",
    "print(\"Number Of Times : \" , str(Counter))"
   ]
  },
  {
   "cell_type": "code",
   "execution_count": 27,
   "id": "845b73f0",
   "metadata": {
    "ExecuteTime": {
     "end_time": "2022-06-21T06:17:17.905085Z",
     "start_time": "2022-06-21T06:17:17.890093Z"
    },
    "hidden": true
   },
   "outputs": [
    {
     "name": "stdout",
     "output_type": "stream",
     "text": [
      "<re.Match object; span=(193, 205), match='321-555-4321'>\n",
      "<re.Match object; span=(206, 218), match='123.555.1234'>\n",
      "Number Of Times :  2\n"
     ]
    }
   ],
   "source": [
    "Pattern = re.compile(r\"[13]2\\d[-.]\\d\\d\\d[-.]\\d\\d\\d\\d\")        # Character set \"Quantifier\"\n",
    "Matches = Pattern.finditer(Text)\n",
    "Counter = 0\n",
    "for Element in Matches :\n",
    "    print(Element)\n",
    "    Counter +=1\n",
    "print(\"Number Of Times : \" , str(Counter))"
   ]
  },
  {
   "cell_type": "code",
   "execution_count": 28,
   "id": "e2f2feca",
   "metadata": {
    "ExecuteTime": {
     "end_time": "2022-06-21T06:17:17.921043Z",
     "start_time": "2022-06-21T06:17:17.906049Z"
    },
    "hidden": true
   },
   "outputs": [
    {
     "name": "stdout",
     "output_type": "stream",
     "text": [
      "<re.Match object; span=(193, 205), match='321-555-4321'>\n",
      "<re.Match object; span=(206, 218), match='123.555.1234'>\n",
      "<re.Match object; span=(219, 231), match='123*555*1234'>\n",
      "<re.Match object; span=(232, 244), match='800-555-1234'>\n",
      "<re.Match object; span=(245, 257), match='900-555-1234'>\n",
      "Number Of Times :  5\n"
     ]
    }
   ],
   "source": [
    "Pattern = re.compile(r\"\\d\\d\\d[-*.]555[-*.]\\d\\d\\d\\d\")        # Character set \"Quantifier\"\n",
    "Matches = Pattern.finditer(Text)\n",
    "Counter = 0\n",
    "for Element in Matches :\n",
    "    print(Element)\n",
    "    Counter +=1\n",
    "print(\"Number Of Times : \" , str(Counter))"
   ]
  },
  {
   "cell_type": "code",
   "execution_count": 29,
   "id": "c7b06606",
   "metadata": {
    "ExecuteTime": {
     "end_time": "2022-06-21T06:17:17.936965Z",
     "start_time": "2022-06-21T06:17:17.922042Z"
    },
    "hidden": true
   },
   "outputs": [
    {
     "name": "stdout",
     "output_type": "stream",
     "text": [
      "<re.Match object; span=(54, 58), match='1234'>\n",
      "<re.Match object; span=(214, 218), match='1234'>\n",
      "<re.Match object; span=(227, 231), match='1234'>\n",
      "<re.Match object; span=(240, 244), match='1234'>\n",
      "<re.Match object; span=(253, 257), match='1234'>\n",
      "Number Of Times :  5\n"
     ]
    }
   ],
   "source": [
    "Pattern = re.compile(r\"1234\")        \n",
    "Matches = Pattern.finditer(Text)\n",
    "Counter = 0\n",
    "for Element in Matches :\n",
    "    print(Element)\n",
    "    Counter +=1\n",
    "print(\"Number Of Times : \" , str(Counter))"
   ]
  },
  {
   "cell_type": "code",
   "execution_count": 30,
   "id": "b8190198",
   "metadata": {
    "ExecuteTime": {
     "end_time": "2022-06-21T06:17:17.952923Z",
     "start_time": "2022-06-21T06:17:17.937995Z"
    },
    "hidden": true
   },
   "outputs": [
    {
     "name": "stdout",
     "output_type": "stream",
     "text": [
      "<re.Match object; span=(54, 59), match='12345'>\n",
      "Number Of Times :  1\n"
     ]
    }
   ],
   "source": [
    "Pattern = re.compile(r\"12345\")        \n",
    "Matches = Pattern.finditer(Text)\n",
    "Counter = 0\n",
    "for Element in Matches :\n",
    "    print(Element)\n",
    "    Counter +=1\n",
    "print(\"Number Of Times : \" , str(Counter))"
   ]
  },
  {
   "cell_type": "code",
   "execution_count": 31,
   "id": "aafb060c",
   "metadata": {
    "ExecuteTime": {
     "end_time": "2022-06-21T06:17:17.968913Z",
     "start_time": "2022-06-21T06:17:17.953922Z"
    },
    "hidden": true
   },
   "outputs": [
    {
     "name": "stdout",
     "output_type": "stream",
     "text": [
      "<re.Match object; span=(55, 56), match='2'>\n",
      "<re.Match object; span=(60, 61), match='7'>\n",
      "<re.Match object; span=(173, 174), match='2'>\n",
      "<re.Match object; span=(175, 176), match='2'>\n",
      "<re.Match object; span=(194, 195), match='2'>\n",
      "<re.Match object; span=(203, 204), match='2'>\n",
      "<re.Match object; span=(207, 208), match='2'>\n",
      "<re.Match object; span=(215, 216), match='2'>\n",
      "<re.Match object; span=(220, 221), match='2'>\n",
      "<re.Match object; span=(228, 229), match='2'>\n",
      "<re.Match object; span=(241, 242), match='2'>\n",
      "<re.Match object; span=(254, 255), match='2'>\n",
      "Number Of Times :  12\n"
     ]
    }
   ],
   "source": [
    "Pattern = re.compile(r\"[27]\")          # Character set \"Quantifier\" , Digits 2 OR 7 only \n",
    "Matches = Pattern.finditer(Text)\n",
    "Counter = 0\n",
    "for Element in Matches :\n",
    "    print(Element)\n",
    "    Counter +=1\n",
    "print(\"Number Of Times : \" , str(Counter))"
   ]
  },
  {
   "cell_type": "code",
   "execution_count": 32,
   "id": "a5fa1bc4",
   "metadata": {
    "ExecuteTime": {
     "end_time": "2022-06-21T06:17:17.984867Z",
     "start_time": "2022-06-21T06:17:17.969913Z"
    },
    "hidden": true
   },
   "outputs": [
    {
     "name": "stdout",
     "output_type": "stream",
     "text": [
      "<re.Match object; span=(55, 56), match='2'>\n",
      "<re.Match object; span=(56, 57), match='3'>\n",
      "<re.Match object; span=(57, 58), match='4'>\n",
      "<re.Match object; span=(58, 59), match='5'>\n",
      "<re.Match object; span=(59, 60), match='6'>\n",
      "<re.Match object; span=(60, 61), match='7'>\n",
      "<re.Match object; span=(173, 174), match='2'>\n",
      "<re.Match object; span=(174, 175), match='3'>\n",
      "<re.Match object; span=(175, 176), match='2'>\n",
      "<re.Match object; span=(177, 178), match='3'>\n",
      "<re.Match object; span=(178, 179), match='4'>\n",
      "<re.Match object; span=(193, 194), match='3'>\n",
      "<re.Match object; span=(194, 195), match='2'>\n",
      "<re.Match object; span=(197, 198), match='5'>\n",
      "<re.Match object; span=(198, 199), match='5'>\n",
      "<re.Match object; span=(199, 200), match='5'>\n",
      "<re.Match object; span=(201, 202), match='4'>\n",
      "<re.Match object; span=(202, 203), match='3'>\n",
      "<re.Match object; span=(203, 204), match='2'>\n",
      "<re.Match object; span=(207, 208), match='2'>\n",
      "<re.Match object; span=(208, 209), match='3'>\n",
      "<re.Match object; span=(210, 211), match='5'>\n",
      "<re.Match object; span=(211, 212), match='5'>\n",
      "<re.Match object; span=(212, 213), match='5'>\n",
      "<re.Match object; span=(215, 216), match='2'>\n",
      "<re.Match object; span=(216, 217), match='3'>\n",
      "<re.Match object; span=(217, 218), match='4'>\n",
      "<re.Match object; span=(220, 221), match='2'>\n",
      "<re.Match object; span=(221, 222), match='3'>\n",
      "<re.Match object; span=(223, 224), match='5'>\n",
      "<re.Match object; span=(224, 225), match='5'>\n",
      "<re.Match object; span=(225, 226), match='5'>\n",
      "<re.Match object; span=(228, 229), match='2'>\n",
      "<re.Match object; span=(229, 230), match='3'>\n",
      "<re.Match object; span=(230, 231), match='4'>\n",
      "<re.Match object; span=(236, 237), match='5'>\n",
      "<re.Match object; span=(237, 238), match='5'>\n",
      "<re.Match object; span=(238, 239), match='5'>\n",
      "<re.Match object; span=(241, 242), match='2'>\n",
      "<re.Match object; span=(242, 243), match='3'>\n",
      "<re.Match object; span=(243, 244), match='4'>\n",
      "<re.Match object; span=(249, 250), match='5'>\n",
      "<re.Match object; span=(250, 251), match='5'>\n",
      "<re.Match object; span=(251, 252), match='5'>\n",
      "<re.Match object; span=(254, 255), match='2'>\n",
      "<re.Match object; span=(255, 256), match='3'>\n",
      "<re.Match object; span=(256, 257), match='4'>\n",
      "Number Of Times :  47\n"
     ]
    }
   ],
   "source": [
    "Pattern = re.compile(r\"[2-7]\")         # Character set \"Quantifier\" , Digits from 2 to 7 \n",
    "Matches = Pattern.finditer(Text)\n",
    "Counter = 0\n",
    "for Element in Matches :\n",
    "    print(Element)\n",
    "    Counter +=1\n",
    "print(\"Number Of Times : \" , str(Counter))"
   ]
  },
  {
   "cell_type": "code",
   "execution_count": 33,
   "id": "7509e516",
   "metadata": {
    "ExecuteTime": {
     "end_time": "2022-06-21T06:17:18.000819Z",
     "start_time": "2022-06-21T06:17:17.986833Z"
    },
    "hidden": true
   },
   "outputs": [
    {
     "name": "stdout",
     "output_type": "stream",
     "text": [
      "<re.Match object; span=(55, 56), match='2'>\n",
      "<re.Match object; span=(60, 61), match='7'>\n",
      "<re.Match object; span=(173, 174), match='2'>\n",
      "<re.Match object; span=(175, 176), match='2'>\n",
      "<re.Match object; span=(188, 189), match='-'>\n",
      "<re.Match object; span=(194, 195), match='2'>\n",
      "<re.Match object; span=(196, 197), match='-'>\n",
      "<re.Match object; span=(200, 201), match='-'>\n",
      "<re.Match object; span=(203, 204), match='2'>\n",
      "<re.Match object; span=(207, 208), match='2'>\n",
      "<re.Match object; span=(215, 216), match='2'>\n",
      "<re.Match object; span=(220, 221), match='2'>\n",
      "<re.Match object; span=(228, 229), match='2'>\n",
      "<re.Match object; span=(235, 236), match='-'>\n",
      "<re.Match object; span=(239, 240), match='-'>\n",
      "<re.Match object; span=(241, 242), match='2'>\n",
      "<re.Match object; span=(248, 249), match='-'>\n",
      "<re.Match object; span=(252, 253), match='-'>\n",
      "<re.Match object; span=(254, 255), match='2'>\n",
      "Number Of Times :  19\n"
     ]
    }
   ],
   "source": [
    "Pattern = re.compile(r\"[-27]\")        # Character set \"Quantifier\" , Digits 2 OR 7 OR - only\n",
    "Matches = Pattern.finditer(Text)\n",
    "Counter = 0\n",
    "for Element in Matches :\n",
    "    print(Element)\n",
    "    Counter +=1\n",
    "print(\"Number Of Times : \" , str(Counter))"
   ]
  },
  {
   "cell_type": "code",
   "execution_count": 34,
   "id": "5db33fc7",
   "metadata": {
    "ExecuteTime": {
     "end_time": "2022-06-21T06:17:18.016783Z",
     "start_time": "2022-06-21T06:17:18.001823Z"
    },
    "hidden": true
   },
   "outputs": [
    {
     "name": "stdout",
     "output_type": "stream",
     "text": [
      "<re.Match object; span=(55, 56), match='2'>\n",
      "<re.Match object; span=(56, 57), match='3'>\n",
      "<re.Match object; span=(57, 58), match='4'>\n",
      "<re.Match object; span=(58, 59), match='5'>\n",
      "<re.Match object; span=(59, 60), match='6'>\n",
      "<re.Match object; span=(60, 61), match='7'>\n",
      "<re.Match object; span=(173, 174), match='2'>\n",
      "<re.Match object; span=(174, 175), match='3'>\n",
      "<re.Match object; span=(175, 176), match='2'>\n",
      "<re.Match object; span=(177, 178), match='3'>\n",
      "<re.Match object; span=(178, 179), match='4'>\n",
      "<re.Match object; span=(188, 189), match='-'>\n",
      "<re.Match object; span=(193, 194), match='3'>\n",
      "<re.Match object; span=(194, 195), match='2'>\n",
      "<re.Match object; span=(196, 197), match='-'>\n",
      "<re.Match object; span=(197, 198), match='5'>\n",
      "<re.Match object; span=(198, 199), match='5'>\n",
      "<re.Match object; span=(199, 200), match='5'>\n",
      "<re.Match object; span=(200, 201), match='-'>\n",
      "<re.Match object; span=(201, 202), match='4'>\n",
      "<re.Match object; span=(202, 203), match='3'>\n",
      "<re.Match object; span=(203, 204), match='2'>\n",
      "<re.Match object; span=(207, 208), match='2'>\n",
      "<re.Match object; span=(208, 209), match='3'>\n",
      "<re.Match object; span=(210, 211), match='5'>\n",
      "<re.Match object; span=(211, 212), match='5'>\n",
      "<re.Match object; span=(212, 213), match='5'>\n",
      "<re.Match object; span=(215, 216), match='2'>\n",
      "<re.Match object; span=(216, 217), match='3'>\n",
      "<re.Match object; span=(217, 218), match='4'>\n",
      "<re.Match object; span=(220, 221), match='2'>\n",
      "<re.Match object; span=(221, 222), match='3'>\n",
      "<re.Match object; span=(223, 224), match='5'>\n",
      "<re.Match object; span=(224, 225), match='5'>\n",
      "<re.Match object; span=(225, 226), match='5'>\n",
      "<re.Match object; span=(228, 229), match='2'>\n",
      "<re.Match object; span=(229, 230), match='3'>\n",
      "<re.Match object; span=(230, 231), match='4'>\n",
      "<re.Match object; span=(235, 236), match='-'>\n",
      "<re.Match object; span=(236, 237), match='5'>\n",
      "<re.Match object; span=(237, 238), match='5'>\n",
      "<re.Match object; span=(238, 239), match='5'>\n",
      "<re.Match object; span=(239, 240), match='-'>\n",
      "<re.Match object; span=(241, 242), match='2'>\n",
      "<re.Match object; span=(242, 243), match='3'>\n",
      "<re.Match object; span=(243, 244), match='4'>\n",
      "<re.Match object; span=(248, 249), match='-'>\n",
      "<re.Match object; span=(249, 250), match='5'>\n",
      "<re.Match object; span=(250, 251), match='5'>\n",
      "<re.Match object; span=(251, 252), match='5'>\n",
      "<re.Match object; span=(252, 253), match='-'>\n",
      "<re.Match object; span=(254, 255), match='2'>\n",
      "<re.Match object; span=(255, 256), match='3'>\n",
      "<re.Match object; span=(256, 257), match='4'>\n",
      "Number Of Times :  54\n"
     ]
    }
   ],
   "source": [
    "Pattern = re.compile(r\"[2-7-]\")        # Character set \"Quantifier\" , Digits from 2 to 7 OR -\n",
    "Matches = Pattern.finditer(Text)\n",
    "Counter = 0\n",
    "for Element in Matches :\n",
    "    print(Element)\n",
    "    Counter +=1\n",
    "print(\"Number Of Times : \" , str(Counter))"
   ]
  },
  {
   "cell_type": "code",
   "execution_count": 35,
   "id": "4c393c12",
   "metadata": {
    "ExecuteTime": {
     "end_time": "2022-06-21T06:17:18.032740Z",
     "start_time": "2022-06-21T06:17:18.017750Z"
    },
    "hidden": true
   },
   "outputs": [
    {
     "name": "stdout",
     "output_type": "stream",
     "text": [
      "<re.Match object; span=(0, 1), match='a'>\n",
      "<re.Match object; span=(25, 26), match='z'>\n",
      "<re.Match object; span=(68, 69), match='a'>\n",
      "<re.Match object; span=(71, 72), match='a'>\n",
      "<re.Match object; span=(73, 74), match='a'>\n",
      "<re.Match object; span=(78, 79), match='a'>\n",
      "<re.Match object; span=(81, 82), match='a'>\n",
      "<re.Match object; span=(83, 84), match='a'>\n",
      "<re.Match object; span=(105, 106), match='a'>\n",
      "<re.Match object; span=(140, 141), match='a'>\n",
      "<re.Match object; span=(145, 146), match='a'>\n",
      "<re.Match object; span=(149, 150), match='a'>\n",
      "<re.Match object; span=(154, 155), match='a'>\n",
      "<re.Match object; span=(158, 159), match='a'>\n",
      "<re.Match object; span=(162, 163), match='a'>\n",
      "<re.Match object; span=(166, 167), match='a'>\n",
      "<re.Match object; span=(188, 189), match='-'>\n",
      "<re.Match object; span=(196, 197), match='-'>\n",
      "<re.Match object; span=(200, 201), match='-'>\n",
      "<re.Match object; span=(235, 236), match='-'>\n",
      "<re.Match object; span=(239, 240), match='-'>\n",
      "<re.Match object; span=(248, 249), match='-'>\n",
      "<re.Match object; span=(252, 253), match='-'>\n",
      "<re.Match object; span=(265, 266), match='a'>\n",
      "<re.Match object; span=(283, 284), match='a'>\n",
      "Number Of Times :  25\n"
     ]
    }
   ],
   "source": [
    "Pattern = re.compile(r\"[az-]\")        # Character set \"Quantifier\" , a OR z OR -\n",
    "Matches = Pattern.finditer(Text)\n",
    "Counter = 0\n",
    "for Element in Matches :\n",
    "    print(Element)\n",
    "    Counter +=1\n",
    "print(\"Number Of Times : \" , str(Counter))"
   ]
  },
  {
   "cell_type": "code",
   "execution_count": 36,
   "id": "d0d118c7",
   "metadata": {
    "ExecuteTime": {
     "end_time": "2022-06-21T06:17:18.048667Z",
     "start_time": "2022-06-21T06:17:18.033755Z"
    },
    "hidden": true
   },
   "outputs": [
    {
     "name": "stdout",
     "output_type": "stream",
     "text": [
      "<re.Match object; span=(0, 1), match='a'>\n",
      "<re.Match object; span=(1, 2), match='b'>\n",
      "<re.Match object; span=(2, 3), match='c'>\n",
      "<re.Match object; span=(3, 4), match='d'>\n",
      "<re.Match object; span=(4, 5), match='e'>\n",
      "<re.Match object; span=(5, 6), match='f'>\n",
      "<re.Match object; span=(6, 7), match='g'>\n",
      "<re.Match object; span=(7, 8), match='h'>\n",
      "<re.Match object; span=(8, 9), match='i'>\n",
      "<re.Match object; span=(9, 10), match='j'>\n",
      "<re.Match object; span=(10, 11), match='k'>\n",
      "<re.Match object; span=(11, 12), match='l'>\n",
      "<re.Match object; span=(12, 13), match='m'>\n",
      "<re.Match object; span=(13, 14), match='n'>\n",
      "<re.Match object; span=(14, 15), match='o'>\n",
      "<re.Match object; span=(15, 16), match='p'>\n",
      "<re.Match object; span=(16, 17), match='q'>\n",
      "<re.Match object; span=(17, 18), match='u'>\n",
      "<re.Match object; span=(18, 19), match='r'>\n",
      "<re.Match object; span=(19, 20), match='t'>\n",
      "<re.Match object; span=(20, 21), match='u'>\n",
      "<re.Match object; span=(21, 22), match='v'>\n",
      "<re.Match object; span=(22, 23), match='w'>\n",
      "<re.Match object; span=(23, 24), match='x'>\n",
      "<re.Match object; span=(24, 25), match='y'>\n",
      "<re.Match object; span=(25, 26), match='z'>\n",
      "<re.Match object; span=(68, 69), match='a'>\n",
      "<re.Match object; span=(71, 72), match='a'>\n",
      "<re.Match object; span=(73, 74), match='a'>\n",
      "<re.Match object; span=(76, 77), match='e'>\n",
      "<re.Match object; span=(77, 78), match='t'>\n",
      "<re.Match object; span=(78, 79), match='a'>\n",
      "<re.Match object; span=(80, 81), match='h'>\n",
      "<re.Match object; span=(81, 82), match='a'>\n",
      "<re.Match object; span=(82, 83), match='r'>\n",
      "<re.Match object; span=(83, 84), match='a'>\n",
      "<re.Match object; span=(84, 85), match='c'>\n",
      "<re.Match object; span=(85, 86), match='t'>\n",
      "<re.Match object; span=(86, 87), match='e'>\n",
      "<re.Match object; span=(87, 88), match='r'>\n",
      "<re.Match object; span=(88, 89), match='s'>\n",
      "<re.Match object; span=(92, 93), match='e'>\n",
      "<re.Match object; span=(93, 94), match='e'>\n",
      "<re.Match object; span=(94, 95), match='d'>\n",
      "<re.Match object; span=(96, 97), match='t'>\n",
      "<re.Match object; span=(97, 98), match='o'>\n",
      "<re.Match object; span=(99, 100), match='b'>\n",
      "<re.Match object; span=(100, 101), match='e'>\n",
      "<re.Match object; span=(102, 103), match='e'>\n",
      "<re.Match object; span=(103, 104), match='s'>\n",
      "<re.Match object; span=(104, 105), match='c'>\n",
      "<re.Match object; span=(105, 106), match='a'>\n",
      "<re.Match object; span=(106, 107), match='p'>\n",
      "<re.Match object; span=(107, 108), match='e'>\n",
      "<re.Match object; span=(108, 109), match='d'>\n",
      "<re.Match object; span=(140, 141), match='a'>\n",
      "<re.Match object; span=(141, 142), match='b'>\n",
      "<re.Match object; span=(142, 143), match='c'>\n",
      "<re.Match object; span=(144, 145), match='c'>\n",
      "<re.Match object; span=(145, 146), match='a'>\n",
      "<re.Match object; span=(146, 147), match='t'>\n",
      "<re.Match object; span=(148, 149), match='m'>\n",
      "<re.Match object; span=(149, 150), match='a'>\n",
      "<re.Match object; span=(150, 151), match='t'>\n",
      "<re.Match object; span=(153, 154), match='h'>\n",
      "<re.Match object; span=(154, 155), match='a'>\n",
      "<re.Match object; span=(155, 156), match='t'>\n",
      "<re.Match object; span=(157, 158), match='b'>\n",
      "<re.Match object; span=(158, 159), match='a'>\n",
      "<re.Match object; span=(159, 160), match='t'>\n",
      "<re.Match object; span=(161, 162), match='f'>\n",
      "<re.Match object; span=(162, 163), match='a'>\n",
      "<re.Match object; span=(163, 164), match='t'>\n",
      "<re.Match object; span=(165, 166), match='s'>\n",
      "<re.Match object; span=(166, 167), match='a'>\n",
      "<re.Match object; span=(167, 168), match='t'>\n",
      "<re.Match object; span=(181, 182), match='c'>\n",
      "<re.Match object; span=(182, 183), match='o'>\n",
      "<re.Match object; span=(183, 184), match='r'>\n",
      "<re.Match object; span=(184, 185), match='e'>\n",
      "<re.Match object; span=(185, 186), match='y'>\n",
      "<re.Match object; span=(186, 187), match='m'>\n",
      "<re.Match object; span=(187, 188), match='s'>\n",
      "<re.Match object; span=(189, 190), match='c'>\n",
      "<re.Match object; span=(190, 191), match='o'>\n",
      "<re.Match object; span=(191, 192), match='m'>\n",
      "<re.Match object; span=(259, 260), match='r'>\n",
      "<re.Match object; span=(263, 264), match='c'>\n",
      "<re.Match object; span=(264, 265), match='h'>\n",
      "<re.Match object; span=(265, 266), match='a'>\n",
      "<re.Match object; span=(266, 267), match='f'>\n",
      "<re.Match object; span=(267, 268), match='e'>\n",
      "<re.Match object; span=(268, 269), match='r'>\n",
      "<re.Match object; span=(271, 272), match='r'>\n",
      "<re.Match object; span=(274, 275), match='m'>\n",
      "<re.Match object; span=(275, 276), match='i'>\n",
      "<re.Match object; span=(276, 277), match='t'>\n",
      "<re.Match object; span=(277, 278), match='h'>\n",
      "<re.Match object; span=(280, 281), match='s'>\n",
      "<re.Match object; span=(283, 284), match='a'>\n",
      "<re.Match object; span=(284, 285), match='v'>\n",
      "<re.Match object; span=(285, 286), match='i'>\n",
      "<re.Match object; span=(286, 287), match='s'>\n",
      "<re.Match object; span=(289, 290), match='r'>\n",
      "<re.Match object; span=(290, 291), match='s'>\n",
      "<re.Match object; span=(294, 295), match='o'>\n",
      "<re.Match object; span=(295, 296), match='b'>\n",
      "<re.Match object; span=(296, 297), match='i'>\n",
      "<re.Match object; span=(297, 298), match='n'>\n",
      "<re.Match object; span=(298, 299), match='s'>\n",
      "<re.Match object; span=(299, 300), match='o'>\n",
      "<re.Match object; span=(300, 301), match='n'>\n",
      "<re.Match object; span=(303, 304), match='r'>\n",
      "Number Of Times :  113\n"
     ]
    }
   ],
   "source": [
    "Pattern = re.compile(r\"[a-z]\")        # Character set \"Quantifier\" , From a to z\n",
    "Matches = Pattern.finditer(Text)\n",
    "Counter = 0\n",
    "for Element in Matches :\n",
    "    print(Element)\n",
    "    Counter +=1\n",
    "print(\"Number Of Times : \" , str(Counter))"
   ]
  },
  {
   "cell_type": "code",
   "execution_count": 37,
   "id": "8b59ef15",
   "metadata": {
    "ExecuteTime": {
     "end_time": "2022-06-21T06:17:18.064624Z",
     "start_time": "2022-06-21T06:17:18.049705Z"
    },
    "hidden": true
   },
   "outputs": [
    {
     "name": "stdout",
     "output_type": "stream",
     "text": [
      "<re.Match object; span=(0, 1), match='a'>\n",
      "<re.Match object; span=(1, 2), match='b'>\n",
      "<re.Match object; span=(2, 3), match='c'>\n",
      "<re.Match object; span=(3, 4), match='d'>\n",
      "<re.Match object; span=(4, 5), match='e'>\n",
      "<re.Match object; span=(5, 6), match='f'>\n",
      "<re.Match object; span=(6, 7), match='g'>\n",
      "<re.Match object; span=(7, 8), match='h'>\n",
      "<re.Match object; span=(8, 9), match='i'>\n",
      "<re.Match object; span=(9, 10), match='j'>\n",
      "<re.Match object; span=(10, 11), match='k'>\n",
      "<re.Match object; span=(11, 12), match='l'>\n",
      "<re.Match object; span=(12, 13), match='m'>\n",
      "<re.Match object; span=(13, 14), match='n'>\n",
      "<re.Match object; span=(14, 15), match='o'>\n",
      "<re.Match object; span=(15, 16), match='p'>\n",
      "<re.Match object; span=(16, 17), match='q'>\n",
      "<re.Match object; span=(17, 18), match='u'>\n",
      "<re.Match object; span=(18, 19), match='r'>\n",
      "<re.Match object; span=(19, 20), match='t'>\n",
      "<re.Match object; span=(20, 21), match='u'>\n",
      "<re.Match object; span=(21, 22), match='v'>\n",
      "<re.Match object; span=(22, 23), match='w'>\n",
      "<re.Match object; span=(23, 24), match='x'>\n",
      "<re.Match object; span=(24, 25), match='y'>\n",
      "<re.Match object; span=(25, 26), match='z'>\n",
      "<re.Match object; span=(27, 28), match='A'>\n",
      "<re.Match object; span=(28, 29), match='B'>\n",
      "<re.Match object; span=(29, 30), match='C'>\n",
      "<re.Match object; span=(30, 31), match='D'>\n",
      "<re.Match object; span=(31, 32), match='E'>\n",
      "<re.Match object; span=(32, 33), match='F'>\n",
      "<re.Match object; span=(33, 34), match='G'>\n",
      "<re.Match object; span=(34, 35), match='H'>\n",
      "<re.Match object; span=(35, 36), match='I'>\n",
      "<re.Match object; span=(36, 37), match='J'>\n",
      "<re.Match object; span=(37, 38), match='K'>\n",
      "<re.Match object; span=(38, 39), match='L'>\n",
      "<re.Match object; span=(39, 40), match='M'>\n",
      "<re.Match object; span=(40, 41), match='N'>\n",
      "<re.Match object; span=(41, 42), match='O'>\n",
      "<re.Match object; span=(42, 43), match='P'>\n",
      "<re.Match object; span=(43, 44), match='Q'>\n",
      "<re.Match object; span=(44, 45), match='R'>\n",
      "<re.Match object; span=(45, 46), match='S'>\n",
      "<re.Match object; span=(46, 47), match='T'>\n",
      "<re.Match object; span=(47, 48), match='U'>\n",
      "<re.Match object; span=(48, 49), match='V'>\n",
      "<re.Match object; span=(49, 50), match='W'>\n",
      "<re.Match object; span=(50, 51), match='X'>\n",
      "<re.Match object; span=(51, 52), match='Y'>\n",
      "<re.Match object; span=(52, 53), match='Z'>\n",
      "<re.Match object; span=(67, 68), match='H'>\n",
      "<re.Match object; span=(68, 69), match='a'>\n",
      "<re.Match object; span=(70, 71), match='H'>\n",
      "<re.Match object; span=(71, 72), match='a'>\n",
      "<re.Match object; span=(72, 73), match='H'>\n",
      "<re.Match object; span=(73, 74), match='a'>\n",
      "<re.Match object; span=(75, 76), match='M'>\n",
      "<re.Match object; span=(76, 77), match='e'>\n",
      "<re.Match object; span=(77, 78), match='t'>\n",
      "<re.Match object; span=(78, 79), match='a'>\n",
      "<re.Match object; span=(79, 80), match='C'>\n",
      "<re.Match object; span=(80, 81), match='h'>\n",
      "<re.Match object; span=(81, 82), match='a'>\n",
      "<re.Match object; span=(82, 83), match='r'>\n",
      "<re.Match object; span=(83, 84), match='a'>\n",
      "<re.Match object; span=(84, 85), match='c'>\n",
      "<re.Match object; span=(85, 86), match='t'>\n",
      "<re.Match object; span=(86, 87), match='e'>\n",
      "<re.Match object; span=(87, 88), match='r'>\n",
      "<re.Match object; span=(88, 89), match='s'>\n",
      "<re.Match object; span=(91, 92), match='N'>\n",
      "<re.Match object; span=(92, 93), match='e'>\n",
      "<re.Match object; span=(93, 94), match='e'>\n",
      "<re.Match object; span=(94, 95), match='d'>\n",
      "<re.Match object; span=(96, 97), match='t'>\n",
      "<re.Match object; span=(97, 98), match='o'>\n",
      "<re.Match object; span=(99, 100), match='b'>\n",
      "<re.Match object; span=(100, 101), match='e'>\n",
      "<re.Match object; span=(102, 103), match='e'>\n",
      "<re.Match object; span=(103, 104), match='s'>\n",
      "<re.Match object; span=(104, 105), match='c'>\n",
      "<re.Match object; span=(105, 106), match='a'>\n",
      "<re.Match object; span=(106, 107), match='p'>\n",
      "<re.Match object; span=(107, 108), match='e'>\n",
      "<re.Match object; span=(108, 109), match='d'>\n",
      "<re.Match object; span=(140, 141), match='a'>\n",
      "<re.Match object; span=(141, 142), match='b'>\n",
      "<re.Match object; span=(142, 143), match='c'>\n",
      "<re.Match object; span=(144, 145), match='c'>\n",
      "<re.Match object; span=(145, 146), match='a'>\n",
      "<re.Match object; span=(146, 147), match='t'>\n",
      "<re.Match object; span=(148, 149), match='m'>\n",
      "<re.Match object; span=(149, 150), match='a'>\n",
      "<re.Match object; span=(150, 151), match='t'>\n",
      "<re.Match object; span=(153, 154), match='h'>\n",
      "<re.Match object; span=(154, 155), match='a'>\n",
      "<re.Match object; span=(155, 156), match='t'>\n",
      "<re.Match object; span=(157, 158), match='b'>\n",
      "<re.Match object; span=(158, 159), match='a'>\n",
      "<re.Match object; span=(159, 160), match='t'>\n",
      "<re.Match object; span=(161, 162), match='f'>\n",
      "<re.Match object; span=(162, 163), match='a'>\n",
      "<re.Match object; span=(163, 164), match='t'>\n",
      "<re.Match object; span=(165, 166), match='s'>\n",
      "<re.Match object; span=(166, 167), match='a'>\n",
      "<re.Match object; span=(167, 168), match='t'>\n",
      "<re.Match object; span=(181, 182), match='c'>\n",
      "<re.Match object; span=(182, 183), match='o'>\n",
      "<re.Match object; span=(183, 184), match='r'>\n",
      "<re.Match object; span=(184, 185), match='e'>\n",
      "<re.Match object; span=(185, 186), match='y'>\n",
      "<re.Match object; span=(186, 187), match='m'>\n",
      "<re.Match object; span=(187, 188), match='s'>\n",
      "<re.Match object; span=(189, 190), match='c'>\n",
      "<re.Match object; span=(190, 191), match='o'>\n",
      "<re.Match object; span=(191, 192), match='m'>\n",
      "<re.Match object; span=(258, 259), match='M'>\n",
      "<re.Match object; span=(259, 260), match='r'>\n",
      "<re.Match object; span=(262, 263), match='S'>\n",
      "<re.Match object; span=(263, 264), match='c'>\n",
      "<re.Match object; span=(264, 265), match='h'>\n",
      "<re.Match object; span=(265, 266), match='a'>\n",
      "<re.Match object; span=(266, 267), match='f'>\n",
      "<re.Match object; span=(267, 268), match='e'>\n",
      "<re.Match object; span=(268, 269), match='r'>\n",
      "<re.Match object; span=(270, 271), match='M'>\n",
      "<re.Match object; span=(271, 272), match='r'>\n",
      "<re.Match object; span=(273, 274), match='S'>\n",
      "<re.Match object; span=(274, 275), match='m'>\n",
      "<re.Match object; span=(275, 276), match='i'>\n",
      "<re.Match object; span=(276, 277), match='t'>\n",
      "<re.Match object; span=(277, 278), match='h'>\n",
      "<re.Match object; span=(279, 280), match='M'>\n",
      "<re.Match object; span=(280, 281), match='s'>\n",
      "<re.Match object; span=(282, 283), match='D'>\n",
      "<re.Match object; span=(283, 284), match='a'>\n",
      "<re.Match object; span=(284, 285), match='v'>\n",
      "<re.Match object; span=(285, 286), match='i'>\n",
      "<re.Match object; span=(286, 287), match='s'>\n",
      "<re.Match object; span=(288, 289), match='M'>\n",
      "<re.Match object; span=(289, 290), match='r'>\n",
      "<re.Match object; span=(290, 291), match='s'>\n",
      "<re.Match object; span=(293, 294), match='R'>\n",
      "<re.Match object; span=(294, 295), match='o'>\n",
      "<re.Match object; span=(295, 296), match='b'>\n",
      "<re.Match object; span=(296, 297), match='i'>\n",
      "<re.Match object; span=(297, 298), match='n'>\n",
      "<re.Match object; span=(298, 299), match='s'>\n",
      "<re.Match object; span=(299, 300), match='o'>\n",
      "<re.Match object; span=(300, 301), match='n'>\n",
      "<re.Match object; span=(302, 303), match='M'>\n",
      "<re.Match object; span=(303, 304), match='r'>\n",
      "<re.Match object; span=(306, 307), match='T'>\n",
      "Number Of Times :  155\n"
     ]
    }
   ],
   "source": [
    "Pattern = re.compile(r\"[a-zA-Z]\")        # Character set \"Quantifier\" , From a to z OR from A to Z\n",
    "Matches = Pattern.finditer(Text)\n",
    "Counter = 0\n",
    "for Element in Matches :\n",
    "    print(Element)\n",
    "    Counter +=1\n",
    "print(\"Number Of Times : \" , str(Counter))"
   ]
  },
  {
   "cell_type": "code",
   "execution_count": 38,
   "id": "a3929667",
   "metadata": {
    "ExecuteTime": {
     "end_time": "2022-06-21T06:17:18.095541Z",
     "start_time": "2022-06-21T06:17:18.066619Z"
    },
    "hidden": true
   },
   "outputs": [
    {
     "name": "stdout",
     "output_type": "stream",
     "text": [
      "<re.Match object; span=(26, 27), match='\\n'>\n",
      "<re.Match object; span=(53, 54), match='\\n'>\n",
      "<re.Match object; span=(54, 55), match='1'>\n",
      "<re.Match object; span=(55, 56), match='2'>\n",
      "<re.Match object; span=(56, 57), match='3'>\n",
      "<re.Match object; span=(57, 58), match='4'>\n",
      "<re.Match object; span=(58, 59), match='5'>\n",
      "<re.Match object; span=(59, 60), match='6'>\n",
      "<re.Match object; span=(60, 61), match='7'>\n",
      "<re.Match object; span=(61, 62), match='8'>\n",
      "<re.Match object; span=(62, 63), match='9'>\n",
      "<re.Match object; span=(63, 64), match='0'>\n",
      "<re.Match object; span=(64, 65), match='1'>\n",
      "<re.Match object; span=(65, 66), match='0'>\n",
      "<re.Match object; span=(66, 67), match='\\n'>\n",
      "<re.Match object; span=(69, 70), match=' '>\n",
      "<re.Match object; span=(74, 75), match='\\n'>\n",
      "<re.Match object; span=(89, 90), match=' '>\n",
      "<re.Match object; span=(90, 91), match='('>\n",
      "<re.Match object; span=(95, 96), match=' '>\n",
      "<re.Match object; span=(98, 99), match=' '>\n",
      "<re.Match object; span=(101, 102), match=' '>\n",
      "<re.Match object; span=(109, 110), match=')'>\n",
      "<re.Match object; span=(110, 111), match=':'>\n",
      "<re.Match object; span=(111, 112), match='\\n'>\n",
      "<re.Match object; span=(112, 113), match='.'>\n",
      "<re.Match object; span=(113, 114), match=' '>\n",
      "<re.Match object; span=(114, 115), match='^'>\n",
      "<re.Match object; span=(115, 116), match=' '>\n",
      "<re.Match object; span=(116, 117), match='$'>\n",
      "<re.Match object; span=(117, 118), match=' '>\n",
      "<re.Match object; span=(118, 119), match='*'>\n",
      "<re.Match object; span=(119, 120), match=' '>\n",
      "<re.Match object; span=(120, 121), match='+'>\n",
      "<re.Match object; span=(121, 122), match=' '>\n",
      "<re.Match object; span=(122, 123), match='?'>\n",
      "<re.Match object; span=(123, 124), match=' '>\n",
      "<re.Match object; span=(124, 125), match='{'>\n",
      "<re.Match object; span=(125, 126), match=' '>\n",
      "<re.Match object; span=(126, 127), match='}'>\n",
      "<re.Match object; span=(127, 128), match=' '>\n",
      "<re.Match object; span=(128, 129), match='['>\n",
      "<re.Match object; span=(129, 130), match=' '>\n",
      "<re.Match object; span=(130, 131), match=']'>\n",
      "<re.Match object; span=(131, 132), match=' '>\n",
      "<re.Match object; span=(132, 133), match='\\\\'>\n",
      "<re.Match object; span=(133, 134), match=' '>\n",
      "<re.Match object; span=(134, 135), match='|'>\n",
      "<re.Match object; span=(135, 136), match=' '>\n",
      "<re.Match object; span=(136, 137), match='('>\n",
      "<re.Match object; span=(137, 138), match=' '>\n",
      "<re.Match object; span=(138, 139), match=')'>\n",
      "<re.Match object; span=(139, 140), match='\\n'>\n",
      "<re.Match object; span=(143, 144), match='\\n'>\n",
      "<re.Match object; span=(147, 148), match='\\n'>\n",
      "<re.Match object; span=(151, 152), match=' '>\n",
      "<re.Match object; span=(152, 153), match='\\n'>\n",
      "<re.Match object; span=(156, 157), match='\\n'>\n",
      "<re.Match object; span=(160, 161), match='\\n'>\n",
      "<re.Match object; span=(164, 165), match='\\n'>\n",
      "<re.Match object; span=(168, 169), match='\\n'>\n",
      "<re.Match object; span=(169, 170), match='0'>\n",
      "<re.Match object; span=(170, 171), match='1'>\n",
      "<re.Match object; span=(171, 172), match='0'>\n",
      "<re.Match object; span=(172, 173), match='9'>\n",
      "<re.Match object; span=(173, 174), match='2'>\n",
      "<re.Match object; span=(174, 175), match='3'>\n",
      "<re.Match object; span=(175, 176), match='2'>\n",
      "<re.Match object; span=(176, 177), match='9'>\n",
      "<re.Match object; span=(177, 178), match='3'>\n",
      "<re.Match object; span=(178, 179), match='4'>\n",
      "<re.Match object; span=(179, 180), match='0'>\n",
      "<re.Match object; span=(180, 181), match='\\n'>\n",
      "<re.Match object; span=(188, 189), match='-'>\n",
      "<re.Match object; span=(192, 193), match='\\n'>\n",
      "<re.Match object; span=(193, 194), match='3'>\n",
      "<re.Match object; span=(194, 195), match='2'>\n",
      "<re.Match object; span=(195, 196), match='1'>\n",
      "<re.Match object; span=(196, 197), match='-'>\n",
      "<re.Match object; span=(197, 198), match='5'>\n",
      "<re.Match object; span=(198, 199), match='5'>\n",
      "<re.Match object; span=(199, 200), match='5'>\n",
      "<re.Match object; span=(200, 201), match='-'>\n",
      "<re.Match object; span=(201, 202), match='4'>\n",
      "<re.Match object; span=(202, 203), match='3'>\n",
      "<re.Match object; span=(203, 204), match='2'>\n",
      "<re.Match object; span=(204, 205), match='1'>\n",
      "<re.Match object; span=(205, 206), match='\\n'>\n",
      "<re.Match object; span=(206, 207), match='1'>\n",
      "<re.Match object; span=(207, 208), match='2'>\n",
      "<re.Match object; span=(208, 209), match='3'>\n",
      "<re.Match object; span=(209, 210), match='.'>\n",
      "<re.Match object; span=(210, 211), match='5'>\n",
      "<re.Match object; span=(211, 212), match='5'>\n",
      "<re.Match object; span=(212, 213), match='5'>\n",
      "<re.Match object; span=(213, 214), match='.'>\n",
      "<re.Match object; span=(214, 215), match='1'>\n",
      "<re.Match object; span=(215, 216), match='2'>\n",
      "<re.Match object; span=(216, 217), match='3'>\n",
      "<re.Match object; span=(217, 218), match='4'>\n",
      "<re.Match object; span=(218, 219), match='\\n'>\n",
      "<re.Match object; span=(219, 220), match='1'>\n",
      "<re.Match object; span=(220, 221), match='2'>\n",
      "<re.Match object; span=(221, 222), match='3'>\n",
      "<re.Match object; span=(222, 223), match='*'>\n",
      "<re.Match object; span=(223, 224), match='5'>\n",
      "<re.Match object; span=(224, 225), match='5'>\n",
      "<re.Match object; span=(225, 226), match='5'>\n",
      "<re.Match object; span=(226, 227), match='*'>\n",
      "<re.Match object; span=(227, 228), match='1'>\n",
      "<re.Match object; span=(228, 229), match='2'>\n",
      "<re.Match object; span=(229, 230), match='3'>\n",
      "<re.Match object; span=(230, 231), match='4'>\n",
      "<re.Match object; span=(231, 232), match='\\n'>\n",
      "<re.Match object; span=(232, 233), match='8'>\n",
      "<re.Match object; span=(233, 234), match='0'>\n",
      "<re.Match object; span=(234, 235), match='0'>\n",
      "<re.Match object; span=(235, 236), match='-'>\n",
      "<re.Match object; span=(236, 237), match='5'>\n",
      "<re.Match object; span=(237, 238), match='5'>\n",
      "<re.Match object; span=(238, 239), match='5'>\n",
      "<re.Match object; span=(239, 240), match='-'>\n",
      "<re.Match object; span=(240, 241), match='1'>\n",
      "<re.Match object; span=(241, 242), match='2'>\n",
      "<re.Match object; span=(242, 243), match='3'>\n",
      "<re.Match object; span=(243, 244), match='4'>\n",
      "<re.Match object; span=(244, 245), match='\\n'>\n",
      "<re.Match object; span=(245, 246), match='9'>\n",
      "<re.Match object; span=(246, 247), match='0'>\n",
      "<re.Match object; span=(247, 248), match='0'>\n",
      "<re.Match object; span=(248, 249), match='-'>\n",
      "<re.Match object; span=(249, 250), match='5'>\n",
      "<re.Match object; span=(250, 251), match='5'>\n",
      "<re.Match object; span=(251, 252), match='5'>\n",
      "<re.Match object; span=(252, 253), match='-'>\n",
      "<re.Match object; span=(253, 254), match='1'>\n",
      "<re.Match object; span=(254, 255), match='2'>\n",
      "<re.Match object; span=(255, 256), match='3'>\n",
      "<re.Match object; span=(256, 257), match='4'>\n",
      "<re.Match object; span=(257, 258), match='\\n'>\n",
      "<re.Match object; span=(260, 261), match='.'>\n",
      "<re.Match object; span=(261, 262), match=' '>\n",
      "<re.Match object; span=(269, 270), match='\\n'>\n",
      "<re.Match object; span=(272, 273), match=' '>\n",
      "<re.Match object; span=(278, 279), match='\\n'>\n",
      "<re.Match object; span=(281, 282), match=' '>\n",
      "<re.Match object; span=(287, 288), match='\\n'>\n",
      "<re.Match object; span=(291, 292), match='.'>\n",
      "<re.Match object; span=(292, 293), match=' '>\n",
      "<re.Match object; span=(301, 302), match='\\n'>\n",
      "<re.Match object; span=(304, 305), match='.'>\n",
      "<re.Match object; span=(305, 306), match=' '>\n",
      "<re.Match object; span=(307, 308), match='\\n'>\n",
      "Number Of Times :  153\n"
     ]
    }
   ],
   "source": [
    "Pattern = re.compile(r\"[^a-zA-Z]\")        # Character set \"Quantifier\"\n",
    "Matches = Pattern.finditer(Text)          # All except from a to z OR from A to Z \n",
    "Counter = 0                               # ^ --> not , must in beignning\n",
    "for Element in Matches :\n",
    "    print(Element)\n",
    "    Counter +=1\n",
    "print(\"Number Of Times : \" , str(Counter))"
   ]
  },
  {
   "cell_type": "code",
   "execution_count": 39,
   "id": "615d6380",
   "metadata": {
    "ExecuteTime": {
     "end_time": "2022-06-21T06:17:18.111531Z",
     "start_time": "2022-06-21T06:17:18.102556Z"
    },
    "hidden": true
   },
   "outputs": [
    {
     "name": "stdout",
     "output_type": "stream",
     "text": [
      "<re.Match object; span=(144, 147), match='cat'>\n",
      "<re.Match object; span=(153, 156), match='hat'>\n",
      "<re.Match object; span=(157, 160), match='bat'>\n",
      "<re.Match object; span=(161, 164), match='fat'>\n",
      "<re.Match object; span=(165, 168), match='sat'>\n",
      "Number Of Times :  5\n"
     ]
    }
   ],
   "source": [
    "Pattern = re.compile(r\"[^m]at\")           # Character set \"Quantifier\"\n",
    "Matches = Pattern.finditer(Text)          # ^ --> not , must in beignning\n",
    "Counter = 0\n",
    "for Element in Matches :\n",
    "    print(Element)\n",
    "    Counter +=1\n",
    "print(\"Number Of Times : \" , str(Counter))"
   ]
  },
  {
   "cell_type": "code",
   "execution_count": 40,
   "id": "e193994e",
   "metadata": {
    "ExecuteTime": {
     "end_time": "2022-06-21T06:17:18.127480Z",
     "start_time": "2022-06-21T06:17:18.112519Z"
    },
    "hidden": true
   },
   "outputs": [
    {
     "name": "stdout",
     "output_type": "stream",
     "text": [
      "<re.Match object; span=(258, 261), match='Mr.'>\n",
      "<re.Match object; span=(270, 273), match='Mr '>\n",
      "<re.Match object; span=(288, 291), match='Mrs'>\n",
      "<re.Match object; span=(302, 305), match='Mr.'>\n"
     ]
    }
   ],
   "source": [
    "Pattern = re.compile(r\"Mr.\")                # . --> All except \\n\n",
    "Matches = Pattern.finditer(Text)\n",
    "for Element in Matches :\n",
    "    print(Element)"
   ]
  },
  {
   "cell_type": "code",
   "execution_count": 41,
   "id": "b25bd74f",
   "metadata": {
    "ExecuteTime": {
     "end_time": "2022-06-21T06:17:18.143438Z",
     "start_time": "2022-06-21T06:17:18.128454Z"
    },
    "hidden": true
   },
   "outputs": [
    {
     "name": "stdout",
     "output_type": "stream",
     "text": [
      "<re.Match object; span=(258, 261), match='Mr.'>\n",
      "<re.Match object; span=(302, 305), match='Mr.'>\n"
     ]
    }
   ],
   "source": [
    "Pattern = re.compile(r\"Mr\\.\")                # \\. --> Matches only dots\n",
    "Matches = Pattern.finditer(Text)\n",
    "for Element in Matches :\n",
    "    print(Element)"
   ]
  },
  {
   "cell_type": "code",
   "execution_count": 42,
   "id": "acbe86b8",
   "metadata": {
    "ExecuteTime": {
     "end_time": "2022-06-21T06:17:18.159395Z",
     "start_time": "2022-06-21T06:17:18.144434Z"
    },
    "hidden": true
   },
   "outputs": [
    {
     "name": "stdout",
     "output_type": "stream",
     "text": [
      "<re.Match object; span=(258, 261), match='Mr.'>\n",
      "<re.Match object; span=(270, 272), match='Mr'>\n",
      "<re.Match object; span=(288, 290), match='Mr'>\n",
      "<re.Match object; span=(302, 305), match='Mr.'>\n"
     ]
    }
   ],
   "source": [
    "Pattern = re.compile(r\"Mr\\.?\")           # Character set \"Quantifier\"\n",
    "Matches = Pattern.finditer(Text)         # ? --> Repeats a character zero or one time\n",
    "for Element in Matches :\n",
    "    print(Element)"
   ]
  },
  {
   "cell_type": "code",
   "execution_count": 43,
   "id": "8d94f9f9",
   "metadata": {
    "ExecuteTime": {
     "end_time": "2022-06-21T06:17:18.175361Z",
     "start_time": "2022-06-21T06:17:18.160368Z"
    },
    "hidden": true
   },
   "outputs": [
    {
     "name": "stdout",
     "output_type": "stream",
     "text": [
      "<re.Match object; span=(258, 269), match='Mr. Schafer'>\n",
      "<re.Match object; span=(270, 278), match='Mr Smith'>\n",
      "<re.Match object; span=(302, 307), match='Mr. T'>\n"
     ]
    }
   ],
   "source": [
    "Pattern = re.compile(r\"Mr\\.?\\s\\w+\")         # Character set \"Quantifier\"\n",
    "Matches = Pattern.finditer(Text)\n",
    "for Element in Matches :\n",
    "    print(Element)\n",
    "# \\. --> Matches only dots , ? --> Repeats a character zero or one time , \\s --> Matches whitespace (space, tab, newline) \n",
    "# \\w --> Matches Word Character only \"lowercase, uppercase, digits, underscore\" (a-z, A-Z, 0-9, _)\n",
    "# + --> Repeats a character one or more times"
   ]
  },
  {
   "cell_type": "code",
   "execution_count": 44,
   "id": "eb4d8dd0",
   "metadata": {
    "ExecuteTime": {
     "end_time": "2022-06-21T06:17:18.191319Z",
     "start_time": "2022-06-21T06:17:18.176326Z"
    },
    "hidden": true
   },
   "outputs": [
    {
     "name": "stdout",
     "output_type": "stream",
     "text": [
      "<re.Match object; span=(258, 269), match='Mr. Schafer'>\n",
      "<re.Match object; span=(270, 278), match='Mr Smith'>\n",
      "<re.Match object; span=(279, 287), match='Ms Davis'>\n",
      "<re.Match object; span=(288, 301), match='Mrs. Robinson'>\n",
      "<re.Match object; span=(302, 307), match='Mr. T'>\n"
     ]
    }
   ],
   "source": [
    "Pattern = re.compile(r\"M(r|s|rs)\\.?\\s\\w+\")         # Character set \"Quantifier\"\n",
    "Matches = Pattern.finditer(Text)\n",
    "for Element in Matches :\n",
    "    print(Element)\n",
    "# ( ) --> Group , | --> Either Or , \\. --> Matches only dots , ? --> Repeats a character zero or one time\n",
    "# \\s --> Matches whitespace (space, tab, newline) \n",
    "# \\w --> Matches Word Character only \"lowercase, uppercase, digits, underscore\" (a-z, A-Z, 0-9, _)\n",
    "# + --> Repeats a character one or more times"
   ]
  },
  {
   "cell_type": "code",
   "execution_count": 45,
   "id": "4e04f8ef",
   "metadata": {
    "ExecuteTime": {
     "end_time": "2022-06-21T06:17:18.207244Z",
     "start_time": "2022-06-21T06:17:18.192320Z"
    },
    "hidden": true
   },
   "outputs": [
    {
     "name": "stdout",
     "output_type": "stream",
     "text": [
      "<re.Match object; span=(1, 24), match='CoreyMSchafer@gmail.com'>\n"
     ]
    }
   ],
   "source": [
    "Pattern = re.compile(r\"[a-zA-Z]+@[a-zA-Z]+\\.com\")                # Character set \"Quantifier\"\n",
    "Matches = Pattern.finditer(Emails)\n",
    "for Element in Matches :\n",
    "    print(Element)"
   ]
  },
  {
   "cell_type": "code",
   "execution_count": 46,
   "id": "5f6165c1",
   "metadata": {
    "ExecuteTime": {
     "end_time": "2022-06-21T06:17:18.223231Z",
     "start_time": "2022-06-21T06:17:18.208276Z"
    },
    "hidden": true
   },
   "outputs": [
    {
     "name": "stdout",
     "output_type": "stream",
     "text": [
      "<re.Match object; span=(1, 24), match='CoreyMSchafer@gmail.com'>\n",
      "<re.Match object; span=(25, 53), match='corey.schafer@university.edu'>\n",
      "<re.Match object; span=(63, 83), match='-schafer@my-work.net'>\n"
     ]
    }
   ],
   "source": [
    "Pattern = re.compile(r\"[a-zA-Z.-]+@[a-zA-Z-]+\\.(com|edu|net)\")       # Character set \"Quantifier\"\n",
    "Matches = Pattern.finditer(Emails)\n",
    "for Element in Matches :\n",
    "    print(Element)\n",
    "# The third email is incomplete at the output"
   ]
  },
  {
   "cell_type": "code",
   "execution_count": 47,
   "id": "83774f0a",
   "metadata": {
    "ExecuteTime": {
     "end_time": "2022-06-21T06:17:18.239183Z",
     "start_time": "2022-06-21T06:17:18.224198Z"
    },
    "hidden": true
   },
   "outputs": [
    {
     "name": "stdout",
     "output_type": "stream",
     "text": [
      "<re.Match object; span=(1, 24), match='CoreyMSchafer@gmail.com'>\n",
      "<re.Match object; span=(25, 53), match='corey.schafer@university.edu'>\n",
      "<re.Match object; span=(54, 83), match='corey-321-schafer@my-work.net'>\n"
     ]
    }
   ],
   "source": [
    "Pattern = re.compile(r\"[\\w.-]+@[a-zA-Z-]+\\.\\w{3}\")     # Character set \"Quantifier\"\n",
    "Matches = Pattern.finditer(Emails)\n",
    "for Element in Matches :\n",
    "    print(Element)\n",
    "# The third email is complete at the output"
   ]
  },
  {
   "cell_type": "code",
   "execution_count": 48,
   "id": "c1a75d3c",
   "metadata": {
    "ExecuteTime": {
     "end_time": "2022-06-21T06:17:18.255140Z",
     "start_time": "2022-06-21T06:17:18.240156Z"
    },
    "hidden": true
   },
   "outputs": [
    {
     "name": "stdout",
     "output_type": "stream",
     "text": [
      "<re.Match object; span=(1, 24), match='CoreyMSchafer@gmail.com'>\n",
      "<re.Match object; span=(25, 53), match='corey.schafer@university.edu'>\n",
      "<re.Match object; span=(54, 83), match='corey-321-schafer@my-work.net'>\n"
     ]
    }
   ],
   "source": [
    "Pattern = re.compile(r\"[\\w.-]+@[\\w-]+\\.\\w+\")     # Character set \"Quantifier\"\n",
    "Matches = Pattern.finditer(Emails)\n",
    "for Element in Matches :\n",
    "    print(Element)"
   ]
  }
 ],
 "metadata": {
  "kernelspec": {
   "display_name": "Python 3 (ipykernel)",
   "language": "python",
   "name": "python3"
  },
  "language_info": {
   "codemirror_mode": {
    "name": "ipython",
    "version": 3
   },
   "file_extension": ".py",
   "mimetype": "text/x-python",
   "name": "python",
   "nbconvert_exporter": "python",
   "pygments_lexer": "ipython3",
   "version": "3.9.12"
  },
  "toc": {
   "base_numbering": 1,
   "nav_menu": {},
   "number_sections": true,
   "sideBar": true,
   "skip_h1_title": false,
   "title_cell": "Table of Contents",
   "title_sidebar": "Contents",
   "toc_cell": false,
   "toc_position": {},
   "toc_section_display": true,
   "toc_window_display": false
  },
  "varInspector": {
   "cols": {
    "lenName": 16,
    "lenType": 16,
    "lenVar": 40
   },
   "kernels_config": {
    "python": {
     "delete_cmd_postfix": "",
     "delete_cmd_prefix": "del ",
     "library": "var_list.py",
     "varRefreshCmd": "print(var_dic_list())"
    },
    "r": {
     "delete_cmd_postfix": ") ",
     "delete_cmd_prefix": "rm(",
     "library": "var_list.r",
     "varRefreshCmd": "cat(var_dic_list()) "
    }
   },
   "types_to_exclude": [
    "module",
    "function",
    "builtin_function_or_method",
    "instance",
    "_Feature"
   ],
   "window_display": false
  }
 },
 "nbformat": 4,
 "nbformat_minor": 5
}
